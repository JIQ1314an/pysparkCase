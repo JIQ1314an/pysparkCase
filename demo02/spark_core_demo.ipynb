{
 "cells": [
  {
   "cell_type": "code",
   "execution_count": 2,
   "metadata": {
    "collapsed": true
   },
   "outputs": [],
   "source": [
    "from pyspark import SparkConf, SparkContext"
   ]
  },
  {
   "cell_type": "code",
   "execution_count": 3,
   "outputs": [],
   "source": [
    "conf = SparkConf().setAppName('Spark Core').setMaster('local[*]')\n",
    "sc = SparkContext(conf=conf)"
   ],
   "metadata": {
    "collapsed": false,
    "pycharm": {
     "name": "#%%\n"
    }
   }
  },
  {
   "cell_type": "code",
   "execution_count": 4,
   "outputs": [
    {
     "data": {
      "text/plain": "[0, 0, 1, 0, 1, 2, 0, 1, 2, 3]"
     },
     "execution_count": 4,
     "metadata": {},
     "output_type": "execute_result"
    }
   ],
   "source": [
    "rdd1 = sc.parallelize(range(5))\n",
    "rdd1.flatMap((lambda e: range(e))).collect()"
   ],
   "metadata": {
    "collapsed": false,
    "pycharm": {
     "name": "#%%\n"
    }
   }
  },
  {
   "cell_type": "code",
   "execution_count": null,
   "outputs": [],
   "source": [
    "import json\n",
    "\n",
    "sc.textFile(\"../user.json\")\\\n",
    "    .map(lambda x: json.loads(x))\\\n",
    "    .collect()"
   ],
   "metadata": {
    "collapsed": false,
    "pycharm": {
     "name": "#%%\n"
    }
   }
  },
  {
   "cell_type": "code",
   "execution_count": 11,
   "outputs": [
    {
     "data": {
      "text/plain": "[('张三1', 19),\n ('张三2', 18),\n ('张三3', 17),\n ('张三4', 19),\n ('张三5', 17),\n ('张三6', 18),\n ('张三7', 19)]"
     },
     "execution_count": 11,
     "metadata": {},
     "output_type": "execute_result"
    }
   ],
   "source": [
    "sc.textFile(\"../user.json\")\\\n",
    "    .map(lambda x: json.loads(x))\\\n",
    "    .map(lambda x:(x['name'], x['age']))\\\n",
    "    .collect()"
   ],
   "metadata": {
    "collapsed": false,
    "pycharm": {
     "name": "#%%\n"
    }
   }
  },
  {
   "cell_type": "code",
   "execution_count": 6,
   "outputs": [
    {
     "data": {
      "text/plain": "['1-1001', '2-1002', '3-1003', '4-1004', '5-1005']"
     },
     "execution_count": 6,
     "metadata": {},
     "output_type": "execute_result"
    }
   ],
   "source": [
    "rdd2 = sc.parallelize([(1,1001),(2,1002),(3,1003),(4,1004),(5,1005)])\n",
    "def pf(ins):\n",
    "    arr = []\n",
    "    for i in ins:\n",
    "        arr.append(str(i[0]) + '-' + str(i[1]))\n",
    "    return arr\n",
    "rdd2.mapPartitions(pf).collect()"
   ],
   "metadata": {
    "collapsed": false,
    "pycharm": {
     "name": "#%%\n"
    }
   }
  },
  {
   "cell_type": "code",
   "execution_count": 7,
   "outputs": [
    {
     "data": {
      "text/plain": "['1:1-1001', '3:2-1002', '4:3-1003', '6:4-1004', '7:5-1005']"
     },
     "execution_count": 7,
     "metadata": {},
     "output_type": "execute_result"
    }
   ],
   "source": [
    "rdd3 = sc.parallelize([(1,1001),(2,1002),(3,1003),(4,1004),(5,1005)])\n",
    "def pf3(index,ins): #参数变化了，两个参数\n",
    "  arr3 = []\n",
    "  for i in ins:\n",
    "    arr3.append(str(index)+\":\"+str(i[0]) + \"-\"+str(i[1]))\n",
    "  return arr3\n",
    "rdd3.mapPartitionsWithIndex(pf3).collect()\n"
   ],
   "metadata": {
    "collapsed": false,
    "pycharm": {
     "name": "#%%\n"
    }
   }
  },
  {
   "cell_type": "code",
   "execution_count": 22,
   "outputs": [
    {
     "data": {
      "text/plain": "[0, 0, 0, 0, 0, 0, 0, 1, 1, 1, 2, 2, 2, 2, 2, 2, 2, 3, 3, 4, 4]"
     },
     "execution_count": 22,
     "metadata": {},
     "output_type": "execute_result"
    }
   ],
   "source": [
    "rdd4 = sc.parallelize(range(5), 1)\n",
    "# 期望次数为5\n",
    "rdd4.sample(True, 5).collect()"
   ],
   "metadata": {
    "collapsed": false,
    "pycharm": {
     "name": "#%%\n"
    }
   }
  },
  {
   "cell_type": "code",
   "execution_count": 16,
   "outputs": [
    {
     "data": {
      "text/plain": "[0, 1, 2, 3, 4]"
     },
     "execution_count": 16,
     "metadata": {},
     "output_type": "execute_result"
    }
   ],
   "source": [
    "rdd4.sample(False, 1).collect()\n"
   ],
   "metadata": {
    "collapsed": false,
    "pycharm": {
     "name": "#%%\n"
    }
   }
  },
  {
   "cell_type": "code",
   "execution_count": 19,
   "outputs": [
    {
     "data": {
      "text/plain": "[0, 2, 3, 4]"
     },
     "execution_count": 19,
     "metadata": {},
     "output_type": "execute_result"
    }
   ],
   "source": [
    "# 抽到每个元素的概率，可能为空，或者全部抽中\n",
    "rdd4.sample(False, 0.5).collect()"
   ],
   "metadata": {
    "collapsed": false,
    "pycharm": {
     "name": "#%%\n"
    }
   }
  },
  {
   "cell_type": "code",
   "execution_count": 23,
   "outputs": [
    {
     "data": {
      "text/plain": "[3, 2, 0]"
     },
     "execution_count": 23,
     "metadata": {},
     "output_type": "execute_result"
    }
   ],
   "source": [
    "# 有放回\n",
    "rdd4.takeSample(True, 3)"
   ],
   "metadata": {
    "collapsed": false,
    "pycharm": {
     "name": "#%%\n"
    }
   }
  },
  {
   "cell_type": "code",
   "execution_count": 25,
   "outputs": [
    {
     "data": {
      "text/plain": "[1, 4, 3, 2, 0]"
     },
     "execution_count": 25,
     "metadata": {},
     "output_type": "execute_result"
    }
   ],
   "source": [
    "# 无放回\n",
    "rdd4.takeSample(False, 5)"
   ],
   "metadata": {
    "collapsed": false,
    "pycharm": {
     "name": "#%%\n"
    }
   }
  },
  {
   "cell_type": "code",
   "execution_count": 26,
   "outputs": [
    {
     "data": {
      "text/plain": "[1, 2, 3, 4, 5, 6, 7, 8, 9]"
     },
     "execution_count": 26,
     "metadata": {},
     "output_type": "execute_result"
    }
   ],
   "source": [
    "sc.range(1, 10).collect()\n"
   ],
   "metadata": {
    "collapsed": false,
    "pycharm": {
     "name": "#%%\n"
    }
   }
  },
  {
   "cell_type": "code",
   "execution_count": 27,
   "outputs": [
    {
     "data": {
      "text/plain": "[1, 2, 3, 4, 5, 6, 7, 8, 9, 5, 6, 7, 8, 9, 10, 11, 12, 13, 14]"
     },
     "execution_count": 27,
     "metadata": {},
     "output_type": "execute_result"
    }
   ],
   "source": [
    "# 合并元素，保留重复项\n",
    "sc.range(1, 10).union(sc.range(5, 15)).collect()"
   ],
   "metadata": {
    "collapsed": false,
    "pycharm": {
     "name": "#%%\n"
    }
   }
  },
  {
   "cell_type": "code",
   "execution_count": 28,
   "outputs": [
    {
     "data": {
      "text/plain": "[5, 6, 7, 8, 9]"
     },
     "execution_count": 28,
     "metadata": {},
     "output_type": "execute_result"
    }
   ],
   "source": [
    "# 求交集\n",
    "sc.range(1, 10).intersection(sc.range(5, 10)).collect()"
   ],
   "metadata": {
    "collapsed": false,
    "pycharm": {
     "name": "#%%\n"
    }
   }
  },
  {
   "cell_type": "code",
   "execution_count": 30,
   "outputs": [
    {
     "data": {
      "text/plain": "[1, 9, 2, 10, 3, 4, 5, 6, 7]"
     },
     "execution_count": 30,
     "metadata": {},
     "output_type": "execute_result"
    }
   ],
   "source": [
    "rdd5 = sc.parallelize([1,2,3,4,5,6,7,1,2,3,5,9,10])\n",
    "rdd5.distinct().collect()"
   ],
   "metadata": {
    "collapsed": false,
    "pycharm": {
     "name": "#%%\n"
    }
   }
  },
  {
   "cell_type": "code",
   "execution_count": 31,
   "outputs": [
    {
     "data": {
      "text/plain": "[[(1, 'a')], [(2, 'b'), (3, 'c')], [(4, 'd'), (5, 'e')], [(6, 'f'), (7, 'g')]]"
     },
     "execution_count": 31,
     "metadata": {},
     "output_type": "execute_result"
    }
   ],
   "source": [
    "# 并行度为4，表示分区为4\n",
    "rdd7 = sc.parallelize([(1,'a'),(2,'b'),(3,'c'),(4,'d'),(5,'e'),(6,'f'),(7,'g')],4)\n",
    "# glom可将RDD中的元素按分区收集起来\n",
    "rdd7.glom().collect()"
   ],
   "metadata": {
    "collapsed": false,
    "pycharm": {
     "name": "#%%\n"
    }
   }
  },
  {
   "cell_type": "code",
   "execution_count": 40,
   "outputs": [
    {
     "data": {
      "text/plain": "[[(3, 'c'), (4, 'd'), (7, 'g')], [(1, 'a'), (5, 'e')], [(2, 'b'), (6, 'f')]]"
     },
     "execution_count": 40,
     "metadata": {},
     "output_type": "execute_result"
    }
   ],
   "source": [
    "# 自定义分区，返回结果为整数，代表分区数\n",
    "def df7(e):\n",
    "    return e%3\n",
    "\n",
    "rdd7.partitionBy(3, df7).glom().collect()"
   ],
   "metadata": {
    "collapsed": false,
    "pycharm": {
     "name": "#%%\n"
    }
   }
  },
  {
   "cell_type": "code",
   "execution_count": 41,
   "outputs": [
    {
     "data": {
      "text/plain": "[[(4, 'd')], [(1, 'a'), (5, 'e')], [(2, 'b'), (6, 'f')], [(3, 'c'), (7, 'g')]]"
     },
     "execution_count": 41,
     "metadata": {},
     "output_type": "execute_result"
    }
   ],
   "source": [
    "# 超过分区编号，多余的分区里无内容\n",
    "rdd7.partitionBy(4, df7).glom().collect()"
   ],
   "metadata": {
    "collapsed": false,
    "pycharm": {
     "name": "#%%\n"
    }
   }
  },
  {
   "cell_type": "code",
   "execution_count": 42,
   "outputs": [
    {
     "data": {
      "text/plain": "[[(2, 'b'), (4, 'd'), (6, 'f')], [(1, 'a'), (3, 'c'), (5, 'e'), (7, 'g')]]"
     },
     "execution_count": 42,
     "metadata": {},
     "output_type": "execute_result"
    }
   ],
   "source": [
    "# 会合并两个分区（猜测：两个内容少的分区）里的内容\n",
    "rdd7.partitionBy(2, df7).glom().collect()"
   ],
   "metadata": {
    "collapsed": false,
    "pycharm": {
     "name": "#%%\n"
    }
   }
  },
  {
   "cell_type": "code",
   "execution_count": 43,
   "outputs": [
    {
     "data": {
      "text/plain": "[('A', 3), ('F', 3), ('S', 6), ('D', 5)]"
     },
     "execution_count": 43,
     "metadata": {},
     "output_type": "execute_result"
    }
   ],
   "source": [
    "rdd8 = sc.parallelize('ASDSFSDFSDASDFSDA')\n",
    "rdd8.map(lambda x: (x, 1))\\\n",
    "    .reduceByKey(lambda v1, v2: v1+v2).collect()"
   ],
   "metadata": {
    "collapsed": false,
    "pycharm": {
     "name": "#%%\n"
    }
   }
  },
  {
   "cell_type": "code",
   "execution_count": 44,
   "outputs": [
    {
     "data": {
      "text/plain": "[('A', <pyspark.resultiterable.ResultIterable at 0x1ec81eab048>),\n ('F', <pyspark.resultiterable.ResultIterable at 0x1ec81eab2c8>),\n ('S', <pyspark.resultiterable.ResultIterable at 0x1ec82294c08>),\n ('D', <pyspark.resultiterable.ResultIterable at 0x1ec821da588>)]"
     },
     "execution_count": 44,
     "metadata": {},
     "output_type": "execute_result"
    }
   ],
   "source": [
    "rdd8.map(lambda x: (x, 1)).groupByKey().collect()"
   ],
   "metadata": {
    "collapsed": false,
    "pycharm": {
     "name": "#%%\n"
    }
   }
  },
  {
   "cell_type": "code",
   "execution_count": 73,
   "outputs": [
    {
     "data": {
      "text/plain": "[('a', (220, 3)), ('b', (246, 3)), ('c', (220, 3))]"
     },
     "execution_count": 73,
     "metadata": {},
     "output_type": "execute_result"
    }
   ],
   "source": [
    "rdd9 = sc.parallelize([(\"a\",90),(\"a\",60),(\"a\",70),(\"b\",96),(\"b\",80),(\"b\",70),(\"c\",60),(\"c\",80),(\"c\",80)])\n",
    "# 注意 （k,v）对中v的形式相同，如本例子中的new_v\n",
    "rdd9.combineByKey(lambda new_v:(new_v, 1),\n",
    "                  lambda v, new_v: (v[0] +new_v, v[1]+ 1),\n",
    "                  lambda u1, u2: (u1[0]+ u2[0], u1[1] + u2[1])).collect()"
   ],
   "metadata": {
    "collapsed": false,
    "pycharm": {
     "name": "#%%\n"
    }
   }
  },
  {
   "cell_type": "code",
   "execution_count": 53,
   "outputs": [
    {
     "data": {
      "text/plain": "[('a', (220, 3)), ('b', (246, 3)), ('c', (220, 3))]"
     },
     "execution_count": 53,
     "metadata": {},
     "output_type": "execute_result"
    }
   ],
   "source": [
    "rdd9.aggregateByKey((0,0),\n",
    "                    lambda v, new_v: (v[0] +new_v, v[1]+ 1),\n",
    "                    lambda u1, u2: (u1[0]+ u2[0], u1[1] + u2[1])).collect()\n"
   ],
   "metadata": {
    "collapsed": false,
    "pycharm": {
     "name": "#%%\n"
    }
   }
  },
  {
   "cell_type": "code",
   "execution_count": 61,
   "outputs": [
    {
     "data": {
      "text/plain": "[('a', 220), ('b', 246), ('c', 220)]"
     },
     "execution_count": 61,
     "metadata": {},
     "output_type": "execute_result"
    }
   ],
   "source": [
    "# 不同分区上相同的k进行操作\n",
    "rdd9.foldByKey(0,\n",
    "               lambda u1, u2: (u1+ u2)).collect()"
   ],
   "metadata": {
    "collapsed": false,
    "pycharm": {
     "name": "#%%\n"
    }
   }
  },
  {
   "cell_type": "code",
   "execution_count": 66,
   "outputs": [
    {
     "data": {
      "text/plain": "[9, 8, 7, 6, 5, 4, 3, 2, 1]"
     },
     "execution_count": 66,
     "metadata": {},
     "output_type": "execute_result"
    }
   ],
   "source": [
    "# numSlices 表示分区数\n",
    "rdd10 = sc.range(1, 10, numSlices=3)\n",
    "rdd10.sortBy(lambda e:e, ascending=False).collect()"
   ],
   "metadata": {
    "collapsed": false,
    "pycharm": {
     "name": "#%%\n"
    }
   }
  },
  {
   "cell_type": "code",
   "execution_count": 67,
   "outputs": [
    {
     "data": {
      "text/plain": "[(1, 'a'), (2, 'e'), (3, 'b'), (4, 'd'), (5, 'c')]"
     },
     "execution_count": 67,
     "metadata": {},
     "output_type": "execute_result"
    }
   ],
   "source": [
    "rdd11 = sc.parallelize([(1,'a'),(3,'b'),(4,'d'),(2,'e'),(5,'c')])\n",
    "rdd11.sortBy(lambda e:e[0],ascending=True).collect()\n"
   ],
   "metadata": {
    "collapsed": false,
    "pycharm": {
     "name": "#%%\n"
    }
   }
  },
  {
   "cell_type": "code",
   "execution_count": 68,
   "outputs": [
    {
     "data": {
      "text/plain": "[(1, 'a'), (3, 'b'), (5, 'c'), (4, 'd'), (2, 'e')]"
     },
     "execution_count": 68,
     "metadata": {},
     "output_type": "execute_result"
    }
   ],
   "source": [
    "rdd11.sortBy(lambda e:e[1],ascending=True).collect()\n"
   ],
   "metadata": {
    "collapsed": false,
    "pycharm": {
     "name": "#%%\n"
    }
   }
  },
  {
   "cell_type": "code",
   "execution_count": 74,
   "outputs": [
    {
     "data": {
      "text/plain": "[(1, ('aa', 'AA')), (2, ('bb', 'BB')), (3, ('cc', 'CC'))]"
     },
     "execution_count": 74,
     "metadata": {},
     "output_type": "execute_result"
    }
   ],
   "source": [
    "rdd12_1 = sc.parallelize([(1,'aa'),(2,'bb'),(3,'cc')])\n",
    "rdd12_2 = sc.parallelize([(1,'AA'),(2,'BB'),(3,'CC')])\n",
    "\n",
    "# 根据key，将value组合一起\n",
    "rdd12_1.join(rdd12_2).collect()"
   ],
   "metadata": {
    "collapsed": false,
    "pycharm": {
     "name": "#%%\n"
    }
   }
  },
  {
   "cell_type": "code",
   "execution_count": 75,
   "outputs": [
    {
     "data": {
      "text/plain": "[1, 2, 3, 4]"
     },
     "execution_count": 75,
     "metadata": {},
     "output_type": "execute_result"
    }
   ],
   "source": [
    "sc.range(1, 10).subtract(sc.range(5, 15)).collect()"
   ],
   "metadata": {
    "collapsed": false,
    "pycharm": {
     "name": "#%%\n"
    }
   }
  },
  {
   "cell_type": "code",
   "execution_count": 76,
   "outputs": [
    {
     "data": {
      "text/plain": "[(1, 10002),\n (2, 10003),\n (1, 20002),\n (3, 10004),\n (2, 20003),\n (4, 100005),\n (5, 10006),\n (3, 20004)]"
     },
     "execution_count": 76,
     "metadata": {},
     "output_type": "execute_result"
    }
   ],
   "source": [
    "rdd13 = sc.parallelize([(1,10001),(2,10002),(1,20001),(3,10003),(2,20002),(4,100004),(5,10005),(3,20003)])\n",
    "rdd13.mapValues(lambda v: v+1).collect()"
   ],
   "metadata": {
    "collapsed": false,
    "pycharm": {
     "name": "#%%\n"
    }
   }
  },
  {
   "cell_type": "code",
   "execution_count": 77,
   "outputs": [
    {
     "data": {
      "text/plain": "45"
     },
     "execution_count": 77,
     "metadata": {},
     "output_type": "execute_result"
    }
   ],
   "source": [
    "# func函数聚集RDD中的所有元素，这个功能必须是可交换且可并联的.\n",
    "sc.range(1,10).reduce(lambda t1,t2:t1+t2)"
   ],
   "metadata": {
    "collapsed": false,
    "pycharm": {
     "name": "#%%\n"
    }
   }
  },
  {
   "cell_type": "code",
   "execution_count": 78,
   "outputs": [],
   "source": [
    "#显示在终端\n",
    "sc.range(1,5).foreach(lambda e:print(e))"
   ],
   "metadata": {
    "collapsed": false,
    "pycharm": {
     "name": "#%%\n"
    }
   }
  },
  {
   "cell_type": "code",
   "execution_count": 84,
   "outputs": [
    {
     "name": "stdout",
     "output_type": "stream",
     "text": [
      "0\n"
     ]
    }
   ],
   "source": [
    "# 累加器\n",
    "rdd1 = sc.parallelize(\"fsdasdaSfd\")\n",
    "sum = 0\n",
    "def m(data):\n",
    "    global sum\n",
    "    if data == 'a':\n",
    "        sum += 1\n",
    "    print(sum)\n",
    "rdd1.foreach(m)\n",
    "print(sum)"
   ],
   "metadata": {
    "collapsed": false,
    "pycharm": {
     "name": "#%%\n"
    }
   }
  },
  {
   "cell_type": "code",
   "execution_count": 81,
   "outputs": [
    {
     "name": "stdout",
     "output_type": "stream",
     "text": [
      "2\n"
     ]
    }
   ],
   "source": [
    "rdd1 = sc.parallelize(\"fsdasdaSfd\")\n",
    "acc = sc.accumulator(0)\n",
    "def m(data):\n",
    "    if data == 'a':\n",
    "        acc.add(1)\n",
    "rdd1.foreach(m)\n",
    "print(acc.value)\n"
   ],
   "metadata": {
    "collapsed": false,
    "pycharm": {
     "name": "#%%\n"
    }
   }
  },
  {
   "cell_type": "code",
   "execution_count": 91,
   "outputs": [
    {
     "data": {
      "text/plain": "[(1, 3, 'a'), (2, 4, 'b'), (3, 6, 'c'), (4, 6, 'd'), (5, 6, 'e'), (6, 6, 'f')]"
     },
     "execution_count": 91,
     "metadata": {},
     "output_type": "execute_result"
    }
   ],
   "source": [
    "# 广播变量\n",
    "common = [(1,3),(2,4),(3,6),(4,6),(5,6),(6,6)] #【这个变量的问题】\n",
    "rdd = sc.parallelize([(1,\"a\"),(2,\"b\"),(3,\"c\"),(4,\"d\"),(5,\"e\"),(6,\"f\")])\n",
    "def mf(e):\n",
    "    for i in common:\n",
    "        if i[0] == e[0]:\n",
    "            return i[0], i[1], e[1]\n",
    "\n",
    "rdd.map(mf).collect()"
   ],
   "metadata": {
    "collapsed": false,
    "pycharm": {
     "name": "#%%\n"
    }
   }
  },
  {
   "cell_type": "code",
   "execution_count": 92,
   "outputs": [
    {
     "data": {
      "text/plain": "[(1, 3, 'a'), (2, 4, 'b'), (3, 6, 'c'), (4, 6, 'd'), (5, 6, 'e'), (6, 6, 'f')]"
     },
     "execution_count": 92,
     "metadata": {},
     "output_type": "execute_result"
    }
   ],
   "source": [
    "common1 = [(1,3),(2,4),(3,6),(4,6),(5,6),(6,6)] #【这个变量的问题】\n",
    "broadcast = sc.broadcast(common1)\n",
    "rdd1 = sc.parallelize([(1,\"a\"),(2,\"b\"),(3,\"c\"),(4,\"d\"),(5,\"e\"),(6,\"f\")])\n",
    "def mf(e):\n",
    "    for i in broadcast.value:\n",
    "        if i[0] == e[0]:\n",
    "            return i[0], i[1], e[1]\n",
    "\n",
    "rdd1.map(mf).collect()"
   ],
   "metadata": {
    "collapsed": false,
    "pycharm": {
     "name": "#%%\n"
    }
   }
  },
  {
   "cell_type": "code",
   "execution_count": 106,
   "outputs": [
    {
     "data": {
      "text/plain": "[30, 70, 10, 20]"
     },
     "execution_count": 106,
     "metadata": {},
     "output_type": "execute_result"
    }
   ],
   "source": [
    "bigArr = [i for i in range(1, 1000)]\n",
    "bd = sc.broadcast(bigArr)\n",
    "rdd1 = sc.parallelize([30, 50000000, 70, 600000, 10, 20], 4)\n",
    "rdd2 = rdd1.filter(lambda x: x in bd.value)\n",
    "rdd2.collect()"
   ],
   "metadata": {
    "collapsed": false,
    "pycharm": {
     "name": "#%%\n"
    }
   }
  },
  {
   "cell_type": "code",
   "execution_count": 107,
   "outputs": [
    {
     "data": {
      "text/plain": "[30, 70, 10, 20]"
     },
     "execution_count": 107,
     "metadata": {},
     "output_type": "execute_result"
    }
   ],
   "source": [
    "bigArr = [i for i in range(1, 1000)]\n",
    "rdd1 = sc.parallelize([30, 50000000, 70, 600000, 10, 20], 4)\n",
    "rdd2 = rdd1.filter(lambda x: x in bigArr)\n",
    "rdd2.collect()"
   ],
   "metadata": {
    "collapsed": false,
    "pycharm": {
     "name": "#%%\n"
    }
   }
  },
  {
   "cell_type": "code",
   "execution_count": 105,
   "outputs": [
    {
     "name": "stdout",
     "output_type": "stream",
     "text": [
      "True\n"
     ]
    }
   ],
   "source": [
    "print(bd.value.__contains__(30))\n",
    "\n"
   ],
   "metadata": {
    "collapsed": false,
    "pycharm": {
     "name": "#%%\n"
    }
   }
  },
  {
   "cell_type": "code",
   "execution_count": null,
   "outputs": [],
   "source": [],
   "metadata": {
    "collapsed": false,
    "pycharm": {
     "name": "#%%\n"
    }
   }
  }
 ],
 "metadata": {
  "kernelspec": {
   "name": "ml",
   "language": "python",
   "display_name": "ml"
  },
  "language_info": {
   "codemirror_mode": {
    "name": "ipython",
    "version": 2
   },
   "file_extension": ".py",
   "mimetype": "text/x-python",
   "name": "python",
   "nbconvert_exporter": "python",
   "pygments_lexer": "ipython2",
   "version": "2.7.6"
  }
 },
 "nbformat": 4,
 "nbformat_minor": 0
}