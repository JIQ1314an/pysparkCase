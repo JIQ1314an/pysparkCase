{
 "cells": [
  {
   "cell_type": "code",
   "execution_count": 1,
   "metadata": {
    "collapsed": true
   },
   "outputs": [],
   "source": [
    "from pyspark.sql import SparkSession"
   ]
  },
  {
   "cell_type": "code",
   "execution_count": 2,
   "outputs": [],
   "source": [
    "spark = SparkSession.builder\\\n",
    "    .appName(\"SparkSql\")\\\n",
    "    .master('local[2]')\\\n",
    "    .getOrCreate()\n",
    "#getOrCreate()创建SparkSession对象"
   ],
   "metadata": {
    "collapsed": false,
    "pycharm": {
     "name": "#%%\n"
    }
   }
  },
  {
   "cell_type": "code",
   "execution_count": 6,
   "outputs": [],
   "source": [
    "df = spark.read.json('../user.json')"
   ],
   "metadata": {
    "collapsed": false,
    "pycharm": {
     "name": "#%%\n"
    }
   }
  },
  {
   "cell_type": "code",
   "execution_count": 7,
   "outputs": [],
   "source": [
    "df.createTempView('people')"
   ],
   "metadata": {
    "collapsed": false,
    "pycharm": {
     "name": "#%%\n"
    }
   }
  },
  {
   "cell_type": "code",
   "execution_count": 11,
   "outputs": [
    {
     "name": "stdout",
     "output_type": "stream",
     "text": [
      "+---+--------------+-----+\n",
      "|age|       hobbies| name|\n",
      "+---+--------------+-----+\n",
      "| 19|[游戏, 羽毛球]|张三1|\n",
      "| 19|[电视, 羽毛球]|张三4|\n",
      "| 19|[小说, 乒乓球]|张三7|\n",
      "+---+--------------+-----+\n",
      "\n"
     ]
    }
   ],
   "source": [
    "#【SQL风格】\n",
    "spark.sql('select * from people where age > 18').show()"
   ],
   "metadata": {
    "collapsed": false,
    "pycharm": {
     "name": "#%%\n"
    }
   }
  },
  {
   "cell_type": "code",
   "execution_count": 12,
   "outputs": [
    {
     "name": "stdout",
     "output_type": "stream",
     "text": [
      "+-----+---+\n",
      "| name|age|\n",
      "+-----+---+\n",
      "|张三1| 19|\n",
      "|张三4| 19|\n",
      "|张三7| 19|\n",
      "+-----+---+\n",
      "\n"
     ]
    }
   ],
   "source": [
    "#【DSL风格】\n",
    "df.where(\"age > 18\").select(\"name\", \"age\").show()"
   ],
   "metadata": {
    "collapsed": false,
    "pycharm": {
     "name": "#%%\n"
    }
   }
  },
  {
   "cell_type": "code",
   "execution_count": 14,
   "outputs": [],
   "source": [
    "sc = spark.sparkContext\n",
    "rdd = sc.textFile('../People.csv').map(lambda e: e.split('，'))"
   ],
   "metadata": {
    "collapsed": false,
    "pycharm": {
     "name": "#%%\n"
    }
   }
  },
  {
   "cell_type": "code",
   "execution_count": 15,
   "outputs": [
    {
     "data": {
      "text/plain": "[['张三', '17', '男'],\n ['李四', '18', '女'],\n ['王五', '17', '女'],\n ['王二', '19', '男'],\n ['麻子', '16', '女'],\n ['李华', '20', '女'],\n ['刘明', '18', '男']]"
     },
     "execution_count": 15,
     "metadata": {},
     "output_type": "execute_result"
    }
   ],
   "source": [
    "rdd.collect()"
   ],
   "metadata": {
    "collapsed": false,
    "pycharm": {
     "name": "#%%\n"
    }
   }
  },
  {
   "cell_type": "code",
   "execution_count": 19,
   "outputs": [],
   "source": [
    "#创建临时视图\n",
    "df1 = rdd.toDF([\"name\", \"age\", \"sex\"])"
   ],
   "metadata": {
    "collapsed": false,
    "pycharm": {
     "name": "#%%\n"
    }
   }
  },
  {
   "cell_type": "code",
   "execution_count": 20,
   "outputs": [
    {
     "name": "stdout",
     "output_type": "stream",
     "text": [
      "root\n",
      " |-- name: string (nullable = true)\n",
      " |-- age: string (nullable = true)\n",
      " |-- sex: string (nullable = true)\n",
      "\n"
     ]
    }
   ],
   "source": [
    "#查看数据的结构\n",
    "df1.printSchema()"
   ],
   "metadata": {
    "collapsed": false,
    "pycharm": {
     "name": "#%%\n"
    }
   }
  },
  {
   "cell_type": "code",
   "execution_count": 21,
   "outputs": [],
   "source": [
    "rdd2 = rdd.map(lambda e: [e[0], int(e[1]), e[2]])\n",
    "df2 = rdd2.toDF([\"name\", \"age\", \"sex\"])"
   ],
   "metadata": {
    "collapsed": false,
    "pycharm": {
     "name": "#%%\n"
    }
   }
  },
  {
   "cell_type": "code",
   "execution_count": 22,
   "outputs": [
    {
     "name": "stdout",
     "output_type": "stream",
     "text": [
      "root\n",
      " |-- name: string (nullable = true)\n",
      " |-- age: long (nullable = true)\n",
      " |-- sex: string (nullable = true)\n",
      "\n"
     ]
    }
   ],
   "source": [
    "df2.printSchema()\n"
   ],
   "metadata": {
    "collapsed": false,
    "pycharm": {
     "name": "#%%\n"
    }
   }
  },
  {
   "cell_type": "code",
   "execution_count": 25,
   "outputs": [
    {
     "name": "stdout",
     "output_type": "stream",
     "text": [
      "+----+---+---+\n",
      "|name|age|sex|\n",
      "+----+---+---+\n",
      "|张三| 17| 男|\n",
      "|李四| 18| 女|\n",
      "|王五| 17| 女|\n",
      "|王二| 19| 男|\n",
      "|麻子| 16| 女|\n",
      "|李华| 20| 女|\n",
      "|刘明| 18| 男|\n",
      "+----+---+---+\n",
      "\n"
     ]
    }
   ],
   "source": [
    "#基于RDD创建方式1：使用createDataFrame\n",
    "# rdd.collect()\n",
    "df1 = spark.createDataFrame(rdd, [\"name\", \"age\", \"sex\"])\n",
    "df1.show()"
   ],
   "metadata": {
    "collapsed": false,
    "pycharm": {
     "name": "#%%\n"
    }
   }
  },
  {
   "cell_type": "code",
   "execution_count": 27,
   "outputs": [
    {
     "name": "stdout",
     "output_type": "stream",
     "text": [
      "+----+---+---+\n",
      "|name|age|age|\n",
      "+----+---+---+\n",
      "|张三| 17| 男|\n",
      "|李四| 18| 女|\n",
      "|王五| 17| 女|\n",
      "|王二| 19| 男|\n",
      "|麻子| 16| 女|\n",
      "|李华| 20| 女|\n",
      "|刘明| 18| 男|\n",
      "+----+---+---+\n",
      "\n",
      "+----+---+---+\n",
      "|name|age|age|\n",
      "+----+---+---+\n",
      "|张三| 17| 男|\n",
      "|李四| 18| 女|\n",
      "|王五| 17| 女|\n",
      "|王二| 19| 男|\n",
      "|麻子| 16| 女|\n",
      "|李华| 20| 女|\n",
      "|刘明| 18| 男|\n",
      "+----+---+---+\n",
      "\n"
     ]
    }
   ],
   "source": [
    "from pyspark.sql.types import StructType, StringType,IntegerType\n",
    "\n",
    "#基于RDD创建方式二：使用StructType类型添加Schema\n",
    "\n",
    "schema = StructType()\\\n",
    "    .add(\"name\", StringType(), nullable=False)\\\n",
    "    .add(\"age\", IntegerType(), nullable=True)\\\n",
    "    .add(\"age\", StringType(), nullable=False)\\\n",
    "\n",
    "#一个add方法 定义一个列的信息, 如果有3个列, 就写三个add\n",
    "#add方法: 参数1: 列名称；参数2: 列类型；参数3: 是否允许为空\n",
    "\n",
    "df2 = spark.createDataFrame(rdd2,schema)\n",
    "df2.show()"
   ],
   "metadata": {
    "collapsed": false,
    "pycharm": {
     "name": "#%%\n"
    }
   }
  },
  {
   "cell_type": "code",
   "execution_count": 28,
   "outputs": [
    {
     "name": "stdout",
     "output_type": "stream",
     "text": [
      "+----+---+---+\n",
      "|name|age|sex|\n",
      "+----+---+---+\n",
      "|张三| 17| 男|\n",
      "|李四| 18| 女|\n",
      "|王五| 17| 女|\n",
      "|王二| 19| 男|\n",
      "|麻子| 16| 女|\n",
      "|李华| 20| 女|\n",
      "|刘明| 18| 男|\n",
      "+----+---+---+\n",
      "\n"
     ]
    }
   ],
   "source": [
    "# 基于RDD创建方式三：toDF\n",
    "df3_1 = rdd2.toDF( [\"name\", \"age\", \"sex\"])\n",
    "df3_1.show()"
   ],
   "metadata": {
    "collapsed": false,
    "pycharm": {
     "name": "#%%\n"
    }
   }
  },
  {
   "cell_type": "code",
   "execution_count": 29,
   "outputs": [
    {
     "name": "stdout",
     "output_type": "stream",
     "text": [
      "+----+---+---+\n",
      "|name|age|age|\n",
      "+----+---+---+\n",
      "|张三| 17| 男|\n",
      "|李四| 18| 女|\n",
      "|王五| 17| 女|\n",
      "|王二| 19| 男|\n",
      "|麻子| 16| 女|\n",
      "|李华| 20| 女|\n",
      "|刘明| 18| 男|\n",
      "+----+---+---+\n",
      "\n"
     ]
    }
   ],
   "source": [
    "df3_2 = rdd2.toDF(schema)\n",
    "df3_2.show()"
   ],
   "metadata": {
    "collapsed": false,
    "pycharm": {
     "name": "#%%\n"
    }
   }
  },
  {
   "cell_type": "code",
   "execution_count": null,
   "outputs": [],
   "source": [],
   "metadata": {
    "collapsed": false,
    "pycharm": {
     "name": "#%%\n"
    }
   }
  }
 ],
 "metadata": {
  "kernelspec": {
   "display_name": "Python 3",
   "language": "python",
   "name": "python3"
  },
  "language_info": {
   "codemirror_mode": {
    "name": "ipython",
    "version": 2
   },
   "file_extension": ".py",
   "mimetype": "text/x-python",
   "name": "python",
   "nbconvert_exporter": "python",
   "pygments_lexer": "ipython2",
   "version": "2.7.6"
  }
 },
 "nbformat": 4,
 "nbformat_minor": 0
}