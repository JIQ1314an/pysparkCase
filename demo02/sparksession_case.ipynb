{
 "cells": [
  {
   "cell_type": "code",
   "execution_count": 1,
   "metadata": {
    "collapsed": true
   },
   "outputs": [],
   "source": [
    "import pandas as pd\n",
    "from pyspark.sql import SparkSession"
   ]
  },
  {
   "cell_type": "code",
   "execution_count": 2,
   "outputs": [],
   "source": [
    "spark = SparkSession.builder\\\n",
    "    .appName(\"SparkDemo1\")\\\n",
    "    .getOrCreate()\n",
    "    # .config(\"spark.sql.shuffle.partitions\", \"2\")\\"
   ],
   "metadata": {
    "collapsed": false,
    "pycharm": {
     "name": "#%%\n"
    }
   }
  },
  {
   "cell_type": "code",
   "execution_count": 3,
   "outputs": [
    {
     "ename": "AnalysisException",
     "evalue": "Table or view not found: global_temp.housing; line 1 pos 14;\n'Project [*]\n+- 'UnresolvedRelation [global_temp, housing], [], false\n",
     "output_type": "error",
     "traceback": [
      "\u001B[1;31m---------------------------------------------------------------------------\u001B[0m",
      "\u001B[1;31mAnalysisException\u001B[0m                         Traceback (most recent call last)",
      "\u001B[1;32m<ipython-input-3-547eaa73381a>\u001B[0m in \u001B[0;36m<module>\u001B[1;34m\u001B[0m\n\u001B[1;32m----> 1\u001B[1;33m \u001B[0mspark\u001B[0m\u001B[1;33m.\u001B[0m\u001B[0msql\u001B[0m\u001B[1;33m(\u001B[0m\u001B[1;34m\"SELECT * FROM global_temp.housing\"\u001B[0m\u001B[1;33m)\u001B[0m\u001B[1;33m.\u001B[0m\u001B[0mshow\u001B[0m\u001B[1;33m(\u001B[0m\u001B[1;33m)\u001B[0m\u001B[1;33m\u001B[0m\u001B[1;33m\u001B[0m\u001B[0m\n\u001B[0m",
      "\u001B[1;32mD:\\Documents\\anaconda3\\envs\\ml\\lib\\site-packages\\pyspark\\sql\\session.py\u001B[0m in \u001B[0;36msql\u001B[1;34m(self, sqlQuery)\u001B[0m\n\u001B[0;32m    721\u001B[0m         \u001B[1;33m[\u001B[0m\u001B[0mRow\u001B[0m\u001B[1;33m(\u001B[0m\u001B[0mf1\u001B[0m\u001B[1;33m=\u001B[0m\u001B[1;36m1\u001B[0m\u001B[1;33m,\u001B[0m \u001B[0mf2\u001B[0m\u001B[1;33m=\u001B[0m\u001B[1;34m'row1'\u001B[0m\u001B[1;33m)\u001B[0m\u001B[1;33m,\u001B[0m \u001B[0mRow\u001B[0m\u001B[1;33m(\u001B[0m\u001B[0mf1\u001B[0m\u001B[1;33m=\u001B[0m\u001B[1;36m2\u001B[0m\u001B[1;33m,\u001B[0m \u001B[0mf2\u001B[0m\u001B[1;33m=\u001B[0m\u001B[1;34m'row2'\u001B[0m\u001B[1;33m)\u001B[0m\u001B[1;33m,\u001B[0m \u001B[0mRow\u001B[0m\u001B[1;33m(\u001B[0m\u001B[0mf1\u001B[0m\u001B[1;33m=\u001B[0m\u001B[1;36m3\u001B[0m\u001B[1;33m,\u001B[0m \u001B[0mf2\u001B[0m\u001B[1;33m=\u001B[0m\u001B[1;34m'row3'\u001B[0m\u001B[1;33m)\u001B[0m\u001B[1;33m]\u001B[0m\u001B[1;33m\u001B[0m\u001B[1;33m\u001B[0m\u001B[0m\n\u001B[0;32m    722\u001B[0m         \"\"\"\n\u001B[1;32m--> 723\u001B[1;33m         \u001B[1;32mreturn\u001B[0m \u001B[0mDataFrame\u001B[0m\u001B[1;33m(\u001B[0m\u001B[0mself\u001B[0m\u001B[1;33m.\u001B[0m\u001B[0m_jsparkSession\u001B[0m\u001B[1;33m.\u001B[0m\u001B[0msql\u001B[0m\u001B[1;33m(\u001B[0m\u001B[0msqlQuery\u001B[0m\u001B[1;33m)\u001B[0m\u001B[1;33m,\u001B[0m \u001B[0mself\u001B[0m\u001B[1;33m.\u001B[0m\u001B[0m_wrapped\u001B[0m\u001B[1;33m)\u001B[0m\u001B[1;33m\u001B[0m\u001B[1;33m\u001B[0m\u001B[0m\n\u001B[0m\u001B[0;32m    724\u001B[0m \u001B[1;33m\u001B[0m\u001B[0m\n\u001B[0;32m    725\u001B[0m     \u001B[1;32mdef\u001B[0m \u001B[0mtable\u001B[0m\u001B[1;33m(\u001B[0m\u001B[0mself\u001B[0m\u001B[1;33m,\u001B[0m \u001B[0mtableName\u001B[0m\u001B[1;33m)\u001B[0m\u001B[1;33m:\u001B[0m\u001B[1;33m\u001B[0m\u001B[1;33m\u001B[0m\u001B[0m\n",
      "\u001B[1;32mD:\\Documents\\anaconda3\\envs\\ml\\lib\\site-packages\\py4j\\java_gateway.py\u001B[0m in \u001B[0;36m__call__\u001B[1;34m(self, *args)\u001B[0m\n\u001B[0;32m   1320\u001B[0m         \u001B[0manswer\u001B[0m \u001B[1;33m=\u001B[0m \u001B[0mself\u001B[0m\u001B[1;33m.\u001B[0m\u001B[0mgateway_client\u001B[0m\u001B[1;33m.\u001B[0m\u001B[0msend_command\u001B[0m\u001B[1;33m(\u001B[0m\u001B[0mcommand\u001B[0m\u001B[1;33m)\u001B[0m\u001B[1;33m\u001B[0m\u001B[1;33m\u001B[0m\u001B[0m\n\u001B[0;32m   1321\u001B[0m         return_value = get_return_value(\n\u001B[1;32m-> 1322\u001B[1;33m             answer, self.gateway_client, self.target_id, self.name)\n\u001B[0m\u001B[0;32m   1323\u001B[0m \u001B[1;33m\u001B[0m\u001B[0m\n\u001B[0;32m   1324\u001B[0m         \u001B[1;32mfor\u001B[0m \u001B[0mtemp_arg\u001B[0m \u001B[1;32min\u001B[0m \u001B[0mtemp_args\u001B[0m\u001B[1;33m:\u001B[0m\u001B[1;33m\u001B[0m\u001B[1;33m\u001B[0m\u001B[0m\n",
      "\u001B[1;32mD:\\Documents\\anaconda3\\envs\\ml\\lib\\site-packages\\pyspark\\sql\\utils.py\u001B[0m in \u001B[0;36mdeco\u001B[1;34m(*a, **kw)\u001B[0m\n\u001B[0;32m    115\u001B[0m                 \u001B[1;31m# Hide where the exception came from that shows a non-Pythonic\u001B[0m\u001B[1;33m\u001B[0m\u001B[1;33m\u001B[0m\u001B[1;33m\u001B[0m\u001B[0m\n\u001B[0;32m    116\u001B[0m                 \u001B[1;31m# JVM exception message.\u001B[0m\u001B[1;33m\u001B[0m\u001B[1;33m\u001B[0m\u001B[1;33m\u001B[0m\u001B[0m\n\u001B[1;32m--> 117\u001B[1;33m                 \u001B[1;32mraise\u001B[0m \u001B[0mconverted\u001B[0m \u001B[1;32mfrom\u001B[0m \u001B[1;32mNone\u001B[0m\u001B[1;33m\u001B[0m\u001B[1;33m\u001B[0m\u001B[0m\n\u001B[0m\u001B[0;32m    118\u001B[0m             \u001B[1;32melse\u001B[0m\u001B[1;33m:\u001B[0m\u001B[1;33m\u001B[0m\u001B[1;33m\u001B[0m\u001B[0m\n\u001B[0;32m    119\u001B[0m                 \u001B[1;32mraise\u001B[0m\u001B[1;33m\u001B[0m\u001B[1;33m\u001B[0m\u001B[0m\n",
      "\u001B[1;31mAnalysisException\u001B[0m: Table or view not found: global_temp.housing; line 1 pos 14;\n'Project [*]\n+- 'UnresolvedRelation [global_temp, housing], [], false\n"
     ]
    }
   ],
   "source": [
    "spark.sql(\"SELECT * FROM global_temp.housing\").show()"
   ],
   "metadata": {
    "collapsed": false,
    "pycharm": {
     "name": "#%%\n"
    }
   }
  },
  {
   "cell_type": "code",
   "execution_count": 2,
   "outputs": [],
   "source": [
    "pd_df = pd.DataFrame({\n",
    "    \"id\": [1, 2, 3, 4],\n",
    "     \"name\": ['哈哈', '啦啦', '嘻嘻', '嘿嘿'],\n",
    "    \"age\":[ 15, 17, 12, 20]})"
   ],
   "metadata": {
    "collapsed": false,
    "pycharm": {
     "name": "#%%\n"
    }
   }
  },
  {
   "cell_type": "code",
   "execution_count": 3,
   "outputs": [
    {
     "data": {
      "text/plain": "   id name  age\n0   1   哈哈   15\n1   2   啦啦   17\n2   3   嘻嘻   12\n3   4   嘿嘿   20",
      "text/html": "<div>\n<style scoped>\n    .dataframe tbody tr th:only-of-type {\n        vertical-align: middle;\n    }\n\n    .dataframe tbody tr th {\n        vertical-align: top;\n    }\n\n    .dataframe thead th {\n        text-align: right;\n    }\n</style>\n<table border=\"1\" class=\"dataframe\">\n  <thead>\n    <tr style=\"text-align: right;\">\n      <th></th>\n      <th>id</th>\n      <th>name</th>\n      <th>age</th>\n    </tr>\n  </thead>\n  <tbody>\n    <tr>\n      <th>0</th>\n      <td>1</td>\n      <td>哈哈</td>\n      <td>15</td>\n    </tr>\n    <tr>\n      <th>1</th>\n      <td>2</td>\n      <td>啦啦</td>\n      <td>17</td>\n    </tr>\n    <tr>\n      <th>2</th>\n      <td>3</td>\n      <td>嘻嘻</td>\n      <td>12</td>\n    </tr>\n    <tr>\n      <th>3</th>\n      <td>4</td>\n      <td>嘿嘿</td>\n      <td>20</td>\n    </tr>\n  </tbody>\n</table>\n</div>"
     },
     "execution_count": 3,
     "metadata": {},
     "output_type": "execute_result"
    }
   ],
   "source": [
    "pd_df"
   ],
   "metadata": {
    "collapsed": false,
    "pycharm": {
     "name": "#%%\n"
    }
   }
  },
  {
   "cell_type": "code",
   "execution_count": 7,
   "outputs": [
    {
     "data": {
      "text/plain": "DataFrame[id: bigint, name: string, age: bigint]"
     },
     "execution_count": 7,
     "metadata": {},
     "output_type": "execute_result"
    }
   ],
   "source": [
    "df1 = spark.createDataFrame(pd_df)"
   ],
   "metadata": {
    "collapsed": false,
    "pycharm": {
     "name": "#%%\n"
    }
   }
  },
  {
   "cell_type": "code",
   "execution_count": 13,
   "outputs": [
    {
     "name": "stdout",
     "output_type": "stream",
     "text": [
      "+---+----+---+\n",
      "| id|name|age|\n",
      "+---+----+---+\n",
      "|  1|哈哈| 15|\n",
      "|  2|啦啦| 17|\n",
      "|  3|嘻嘻| 12|\n",
      "|  4|嘿嘿| 20|\n",
      "+---+----+---+\n",
      "\n"
     ]
    }
   ],
   "source": [
    "df1.show()"
   ],
   "metadata": {
    "collapsed": false,
    "pycharm": {
     "name": "#%%\n"
    }
   }
  },
  {
   "cell_type": "code",
   "execution_count": 19,
   "outputs": [
    {
     "name": "stdout",
     "output_type": "stream",
     "text": [
      "+------------+\n",
      "|       value|\n",
      "+------------+\n",
      "|张三，17，男|\n",
      "|李四，18，女|\n",
      "|王五，17，女|\n",
      "|王二，19，男|\n",
      "|麻子，16，女|\n",
      "|李华，20，女|\n",
      "|刘明，18，男|\n",
      "+------------+\n",
      "\n"
     ]
    }
   ],
   "source": [
    "df2_1 = spark.read.format('text')\\\n",
    "                .load('../People.csv')\n",
    "#默认展示二十行\n",
    "df2_1.show()"
   ],
   "metadata": {
    "collapsed": false,
    "pycharm": {
     "name": "#%%\n"
    }
   }
  },
  {
   "cell_type": "code",
   "execution_count": 26,
   "outputs": [
    {
     "name": "stdout",
     "output_type": "stream",
     "text": [
      "+------------+\n",
      "|        name|\n",
      "+------------+\n",
      "|张三，17，男|\n",
      "|李四，18，女|\n",
      "|王五，17，女|\n",
      "|王二，19，男|\n",
      "|麻子，16，女|\n",
      "|李华，20，女|\n",
      "|刘明，18，男|\n",
      "+------------+\n",
      "\n"
     ]
    }
   ],
   "source": [
    "from pyspark.sql.types import StructType, IntegerType, StringType\n",
    "# 只是支持一行\n",
    "schema = StructType()\\\n",
    "    .add(\"name\", StringType(), nullable=True)\n",
    "    # .add(\"age\", IntegerType(), nullable=True)\n",
    "df2_2 = spark.read\\\n",
    "    .format('text')\\\n",
    "    .schema(schema)\\\n",
    "    .load('../People.csv')\n",
    "#默认展示二十行\n",
    "df2_2.show()"
   ],
   "metadata": {
    "collapsed": false,
    "pycharm": {
     "name": "#%%\n"
    }
   }
  },
  {
   "cell_type": "code",
   "execution_count": 30,
   "outputs": [
    {
     "name": "stdout",
     "output_type": "stream",
     "text": [
      "+-------+---+--------------+-----+\n",
      "|address|age|       hobbies| name|\n",
      "+-------+---+--------------+-----+\n",
      "|   null| 19|[游戏, 羽毛球]|张三1|\n",
      "|   null| 18|[篮球, 羽毛球]|张三2|\n",
      "|   null| 17|[小说, 羽毛球]|张三3|\n",
      "|   null| 19|[电视, 羽毛球]|张三4|\n",
      "|   null| 17|  [游戏, 电影]|张三5|\n",
      "|   null| 18|  [游戏, 篮球]|张三6|\n",
      "| [郑州]| 19|[小说, 乒乓球]|张三7|\n",
      "+-------+---+--------------+-----+\n",
      "\n"
     ]
    }
   ],
   "source": [
    "df2_3 = spark.read.json('../user.jsons')\n",
    "df2_3.show()"
   ],
   "metadata": {
    "collapsed": false,
    "pycharm": {
     "name": "#%%\n"
    }
   }
  },
  {
   "cell_type": "code",
   "execution_count": 14,
   "outputs": [],
   "source": [
    "df3_1 = spark.read.format('csv')\\\n",
    "    .option('sep', ',')\\\n",
    "    .load('../housing.csv')"
   ],
   "metadata": {
    "collapsed": false,
    "pycharm": {
     "name": "#%%\n"
    }
   }
  },
  {
   "cell_type": "code",
   "execution_count": 15,
   "outputs": [
    {
     "name": "stdout",
     "output_type": "stream",
     "text": [
      "root\n",
      " |-- _c0: string (nullable = true)\n",
      " |-- _c1: string (nullable = true)\n",
      " |-- _c2: string (nullable = true)\n",
      " |-- _c3: string (nullable = true)\n",
      " |-- _c4: string (nullable = true)\n",
      " |-- _c5: string (nullable = true)\n",
      " |-- _c6: string (nullable = true)\n",
      " |-- _c7: string (nullable = true)\n",
      " |-- _c8: string (nullable = true)\n",
      " |-- _c9: string (nullable = true)\n",
      "\n",
      "+---------+--------+------------------+-----------+--------------+----------+----------+-------------+------------------+---------------+\n",
      "|      _c0|     _c1|               _c2|        _c3|           _c4|       _c5|       _c6|          _c7|               _c8|            _c9|\n",
      "+---------+--------+------------------+-----------+--------------+----------+----------+-------------+------------------+---------------+\n",
      "|longitude|latitude|housing_median_age|total_rooms|total_bedrooms|population|households|median_income|median_house_value|ocean_proximity|\n",
      "|  -122.23|   37.88|              41.0|      880.0|         129.0|     322.0|     126.0|       8.3252|          452600.0|       NEAR BAY|\n",
      "|  -122.22|   37.86|              21.0|     7099.0|        1106.0|    2401.0|    1138.0|       8.3014|          358500.0|       NEAR BAY|\n",
      "|  -122.24|   37.85|              52.0|     1467.0|         190.0|     496.0|     177.0|       7.2574|          352100.0|       NEAR BAY|\n",
      "|  -122.25|   37.85|              52.0|     1274.0|         235.0|     558.0|     219.0|       5.6431|          341300.0|       NEAR BAY|\n",
      "|  -122.25|   37.85|              52.0|     1627.0|         280.0|     565.0|     259.0|       3.8462|          342200.0|       NEAR BAY|\n",
      "|  -122.25|   37.85|              52.0|      919.0|         213.0|     413.0|     193.0|       4.0368|          269700.0|       NEAR BAY|\n",
      "|  -122.25|   37.84|              52.0|     2535.0|         489.0|    1094.0|     514.0|       3.6591|          299200.0|       NEAR BAY|\n",
      "|  -122.25|   37.84|              52.0|     3104.0|         687.0|    1157.0|     647.0|         3.12|          241400.0|       NEAR BAY|\n",
      "|  -122.26|   37.84|              42.0|     2555.0|         665.0|    1206.0|     595.0|       2.0804|          226700.0|       NEAR BAY|\n",
      "|  -122.25|   37.84|              52.0|     3549.0|         707.0|    1551.0|     714.0|       3.6912|          261100.0|       NEAR BAY|\n",
      "|  -122.26|   37.85|              52.0|     2202.0|         434.0|     910.0|     402.0|       3.2031|          281500.0|       NEAR BAY|\n",
      "|  -122.26|   37.85|              52.0|     3503.0|         752.0|    1504.0|     734.0|       3.2705|          241800.0|       NEAR BAY|\n",
      "|  -122.26|   37.85|              52.0|     2491.0|         474.0|    1098.0|     468.0|        3.075|          213500.0|       NEAR BAY|\n",
      "|  -122.26|   37.84|              52.0|      696.0|         191.0|     345.0|     174.0|       2.6736|          191300.0|       NEAR BAY|\n",
      "|  -122.26|   37.85|              52.0|     2643.0|         626.0|    1212.0|     620.0|       1.9167|          159200.0|       NEAR BAY|\n",
      "|  -122.26|   37.85|              50.0|     1120.0|         283.0|     697.0|     264.0|        2.125|          140000.0|       NEAR BAY|\n",
      "|  -122.27|   37.85|              52.0|     1966.0|         347.0|     793.0|     331.0|        2.775|          152500.0|       NEAR BAY|\n",
      "|  -122.27|   37.85|              52.0|     1228.0|         293.0|     648.0|     303.0|       2.1202|          155500.0|       NEAR BAY|\n",
      "|  -122.26|   37.84|              50.0|     2239.0|         455.0|     990.0|     419.0|       1.9911|          158700.0|       NEAR BAY|\n",
      "+---------+--------+------------------+-----------+--------------+----------+----------+-------------+------------------+---------------+\n",
      "only showing top 20 rows\n",
      "\n"
     ]
    }
   ],
   "source": [
    "df3_1.printSchema()\n",
    "df3_1.show()"
   ],
   "metadata": {
    "collapsed": false,
    "pycharm": {
     "name": "#%%\n"
    }
   }
  },
  {
   "cell_type": "code",
   "execution_count": 18,
   "outputs": [],
   "source": [
    "df4_1 = spark.read.format('json')\\\n",
    "    .load('../data/score_list.jsons')"
   ],
   "metadata": {
    "collapsed": false,
    "pycharm": {
     "name": "#%%\n"
    }
   }
  },
  {
   "cell_type": "code",
   "execution_count": 19,
   "outputs": [
    {
     "name": "stdout",
     "output_type": "stream",
     "text": [
      "+-----+--------+--------+-----+\n",
      "|grade|    name| subject| year|\n",
      "+-----+--------+--------+-----+\n",
      "|   92| Michael| Chinese| 2020|\n",
      "|   87|    Andy| Chinese| 2020|\n",
      "|   75|  Justin| Chinese| 2020|\n",
      "|   62|   Berta| Chinese| 2020|\n",
      "|   96| Michael|    math| 2020|\n",
      "|   98|    Andy|    math| 2020|\n",
      "|   78|  Justin|    math| 2020|\n",
      "|   87|   Berta|    math| 2020|\n",
      "|   87| Michael| Chinese| 2019|\n",
      "|   90|    Andy| Chinese| 2019|\n",
      "|   76|  Justin| Chinese| 2019|\n",
      "|   74|   Berta| Chinese| 2019|\n",
      "|   68| Michael|    math| 2019|\n",
      "|   95|    Andy|    math| 2019|\n",
      "|   87|  Justin|    math| 2019|\n",
      "|   81|   Berta|    math| 2019|\n",
      "|   95| Michael| Chinese| 2018|\n",
      "|   91|    Andy| Chinese| 2018|\n",
      "|   85|  Justin| Chinese| 2018|\n",
      "|   77|   Berta| Chinese| 2018|\n",
      "+-----+--------+--------+-----+\n",
      "only showing top 20 rows\n",
      "\n"
     ]
    }
   ],
   "source": [
    "df4_1.show()"
   ],
   "metadata": {
    "collapsed": false,
    "pycharm": {
     "name": "#%%\n"
    }
   }
  },
  {
   "cell_type": "code",
   "execution_count": 33,
   "outputs": [
    {
     "name": "stdout",
     "output_type": "stream",
     "text": [
      "+--------+--------+-----------------+\n",
      "|    name| subject|       avg(grade)|\n",
      "+--------+--------+-----------------+\n",
      "|    Andy|    math|97.33333333333333|\n",
      "|  Justin|    math|81.33333333333333|\n",
      "| Michael|    math|75.66666666666667|\n",
      "|    Andy| Chinese|89.33333333333333|\n",
      "|  Justin| Chinese|78.66666666666667|\n",
      "|   Berta|    math|84.33333333333333|\n",
      "| Michael| Chinese|91.33333333333333|\n",
      "|   Berta| Chinese|             71.0|\n",
      "+--------+--------+-----------------+\n",
      "\n"
     ]
    }
   ],
   "source": [
    "df4_1.groupBy(\"name\",\"subject\").avg(\"grade\").show()"
   ],
   "metadata": {
    "collapsed": false,
    "pycharm": {
     "name": "#%%\n"
    }
   }
  },
  {
   "cell_type": "code",
   "execution_count": 31,
   "outputs": [
    {
     "name": "stdout",
     "output_type": "stream",
     "text": [
      "+--------+-----------------+-----------------+\n",
      "|    name|          Chinese|             math|\n",
      "+--------+-----------------+-----------------+\n",
      "|  Justin|78.66666666666667|81.33333333333333|\n",
      "|   Berta|             71.0|84.33333333333333|\n",
      "| Michael|91.33333333333333|75.66666666666667|\n",
      "|    Andy|89.33333333333333|97.33333333333333|\n",
      "+--------+-----------------+-----------------+\n",
      "\n"
     ]
    }
   ],
   "source": [
    "df4_1.groupBy(\"name\").pivot(\"subject\").avg(\"grade\").show()"
   ],
   "metadata": {
    "collapsed": false,
    "pycharm": {
     "name": "#%%\n"
    }
   }
  },
  {
   "cell_type": "code",
   "execution_count": 35,
   "outputs": [
    {
     "name": "stdout",
     "output_type": "stream",
     "text": [
      "+--------+\n",
      "|    name|\n",
      "+--------+\n",
      "| Michael|\n",
      "|    Andy|\n",
      "|  Justin|\n",
      "|   Berta|\n",
      "| Michael|\n",
      "|    Andy|\n",
      "|  Justin|\n",
      "|   Berta|\n",
      "| Michael|\n",
      "|    Andy|\n",
      "|  Justin|\n",
      "|   Berta|\n",
      "| Michael|\n",
      "|    Andy|\n",
      "|  Justin|\n",
      "|   Berta|\n",
      "| Michael|\n",
      "|    Andy|\n",
      "|  Justin|\n",
      "|   Berta|\n",
      "+--------+\n",
      "only showing top 20 rows\n",
      "\n"
     ]
    }
   ],
   "source": [
    "df4_1.select(\"name\").show()"
   ],
   "metadata": {
    "collapsed": false,
    "pycharm": {
     "name": "#%%\n"
    }
   }
  },
  {
   "cell_type": "code",
   "execution_count": 42,
   "outputs": [
    {
     "name": "stdout",
     "output_type": "stream",
     "text": [
      "+--------+-----+\n",
      "|    name|grade|\n",
      "+--------+-----+\n",
      "| Michael|   92|\n",
      "|    Andy|   87|\n",
      "|  Justin|   75|\n",
      "|   Berta|   62|\n",
      "| Michael|   96|\n",
      "|    Andy|   98|\n",
      "|  Justin|   78|\n",
      "|   Berta|   87|\n",
      "| Michael|   87|\n",
      "|    Andy|   90|\n",
      "|  Justin|   76|\n",
      "|   Berta|   74|\n",
      "| Michael|   68|\n",
      "|    Andy|   95|\n",
      "|  Justin|   87|\n",
      "|   Berta|   81|\n",
      "| Michael|   95|\n",
      "|    Andy|   91|\n",
      "|  Justin|   85|\n",
      "|   Berta|   77|\n",
      "+--------+-----+\n",
      "only showing top 20 rows\n",
      "\n"
     ]
    }
   ],
   "source": [
    "df4_1.select(\"name\", \"grade\").show()"
   ],
   "metadata": {
    "collapsed": false,
    "pycharm": {
     "name": "#%%\n"
    }
   }
  },
  {
   "cell_type": "code",
   "execution_count": 40,
   "outputs": [
    {
     "name": "stdout",
     "output_type": "stream",
     "text": [
      "+--------+-----------+\n",
      "|    name|(grade + 1)|\n",
      "+--------+-----------+\n",
      "| Michael|         93|\n",
      "|    Andy|         88|\n",
      "|  Justin|         76|\n",
      "|   Berta|         63|\n",
      "| Michael|         97|\n",
      "|    Andy|         99|\n",
      "|  Justin|         79|\n",
      "|   Berta|         88|\n",
      "| Michael|         88|\n",
      "|    Andy|         91|\n",
      "|  Justin|         77|\n",
      "|   Berta|         75|\n",
      "| Michael|         69|\n",
      "|    Andy|         96|\n",
      "|  Justin|         88|\n",
      "|   Berta|         82|\n",
      "| Michael|         96|\n",
      "|    Andy|         92|\n",
      "|  Justin|         86|\n",
      "|   Berta|         78|\n",
      "+--------+-----------+\n",
      "only showing top 20 rows\n",
      "\n",
      "+--------+-----+\n",
      "|    name|grade|\n",
      "+--------+-----+\n",
      "| Michael|   92|\n",
      "|    Andy|   87|\n",
      "|  Justin|   75|\n",
      "|   Berta|   62|\n",
      "| Michael|   96|\n",
      "|    Andy|   98|\n",
      "|  Justin|   78|\n",
      "|   Berta|   87|\n",
      "| Michael|   87|\n",
      "|    Andy|   90|\n",
      "|  Justin|   76|\n",
      "|   Berta|   74|\n",
      "| Michael|   68|\n",
      "|    Andy|   95|\n",
      "|  Justin|   87|\n",
      "|   Berta|   81|\n",
      "| Michael|   95|\n",
      "|    Andy|   91|\n",
      "|  Justin|   85|\n",
      "|   Berta|   77|\n",
      "+--------+-----+\n",
      "only showing top 20 rows\n",
      "\n"
     ]
    }
   ],
   "source": [
    "df4_1.select(\"name\", df4_1[\"grade\"] + 1).show()"
   ],
   "metadata": {
    "collapsed": false,
    "pycharm": {
     "name": "#%%\n"
    }
   }
  },
  {
   "cell_type": "code",
   "execution_count": 50,
   "outputs": [
    {
     "name": "stdout",
     "output_type": "stream",
     "text": [
      "+-----+--------+--------+-----+\n",
      "|grade|    name| subject| year|\n",
      "+-----+--------+--------+-----+\n",
      "|   92| Michael| Chinese| 2020|\n",
      "|   96| Michael|    math| 2020|\n",
      "|   98|    Andy|    math| 2020|\n",
      "|   95|    Andy|    math| 2019|\n",
      "|   95| Michael| Chinese| 2018|\n",
      "|   91|    Andy| Chinese| 2018|\n",
      "|   99|    Andy|    math| 2018|\n",
      "+-----+--------+--------+-----+\n",
      "\n"
     ]
    }
   ],
   "source": [
    "df4_1.filter(df4_1['grade'] > 90).show()"
   ],
   "metadata": {
    "collapsed": false,
    "pycharm": {
     "name": "#%%\n"
    }
   }
  },
  {
   "cell_type": "code",
   "execution_count": 53,
   "outputs": [
    {
     "name": "stdout",
     "output_type": "stream",
     "text": [
      "+-----+-----+\n",
      "|grade|count|\n",
      "+-----+-----+\n",
      "|   77|    1|\n",
      "|   98|    1|\n",
      "|   95|    2|\n",
      "|   68|    1|\n",
      "|   87|    4|\n",
      "|   63|    1|\n",
      "|   79|    1|\n",
      "|   96|    1|\n",
      "|   85|    2|\n",
      "|   74|    1|\n",
      "|   62|    1|\n",
      "|   76|    1|\n",
      "|   92|    1|\n",
      "|   75|    1|\n",
      "|   78|    1|\n",
      "|   81|    1|\n",
      "|   90|    1|\n",
      "|   99|    1|\n",
      "|   91|    1|\n",
      "+-----+-----+\n",
      "\n"
     ]
    }
   ],
   "source": [
    "df4_1.groupBy(\"grade\").count().show()"
   ],
   "metadata": {
    "collapsed": false,
    "pycharm": {
     "name": "#%%\n"
    }
   }
  },
  {
   "cell_type": "code",
   "execution_count": 56,
   "outputs": [
    {
     "data": {
      "text/plain": "Row(grade=92, name=' Michael', subject=' Chinese', year=' 2020')"
     },
     "execution_count": 56,
     "metadata": {},
     "output_type": "execute_result"
    }
   ],
   "source": [
    "df4_1.collect()[0]"
   ],
   "metadata": {
    "collapsed": false,
    "pycharm": {
     "name": "#%%\n"
    }
   }
  },
  {
   "cell_type": "code",
   "execution_count": 57,
   "outputs": [
    {
     "data": {
      "text/plain": "['grade', 'name', 'subject', 'year']"
     },
     "execution_count": 57,
     "metadata": {},
     "output_type": "execute_result"
    }
   ],
   "source": [
    "df4_1.columns"
   ],
   "metadata": {
    "collapsed": false,
    "pycharm": {
     "name": "#%%\n"
    }
   }
  },
  {
   "cell_type": "code",
   "execution_count": 60,
   "outputs": [
    {
     "name": "stdout",
     "output_type": "stream",
     "text": [
      "+-------+------------------+--------+--------+-----------------+\n",
      "|summary|             grade|    name| subject|             year|\n",
      "+-------+------------------+--------+--------+-----------------+\n",
      "|  count|                24|      24|      24|               24|\n",
      "|   mean|            83.625|    null|    null|           2019.0|\n",
      "| stddev|10.499741197638697|    null|    null|0.834057656228437|\n",
      "|    min|                62|    Andy| Chinese|             2018|\n",
      "|    max|                99| Michael|    math|             2020|\n",
      "+-------+------------------+--------+--------+-----------------+\n",
      "\n"
     ]
    }
   ],
   "source": [
    "df4_1.describe().show()"
   ],
   "metadata": {
    "collapsed": false,
    "pycharm": {
     "name": "#%%\n"
    }
   }
  },
  {
   "cell_type": "code",
   "execution_count": 63,
   "outputs": [
    {
     "name": "stdout",
     "output_type": "stream",
     "text": [
      "+-------+------------------+\n",
      "|summary|             grade|\n",
      "+-------+------------------+\n",
      "|  count|                24|\n",
      "|   mean|            83.625|\n",
      "| stddev|10.499741197638697|\n",
      "|    min|                62|\n",
      "|    max|                99|\n",
      "+-------+------------------+\n",
      "\n"
     ]
    }
   ],
   "source": [
    "df4_1.describe('grade').show()"
   ],
   "metadata": {
    "collapsed": false,
    "pycharm": {
     "name": "#%%\n"
    }
   }
  },
  {
   "cell_type": "code",
   "execution_count": 66,
   "outputs": [
    {
     "name": "stdout",
     "output_type": "stream",
     "text": [
      "+-------+-----+\n",
      "|summary|grade|\n",
      "+-------+-----+\n",
      "|    max|   99|\n",
      "+-------+-----+\n",
      "\n"
     ]
    }
   ],
   "source": [
    "df4_2 = df4_1.describe('grade')\n",
    "df4_2.filter(df4_2[\"summary\"] == \"max\").show()"
   ],
   "metadata": {
    "collapsed": false,
    "pycharm": {
     "name": "#%%\n"
    }
   }
  },
  {
   "cell_type": "code",
   "execution_count": 79,
   "outputs": [
    {
     "name": "stdout",
     "output_type": "stream",
     "text": [
      "+-------+-----+\n",
      "|summary|grade|\n",
      "+-------+-----+\n",
      "|    max|   99|\n",
      "+-------+-----+\n",
      "\n"
     ]
    }
   ],
   "source": [
    "# filter 参数可以传入一个字符串\n",
    "df4_2.filter(\"summary = 'max' \").show()"
   ],
   "metadata": {
    "collapsed": false,
    "pycharm": {
     "name": "#%%\n"
    }
   }
  },
  {
   "cell_type": "code",
   "source": [
    "df4_1.first()"
   ],
   "metadata": {
    "collapsed": false,
    "pycharm": {
     "name": "#%%\n"
    }
   },
   "execution_count": 68,
   "outputs": [
    {
     "data": {
      "text/plain": "Row(grade=92, name=' Michael', subject=' Chinese', year=' 2020')"
     },
     "execution_count": 68,
     "metadata": {},
     "output_type": "execute_result"
    }
   ]
  },
  {
   "cell_type": "code",
   "execution_count": 72,
   "outputs": [
    {
     "data": {
      "text/plain": "Row(grade=92, name=' Michael', subject=' Chinese', year=' 2020')"
     },
     "execution_count": 72,
     "metadata": {},
     "output_type": "execute_result"
    }
   ],
   "source": [
    "# 默认一行\n",
    "df4_1.head()"
   ],
   "metadata": {
    "collapsed": false,
    "pycharm": {
     "name": "#%%\n"
    }
   }
  },
  {
   "cell_type": "code",
   "execution_count": 74,
   "outputs": [
    {
     "data": {
      "text/plain": "[Row(grade=92, name=' Michael', subject=' Chinese', year=' 2020'),\n Row(grade=87, name=' Andy', subject=' Chinese', year=' 2020')]"
     },
     "execution_count": 74,
     "metadata": {},
     "output_type": "execute_result"
    }
   ],
   "source": [
    "# 获取前n行记录\n",
    "df4_1.take(2)"
   ],
   "metadata": {
    "collapsed": false,
    "pycharm": {
     "name": "#%%\n"
    }
   }
  },
  {
   "cell_type": "code",
   "execution_count": 92,
   "outputs": [
    {
     "name": "stdout",
     "output_type": "stream",
     "text": [
      "+-----+--------+--------+-----+\n",
      "|grade|    name| subject| year|\n",
      "+-----+--------+--------+-----+\n",
      "|   92| Michael| Chinese| 2020|\n",
      "|   87|    Andy| Chinese| 2020|\n",
      "|   75|  Justin| Chinese| 2020|\n",
      "|   62|   Berta| Chinese| 2020|\n",
      "|   96| Michael|    math| 2020|\n",
      "|   98|    Andy|    math| 2020|\n",
      "+-----+--------+--------+-----+\n",
      "only showing top 6 rows\n",
      "\n"
     ]
    }
   ],
   "source": [
    "df4_1.filter(\"subject = 'math' or grade > 60\").show(6)"
   ],
   "metadata": {
    "collapsed": false,
    "pycharm": {
     "name": "#%%\n"
    }
   }
  },
  {
   "cell_type": "code",
   "execution_count": 110,
   "outputs": [
    {
     "name": "stdout",
     "output_type": "stream",
     "text": [
      "+-----+--------+-------+-----+\n",
      "|grade|    name|subject| year|\n",
      "+-----+--------+-------+-----+\n",
      "|   96| Michael|   math| 2020|\n",
      "|   98|    Andy|   math| 2020|\n",
      "|   78|  Justin|   math| 2020|\n",
      "|   87|   Berta|   math| 2020|\n",
      "|   68| Michael|   math| 2019|\n",
      "|   95|    Andy|   math| 2019|\n",
      "|   87|  Justin|   math| 2019|\n",
      "|   81|   Berta|   math| 2019|\n",
      "|   63| Michael|   math| 2018|\n",
      "|   99|    Andy|   math| 2018|\n",
      "|   79|  Justin|   math| 2018|\n",
      "|   85|   Berta|   math| 2018|\n",
      "+-----+--------+-------+-----+\n",
      "\n"
     ]
    }
   ],
   "source": [
    "# math前面有个空格\n",
    "df4_1.filter(\"subject = ' math' and grade > 60\").show()"
   ],
   "metadata": {
    "collapsed": false,
    "pycharm": {
     "name": "#%%\n"
    }
   }
  },
  {
   "cell_type": "code",
   "execution_count": 111,
   "outputs": [
    {
     "name": "stdout",
     "output_type": "stream",
     "text": [
      "+-----+--------+--------+-----+\n",
      "|grade|    name| subject| year|\n",
      "+-----+--------+--------+-----+\n",
      "|   92| Michael| Chinese| 2020|\n",
      "|   87|    Andy| Chinese| 2020|\n",
      "|   75|  Justin| Chinese| 2020|\n",
      "|   62|   Berta| Chinese| 2020|\n",
      "|   87| Michael| Chinese| 2019|\n",
      "|   90|    Andy| Chinese| 2019|\n",
      "|   76|  Justin| Chinese| 2019|\n",
      "|   74|   Berta| Chinese| 2019|\n",
      "|   95| Michael| Chinese| 2018|\n",
      "|   91|    Andy| Chinese| 2018|\n",
      "|   85|  Justin| Chinese| 2018|\n",
      "|   77|   Berta| Chinese| 2018|\n",
      "+-----+--------+--------+-----+\n",
      "\n"
     ]
    }
   ],
   "source": [
    "df4_1.filter(df4_1['subject'] == \" Chinese\").show()"
   ],
   "metadata": {
    "collapsed": false,
    "pycharm": {
     "name": "#%%\n"
    }
   }
  },
  {
   "cell_type": "code",
   "execution_count": 108,
   "outputs": [
    {
     "name": "stdout",
     "output_type": "stream",
     "text": [
      "+-----+--------+--------+-----+\n",
      "|grade|    name| subject| year|\n",
      "+-----+--------+--------+-----+\n",
      "|   92| Michael| Chinese| 2020|\n",
      "|   87|    Andy| Chinese| 2020|\n",
      "|   75|  Justin| Chinese| 2020|\n",
      "|   62|   Berta| Chinese| 2020|\n",
      "|   87| Michael| Chinese| 2019|\n",
      "|   90|    Andy| Chinese| 2019|\n",
      "|   76|  Justin| Chinese| 2019|\n",
      "|   74|   Berta| Chinese| 2019|\n",
      "|   95| Michael| Chinese| 2018|\n",
      "|   91|    Andy| Chinese| 2018|\n",
      "|   85|  Justin| Chinese| 2018|\n",
      "|   77|   Berta| Chinese| 2018|\n",
      "+-----+--------+--------+-----+\n",
      "\n"
     ]
    }
   ],
   "source": [
    "df4_1.filter(\"subject=' Chinese'\").show()"
   ],
   "metadata": {
    "collapsed": false,
    "pycharm": {
     "name": "#%%\n"
    }
   }
  },
  {
   "cell_type": "code",
   "execution_count": 113,
   "outputs": [
    {
     "name": "stdout",
     "output_type": "stream",
     "text": [
      "+--------+-----+\n",
      "|    name|grade|\n",
      "+--------+-----+\n",
      "| Michael|   92|\n",
      "|    Andy|   87|\n",
      "|  Justin|   75|\n",
      "+--------+-----+\n",
      "only showing top 3 rows\n",
      "\n"
     ]
    }
   ],
   "source": [
    "df4_1.select(\"name\", \"grade\").show(3)"
   ],
   "metadata": {
    "collapsed": false,
    "pycharm": {
     "name": "#%%\n"
    }
   }
  },
  {
   "cell_type": "code",
   "execution_count": 208,
   "outputs": [
    {
     "ename": "TypeError",
     "evalue": "can only concatenate str (not \"int\") to str",
     "output_type": "error",
     "traceback": [
      "\u001B[1;31m---------------------------------------------------------------------------\u001B[0m",
      "\u001B[1;31mTypeError\u001B[0m                                 Traceback (most recent call last)",
      "\u001B[1;32m<ipython-input-208-c58c7bacccfd>\u001B[0m in \u001B[0;36m<module>\u001B[1;34m\u001B[0m\n\u001B[1;32m----> 1\u001B[1;33m \u001B[0mdf4_1\u001B[0m\u001B[1;33m.\u001B[0m\u001B[0mselect\u001B[0m\u001B[1;33m(\u001B[0m\u001B[1;34m'%grade'\u001B[0m \u001B[1;33m+\u001B[0m \u001B[1;36m10\u001B[0m\u001B[1;33m)\u001B[0m\u001B[1;33m.\u001B[0m\u001B[0mshow\u001B[0m\u001B[1;33m(\u001B[0m\u001B[1;36m2\u001B[0m\u001B[1;33m)\u001B[0m\u001B[1;33m\u001B[0m\u001B[1;33m\u001B[0m\u001B[0m\n\u001B[0m",
      "\u001B[1;31mTypeError\u001B[0m: can only concatenate str (not \"int\") to str"
     ]
    }
   ],
   "source": [
    "# df4_1.select($'grade' + 10).show(2)\n",
    "df4_1.select(df4_1.grade + 10).show(2)"
   ],
   "metadata": {
    "collapsed": false,
    "pycharm": {
     "name": "#%%\n"
    }
   }
  },
  {
   "cell_type": "code",
   "execution_count": 116,
   "outputs": [
    {
     "name": "stdout",
     "output_type": "stream",
     "text": [
      "+-----+--------+-----+\n",
      "|grade| subject| year|\n",
      "+-----+--------+-----+\n",
      "|   92| Chinese| 2020|\n",
      "|   87| Chinese| 2020|\n",
      "|   75| Chinese| 2020|\n",
      "|   62| Chinese| 2020|\n",
      "|   96|    math| 2020|\n",
      "|   98|    math| 2020|\n",
      "|   78|    math| 2020|\n",
      "|   87|    math| 2020|\n",
      "|   87| Chinese| 2019|\n",
      "|   90| Chinese| 2019|\n",
      "|   76| Chinese| 2019|\n",
      "|   74| Chinese| 2019|\n",
      "|   68|    math| 2019|\n",
      "|   95|    math| 2019|\n",
      "|   87|    math| 2019|\n",
      "|   81|    math| 2019|\n",
      "|   95| Chinese| 2018|\n",
      "|   91| Chinese| 2018|\n",
      "|   85| Chinese| 2018|\n",
      "|   77| Chinese| 2018|\n",
      "+-----+--------+-----+\n",
      "only showing top 20 rows\n",
      "\n"
     ]
    }
   ],
   "source": [
    "# 返回一个新的DataFrame\n",
    "df4_1.drop(\"name\").show()"
   ],
   "metadata": {
    "collapsed": false,
    "pycharm": {
     "name": "#%%\n"
    }
   }
  },
  {
   "cell_type": "code",
   "execution_count": 120,
   "outputs": [
    {
     "name": "stdout",
     "output_type": "stream",
     "text": [
      "+-----+--------+--------+-----+\n",
      "|grade|    name| subject| year|\n",
      "+-----+--------+--------+-----+\n",
      "|   92| Michael| Chinese| 2020|\n",
      "|   87|    Andy| Chinese| 2020|\n",
      "+-----+--------+--------+-----+\n",
      "\n"
     ]
    }
   ],
   "source": [
    "# limit 和 head不同，limit不是一个行动算子\n",
    "df4_1.limit(2).show()"
   ],
   "metadata": {
    "collapsed": false,
    "pycharm": {
     "name": "#%%\n"
    }
   }
  },
  {
   "cell_type": "code",
   "execution_count": 122,
   "outputs": [
    {
     "name": "stdout",
     "output_type": "stream",
     "text": [
      "+-----+--------+--------+-----+\n",
      "|grade|    name| subject| year|\n",
      "+-----+--------+--------+-----+\n",
      "|   62|   Berta| Chinese| 2020|\n",
      "|   63| Michael|    math| 2018|\n",
      "|   68| Michael|    math| 2019|\n",
      "|   74|   Berta| Chinese| 2019|\n",
      "|   75|  Justin| Chinese| 2020|\n",
      "|   76|  Justin| Chinese| 2019|\n",
      "|   77|   Berta| Chinese| 2018|\n",
      "|   78|  Justin|    math| 2020|\n",
      "|   79|  Justin|    math| 2018|\n",
      "|   81|   Berta|    math| 2019|\n",
      "|   85|   Berta|    math| 2018|\n",
      "|   85|  Justin| Chinese| 2018|\n",
      "|   87|   Berta|    math| 2020|\n",
      "|   87| Michael| Chinese| 2019|\n",
      "|   87|    Andy| Chinese| 2020|\n",
      "|   87|  Justin|    math| 2019|\n",
      "|   90|    Andy| Chinese| 2019|\n",
      "|   91|    Andy| Chinese| 2018|\n",
      "|   92| Michael| Chinese| 2020|\n",
      "|   95|    Andy|    math| 2019|\n",
      "+-----+--------+--------+-----+\n",
      "only showing top 20 rows\n",
      "\n"
     ]
    }
   ],
   "source": [
    "df4_1.orderBy(\"grade\").show()"
   ],
   "metadata": {
    "collapsed": false,
    "pycharm": {
     "name": "#%%\n"
    }
   }
  },
  {
   "cell_type": "code",
   "execution_count": 123,
   "outputs": [
    {
     "name": "stdout",
     "output_type": "stream",
     "text": [
      "+-----+--------+--------+-----+\n",
      "|grade|    name| subject| year|\n",
      "+-----+--------+--------+-----+\n",
      "|   99|    Andy|    math| 2018|\n",
      "|   98|    Andy|    math| 2020|\n",
      "|   96| Michael|    math| 2020|\n",
      "|   95|    Andy|    math| 2019|\n",
      "|   95| Michael| Chinese| 2018|\n",
      "|   92| Michael| Chinese| 2020|\n",
      "|   91|    Andy| Chinese| 2018|\n",
      "|   90|    Andy| Chinese| 2019|\n",
      "|   87|  Justin|    math| 2019|\n",
      "|   87|   Berta|    math| 2020|\n",
      "|   87|    Andy| Chinese| 2020|\n",
      "|   87| Michael| Chinese| 2019|\n",
      "|   85|  Justin| Chinese| 2018|\n",
      "|   85|   Berta|    math| 2018|\n",
      "|   81|   Berta|    math| 2019|\n",
      "|   79|  Justin|    math| 2018|\n",
      "|   78|  Justin|    math| 2020|\n",
      "|   77|   Berta| Chinese| 2018|\n",
      "|   76|  Justin| Chinese| 2019|\n",
      "|   75|  Justin| Chinese| 2020|\n",
      "+-----+--------+--------+-----+\n",
      "only showing top 20 rows\n",
      "\n"
     ]
    }
   ],
   "source": [
    "df4_1.orderBy(df4_1[\"grade\"].desc()).show()"
   ],
   "metadata": {
    "collapsed": false,
    "pycharm": {
     "name": "#%%\n"
    }
   }
  },
  {
   "cell_type": "code",
   "execution_count": 124,
   "outputs": [
    {
     "name": "stdout",
     "output_type": "stream",
     "text": [
      "+-----+--------+--------+-----+\n",
      "|grade|    name| subject| year|\n",
      "+-----+--------+--------+-----+\n",
      "|   99|    Andy|    math| 2018|\n",
      "|   98|    Andy|    math| 2020|\n",
      "|   96| Michael|    math| 2020|\n",
      "|   95|    Andy|    math| 2019|\n",
      "|   95| Michael| Chinese| 2018|\n",
      "|   92| Michael| Chinese| 2020|\n",
      "|   91|    Andy| Chinese| 2018|\n",
      "|   90|    Andy| Chinese| 2019|\n",
      "|   87|  Justin|    math| 2019|\n",
      "|   87|   Berta|    math| 2020|\n",
      "|   87|    Andy| Chinese| 2020|\n",
      "|   87| Michael| Chinese| 2019|\n",
      "|   85|  Justin| Chinese| 2018|\n",
      "|   85|   Berta|    math| 2018|\n",
      "|   81|   Berta|    math| 2019|\n",
      "|   79|  Justin|    math| 2018|\n",
      "|   78|  Justin|    math| 2020|\n",
      "|   77|   Berta| Chinese| 2018|\n",
      "|   76|  Justin| Chinese| 2019|\n",
      "|   75|  Justin| Chinese| 2020|\n",
      "+-----+--------+--------+-----+\n",
      "only showing top 20 rows\n",
      "\n"
     ]
    }
   ],
   "source": [
    "df4_1.orderBy(- df4_1[\"grade\"]).show()"
   ],
   "metadata": {
    "collapsed": false,
    "pycharm": {
     "name": "#%%\n"
    }
   }
  },
  {
   "cell_type": "code",
   "execution_count": 128,
   "outputs": [
    {
     "name": "stdout",
     "output_type": "stream",
     "text": [
      "+--------+-----+--------+-----+-----+--------+-----+\n",
      "|    name|grade| subject| year|grade| subject| year|\n",
      "+--------+-----+--------+-----+-----+--------+-----+\n",
      "| Michael|   92| Chinese| 2020|   63|    math| 2018|\n",
      "| Michael|   92| Chinese| 2020|   95| Chinese| 2018|\n",
      "| Michael|   92| Chinese| 2020|   68|    math| 2019|\n",
      "| Michael|   92| Chinese| 2020|   87| Chinese| 2019|\n",
      "| Michael|   92| Chinese| 2020|   96|    math| 2020|\n",
      "| Michael|   92| Chinese| 2020|   92| Chinese| 2020|\n",
      "|    Andy|   87| Chinese| 2020|   99|    math| 2018|\n",
      "|    Andy|   87| Chinese| 2020|   91| Chinese| 2018|\n",
      "|    Andy|   87| Chinese| 2020|   95|    math| 2019|\n",
      "|    Andy|   87| Chinese| 2020|   90| Chinese| 2019|\n",
      "|    Andy|   87| Chinese| 2020|   98|    math| 2020|\n",
      "|    Andy|   87| Chinese| 2020|   87| Chinese| 2020|\n",
      "|  Justin|   75| Chinese| 2020|   79|    math| 2018|\n",
      "|  Justin|   75| Chinese| 2020|   85| Chinese| 2018|\n",
      "|  Justin|   75| Chinese| 2020|   87|    math| 2019|\n",
      "|  Justin|   75| Chinese| 2020|   76| Chinese| 2019|\n",
      "|  Justin|   75| Chinese| 2020|   78|    math| 2020|\n",
      "|  Justin|   75| Chinese| 2020|   75| Chinese| 2020|\n",
      "|   Berta|   62| Chinese| 2020|   85|    math| 2018|\n",
      "|   Berta|   62| Chinese| 2020|   77| Chinese| 2018|\n",
      "+--------+-----+--------+-----+-----+--------+-----+\n",
      "only showing top 20 rows\n",
      "\n"
     ]
    }
   ],
   "source": [
    "df4_1.join(df3_1, 'name').show()"
   ],
   "metadata": {
    "collapsed": false,
    "pycharm": {
     "name": "#%%\n"
    }
   }
  },
  {
   "cell_type": "code",
   "execution_count": 130,
   "outputs": [
    {
     "name": "stdout",
     "output_type": "stream",
     "text": [
      "+--------+-----+--------+-----+-----+--------+-----+\n",
      "|    name|grade| subject| year|grade| subject| year|\n",
      "+--------+-----+--------+-----+-----+--------+-----+\n",
      "| Michael|   92| Chinese| 2020|   63|    math| 2018|\n",
      "| Michael|   92| Chinese| 2020|   95| Chinese| 2018|\n",
      "| Michael|   92| Chinese| 2020|   68|    math| 2019|\n",
      "| Michael|   92| Chinese| 2020|   87| Chinese| 2019|\n",
      "| Michael|   92| Chinese| 2020|   96|    math| 2020|\n",
      "| Michael|   92| Chinese| 2020|   92| Chinese| 2020|\n",
      "|    Andy|   87| Chinese| 2020|   99|    math| 2018|\n",
      "|    Andy|   87| Chinese| 2020|   91| Chinese| 2018|\n",
      "|    Andy|   87| Chinese| 2020|   95|    math| 2019|\n",
      "|    Andy|   87| Chinese| 2020|   90| Chinese| 2019|\n",
      "|    Andy|   87| Chinese| 2020|   98|    math| 2020|\n",
      "|    Andy|   87| Chinese| 2020|   87| Chinese| 2020|\n",
      "|  Justin|   75| Chinese| 2020|   79|    math| 2018|\n",
      "|  Justin|   75| Chinese| 2020|   85| Chinese| 2018|\n",
      "|  Justin|   75| Chinese| 2020|   87|    math| 2019|\n",
      "|  Justin|   75| Chinese| 2020|   76| Chinese| 2019|\n",
      "|  Justin|   75| Chinese| 2020|   78|    math| 2020|\n",
      "|  Justin|   75| Chinese| 2020|   75| Chinese| 2020|\n",
      "|   Berta|   62| Chinese| 2020|   85|    math| 2018|\n",
      "|   Berta|   62| Chinese| 2020|   77| Chinese| 2018|\n",
      "+--------+-----+--------+-----+-----+--------+-----+\n",
      "only showing top 20 rows\n",
      "\n"
     ]
    }
   ],
   "source": [
    "df4_1.join(df3_1, 'name', \"inner\").show()"
   ],
   "metadata": {
    "collapsed": false,
    "pycharm": {
     "name": "#%%\n"
    }
   }
  },
  {
   "cell_type": "code",
   "execution_count": 196,
   "outputs": [],
   "source": [
    "df4_2 = df4_1.describe(\"grade\")\n",
    "res = df4_2.filter(\"summary='mean'\").select(\"grade\")"
   ],
   "metadata": {
    "collapsed": false,
    "pycharm": {
     "name": "#%%\n"
    }
   }
  },
  {
   "cell_type": "code",
   "execution_count": 204,
   "outputs": [
    {
     "name": "stdout",
     "output_type": "stream",
     "text": [
      "+------+\n",
      "| grade|\n",
      "+------+\n",
      "|83.625|\n",
      "+------+\n",
      "\n"
     ]
    }
   ],
   "source": [
    "res.show()"
   ],
   "metadata": {
    "collapsed": false,
    "pycharm": {
     "name": "#%%\n"
    }
   }
  },
  {
   "cell_type": "code",
   "execution_count": 205,
   "outputs": [],
   "source": [
    "sum_res = df4_1.select(\"grade\").count() * 83.625"
   ],
   "metadata": {
    "collapsed": false,
    "pycharm": {
     "name": "#%%\n"
    }
   }
  },
  {
   "cell_type": "code",
   "execution_count": 206,
   "outputs": [
    {
     "name": "stdout",
     "output_type": "stream",
     "text": [
      "+-----+--------+--------+-----+--------------------+\n",
      "|grade|    name| subject| year|          proportion|\n",
      "+-----+--------+--------+-----+--------------------+\n",
      "|   92| Michael| Chinese| 2020|  0.0458395615346288|\n",
      "|   87|    Andy| Chinese| 2020|0.043348281016442454|\n",
      "|   75|  Justin| Chinese| 2020| 0.03736920777279522|\n",
      "|   62|   Berta| Chinese| 2020| 0.03089187842551071|\n",
      "|   96| Michael|    math| 2020| 0.04783258594917788|\n",
      "|   98|    Andy|    math| 2020|0.048829098156452415|\n",
      "|   78|  Justin|    math| 2020| 0.03886397608370702|\n",
      "|   87|   Berta|    math| 2020|0.043348281016442454|\n",
      "|   87| Michael| Chinese| 2019|0.043348281016442454|\n",
      "|   90|    Andy| Chinese| 2019| 0.04484304932735426|\n",
      "|   76|  Justin| Chinese| 2019|0.037867463876432486|\n",
      "|   74|   Berta| Chinese| 2019| 0.03687095166915795|\n",
      "|   68| Michael|    math| 2019| 0.03388141504733433|\n",
      "|   95|    Andy|    math| 2019| 0.04733432984554061|\n",
      "|   87|  Justin|    math| 2019|0.043348281016442454|\n",
      "|   81|   Berta|    math| 2019| 0.04035874439461883|\n",
      "|   95| Michael| Chinese| 2018| 0.04733432984554061|\n",
      "|   91|    Andy| Chinese| 2018| 0.04534130543099153|\n",
      "|   85|  Justin| Chinese| 2018| 0.04235176880916791|\n",
      "|   77|   Berta| Chinese| 2018|0.038365719980069754|\n",
      "+-----+--------+--------+-----+--------------------+\n",
      "only showing top 20 rows\n",
      "\n"
     ]
    }
   ],
   "source": [
    "\n",
    "from  pyspark.sql.functions import when, lit, col\n",
    "df4_1.withColumn(\"proportion\", col(\"grade\")/ sum_res).show()"
   ],
   "metadata": {
    "collapsed": false,
    "pycharm": {
     "name": "#%%\n"
    }
   }
  },
  {
   "cell_type": "code",
   "execution_count": 191,
   "outputs": [
    {
     "name": "stdout",
     "output_type": "stream",
     "text": [
      "+-------+------------------+\n",
      "|summary|             grade|\n",
      "+-------+------------------+\n",
      "|  count|                24|\n",
      "|   mean|            83.625|\n",
      "| stddev|10.499741197638697|\n",
      "|    min|                62|\n",
      "|    max|                99|\n",
      "+-------+------------------+\n",
      "\n"
     ]
    }
   ],
   "source": [],
   "metadata": {
    "collapsed": false,
    "pycharm": {
     "name": "#%%\n"
    }
   }
  },
  {
   "cell_type": "code",
   "execution_count": null,
   "outputs": [],
   "source": [],
   "metadata": {
    "collapsed": false,
    "pycharm": {
     "name": "#%%\n"
    }
   }
  },
  {
   "cell_type": "code",
   "execution_count": null,
   "outputs": [],
   "source": [],
   "metadata": {
    "collapsed": false,
    "pycharm": {
     "name": "#%%\n"
    }
   }
  }
 ],
 "metadata": {
  "kernelspec": {
   "name": "conda-env-ml-py",
   "language": "python",
   "display_name": "Python [conda env:ml] *"
  },
  "language_info": {
   "codemirror_mode": {
    "name": "ipython",
    "version": 2
   },
   "file_extension": ".py",
   "mimetype": "text/x-python",
   "name": "python",
   "nbconvert_exporter": "python",
   "pygments_lexer": "ipython2",
   "version": "2.7.6"
  }
 },
 "nbformat": 4,
 "nbformat_minor": 0
}