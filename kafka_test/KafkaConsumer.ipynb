{
 "cells": [
  {
   "cell_type": "code",
   "execution_count": 1,
   "metadata": {
    "collapsed": true
   },
   "outputs": [],
   "source": [
    "from pyspark.sql import SparkSession\n",
    "\n",
    "# pip install pykafka\n",
    "\n",
    "# Kafka主题名称\n",
    "kafka_topic_name = \"songTopic\"\n",
    "# Kafka地址\n",
    "kafka_bootstrap_servers = \"node120:9092\"\n",
    "\n",
    "spark = SparkSession\\\n",
    "    .builder\\\n",
    "    .appName(\"streaming\")\\\n",
    "    .master(\"local[4]\")\\\n",
    "    .getOrCreate()\n",
    "spark.sparkContext.setLogLevel(\"ERROR\")"
   ]
  },
  {
   "cell_type": "code",
   "execution_count": 3,
   "outputs": [],
   "source": [
    "songs_df = spark\\\n",
    "    .readStream\\\n",
    "    .format(\"kafka\")\\\n",
    "    .option(\"kafka.bootstrap.servers\", kafka_bootstrap_servers)\\\n",
    "    .option(\"subscribe\", kafka_topic_name)\\\n",
    "    .option(\"startingOffsets\", \"latest\")\\\n",
    "    .load()"
   ],
   "metadata": {
    "collapsed": false,
    "pycharm": {
     "name": "#%%\n"
    }
   }
  },
  {
   "cell_type": "code",
   "execution_count": 8,
   "outputs": [],
   "source": [
    "from pyspark.sql.functions import col, from_csv\n",
    "\n",
    "songs_df1 = songs_df.selectExpr(\"CAST(value AS STRING)\", \"timestamp\")\n",
    "songs_schema_string = \"order_id INT, id STRING, name STRING, popularity INT, duration_ms DOUBLE, explicit INT, \"\\\n",
    "                      + \"artists STRING, id_artists STRING, release_date STRING, \"\\\n",
    "                      + \"danceability DOUBLE,\"\\\n",
    "                      + \"energy DOUBLE, key INT, loudness DOUBLE, \"\\\n",
    "                      + \"mode INT,\"\\\n",
    "                      + \"speechiness DOUBLE,\"\\\n",
    "                      + \"acousticness DOUBLE, instrumentalness DOUBLE, liveness DOUBLE, \"\\\n",
    "                      + \"valence DOUBLE, tempo DOUBLE, time_signature DOUBLE\"\n",
    "\n",
    "songs_df2 = songs_df1\\\n",
    "    .select(from_csv(col(\"value\"), songs_schema_string)\\\n",
    "    .alias(\"song\"), \"timestamp\")\n",
    "\n",
    "songs_df3 = songs_df2.select(\"song.*\", \"timestamp\")\n",
    "songs_df3.createOrReplaceTempView(\"song_find\")\n",
    "song_find_text = spark.sql(\"select count(1) from song_find\")"
   ],
   "metadata": {
    "collapsed": false,
    "pycharm": {
     "name": "#%%\n"
    }
   }
  },
  {
   "cell_type": "code",
   "execution_count": null,
   "outputs": [],
   "source": [
    "# 暂时先输入到控制台上\n",
    "songs_agg_write_stream = song_find_text\\\n",
    "    .writeStream\\\n",
    "    .trigger(processingTime=\"5 seconds\")\\\n",
    "    .outputMode(\"complete\")\\\n",
    "    .option(\"truncate\", \"false\")\\\n",
    "    .format(\"console\")\\\n",
    "    .start()  # truncate 截断\n",
    "\n",
    "songs_agg_write_stream.awaitTermination()"
   ],
   "metadata": {
    "collapsed": false,
    "pycharm": {
     "name": "#%%\n",
     "is_executing": true
    }
   }
  },
  {
   "cell_type": "code",
   "execution_count": null,
   "outputs": [],
   "source": [],
   "metadata": {
    "collapsed": false,
    "pycharm": {
     "name": "#%%\n"
    }
   }
  }
 ],
 "metadata": {
  "kernelspec": {
   "name": "ml",
   "language": "python",
   "display_name": "ml"
  },
  "language_info": {
   "codemirror_mode": {
    "name": "ipython",
    "version": 2
   },
   "file_extension": ".py",
   "mimetype": "text/x-python",
   "name": "python",
   "nbconvert_exporter": "python",
   "pygments_lexer": "ipython2",
   "version": "2.7.6"
  }
 },
 "nbformat": 4,
 "nbformat_minor": 0
}