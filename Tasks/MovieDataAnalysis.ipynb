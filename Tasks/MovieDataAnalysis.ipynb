{
 "cells": [
  {
   "cell_type": "markdown",
   "metadata": {
    "pycharm": {
     "name": "#%% md\n"
    }
   },
   "source": [
    "### 前言\n",
    "##### 任务要求\n",
    "![image-20220330184012189](https://s2.loli.net/2022/03/30/Iums7FZYVqPlnRi.png)"
   ]
  },
  {
   "cell_type": "markdown",
   "metadata": {
    "pycharm": {
     "name": "#%% md\n"
    }
   },
   "source": [
    "### 一、加载数据"
   ]
  },
  {
   "cell_type": "code",
   "execution_count": 2,
   "metadata": {
    "collapsed": true
   },
   "outputs": [],
   "source": [
    "import os\n",
    "from pyspark import SparkContext\n",
    "from pyspark.sql import SparkSession"
   ]
  },
  {
   "cell_type": "code",
   "execution_count": 3,
   "metadata": {
    "pycharm": {
     "name": "#%%\n"
    }
   },
   "outputs": [],
   "source": [
    "spark = SparkSession.builder.appName(\"MovieReviewAnalysis\").getOrCreate()"
   ]
  },
  {
   "cell_type": "markdown",
   "source": [
    "#### Data File Structure:\n",
    "##### Movies\n",
    "    MovieID::Title::Genres\n",
    "##### Ratings\n",
    "    UserID::MovieID::Rating::Timestamp\n",
    "##### Tags\n",
    "    UserID::MovieID::Tag::Timestamp"
   ],
   "metadata": {
    "collapsed": false,
    "pycharm": {
     "name": "#%% md\n"
    }
   }
  },
  {
   "cell_type": "code",
   "execution_count": 29,
   "metadata": {
    "pycharm": {
     "name": "#%%\n"
    }
   },
   "outputs": [],
   "source": [
    "root_path = \"D:\\\\大三下\\\\Big_Data_Application_Spark\\\\datasets\\\\ml-10M100K\"\n",
    "\n",
    "movies_path = os.path.join(root_path, \"movies.dat\")\n",
    "ratings_path = os.path.join(root_path, \"ratings.dat\")\n",
    "tags_path = os.path.join(root_path, \"tags.dat\")\n",
    "\n",
    "movies = spark.read\\\n",
    "    .format(\"csv\")\\\n",
    "    .option(\"sep\", \"::\")\\\n",
    "    .schema(\"_c0 Int, _c1 STRING, _c2 STRING\")\\\n",
    "    .load(movies_path)\\\n",
    "    .toDF(\"MovieID\", \"Title\", \"Genres\")\n",
    "\n",
    "\n",
    "# UserID Int MovieID Int Rating Int Timestamp STRING\n",
    "ratings = spark.read\\\n",
    "    .format(\"csv\")\\\n",
    "    .option(\"sep\", \"::\")\\\n",
    "    .schema(\"_c0 Int, _c1 Int, _c2 Float, _c3 STRING\")\\\n",
    "    .load(ratings_path)\\\n",
    "    .toDF(\"UserID\", \"MovieID\", \"Rating\", \"Timestamp\")\n",
    "\n",
    "tags = spark.read\\\n",
    "    .format(\"csv\")\\\n",
    "    .option(\"sep\", \"::\")\\\n",
    "    .schema(\"_c0 Int, _c1 Int, _c2 STRING, _c3 STRING\")\\\n",
    "    .load(tags_path)\\\n",
    "    .toDF(\"UserID\", \"MovieID\", \"Tag\", \"Timestamp\")"
   ]
  },
  {
   "cell_type": "code",
   "execution_count": 30,
   "outputs": [
    {
     "name": "stdout",
     "output_type": "stream",
     "text": [
      "+-------+--------------------+--------------------+\n",
      "|MovieID|               Title|              Genres|\n",
      "+-------+--------------------+--------------------+\n",
      "|      1|    Toy Story (1995)|Adventure|Animati...|\n",
      "|      2|      Jumanji (1995)|Adventure|Childre...|\n",
      "|      3|Grumpier Old Men ...|      Comedy|Romance|\n",
      "+-------+--------------------+--------------------+\n",
      "only showing top 3 rows\n",
      "\n",
      "+------+-------+------+---------+\n",
      "|UserID|MovieID|Rating|Timestamp|\n",
      "+------+-------+------+---------+\n",
      "|     1|    122|   5.0|838985046|\n",
      "|     1|    185|   5.0|838983525|\n",
      "|     1|    231|   5.0|838983392|\n",
      "+------+-------+------+---------+\n",
      "only showing top 3 rows\n",
      "\n",
      "+------+-------+----------+----------+\n",
      "|UserID|MovieID|       Tag| Timestamp|\n",
      "+------+-------+----------+----------+\n",
      "|    15|   4973|excellent!|1215184630|\n",
      "|    20|   1747|  politics|1188263867|\n",
      "|    20|   1747|    satire|1188263867|\n",
      "+------+-------+----------+----------+\n",
      "only showing top 3 rows\n",
      "\n"
     ]
    }
   ],
   "source": [
    "movies.show(3)\n",
    "ratings.show(3)\n",
    "tags.show(3)"
   ],
   "metadata": {
    "collapsed": false,
    "pycharm": {
     "name": "#%%\n"
    }
   }
  },
  {
   "cell_type": "code",
   "execution_count": 31,
   "outputs": [
    {
     "name": "stdout",
     "output_type": "stream",
     "text": [
      "root\n",
      " |-- MovieID: integer (nullable = true)\n",
      " |-- Title: string (nullable = true)\n",
      " |-- Genres: string (nullable = true)\n",
      "\n",
      "root\n",
      " |-- UserID: integer (nullable = true)\n",
      " |-- MovieID: integer (nullable = true)\n",
      " |-- Rating: float (nullable = true)\n",
      " |-- Timestamp: string (nullable = true)\n",
      "\n",
      "root\n",
      " |-- UserID: integer (nullable = true)\n",
      " |-- MovieID: integer (nullable = true)\n",
      " |-- Tag: string (nullable = true)\n",
      " |-- Timestamp: string (nullable = true)\n",
      "\n"
     ]
    }
   ],
   "source": [
    "movies.printSchema()\n",
    "ratings.printSchema()\n",
    "tags.printSchema()"
   ],
   "metadata": {
    "collapsed": false,
    "pycharm": {
     "name": "#%%\n"
    }
   }
  },
  {
   "cell_type": "markdown",
   "source": [
    "### 二、数据清洗\n",
    "#### 3.1 重复行删除"
   ],
   "metadata": {
    "collapsed": false,
    "pycharm": {
     "name": "#%% md\n"
    }
   }
  },
  {
   "cell_type": "code",
   "execution_count": 33,
   "outputs": [],
   "source": [
    "ratings = ratings.dropDuplicates()"
   ],
   "metadata": {
    "collapsed": false,
    "pycharm": {
     "name": "#%%\n"
    }
   }
  },
  {
   "cell_type": "markdown",
   "source": [
    "#### 3.2 填充缺失值"
   ],
   "metadata": {
    "collapsed": false,
    "pycharm": {
     "name": "#%% md\n"
    }
   }
  },
  {
   "cell_type": "code",
   "execution_count": 34,
   "outputs": [
    {
     "name": "stdout",
     "output_type": "stream",
     "text": [
      "['UserID', 'MovieID', 'Rating', 'Timestamp'] [0, 0, 0, 0]\n"
     ]
    }
   ],
   "source": [
    "from pyspark.sql.functions import col\n",
    "\n",
    "# 查找每行缺失的数据\n",
    "columns=ratings.columns\n",
    "missing_cnt=[ratings.select(col(x)).where(col(x).isNull()).count() for x in columns]\n",
    "print(columns, missing_cnt)"
   ],
   "metadata": {
    "collapsed": false,
    "pycharm": {
     "name": "#%%\n"
    }
   }
  },
  {
   "cell_type": "code",
   "execution_count": 35,
   "outputs": [],
   "source": [
    "# ratings.select(\"Rating\").groupBy().mean().show()"
   ],
   "metadata": {
    "collapsed": false,
    "pycharm": {
     "name": "#%%\n"
    }
   }
  },
  {
   "cell_type": "code",
   "execution_count": 36,
   "outputs": [],
   "source": [
    "# # 使用平均值取整值（四舍五入）填充\n",
    "# ratings = ratings.fillna({\"Rating\": 4})\n",
    "# ratings.show()"
   ],
   "metadata": {
    "collapsed": false,
    "pycharm": {
     "name": "#%%\n"
    }
   }
  },
  {
   "cell_type": "code",
   "execution_count": 37,
   "outputs": [],
   "source": [
    "# 再次查看\n",
    "# ratings.select(col(\"Rating\")).where(col(\"Rating\").isNull()).count()"
   ],
   "metadata": {
    "collapsed": false,
    "pycharm": {
     "name": "#%%\n"
    }
   }
  },
  {
   "cell_type": "markdown",
   "source": [
    "### 三、任务解决\n",
    "#### 2.1 查询用户平均分\n",
    "* 以用户作为单元进行分组，以评分的平均值作为该用户的评分，之后再对所有用户进行评分的平均值求解"
   ],
   "metadata": {
    "collapsed": false,
    "pycharm": {
     "name": "#%% md\n"
    }
   }
  },
  {
   "cell_type": "code",
   "execution_count": 38,
   "outputs": [
    {
     "name": "stdout",
     "output_type": "stream",
     "text": [
      "+------------------+\n",
      "|  avg(avg(Rating))|\n",
      "+------------------+\n",
      "|3.6136413483301495|\n",
      "+------------------+\n",
      "\n"
     ]
    }
   ],
   "source": [
    "ratings.groupBy(\"UserID\").avg(\"Rating\")\\\n",
    "    .groupBy().avg(\"avg(Rating)\").show()"
   ],
   "metadata": {
    "collapsed": false,
    "pycharm": {
     "name": "#%%\n"
    }
   }
  },
  {
   "cell_type": "markdown",
   "source": [
    "#### 2.2 查询电影平均分\n",
    "* 思路同上，不同的是先以电影进行分组"
   ],
   "metadata": {
    "collapsed": false,
    "pycharm": {
     "name": "#%% md\n"
    }
   }
  },
  {
   "cell_type": "code",
   "execution_count": 39,
   "outputs": [
    {
     "name": "stdout",
     "output_type": "stream",
     "text": [
      "+-----------------+\n",
      "| avg(avg(Rating))|\n",
      "+-----------------+\n",
      "|3.191955422921221|\n",
      "+-----------------+\n",
      "\n"
     ]
    }
   ],
   "source": [
    "ratings.groupBy(\"MovieID\").avg(\"Rating\")\\\n",
    "    .groupBy().avg(\"avg(Rating)\").show()"
   ],
   "metadata": {
    "collapsed": false,
    "pycharm": {
     "name": "#%%\n"
    }
   }
  },
  {
   "cell_type": "markdown",
   "source": [
    "#### 2.3 查询大于平均分的电影的数量\n",
    "* 先对上面得到的每部电影的平均分存取操作，之后基于此数据进行查询\n",
    "* 定义一个累加器用来判断符合的条件"
   ],
   "metadata": {
    "collapsed": false,
    "pycharm": {
     "name": "#%% md\n"
    }
   }
  },
  {
   "cell_type": "code",
   "execution_count": 41,
   "outputs": [],
   "source": [
    "pre_movie_avg_ratings = ratings.groupBy(\"MovieID\").avg(\"Rating\")"
   ],
   "metadata": {
    "collapsed": false,
    "pycharm": {
     "name": "#%%\n"
    }
   }
  },
  {
   "cell_type": "code",
   "execution_count": 42,
   "outputs": [
    {
     "data": {
      "text/plain": "5900"
     },
     "execution_count": 42,
     "metadata": {},
     "output_type": "execute_result"
    }
   ],
   "source": [
    "# 电影平均分为2.2的结果\n",
    "pre_movie_avg_ratings.filter(\"avg(Rating) > 3.191955422921221\").count()"
   ],
   "metadata": {
    "collapsed": false,
    "pycharm": {
     "name": "#%%\n"
    }
   }
  },
  {
   "cell_type": "markdown",
   "source": [
    "#### 2.4 查询高分电影中（>3）打分次数最多的用户，并求出此人打的平均分\n",
    "* 求一个用户，他给高分电影打分次数最多，并求出他对高分电影打分的平均值"
   ],
   "metadata": {
    "collapsed": false,
    "pycharm": {
     "name": "#%% md\n"
    }
   }
  },
  {
   "cell_type": "code",
   "execution_count": 61,
   "outputs": [
    {
     "name": "stdout",
     "output_type": "stream",
     "text": [
      "+-------+------------------+------+------+----------+\n",
      "|MovieID|       avg(Rating)|UserID|Rating| Timestamp|\n",
      "+-------+------------------+------+------+----------+\n",
      "|   5300|3.7041884816753927|     7|   4.0|1049764610|\n",
      "|   2366|3.6127175743964064|    13|   4.0|1035217983|\n",
      "|   1088|3.1912112010796223|    14|   4.0|1133571288|\n",
      "|   3175|3.6245300142616363|    34|   2.0| 981824576|\n",
      "|   3175|3.6245300142616363|    36|   4.0|1049772120|\n",
      "|   1580| 3.563920531231442|    43|   5.0| 912611414|\n",
      "|   1580| 3.563920531231442|    45|   4.0| 974295797|\n",
      "|   1580| 3.563920531231442|    47|   4.5|1162150102|\n",
      "|   2366|3.6127175743964064|    56|   5.0|1162159027|\n",
      "|   1238| 4.003408495018354|    65|   3.0| 970834629|\n",
      "|   1959|3.6309438040345823|    65|   4.0| 950887497|\n",
      "|   6620|3.8627082213863515|    78|   4.0|1083963707|\n",
      "|   1645| 3.450640298265521|    96|   3.0| 959877703|\n",
      "|   2366|3.6127175743964064|    96|   4.0| 959875578|\n",
      "|   1580| 3.563920531231442|   105|   3.0| 959879140|\n",
      "|    471| 3.659111243662392|   112|   3.0| 868271259|\n",
      "|   1645| 3.450640298265521|   125|   4.5|1084388497|\n",
      "|   2866| 3.607728337236534|   136|   4.0| 945880825|\n",
      "|   1645| 3.450640298265521|   139|   4.0| 974299963|\n",
      "|   3175|3.6245300142616363|   139|   3.0| 974299987|\n",
      "+-------+------------------+------+------+----------+\n",
      "only showing top 20 rows\n",
      "\n"
     ]
    }
   ],
   "source": [
    "df1 = pre_movie_avg_ratings.filter(\"avg(Rating) > 3\")\\\n",
    "    .join(ratings, on=\"MovieID\", how=\"inner\")\n",
    "df1.show()"
   ],
   "metadata": {
    "collapsed": false,
    "pycharm": {
     "name": "#%%\n"
    }
   }
  },
  {
   "cell_type": "code",
   "execution_count": 54,
   "outputs": [
    {
     "name": "stdout",
     "output_type": "stream",
     "text": [
      "+------+-----+\n",
      "|UserID|count|\n",
      "+------+-----+\n",
      "| 59269| 6401|\n",
      "+------+-----+\n",
      "only showing top 1 row\n",
      "\n"
     ]
    }
   ],
   "source": [
    "df1.groupBy(\"UserID\").count().orderBy(\"count\", ascending=False).show(1)"
   ],
   "metadata": {
    "collapsed": false,
    "pycharm": {
     "name": "#%%\n"
    }
   }
  },
  {
   "cell_type": "code",
   "execution_count": 60,
   "outputs": [
    {
     "name": "stdout",
     "output_type": "stream",
     "text": [
      "+------+------------------+\n",
      "|UserID|       avg(Rating)|\n",
      "+------+------------------+\n",
      "| 59269|3.3654897672238713|\n",
      "+------+------------------+\n",
      "\n"
     ]
    }
   ],
   "source": [
    "df1.filter(\"UserID = 59269\").groupBy(\"UserID\").avg()\\\n",
    "    .select(\"UserID\", \"avg(Rating)\").show()"
   ],
   "metadata": {
    "collapsed": false,
    "pycharm": {
     "name": "#%%\n"
    }
   }
  },
  {
   "cell_type": "markdown",
   "source": [
    "#### 2.5 查询每个用户的平均打分，最低打分，最高打分"
   ],
   "metadata": {
    "collapsed": false,
    "pycharm": {
     "name": "#%% md\n"
    }
   }
  },
  {
   "cell_type": "code",
   "execution_count": 122,
   "outputs": [
    {
     "name": "stdout",
     "output_type": "stream",
     "text": [
      "+------+------------------+\n",
      "|UserID|       avg(Rating)|\n",
      "+------+------------------+\n",
      "|   148| 4.178571428571429|\n",
      "|   463|           3.56875|\n",
      "|   471| 3.909090909090909|\n",
      "|   496|3.5789473684210527|\n",
      "|   833|3.8840579710144927|\n",
      "|  1088| 3.348684210526316|\n",
      "|  1238|3.3728813559322033|\n",
      "|  1342| 4.130434782608695|\n",
      "|  1580|3.3506493506493507|\n",
      "|  1591| 4.392857142857143|\n",
      "|  1645|3.5609756097560976|\n",
      "|  1829| 3.966386554621849|\n",
      "|  1959|              3.44|\n",
      "|  2122|2.7398373983739837|\n",
      "|  2142| 3.064935064935065|\n",
      "|  2366|               4.2|\n",
      "|  2659| 3.890909090909091|\n",
      "|  2866|3.8181818181818183|\n",
      "|  3175| 4.090909090909091|\n",
      "|  3749| 3.870967741935484|\n",
      "+------+------------------+\n",
      "only showing top 20 rows\n",
      "\n"
     ]
    }
   ],
   "source": [
    "ratings.groupBy(\"UserID\").avg(\"Rating\").show()"
   ],
   "metadata": {
    "collapsed": false,
    "pycharm": {
     "name": "#%%\n"
    }
   }
  },
  {
   "cell_type": "code",
   "execution_count": 123,
   "outputs": [
    {
     "name": "stdout",
     "output_type": "stream",
     "text": [
      "+------+-----------+\n",
      "|UserID|min(Rating)|\n",
      "+------+-----------+\n",
      "|   148|          1|\n",
      "|   463|          1|\n",
      "|   471|          2|\n",
      "|   496|          1|\n",
      "|   833|          1|\n",
      "|  1088|          1|\n",
      "|  1238|          1|\n",
      "|  1342|          3|\n",
      "|  1580|          1|\n",
      "|  1591|          2|\n",
      "|  1645|          1|\n",
      "|  1829|          2|\n",
      "|  1959|          1|\n",
      "|  2122|          1|\n",
      "|  2142|          1|\n",
      "|  2366|          3|\n",
      "|  2659|          1|\n",
      "|  2866|          1|\n",
      "|  3175|          1|\n",
      "|  3749|          2|\n",
      "+------+-----------+\n",
      "only showing top 20 rows\n",
      "\n"
     ]
    }
   ],
   "source": [
    "ratings.groupBy(\"UserID\").min(\"Rating\").show()"
   ],
   "metadata": {
    "collapsed": false,
    "pycharm": {
     "name": "#%%\n"
    }
   }
  },
  {
   "cell_type": "code",
   "execution_count": 124,
   "outputs": [
    {
     "name": "stdout",
     "output_type": "stream",
     "text": [
      "+------+-----------+\n",
      "|UserID|max(Rating)|\n",
      "+------+-----------+\n",
      "|   148|          5|\n",
      "|   463|          5|\n",
      "|   471|          5|\n",
      "|   496|          5|\n",
      "|   833|          5|\n",
      "|  1088|          5|\n",
      "|  1238|          5|\n",
      "|  1342|          5|\n",
      "|  1580|          5|\n",
      "|  1591|          5|\n",
      "|  1645|          5|\n",
      "|  1829|          5|\n",
      "|  1959|          5|\n",
      "|  2122|          5|\n",
      "|  2142|          5|\n",
      "|  2366|          5|\n",
      "|  2659|          5|\n",
      "|  2866|          5|\n",
      "|  3175|          5|\n",
      "|  3749|          5|\n",
      "+------+-----------+\n",
      "only showing top 20 rows\n",
      "\n"
     ]
    }
   ],
   "source": [
    "ratings.groupBy(\"UserID\").max(\"Rating\").show()"
   ],
   "metadata": {
    "collapsed": false,
    "pycharm": {
     "name": "#%%\n"
    }
   }
  },
  {
   "cell_type": "markdown",
   "source": [
    "#### 2.6 查询被评分超过100次的电影的平均分排名：TOP10"
   ],
   "metadata": {
    "collapsed": false,
    "pycharm": {
     "name": "#%% md\n"
    }
   }
  },
  {
   "cell_type": "code",
   "execution_count": 132,
   "outputs": [
    {
     "name": "stdout",
     "output_type": "stream",
     "text": [
      "+-------+-----+\n",
      "|MovieID|count|\n",
      "+-------+-----+\n",
      "|    296|34864|\n",
      "|    356|34457|\n",
      "|    593|33668|\n",
      "|    480|32631|\n",
      "|    318|31126|\n",
      "|    110|29154|\n",
      "|    457|28951|\n",
      "|    589|28948|\n",
      "|    260|28566|\n",
      "|    150|27035|\n",
      "+-------+-----+\n",
      "only showing top 10 rows\n",
      "\n"
     ]
    }
   ],
   "source": [
    "ratings.groupBy(\"MovieID\")\\\n",
    "    .count()\\\n",
    "    .filter(\"count > 100\")\\\n",
    "    .orderBy(\"count\", ascending=False)\\\n",
    "    .show(10)"
   ],
   "metadata": {
    "collapsed": false,
    "pycharm": {
     "name": "#%%\n"
    }
   }
  },
  {
   "cell_type": "code",
   "execution_count": null,
   "outputs": [],
   "source": [],
   "metadata": {
    "collapsed": false,
    "pycharm": {
     "name": "#%%\n"
    }
   }
  }
 ],
 "metadata": {
  "kernelspec": {
   "name": "ml",
   "language": "python",
   "display_name": "ml"
  },
  "language_info": {
   "codemirror_mode": {
    "name": "ipython",
    "version": 3
   },
   "file_extension": ".py",
   "mimetype": "text/x-python",
   "name": "python",
   "nbconvert_exporter": "python",
   "pygments_lexer": "ipython3",
   "version": "3.7.11"
  },
  "toc": {
   "base_numbering": 1,
   "nav_menu": {},
   "number_sections": true,
   "sideBar": true,
   "skip_h1_title": false,
   "title_cell": "Table of Contents",
   "title_sidebar": "Contents",
   "toc_cell": false,
   "toc_position": {},
   "toc_section_display": true,
   "toc_window_display": false
  },
  "varInspector": {
   "cols": {
    "lenName": 16,
    "lenType": 16,
    "lenVar": 40
   },
   "kernels_config": {
    "python": {
     "delete_cmd_postfix": "",
     "delete_cmd_prefix": "del ",
     "library": "var_list.py",
     "varRefreshCmd": "print(var_dic_list())"
    },
    "r": {
     "delete_cmd_postfix": ") ",
     "delete_cmd_prefix": "rm(",
     "library": "var_list.r",
     "varRefreshCmd": "cat(var_dic_list()) "
    }
   },
   "types_to_exclude": [
    "module",
    "function",
    "builtin_function_or_method",
    "instance",
    "_Feature"
   ],
   "window_display": false
  }
 },
 "nbformat": 4,
 "nbformat_minor": 1
}