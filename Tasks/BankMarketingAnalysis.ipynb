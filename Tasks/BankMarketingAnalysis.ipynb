{
 "cells": [
  {
   "cell_type": "markdown",
   "source": [
    "### 一、加载数据"
   ],
   "metadata": {
    "collapsed": false,
    "pycharm": {
     "name": "#%% md\n"
    }
   }
  },
  {
   "cell_type": "code",
   "execution_count": 8,
   "metadata": {
    "collapsed": true
   },
   "outputs": [],
   "source": [
    "import os\n",
    "import pandas as pd\n",
    "from pyspark.sql import SparkSession"
   ]
  },
  {
   "cell_type": "code",
   "execution_count": 4,
   "outputs": [],
   "source": [
    "spark = SparkSession.builder.appName(\"BankMarketingAnalysis\").getOrCreate()"
   ],
   "metadata": {
    "collapsed": false,
    "pycharm": {
     "name": "#%%\n"
    }
   }
  },
  {
   "cell_type": "code",
   "execution_count": 18,
   "outputs": [],
   "source": [
    "root_path = \"D:\\\\大三下\\\\Big_Data_Application_Spark\\\\datasets\\\\bank-additional\"\n",
    "full_path = os.path.join(root_path, \"bank-additional-full.csv\")\n",
    "bankMarketing_df = pd.read_csv(full_path, sep=\";\")"
   ],
   "metadata": {
    "collapsed": false,
    "pycharm": {
     "name": "#%%\n"
    }
   }
  },
  {
   "cell_type": "code",
   "execution_count": 19,
   "outputs": [
    {
     "data": {
      "text/plain": "   age        job  marital    education  default housing loan    contact  \\\n0   56  housemaid  married     basic.4y       no      no   no  telephone   \n1   57   services  married  high.school  unknown      no   no  telephone   \n2   37   services  married  high.school       no     yes   no  telephone   \n3   40     admin.  married     basic.6y       no      no   no  telephone   \n4   56   services  married  high.school       no      no  yes  telephone   \n\n  month day_of_week  ...  campaign  pdays  previous     poutcome emp.var.rate  \\\n0   may         mon  ...         1    999         0  nonexistent          1.1   \n1   may         mon  ...         1    999         0  nonexistent          1.1   \n2   may         mon  ...         1    999         0  nonexistent          1.1   \n3   may         mon  ...         1    999         0  nonexistent          1.1   \n4   may         mon  ...         1    999         0  nonexistent          1.1   \n\n   cons.price.idx  cons.conf.idx  euribor3m  nr.employed   y  \n0          93.994          -36.4      4.857       5191.0  no  \n1          93.994          -36.4      4.857       5191.0  no  \n2          93.994          -36.4      4.857       5191.0  no  \n3          93.994          -36.4      4.857       5191.0  no  \n4          93.994          -36.4      4.857       5191.0  no  \n\n[5 rows x 21 columns]",
      "text/html": "<div>\n<style scoped>\n    .dataframe tbody tr th:only-of-type {\n        vertical-align: middle;\n    }\n\n    .dataframe tbody tr th {\n        vertical-align: top;\n    }\n\n    .dataframe thead th {\n        text-align: right;\n    }\n</style>\n<table border=\"1\" class=\"dataframe\">\n  <thead>\n    <tr style=\"text-align: right;\">\n      <th></th>\n      <th>age</th>\n      <th>job</th>\n      <th>marital</th>\n      <th>education</th>\n      <th>default</th>\n      <th>housing</th>\n      <th>loan</th>\n      <th>contact</th>\n      <th>month</th>\n      <th>day_of_week</th>\n      <th>...</th>\n      <th>campaign</th>\n      <th>pdays</th>\n      <th>previous</th>\n      <th>poutcome</th>\n      <th>emp.var.rate</th>\n      <th>cons.price.idx</th>\n      <th>cons.conf.idx</th>\n      <th>euribor3m</th>\n      <th>nr.employed</th>\n      <th>y</th>\n    </tr>\n  </thead>\n  <tbody>\n    <tr>\n      <th>0</th>\n      <td>56</td>\n      <td>housemaid</td>\n      <td>married</td>\n      <td>basic.4y</td>\n      <td>no</td>\n      <td>no</td>\n      <td>no</td>\n      <td>telephone</td>\n      <td>may</td>\n      <td>mon</td>\n      <td>...</td>\n      <td>1</td>\n      <td>999</td>\n      <td>0</td>\n      <td>nonexistent</td>\n      <td>1.1</td>\n      <td>93.994</td>\n      <td>-36.4</td>\n      <td>4.857</td>\n      <td>5191.0</td>\n      <td>no</td>\n    </tr>\n    <tr>\n      <th>1</th>\n      <td>57</td>\n      <td>services</td>\n      <td>married</td>\n      <td>high.school</td>\n      <td>unknown</td>\n      <td>no</td>\n      <td>no</td>\n      <td>telephone</td>\n      <td>may</td>\n      <td>mon</td>\n      <td>...</td>\n      <td>1</td>\n      <td>999</td>\n      <td>0</td>\n      <td>nonexistent</td>\n      <td>1.1</td>\n      <td>93.994</td>\n      <td>-36.4</td>\n      <td>4.857</td>\n      <td>5191.0</td>\n      <td>no</td>\n    </tr>\n    <tr>\n      <th>2</th>\n      <td>37</td>\n      <td>services</td>\n      <td>married</td>\n      <td>high.school</td>\n      <td>no</td>\n      <td>yes</td>\n      <td>no</td>\n      <td>telephone</td>\n      <td>may</td>\n      <td>mon</td>\n      <td>...</td>\n      <td>1</td>\n      <td>999</td>\n      <td>0</td>\n      <td>nonexistent</td>\n      <td>1.1</td>\n      <td>93.994</td>\n      <td>-36.4</td>\n      <td>4.857</td>\n      <td>5191.0</td>\n      <td>no</td>\n    </tr>\n    <tr>\n      <th>3</th>\n      <td>40</td>\n      <td>admin.</td>\n      <td>married</td>\n      <td>basic.6y</td>\n      <td>no</td>\n      <td>no</td>\n      <td>no</td>\n      <td>telephone</td>\n      <td>may</td>\n      <td>mon</td>\n      <td>...</td>\n      <td>1</td>\n      <td>999</td>\n      <td>0</td>\n      <td>nonexistent</td>\n      <td>1.1</td>\n      <td>93.994</td>\n      <td>-36.4</td>\n      <td>4.857</td>\n      <td>5191.0</td>\n      <td>no</td>\n    </tr>\n    <tr>\n      <th>4</th>\n      <td>56</td>\n      <td>services</td>\n      <td>married</td>\n      <td>high.school</td>\n      <td>no</td>\n      <td>no</td>\n      <td>yes</td>\n      <td>telephone</td>\n      <td>may</td>\n      <td>mon</td>\n      <td>...</td>\n      <td>1</td>\n      <td>999</td>\n      <td>0</td>\n      <td>nonexistent</td>\n      <td>1.1</td>\n      <td>93.994</td>\n      <td>-36.4</td>\n      <td>4.857</td>\n      <td>5191.0</td>\n      <td>no</td>\n    </tr>\n  </tbody>\n</table>\n<p>5 rows × 21 columns</p>\n</div>"
     },
     "execution_count": 19,
     "metadata": {},
     "output_type": "execute_result"
    }
   ],
   "source": [
    "bankMarketing_df.head()"
   ],
   "metadata": {
    "collapsed": false,
    "pycharm": {
     "name": "#%%\n"
    }
   }
  },
  {
   "cell_type": "code",
   "execution_count": 20,
   "outputs": [],
   "source": [
    "bankMarketing = spark.createDataFrame(bankMarketing_df)"
   ],
   "metadata": {
    "collapsed": false,
    "pycharm": {
     "name": "#%%\n"
    }
   }
  },
  {
   "cell_type": "code",
   "execution_count": 30,
   "outputs": [
    {
     "name": "stdout",
     "output_type": "stream",
     "text": [
      "+---+-----------+--------+\n",
      "|age|        job| marital|\n",
      "+---+-----------+--------+\n",
      "| 56|  housemaid| married|\n",
      "| 57|   services| married|\n",
      "| 37|   services| married|\n",
      "| 40|     admin.| married|\n",
      "| 56|   services| married|\n",
      "| 45|   services| married|\n",
      "| 59|     admin.| married|\n",
      "| 41|blue-collar| married|\n",
      "| 24| technician|  single|\n",
      "| 25|   services|  single|\n",
      "| 41|blue-collar| married|\n",
      "| 25|   services|  single|\n",
      "| 29|blue-collar|  single|\n",
      "| 57|  housemaid|divorced|\n",
      "| 35|blue-collar| married|\n",
      "| 54|    retired| married|\n",
      "| 35|blue-collar| married|\n",
      "| 46|blue-collar| married|\n",
      "| 50|blue-collar| married|\n",
      "| 39| management|  single|\n",
      "+---+-----------+--------+\n",
      "only showing top 20 rows\n",
      "\n"
     ]
    }
   ],
   "source": [
    "bankMarketing.select(\"age\", \"job\", \"marital\").show()"
   ],
   "metadata": {
    "collapsed": false,
    "pycharm": {
     "name": "#%%\n"
    }
   }
  },
  {
   "cell_type": "code",
   "execution_count": 29,
   "outputs": [
    {
     "data": {
      "text/plain": "['age',\n 'job',\n 'marital',\n 'education',\n 'default',\n 'housing',\n 'loan',\n 'contact',\n 'month',\n 'day_of_week',\n 'duration',\n 'campaign',\n 'pdays',\n 'previous',\n 'poutcome',\n 'emp.var.rate',\n 'cons.price.idx',\n 'cons.conf.idx',\n 'euribor3m',\n 'nr.employed',\n 'y']"
     },
     "execution_count": 29,
     "metadata": {},
     "output_type": "execute_result"
    }
   ],
   "source": [
    "bankMarketing.columns"
   ],
   "metadata": {
    "collapsed": false,
    "pycharm": {
     "name": "#%%\n"
    }
   }
  },
  {
   "cell_type": "markdown",
   "source": [
    "### 二、计算指标\n",
    "#### 2.1 根据婚姻情况（marital指标）统计各类人群的数量和缺失值的数量"
   ],
   "metadata": {
    "collapsed": false,
    "pycharm": {
     "name": "#%% md\n"
    }
   }
  },
  {
   "cell_type": "code",
   "execution_count": 33,
   "outputs": [
    {
     "name": "stdout",
     "output_type": "stream",
     "text": [
      "+--------+-----+\n",
      "| marital|count|\n",
      "+--------+-----+\n",
      "| unknown|   80|\n",
      "|divorced| 4612|\n",
      "| married|24928|\n",
      "|  single|11568|\n",
      "+--------+-----+\n",
      "\n"
     ]
    }
   ],
   "source": [
    "bankMarketing.groupBy(\"marital\").count().show()"
   ],
   "metadata": {
    "collapsed": false,
    "pycharm": {
     "name": "#%%\n"
    }
   }
  },
  {
   "cell_type": "markdown",
   "source": [
    "#### 2.2 根据职业（job指标）统计各类人群的数量和缺失值的数量"
   ],
   "metadata": {
    "collapsed": false,
    "pycharm": {
     "name": "#%% md\n"
    }
   }
  },
  {
   "cell_type": "code",
   "execution_count": 34,
   "outputs": [
    {
     "name": "stdout",
     "output_type": "stream",
     "text": [
      "+-------------+-----+\n",
      "|          job|count|\n",
      "+-------------+-----+\n",
      "|   management| 2924|\n",
      "|      retired| 1720|\n",
      "|      unknown|  330|\n",
      "|self-employed| 1421|\n",
      "|      student|  875|\n",
      "|  blue-collar| 9254|\n",
      "| entrepreneur| 1456|\n",
      "|       admin.|10422|\n",
      "|   technician| 6743|\n",
      "|     services| 3969|\n",
      "|    housemaid| 1060|\n",
      "|   unemployed| 1014|\n",
      "+-------------+-----+\n",
      "\n"
     ]
    }
   ],
   "source": [
    "bankMarketing.groupBy(\"job\").count().show()"
   ],
   "metadata": {
    "collapsed": false,
    "pycharm": {
     "name": "#%%\n"
    }
   }
  },
  {
   "cell_type": "markdown",
   "source": [
    "#### 2.3 根据教育情况（education）统计各类人群的数量和缺失值的数量"
   ],
   "metadata": {
    "collapsed": false,
    "pycharm": {
     "name": "#%% md\n"
    }
   }
  },
  {
   "cell_type": "code",
   "execution_count": 35,
   "outputs": [
    {
     "name": "stdout",
     "output_type": "stream",
     "text": [
      "+-------------------+-----+\n",
      "|          education|count|\n",
      "+-------------------+-----+\n",
      "|        high.school| 9515|\n",
      "|            unknown| 1731|\n",
      "|           basic.6y| 2292|\n",
      "|professional.course| 5243|\n",
      "|  university.degree|12168|\n",
      "|           basic.4y| 4176|\n",
      "|           basic.9y| 6045|\n",
      "|         illiterate|   18|\n",
      "+-------------------+-----+\n",
      "\n"
     ]
    }
   ],
   "source": [
    "bankMarketing.groupBy(\"education\").count().show()"
   ],
   "metadata": {
    "collapsed": false,
    "pycharm": {
     "name": "#%%\n"
    }
   }
  },
  {
   "cell_type": "markdown",
   "source": [
    "#### 2.4 选数值类字段作为数据子集，进行描述性统计（ 包括频次统计、平均值、标准差、最小值、最大值）"
   ],
   "metadata": {
    "collapsed": false,
    "pycharm": {
     "name": "#%% md\n"
    }
   }
  },
  {
   "cell_type": "code",
   "execution_count": 39,
   "outputs": [
    {
     "name": "stdout",
     "output_type": "stream",
     "text": [
      "root\n",
      " |-- age: long (nullable = true)\n",
      " |-- job: string (nullable = true)\n",
      " |-- marital: string (nullable = true)\n",
      " |-- education: string (nullable = true)\n",
      " |-- default: string (nullable = true)\n",
      " |-- housing: string (nullable = true)\n",
      " |-- loan: string (nullable = true)\n",
      " |-- contact: string (nullable = true)\n",
      " |-- month: string (nullable = true)\n",
      " |-- day_of_week: string (nullable = true)\n",
      " |-- duration: long (nullable = true)\n",
      " |-- campaign: long (nullable = true)\n",
      " |-- pdays: long (nullable = true)\n",
      " |-- previous: long (nullable = true)\n",
      " |-- poutcome: string (nullable = true)\n",
      " |-- emp.var.rate: double (nullable = true)\n",
      " |-- cons.price.idx: double (nullable = true)\n",
      " |-- cons.conf.idx: double (nullable = true)\n",
      " |-- euribor3m: double (nullable = true)\n",
      " |-- nr.employed: double (nullable = true)\n",
      " |-- y: string (nullable = true)\n",
      "\n"
     ]
    }
   ],
   "source": [
    "# 先查看那些是数值型字段\n",
    "bankMarketing.printSchema()"
   ],
   "metadata": {
    "collapsed": false,
    "pycharm": {
     "name": "#%%\n"
    }
   }
  },
  {
   "cell_type": "code",
   "execution_count": null,
   "outputs": [],
   "source": [
    "# 疑问：带点的列名如何检索（除了改变列名外）\n",
    "# bmSubset = bankMarketing.select(\"age\", \"duration\", \"campaign\", \"pdays\", \"previous\",\n",
    "#                                 \"emp.var.rate\", \"cons.price.idx\", \"cons.conf.idx\",\n",
    "#                                 \"euribor3m\", \"nr.employed\")"
   ],
   "metadata": {
    "collapsed": false,
    "pycharm": {
     "name": "#%%\n"
    }
   }
  },
  {
   "cell_type": "code",
   "execution_count": 54,
   "outputs": [
    {
     "name": "stdout",
     "output_type": "stream",
     "text": [
      "+-------+------------------+-----------------+-----------------+-----------------+-------------------+------------------+\n",
      "|summary|               age|         duration|         campaign|            pdays|           previous|         euribor3m|\n",
      "+-------+------------------+-----------------+-----------------+-----------------+-------------------+------------------+\n",
      "|  count|             41188|            41188|            41188|            41188|              41188|             41188|\n",
      "|   mean| 40.02406040594348|258.2850101971448|2.567592502670681|962.4754540157328|0.17296299893172767|3.6212908128580406|\n",
      "| stddev|10.421249980934045|259.2792488364649|2.770013542902329|186.9109073447416|0.49490107983929027|1.7344474048512684|\n",
      "|    min|                17|                0|                1|                0|                  0|             0.634|\n",
      "|    max|                98|             4918|               56|              999|                  7|             5.045|\n",
      "+-------+------------------+-----------------+-----------------+-----------------+-------------------+------------------+\n",
      "\n"
     ]
    }
   ],
   "source": [
    "# 使用cache缓存下来\n",
    "bmSubset = bankMarketing.select(\"age\", \"duration\", \"campaign\", \"pdays\", \"previous\", \"euribor3m\").cache()\n",
    "bmSubset.describe().show()"
   ],
   "metadata": {
    "collapsed": false,
    "pycharm": {
     "name": "#%%\n"
    }
   }
  },
  {
   "cell_type": "markdown",
   "source": [
    "#### 2.5 所有受访人的学历背景出现频率超过 0. 3 的学历\n",
    "* 使用stat"
   ],
   "metadata": {
    "collapsed": false,
    "pycharm": {
     "name": "#%% md\n"
    }
   }
  },
  {
   "cell_type": "code",
   "execution_count": 66,
   "outputs": [
    {
     "data": {
      "text/plain": "Row(education_freqItems=['high.school', 'university.degree', 'professional.course'])"
     },
     "execution_count": 66,
     "metadata": {},
     "output_type": "execute_result"
    }
   ],
   "source": [
    "# bankMarketing.stat.freqItems([\"education\"], 0.3).show()\n",
    "bankMarketing.stat.freqItems([\"education\"], 0.3).collect()[0]"
   ],
   "metadata": {
    "collapsed": false,
    "pycharm": {
     "name": "#%%\n"
    }
   }
  },
  {
   "cell_type": "markdown",
   "source": [
    "#### 2.6 根据定期存款意愿将客户分组，并统计各组客户的客户总数、此次访谈的电话联系的平均次数、最后一次电话联系的平均持续时间、早前访谈电话联系的平均次数"
   ],
   "metadata": {
    "collapsed": false,
    "pycharm": {
     "name": "#%% md\n"
    }
   }
  },
  {
   "cell_type": "code",
   "execution_count": 71,
   "outputs": [
    {
     "name": "stdout",
     "output_type": "stream",
     "text": [
      "+---+---------------+---------------+-------+---------------+\n",
      "|  y|Total customers|Avg calls(curr)|Avg dur|Avg calls(prev)|\n",
      "+---+---------------+---------------+-------+---------------+\n",
      "| no|          36548|           2.63| 220.84|           0.13|\n",
      "|yes|           4640|           2.05| 553.19|           0.49|\n",
      "+---+---------------+---------------+-------+---------------+\n",
      "\n"
     ]
    }
   ],
   "source": [
    "from pyspark.sql.functions import count, avg,round\n",
    "\n",
    "# agg函数是为了在整体的DataFrame中部分组聚合\n",
    "bankMarketing.groupBy(\"y\").agg(\n",
    "    count(\"y\").name(\"Total customers\"),\n",
    "    round(avg(\"campaign\"), 2).name(\"Avg calls(curr)\"),\n",
    "    round(avg(\"duration\"), 2).name(\"Avg dur\"),\n",
    "    round(avg(\"previous\"), 2).name(\"Avg calls(prev)\")\n",
    ").show()"
   ],
   "metadata": {
    "collapsed": false,
    "pycharm": {
     "name": "#%%\n"
    }
   }
  },
  {
   "cell_type": "markdown",
   "source": [
    "#### 2.7 根据年龄将客户分组，并统计各组客户的客户总数、此次访谈的电话联系的平均次数、最后一次电话联系的平均持续时间、早前访谈电话联系的平均次数"
   ],
   "metadata": {
    "collapsed": false,
    "pycharm": {
     "name": "#%% md\n"
    }
   }
  },
  {
   "cell_type": "code",
   "execution_count": 69,
   "outputs": [
    {
     "name": "stdout",
     "output_type": "stream",
     "text": [
      "+---+---------------+---------------+-------+---------------+\n",
      "|age|Total customers|Avg calls(curr)|Avg dur|Avg calls(prev)|\n",
      "+---+---------------+---------------+-------+---------------+\n",
      "| 17|              5|            2.2|  420.0|            1.8|\n",
      "| 18|             28|           1.32| 321.79|           0.75|\n",
      "| 19|             42|           2.29|  271.5|           0.67|\n",
      "| 20|             65|           2.35| 288.49|           0.63|\n",
      "| 21|            102|           2.03| 264.25|           0.28|\n",
      "| 22|            137|           2.29| 250.93|           0.29|\n",
      "| 23|            226|            2.4| 281.27|           0.34|\n",
      "| 24|            463|           2.42|  282.9|           0.32|\n",
      "| 25|            598|           2.91| 259.98|           0.18|\n",
      "| 26|            698|           2.48| 263.53|           0.22|\n",
      "| 27|            851|           2.49| 269.47|           0.23|\n",
      "| 28|           1001|           2.33| 270.02|            0.2|\n",
      "| 29|           1453|           2.46| 258.24|            0.2|\n",
      "| 30|           1714|           2.73|  255.1|           0.15|\n",
      "| 31|           1947|           2.52| 257.31|           0.15|\n",
      "| 32|           1846|           2.56|  254.7|           0.15|\n",
      "| 33|           1833|           2.45| 259.71|           0.17|\n",
      "| 34|           1745|           2.49| 255.81|           0.19|\n",
      "| 35|           1759|           2.55| 256.23|           0.18|\n",
      "| 36|           1780|           2.62| 251.31|           0.15|\n",
      "+---+---------------+---------------+-------+---------------+\n",
      "only showing top 20 rows\n",
      "\n"
     ]
    }
   ],
   "source": [
    "from pyspark.sql.functions import count, avg,round\n",
    "\n",
    "# agg函数是为了在整体的DataFrame中部分组聚合\n",
    "bankMarketing.groupBy(\"age\").agg(\n",
    "    count(\"age\").name(\"Total customers\"),\n",
    "    round(avg(\"campaign\"), 2).name(\"Avg calls(curr)\"),\n",
    "    round(avg(\"duration\"), 2).name(\"Avg dur\"),\n",
    "    round(avg(\"previous\"), 2).name(\"Avg calls(prev)\")\n",
    ").orderBy(\"age\").show()"
   ],
   "metadata": {
    "collapsed": false,
    "pycharm": {
     "name": "#%%\n"
    }
   }
  },
  {
   "cell_type": "code",
   "execution_count": null,
   "outputs": [],
   "source": [],
   "metadata": {
    "collapsed": false,
    "pycharm": {
     "name": "#%%\n"
    }
   }
  }
 ],
 "metadata": {
  "kernelspec": {
   "name": "ml",
   "language": "python",
   "display_name": "ml"
  },
  "language_info": {
   "codemirror_mode": {
    "name": "ipython",
    "version": 2
   },
   "file_extension": ".py",
   "mimetype": "text/x-python",
   "name": "python",
   "nbconvert_exporter": "python",
   "pygments_lexer": "ipython2",
   "version": "2.7.6"
  }
 },
 "nbformat": 4,
 "nbformat_minor": 0
}