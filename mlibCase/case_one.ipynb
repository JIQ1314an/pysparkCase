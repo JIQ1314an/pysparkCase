{
 "cells": [
  {
   "cell_type": "markdown",
   "metadata": {
    "collapsed": true,
    "pycharm": {
     "name": "#%% md\n"
    }
   },
   "source": [
    "### 一、最大最小法"
   ],
   "outputs": [],
   "execution_count": 0
  },
  {
   "cell_type": "code",
   "execution_count": 1,
   "outputs": [],
   "source": [
    "from pyspark.sql import SparkSession\n",
    "\n",
    "spark = SparkSession.builder\\\n",
    "      .master(\"local[4]\")\\\n",
    "      .appName(\"mlib\")\\\n",
    "      .getOrCreate()"
   ],
   "metadata": {
    "collapsed": false,
    "pycharm": {
     "name": "#%%\n"
    }
   }
  },
  {
   "cell_type": "code",
   "execution_count": 11,
   "outputs": [],
   "source": [
    "from pyspark.ml.linalg import Vectors\n",
    "\n",
    "dataFrame = spark.createDataFrame([\n",
    "      (0, Vectors.dense([1.0, 0.1, -1.0])),\n",
    "      (1, Vectors.dense([2.0, 1.1, 1.0])),\n",
    "      (2, Vectors.dense([3.0, 10.1, 3.0]))\n",
    "   ]).toDF(\"id\", \"features\")"
   ],
   "metadata": {
    "collapsed": false,
    "pycharm": {
     "name": "#%%\n"
    }
   }
  },
  {
   "cell_type": "code",
   "execution_count": 12,
   "outputs": [
    {
     "name": "stdout",
     "output_type": "stream",
     "text": [
      "+---+--------------+\n",
      "| id|      features|\n",
      "+---+--------------+\n",
      "|  0|[1.0,0.1,-1.0]|\n",
      "|  1| [2.0,1.1,1.0]|\n",
      "|  2|[3.0,10.1,3.0]|\n",
      "+---+--------------+\n",
      "\n"
     ]
    }
   ],
   "source": [
    "dataFrame.show()"
   ],
   "metadata": {
    "collapsed": false,
    "pycharm": {
     "name": "#%%\n"
    }
   }
  },
  {
   "cell_type": "code",
   "execution_count": 13,
   "outputs": [],
   "source": [
    "from pyspark.ml.feature import MinMaxScaler\n",
    "\n",
    "scaler = MinMaxScaler()\\\n",
    "      .setInputCol(\"features\")\\\n",
    "      .setOutputCol(\"scaledFeatures\")"
   ],
   "metadata": {
    "collapsed": false,
    "pycharm": {
     "name": "#%%\n"
    }
   }
  },
  {
   "cell_type": "code",
   "execution_count": 15,
   "outputs": [],
   "source": [
    "# 计算汇总量，生成MinMaxScalerModel\n",
    "scalerModel = scaler.fit(dataFrame)\n",
    "# rescale each feature to range [min, max].\n",
    "scaledData = scalerModel.transform(dataFrame)"
   ],
   "metadata": {
    "collapsed": false,
    "pycharm": {
     "name": "#%%\n"
    }
   }
  },
  {
   "cell_type": "code",
   "execution_count": 16,
   "outputs": [
    {
     "name": "stdout",
     "output_type": "stream",
     "text": [
      "+--------------+--------------+\n",
      "|      features|scaledFeatures|\n",
      "+--------------+--------------+\n",
      "|[1.0,0.1,-1.0]|     (3,[],[])|\n",
      "| [2.0,1.1,1.0]| [0.5,0.1,0.5]|\n",
      "|[3.0,10.1,3.0]| [1.0,1.0,1.0]|\n",
      "+--------------+--------------+\n",
      "\n"
     ]
    }
   ],
   "source": [
    "# 输出到控制台\n",
    "scaledData.select(\"features\", \"scaledFeatures\").show()"
   ],
   "metadata": {
    "collapsed": false,
    "pycharm": {
     "name": "#%%\n"
    }
   }
  },
  {
   "cell_type": "markdown",
   "source": [
    "### 二、分类算法"
   ],
   "metadata": {
    "collapsed": false,
    "pycharm": {
     "name": "#%% md\n"
    }
   }
  },
  {
   "cell_type": "code",
   "source": [
    "from pyspark.ml.feature import VectorIndexer\n",
    "\n",
    "# 将以 libsvm 格式存储的数据作为 DataFrame加载.\n",
    "data = spark.read.format(\"libsvm\").load(\"../data/mllib/sample_libsvm_data.txt\")"
   ],
   "metadata": {
    "collapsed": false,
    "pycharm": {
     "name": "#%%\n"
    }
   },
   "execution_count": 33,
   "outputs": []
  },
  {
   "cell_type": "code",
   "execution_count": 7,
   "outputs": [
    {
     "name": "stdout",
     "output_type": "stream",
     "text": [
      "+-----+--------------------+\n",
      "|label|            features|\n",
      "+-----+--------------------+\n",
      "|  0.0|(215,[127,128,129...|\n",
      "|  1.0|(215,[158,159,160...|\n",
      "|  1.0|(215,[124,125,126...|\n",
      "|  1.0|(215,[152,153,154...|\n",
      "|  1.0|(215,[151,152,153...|\n",
      "+-----+--------------------+\n",
      "\n"
     ]
    }
   ],
   "source": [
    "data.show()"
   ],
   "metadata": {
    "collapsed": false,
    "pycharm": {
     "name": "#%%\n"
    }
   }
  },
  {
   "cell_type": "code",
   "execution_count": 34,
   "outputs": [],
   "source": [
    "# 用VectorIndexer转换特征列\n",
    "# 设置最大分类特征数为4\n",
    "featureIndexer = VectorIndexer()\\\n",
    "      .setInputCol(\"features\")\\\n",
    "      .setOutputCol(\"indexedFeatures\")\\\n",
    "      .setMaxCategories(4)\\\n",
    "      .fit(data)"
   ],
   "metadata": {
    "collapsed": false,
    "pycharm": {
     "name": "#%%\n"
    }
   }
  },
  {
   "cell_type": "code",
   "execution_count": 35,
   "outputs": [
    {
     "name": "stdout",
     "output_type": "stream",
     "text": [
      "+-----+--------------------+\n",
      "|label|            features|\n",
      "+-----+--------------------+\n",
      "|  0.0|(692,[95,96,97,12...|\n",
      "|  0.0|(692,[98,99,100,1...|\n",
      "|  0.0|(692,[100,101,102...|\n",
      "|  0.0|(692,[121,122,123...|\n",
      "|  0.0|(692,[123,124,125...|\n",
      "|  0.0|(692,[123,124,125...|\n",
      "|  0.0|(692,[123,124,125...|\n",
      "|  0.0|(692,[124,125,126...|\n",
      "|  0.0|(692,[124,125,126...|\n",
      "|  0.0|(692,[124,125,126...|\n",
      "|  0.0|(692,[124,125,126...|\n",
      "|  0.0|(692,[126,127,128...|\n",
      "|  0.0|(692,[126,127,128...|\n",
      "|  0.0|(692,[126,127,128...|\n",
      "|  0.0|(692,[126,127,128...|\n",
      "|  0.0|(692,[126,127,128...|\n",
      "|  0.0|(692,[126,127,128...|\n",
      "|  0.0|(692,[127,128,129...|\n",
      "|  0.0|(692,[127,128,129...|\n",
      "|  0.0|(692,[127,128,129...|\n",
      "+-----+--------------------+\n",
      "only showing top 20 rows\n",
      "\n"
     ]
    }
   ],
   "source": [
    "# 拆分成训练集和测试集(70%训练集，30%测试集). # 后一个参数表示固定随机种子\n",
    "trainingData, testData = data.randomSplit((0.7, 0.3), 1)\n",
    "trainingData.show()"
   ],
   "metadata": {
    "collapsed": false,
    "pycharm": {
     "name": "#%%\n"
    }
   }
  },
  {
   "cell_type": "code",
   "execution_count": 36,
   "outputs": [],
   "source": [
    "from pyspark.ml.regression import DecisionTreeRegressor\n",
    "\n",
    "# 指定执行决策树分类算法的转换器（使用默认参数）\n",
    "dt = DecisionTreeRegressor()\\\n",
    "      .setLabelCol(\"label\")\\\n",
    "      .setFeaturesCol(\"indexedFeatures\")"
   ],
   "metadata": {
    "collapsed": false,
    "pycharm": {
     "name": "#%%\n"
    }
   }
  },
  {
   "cell_type": "code",
   "execution_count": 39,
   "outputs": [
    {
     "name": "stdout",
     "output_type": "stream",
     "text": [
      "+-----+--------------------+\n",
      "|label|            features|\n",
      "+-----+--------------------+\n",
      "|  0.0|(692,[122,123,124...|\n",
      "|  0.0|(692,[122,123,148...|\n",
      "|  0.0|(692,[124,125,126...|\n",
      "|  0.0|(692,[124,125,126...|\n",
      "|  0.0|(692,[125,126,127...|\n",
      "|  0.0|(692,[126,127,128...|\n",
      "|  0.0|(692,[126,127,128...|\n",
      "|  0.0|(692,[150,151,152...|\n",
      "|  0.0|(692,[152,153,154...|\n",
      "|  0.0|(692,[152,153,154...|\n",
      "|  0.0|(692,[153,154,155...|\n",
      "|  0.0|(692,[154,155,156...|\n",
      "|  0.0|(692,[234,235,237...|\n",
      "|  1.0|(692,[97,98,99,12...|\n",
      "|  1.0|(692,[99,100,101,...|\n",
      "|  1.0|(692,[123,124,125...|\n",
      "|  1.0|(692,[124,125,126...|\n",
      "|  1.0|(692,[125,126,127...|\n",
      "|  1.0|(692,[127,128,129...|\n",
      "|  1.0|(692,[127,128,155...|\n",
      "+-----+--------------------+\n",
      "only showing top 20 rows\n",
      "\n"
     ]
    }
   ],
   "source": [
    "from pyspark.ml import Pipeline\n",
    "\n",
    "# 组装成Pipeline\n",
    "pipeline =  Pipeline()\\\n",
    "      .setStages((featureIndexer, dt))\n",
    "\n",
    "# 训练模型.\n",
    "model = pipeline.fit(trainingData)\n",
    "# 用训练好的模型预测测试集的结果\n",
    "predictions = model.transform(testData)\n",
    "# 输出前10条数据\n",
    "predictions.select(\"label\",\"features\").show(20)"
   ],
   "metadata": {
    "collapsed": false,
    "pycharm": {
     "name": "#%%\n"
    }
   }
  },
  {
   "cell_type": "code",
   "execution_count": 38,
   "outputs": [
    {
     "name": "stdout",
     "output_type": "stream",
     "text": [
      "+-----+--------------------+\n",
      "|label|            features|\n",
      "+-----+--------------------+\n",
      "|  0.0|(692,[122,123,124...|\n",
      "|  0.0|(692,[122,123,148...|\n",
      "|  0.0|(692,[124,125,126...|\n",
      "|  0.0|(692,[124,125,126...|\n",
      "|  0.0|(692,[125,126,127...|\n",
      "|  0.0|(692,[126,127,128...|\n",
      "|  0.0|(692,[126,127,128...|\n",
      "|  0.0|(692,[150,151,152...|\n",
      "|  0.0|(692,[152,153,154...|\n",
      "|  0.0|(692,[152,153,154...|\n",
      "|  0.0|(692,[153,154,155...|\n",
      "|  0.0|(692,[154,155,156...|\n",
      "|  0.0|(692,[234,235,237...|\n",
      "|  1.0|(692,[97,98,99,12...|\n",
      "|  1.0|(692,[99,100,101,...|\n",
      "|  1.0|(692,[123,124,125...|\n",
      "|  1.0|(692,[124,125,126...|\n",
      "|  1.0|(692,[125,126,127...|\n",
      "|  1.0|(692,[127,128,129...|\n",
      "|  1.0|(692,[127,128,155...|\n",
      "+-----+--------------------+\n",
      "only showing top 20 rows\n",
      "\n"
     ]
    }
   ],
   "source": [
    "testData.show()"
   ],
   "metadata": {
    "collapsed": false,
    "pycharm": {
     "name": "#%%\n"
    }
   }
  },
  {
   "cell_type": "markdown",
   "source": [
    "### 三、随机森林"
   ],
   "metadata": {
    "collapsed": false,
    "pycharm": {
     "name": "#%% md\n"
    }
   }
  },
  {
   "cell_type": "code",
   "execution_count": 40,
   "outputs": [],
   "source": [
    "from pyspark.ml.classification import RandomForestClassifier\n",
    "from pyspark.ml.feature import StringIndexer, IndexToString\n",
    "\n",
    "# 用StringIndexer转换标签列.\n",
    "labelIndexer = StringIndexer()\\\n",
    "      .setInputCol(\"label\")\\\n",
    "      .setOutputCol(\"indexedLabel\")\\\n",
    "      .fit(data)\n",
    "# 用VectorIndexer转换特征列\n",
    "# 设置最大分类特征数为4\n",
    "featureIndexer = VectorIndexer()\\\n",
    "      .setInputCol(\"features\")\\\n",
    "      .setOutputCol(\"indexedFeatures\")\\\n",
    "      .setMaxCategories(4)\\\n",
    "      .fit(data)\n",
    "\n",
    "# 拆分成训练集和测试集(70%训练集，30%测试集).\n",
    "trainingData, testData = data.randomSplit((0.7, 0.3), 1)\n",
    "\n",
    "# 指定执行随机森林分类算法的转换器\n",
    "rf = RandomForestClassifier()\\\n",
    "      .setLabelCol(\"indexedLabel\")\\\n",
    "      .setFeaturesCol(\"indexedFeatures\")\\\n",
    "      .setNumTrees(10) #设置树的个数\n",
    "\n",
    "# 用IndexToString把预测的索引列转换成原始标签列\n",
    "labelConverter = IndexToString()\\\n",
    "      .setInputCol(\"prediction\")\\\n",
    "      .setOutputCol(\"predictedLabel\")\\\n",
    "      .setLabels(labelIndexer.labels)"
   ],
   "metadata": {
    "collapsed": false,
    "pycharm": {
     "name": "#%%\n"
    }
   }
  },
  {
   "cell_type": "code",
   "execution_count": 41,
   "outputs": [
    {
     "name": "stdout",
     "output_type": "stream",
     "text": [
      "+--------------+-----+--------------------+\n",
      "|predictedLabel|label|            features|\n",
      "+--------------+-----+--------------------+\n",
      "|           0.0|  0.0|(692,[122,123,124...|\n",
      "|           0.0|  0.0|(692,[122,123,148...|\n",
      "|           0.0|  0.0|(692,[124,125,126...|\n",
      "|           0.0|  0.0|(692,[124,125,126...|\n",
      "|           0.0|  0.0|(692,[125,126,127...|\n",
      "|           0.0|  0.0|(692,[126,127,128...|\n",
      "|           0.0|  0.0|(692,[126,127,128...|\n",
      "|           0.0|  0.0|(692,[150,151,152...|\n",
      "|           0.0|  0.0|(692,[152,153,154...|\n",
      "|           0.0|  0.0|(692,[152,153,154...|\n",
      "+--------------+-----+--------------------+\n",
      "only showing top 10 rows\n",
      "\n"
     ]
    }
   ],
   "source": [
    "# 组装成Pipeline.\n",
    "pipeline = Pipeline()\\\n",
    "      .setStages((labelIndexer, featureIndexer, rf, labelConverter))\n",
    "# 训练模型\n",
    "model = pipeline.fit(trainingData)\n",
    "\n",
    "# 用训练好的模型预测测试集的结果\n",
    "predictions = model.transform(testData)\n",
    "\n",
    "# 输出前10条数据\n",
    "predictions.select(\"predictedLabel\", \"label\", \"features\").show(10)"
   ],
   "metadata": {
    "collapsed": false,
    "pycharm": {
     "name": "#%%\n"
    }
   }
  },
  {
   "cell_type": "code",
   "execution_count": 42,
   "outputs": [
    {
     "name": "stdout",
     "output_type": "stream",
     "text": [
      "输出误差 0.03703703703703709\n"
     ]
    }
   ],
   "source": [
    "from pyspark.ml.evaluation import MulticlassClassificationEvaluator\n",
    "\n",
    "# 计算精度和误差\n",
    "evaluator = MulticlassClassificationEvaluator()\\\n",
    "      .setLabelCol(\"indexedLabel\")\\\n",
    "      .setPredictionCol(\"prediction\")\\\n",
    "      .setMetricName(\"accuracy\")\n",
    "accuracy = evaluator.evaluate(predictions)\n",
    "print(r\"输出误差 {}\".format((1.0 - accuracy)))"
   ],
   "metadata": {
    "collapsed": false,
    "pycharm": {
     "name": "#%%\n"
    }
   }
  },
  {
   "cell_type": "code",
   "execution_count": 43,
   "outputs": [
    {
     "name": "stdout",
     "output_type": "stream",
     "text": [
      "输出rfModel的决策过程:\n",
      " RandomForestClassificationModel: uid=RandomForestClassifier_036d84300332, numTrees=10, numClasses=2, numFeatures=692\n",
      "  Tree 0 (weight 1.0):\n",
      "    If (feature 434 <= 70.5)\n",
      "     Predict: 1.0\n",
      "    Else (feature 434 > 70.5)\n",
      "     Predict: 0.0\n",
      "  Tree 1 (weight 1.0):\n",
      "    If (feature 245 <= 16.0)\n",
      "     If (feature 484 <= 5.0)\n",
      "      Predict: 0.0\n",
      "     Else (feature 484 > 5.0)\n",
      "      Predict: 1.0\n",
      "    Else (feature 245 > 16.0)\n",
      "     Predict: 1.0\n",
      "  Tree 2 (weight 1.0):\n",
      "    If (feature 413 <= 4.0)\n",
      "     If (feature 555 <= 58.5)\n",
      "      If (feature 511 <= 15.0)\n",
      "       Predict: 0.0\n",
      "      Else (feature 511 > 15.0)\n",
      "       Predict: 1.0\n",
      "     Else (feature 555 > 58.5)\n",
      "      Predict: 1.0\n",
      "    Else (feature 413 > 4.0)\n",
      "     Predict: 1.0\n",
      "  Tree 3 (weight 1.0):\n",
      "    If (feature 578 <= 6.5)\n",
      "     If (feature 608 <= 5.0)\n",
      "      Predict: 0.0\n",
      "     Else (feature 608 > 5.0)\n",
      "      Predict: 1.0\n",
      "    Else (feature 578 > 6.5)\n",
      "     If (feature 385 <= 4.0)\n",
      "      If (feature 576 <= 70.5)\n",
      "       Predict: 0.0\n",
      "      Else (feature 576 > 70.5)\n",
      "       Predict: 1.0\n",
      "     Else (feature 385 > 4.0)\n",
      "      Predict: 1.0\n",
      "  Tree 4 (weight 1.0):\n",
      "    If (feature 490 <= 27.5)\n",
      "     Predict: 1.0\n",
      "    Else (feature 490 > 27.5)\n",
      "     Predict: 0.0\n",
      "  Tree 5 (weight 1.0):\n",
      "    If (feature 406 <= 10.0)\n",
      "     Predict: 1.0\n",
      "    Else (feature 406 > 10.0)\n",
      "     Predict: 0.0\n",
      "  Tree 6 (weight 1.0):\n",
      "    If (feature 406 <= 22.0)\n",
      "     Predict: 1.0\n",
      "    Else (feature 406 > 22.0)\n",
      "     Predict: 0.0\n",
      "  Tree 7 (weight 1.0):\n",
      "    If (feature 435 <= 32.5)\n",
      "     Predict: 1.0\n",
      "    Else (feature 435 > 32.5)\n",
      "     Predict: 0.0\n",
      "  Tree 8 (weight 1.0):\n",
      "    If (feature 497 <= 1.5)\n",
      "     If (feature 301 <= 27.0)\n",
      "      If (feature 373 <= 3.5)\n",
      "       Predict: 0.0\n",
      "      Else (feature 373 > 3.5)\n",
      "       Predict: 1.0\n",
      "     Else (feature 301 > 27.0)\n",
      "      Predict: 1.0\n",
      "    Else (feature 497 > 1.5)\n",
      "     Predict: 1.0\n",
      "  Tree 9 (weight 1.0):\n",
      "    If (feature 274 <= 6.0)\n",
      "     If (feature 373 <= 3.5)\n",
      "      Predict: 0.0\n",
      "     Else (feature 373 > 3.5)\n",
      "      Predict: 1.0\n",
      "    Else (feature 274 > 6.0)\n",
      "     Predict: 1.0\n",
      "\n"
     ]
    }
   ],
   "source": [
    "from pyspark.ml.classification import RandomForestClassificationModel\n",
    "\n",
    "# 从PipelineModel中取出决策树模型treeModel\n",
    "rfModel = model.stages[2]\n",
    "print(\"输出rfModel的决策过程:\\n {}\".format(rfModel.toDebugString))"
   ],
   "metadata": {
    "collapsed": false,
    "pycharm": {
     "name": "#%%\n"
    }
   }
  },
  {
   "cell_type": "markdown",
   "source": [
    "### 四、聚类"
   ],
   "metadata": {
    "collapsed": false,
    "pycharm": {
     "name": "#%% md\n"
    }
   }
  },
  {
   "cell_type": "code",
   "execution_count": 44,
   "outputs": [],
   "source": [
    "dataset = spark.read.format(\"libsvm\").load(\"../data/mllib/sample_kmeans_data.txt\")"
   ],
   "metadata": {
    "collapsed": false,
    "pycharm": {
     "name": "#%%\n"
    }
   }
  },
  {
   "cell_type": "code",
   "execution_count": 45,
   "outputs": [],
   "source": [
    "from pyspark.ml.clustering import KMeans\n",
    "\n",
    "# 训练模型.\n",
    "# 设置分聚类数setK\n",
    "kmeans = KMeans()\\\n",
    "      .setK(2)\\\n",
    "      .setSeed(1) # 设置随机种子\n",
    "\n",
    "model = kmeans.fit(dataset)\n",
    "# 做出预测\n",
    "predictions = model.transform(dataset)"
   ],
   "metadata": {
    "collapsed": false,
    "pycharm": {
     "name": "#%%\n"
    }
   }
  },
  {
   "cell_type": "code",
   "execution_count": 51,
   "outputs": [
    {
     "name": "stdout",
     "output_type": "stream",
     "text": [
      "轮廓系数 0.9997530305375207\n",
      "输出聚类中心 \n"
     ]
    },
    {
     "data": {
      "text/plain": "[array([9.1, 9.1, 9.1]), array([0.1, 0.1, 0.1])]"
     },
     "execution_count": 51,
     "metadata": {},
     "output_type": "execute_result"
    }
   ],
   "source": [
    "from pyspark.ml.evaluation import ClusteringEvaluator\n",
    "\n",
    "# Evaluate clustering by computing Silhouette score\n",
    "# 基于轮廓系数的聚类评价\n",
    "evaluator = ClusteringEvaluator()\n",
    "silhouette = evaluator.evaluate(predictions)\n",
    "print(r\"轮廓系数 {}\".format(silhouette))\n",
    "# Shows the result.\n",
    "print(\"输出聚类中心 \")\n",
    "model.clusterCenters()"
   ],
   "metadata": {
    "collapsed": false,
    "pycharm": {
     "name": "#%%\n"
    }
   }
  },
  {
   "cell_type": "markdown",
   "source": [
    "### 五、协同过滤实操"
   ],
   "metadata": {
    "collapsed": false,
    "pycharm": {
     "name": "#%% md\n"
    }
   }
  },
  {
   "cell_type": "code",
   "execution_count": 2,
   "outputs": [],
   "source": [
    "from pyspark.sql.types import StringType, StructField, StructType, IntegerType, FloatType, LongType\n",
    "\n",
    "root_path = \"D:/大三下/Big_Data_Application_Spark/datasets/ml-25m/\"\n",
    "\n",
    "# 定义 spark df 的表结构\n",
    "schema = StructType(\n",
    "    [\n",
    "        StructField('userId', IntegerType(), True),\n",
    "        StructField('movieId', IntegerType(), True),\n",
    "        StructField('rating', FloatType(), True),\n",
    "        StructField('timestamp', LongType(), True),\n",
    "    ]\n",
    ")\n",
    "\n",
    "ratings = spark.read\\\n",
    "      .option(\"header\", True)\\\n",
    "      .csv(root_path + \"ratings.csv\", schema=schema)\\\n",
    "      .toDF(\"userId\", \"movieId\", \"rating\", \"timestamp\")"
   ],
   "metadata": {
    "collapsed": false,
    "pycharm": {
     "name": "#%%\n"
    }
   }
  },
  {
   "cell_type": "code",
   "execution_count": 3,
   "outputs": [
    {
     "name": "stdout",
     "output_type": "stream",
     "text": [
      "+------+-------+------+----------+\n",
      "|userId|movieId|rating| timestamp|\n",
      "+------+-------+------+----------+\n",
      "|     1|    296|   5.0|1147880044|\n",
      "|     1|    306|   3.5|1147868817|\n",
      "|     1|    307|   5.0|1147868828|\n",
      "|     1|    665|   5.0|1147878820|\n",
      "|     1|    899|   3.5|1147868510|\n",
      "|     1|   1088|   4.0|1147868495|\n",
      "|     1|   1175|   3.5|1147868826|\n",
      "|     1|   1217|   3.5|1147878326|\n",
      "|     1|   1237|   5.0|1147868839|\n",
      "|     1|   1250|   4.0|1147868414|\n",
      "|     1|   1260|   3.5|1147877857|\n",
      "|     1|   1653|   4.0|1147868097|\n",
      "|     1|   2011|   2.5|1147868079|\n",
      "|     1|   2012|   2.5|1147868068|\n",
      "|     1|   2068|   2.5|1147869044|\n",
      "|     1|   2161|   3.5|1147868609|\n",
      "|     1|   2351|   4.5|1147877957|\n",
      "|     1|   2573|   4.0|1147878923|\n",
      "|     1|   2632|   5.0|1147878248|\n",
      "|     1|   2692|   5.0|1147869100|\n",
      "+------+-------+------+----------+\n",
      "only showing top 20 rows\n",
      "\n"
     ]
    },
    {
     "data": {
      "text/plain": "DataFrame[userId: int, movieId: int, rating: float, timestamp: bigint]"
     },
     "execution_count": 3,
     "metadata": {},
     "output_type": "execute_result"
    }
   ],
   "source": [
    "ratings.show()\n",
    "ratings"
   ],
   "metadata": {
    "collapsed": false,
    "pycharm": {
     "name": "#%%\n"
    }
   }
  },
  {
   "cell_type": "code",
   "execution_count": 4,
   "outputs": [],
   "source": [
    "schema = StructType(\n",
    "    [\n",
    "        StructField('movieId', IntegerType(), True),\n",
    "        StructField('title', StringType(), True),\n",
    "        StructField('genres', StringType(), True),\n",
    "    ]\n",
    ")\n",
    "movies = spark.read\\\n",
    "      .option(\"header\", True)\\\n",
    "      .csv(root_path + \"movies.csv\", schema=schema)\\\n",
    "      .toDF( \"movieId\", \"title\", \"genres\")"
   ],
   "metadata": {
    "collapsed": false,
    "pycharm": {
     "name": "#%%\n"
    }
   }
  },
  {
   "cell_type": "code",
   "execution_count": 6,
   "outputs": [
    {
     "name": "stdout",
     "output_type": "stream",
     "text": [
      "一共有 25000095 条数据，其中电影条数为 59047 ，用户数为 162541\n",
      "一共有 25000095 条数据，其中电影条数为 59047 ，用户数为 162541\n"
     ]
    }
   ],
   "source": [
    "movie_count=ratings.select(\"movieId\").distinct().count()\n",
    "\n",
    "user_count=ratings.select(\"userId\").distinct().count()\n",
    "\n",
    "total_count=ratings.count()\n",
    "\n",
    "print(\"一共有 {} 条数据，其中电影条数为 {} ，用户数为 {}\".format(total_count, movie_count, user_count))"
   ],
   "metadata": {
    "collapsed": false,
    "pycharm": {
     "name": "#%%\n"
    }
   }
  },
  {
   "cell_type": "code",
   "execution_count": 7,
   "outputs": [],
   "source": [
    "training,test = ratings.randomSplit((0.8, 0.2), 1)"
   ],
   "metadata": {
    "collapsed": false,
    "pycharm": {
     "name": "#%%\n"
    }
   }
  },
  {
   "cell_type": "code",
   "execution_count": 8,
   "outputs": [],
   "source": [
    "from pyspark.ml.recommendation import ALS\n",
    "\n",
    "# 设置ALS算法参数\n",
    "\"\"\"\n",
    "setMaxIter(5)//最大迭代次数\n",
    ".setRegParam(0.01)//正则化参数,防止过拟合\n",
    ".setUserCol(\"userId\")//用户对应的列\n",
    ".setItemCol(\"movieId\")//商品对应的列\n",
    ".setRatingCol(\"rating\")//rating对应的列\n",
    ".setColdStartStrategy(\"drop\")//冷启动策略使用\"drop\"，不对NaN进行评估\n",
    "\"\"\"\n",
    "als = ALS()\\\n",
    "    .setMaxIter(5)\\\n",
    "    .setRegParam(0.01)\\\n",
    "    .setUserCol(\"userId\")\\\n",
    "    .setItemCol(\"movieId\")\\\n",
    "    .setRatingCol(\"rating\")\\\n",
    "    .setColdStartStrategy(\"drop\")\n",
    "\n",
    "model = als.fit(training)\n",
    "predictions = model.transform(test)"
   ],
   "metadata": {
    "collapsed": false,
    "pycharm": {
     "name": "#%%\n"
    }
   }
  },
  {
   "cell_type": "code",
   "execution_count": 9,
   "outputs": [],
   "source": [
    "from pyspark.ml.evaluation import RegressionEvaluator\n",
    "\n",
    "# 设置模型评价指标\n",
    "evaluator = RegressionEvaluator()\\\n",
    "            .setMetricName(\"rmse\")\\\n",
    "            .setLabelCol(\"rating\")\\\n",
    "            .setPredictionCol(\"prediction\")"
   ],
   "metadata": {
    "collapsed": false,
    "pycharm": {
     "name": "#%%\n"
    }
   }
  },
  {
   "cell_type": "code",
   "execution_count": 10,
   "outputs": [
    {
     "name": "stdout",
     "output_type": "stream",
     "text": [
      "均方误差为：0.8164297056639642\n"
     ]
    }
   ],
   "source": [
    "rmse = evaluator.evaluate(predictions)\n",
    "print(r\"均方误差为：{}\".format(rmse))"
   ],
   "metadata": {
    "collapsed": false,
    "pycharm": {
     "name": "#%%\n"
    }
   }
  },
  {
   "cell_type": "code",
   "execution_count": 11,
   "outputs": [
    {
     "name": "stderr",
     "output_type": "stream",
     "text": [
      "D:\\Documents\\anaconda3\\envs\\ml\\lib\\site-packages\\pyspark\\sql\\context.py:127: FutureWarning: Deprecated in 3.0.0. Use SparkSession.builder.getOrCreate() instead.\n",
      "  FutureWarning\n"
     ]
    }
   ],
   "source": [
    "# 每个用户推荐的前十个电影\n",
    "userRecs = model.recommendForAllUsers(10)\n",
    "# 每个电影推荐的十个用户\n",
    "movieRecs = model.recommendForAllItems(10)\n",
    "# 为指定的用户组推荐top 10的电影\n",
    "users = ratings.select(\"userId\").distinct().limit(3)\n",
    "userSubsetRecs = model.recommendForUserSubset(users, 10)\n",
    "# 为指定的电影组推荐top 10的用户\n",
    "ms = ratings.select(\"movieId\").distinct().limit(3)\n",
    "movieSubSetRecs = model.recommendForItemSubset(ms, 10)"
   ],
   "metadata": {
    "collapsed": false,
    "pycharm": {
     "name": "#%%\n"
    }
   }
  },
  {
   "cell_type": "code",
   "execution_count": null,
   "outputs": [
    {
     "name": "stdout",
     "output_type": "stream",
     "text": [
      "+------+--------------------+\n",
      "|userId|     recommendations|\n",
      "+------+--------------------+\n",
      "|     1|[{153066, 18.7691...|\n",
      "|     6|[{118542, 13.8124...|\n",
      "|    12|[{198537, 12.1441...|\n",
      "|    13|[{153002, 13.0355...|\n",
      "|    16|[{153002, 13.4138...|\n",
      "|    22|[{160238, 21.5196...|\n",
      "|    26|[{153002, 13.2202...|\n",
      "|    27|[{167534, 16.3352...|\n",
      "|    28|[{154634, 16.3481...|\n",
      "|    31|[{170207, 8.12074...|\n",
      "+------+--------------------+\n",
      "only showing top 10 rows\n",
      "\n"
     ]
    }
   ],
   "source": [
    "userRecs.show(10)\n",
    "movieRecs.show(10)\n",
    "userSubsetRecs.show()"
   ],
   "metadata": {
    "collapsed": false,
    "pycharm": {
     "name": "#%%\n",
     "is_executing": true
    }
   }
  },
  {
   "cell_type": "code",
   "execution_count": null,
   "outputs": [],
   "source": [
    "userSubsetRecs.foreach(row=>println(row))\n",
    "movieSubSetRecs.foreach(row=>println(row))"
   ],
   "metadata": {
    "collapsed": false,
    "pycharm": {
     "name": "#%%\n"
    }
   }
  }
 ],
 "metadata": {
  "kernelspec": {
   "name": "ml",
   "language": "python",
   "display_name": "ml"
  },
  "language_info": {
   "codemirror_mode": {
    "name": "ipython",
    "version": 2
   },
   "file_extension": ".py",
   "mimetype": "text/x-python",
   "name": "python",
   "nbconvert_exporter": "python",
   "pygments_lexer": "ipython2",
   "version": "2.7.6"
  }
 },
 "nbformat": 4,
 "nbformat_minor": 0
}