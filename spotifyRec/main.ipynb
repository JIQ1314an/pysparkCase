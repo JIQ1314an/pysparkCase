{
 "cells": [
  {
   "cell_type": "code",
   "execution_count": 1,
   "metadata": {
    "collapsed": true
   },
   "outputs": [],
   "source": [
    "from pyspark.sql import SparkSession\n",
    "\n",
    "spark = SparkSession \\\n",
    "        .builder \\\n",
    "        .appName(\"streaming\") \\\n",
    "        .master(\"local[4]\") \\\n",
    "        .getOrCreate()\n",
    "spark.sparkContext.setLogLevel(\"ERROR\")"
   ]
  },
  {
   "cell_type": "code",
   "execution_count": 2,
   "outputs": [
    {
     "name": "stdout",
     "output_type": "stream",
     "text": [
      "Spark Consuming...\n"
     ]
    }
   ],
   "source": [
    "from kafka_test.SparkKafkaConsumer import Comsumer\n",
    "\n",
    "# 启动消费者\n",
    "Comsumer(spark).start_consumer()"
   ],
   "metadata": {
    "collapsed": false,
    "pycharm": {
     "name": "#%%\n"
    }
   }
  },
  {
   "cell_type": "code",
   "execution_count": 12,
   "outputs": [
    {
     "name": "stdout",
     "output_type": "stream",
     "text": [
      "46\n",
      "+--------+--------------------+--------------------+----------+-----------+--------+--------------------+--------------------+------------+------------+------+---+--------+----+-----------+------------+----------------+--------+-------+-------+--------------+--------------------+\n",
      "|order_id|                  id|                name|popularity|duration_ms|explicit|             artists|          id_artists|release_date|danceability|energy|key|loudness|mode|speechiness|acousticness|instrumentalness|liveness|valence|  tempo|time_signature|           timestamp|\n",
      "+--------+--------------------+--------------------+----------+-----------+--------+--------------------+--------------------+------------+------------+------+---+--------+----+-----------+------------+----------------+--------+-------+-------+--------------+--------------------+\n",
      "|       0|3BFRqZFLSrqtQr6cj...|   Ain't Misbehavin'|        51|   237773.0|       0|          FatsWaller| DYWCXTkNqGFZIfSrWEa|        1926|       0.515| 0.222|  0| -16.918|   0|     0.0575|       0.821|         0.00193|    0.19|   0.35| 98.358|           4.0|1970-01-01 07:59:...|\n",
      "|       1|61znp1Iy11bdJ2YAb...|      Sing Sing Sing|        51|   520133.0|       0|        BennyGoodman|pBuKaLHJlIlqYxQQa...|        1928|       0.626| 0.744|  2|  -9.189|   0|     0.0662|       0.847|           0.892|   0.145|  0.259|113.117|           4.0|1970-01-01 07:59:...|\n",
      "|       2|0RNxWy0PC3AyH4ThH...|      Mack the Knife|        55|   201467.0|       0|      LouisArmstrong|  eLuQmkaCobbVDHceek|        1929|       0.673| 0.377|  0| -14.141|   1|     0.0697|       0.586|             0.0|   0.332|  0.713| 88.973|           4.0|1970-01-01 07:59:...|\n",
      "|       3|1LGqJ3nvxpVXDWpEz...|           All of Me|        65|   181440.0|       0|       BillieHoliday|  YzCsTRbdQkhlghPIrp|        1933|       0.504|0.0644|  2| -14.754|   0|     0.0408|       0.972|         4.36E-6|   0.174|  0.403|106.994|           5.0|1970-01-01 07:59:...|\n",
      "|       4|0Otf1ZfYNIjhqFIuJ...|         Tea for Two|        53|   193867.0|       0|            ArtTatum|   DtSOCXYUoEVKNgIKq|        1933|       0.358| 0.452|  1|  -13.02|   1|     0.0347|       0.991|           0.864|    0.14|  0.525|166.973|           4.0|1970-01-01 07:59:...|\n",
      "|       5|62Xj6x2LSWv47PtRA...|          Summertime|        53|   173493.0|       0|       BillieHoliday|  YzCsTRbdQkhlghPIrp|        1933|       0.628| 0.226| 10| -14.075|   0|     0.0371|       0.903|         5.66E-6|   0.171|  0.608| 99.392|           4.0|1970-01-01 07:59:...|\n",
      "|       6|3d3aPk50dBMA2YbA7...|Easy Living (with...|        51|   182400.0|       0|BillieHolidayTedd...|YzCsTRbdQkhlghPIr...|        1933|        0.64|  0.23|  8| -10.651|   1|     0.0624|       0.965|         5.36E-5|   0.101|  0.663| 88.868|           4.0|1970-01-01 07:59:...|\n",
      "|       7|41CHb7F7SXcmkj0h8...|Gloomy Sunday (wi...|        51|   190800.0|       0|BillieHolidayTedd...|YzCsTRbdQkhlghPIr...|        1933|       0.484|0.0823|  7| -11.273|   0|     0.0364|        0.98|         2.47E-6|   0.159|  0.191|127.089|           3.0|1970-01-01 07:59:...|\n",
      "|       8|5qWXXF3On2xUfVu1N...|      Cheek to Cheek|        51|   198107.0|       0|         FredAstaire|BtDAwCZhRnPrJtbVgQNX|        1935|       0.506|  0.18|  0| -12.184|   1|     0.0443|       0.908|         2.35E-6|  0.0652|  0.665| 161.51|           4.0|1970-01-01 07:59:...|\n",
      "|       9|1TrGdXSgiBm8W68D2...|    Cross Road Blues|        55|   149560.0|       0|       RobertJohnson|     fMDDzIcMuHxHogy|        1937|       0.675| 0.311|  9| -11.959|   1|     0.0525|        0.93|         2.61E-4|   0.102|  0.638| 97.159|           4.0|1970-01-01 07:59:...|\n",
      "|      10|0p5zJBYoJOzVLBiDe...|Where Did You Sle...|        53|   181893.0|       0|           LeadBelly| OvflytXSXWFMcwsJACC|  1939-09-03|        0.57| 0.241|  4| -12.138|   1|     0.0473|       0.948|          0.0224|   0.111|  0.543|115.352|           3.0|1970-01-01 07:59:...|\n",
      "|      11|54h1RKrrFJDsNOfhw...|  In the Mood - Live|        52|   209573.0|       0|         GlennMiller|  aAHdBHweTmFcRzmswc|        1939|       0.463| 0.654|  8|   -9.72|   1|     0.0659|       0.824|           0.917|   0.372|  0.592|175.204|           4.0|1970-01-01 07:59:...|\n",
      "|      12|0AtVA7axXKVFnjQsN...|               Dream|        56|   168158.0|       0|       ThePiedPipers|  oETcYqIefZpDejymAd|  1942-06-20|       0.198| 0.276|  7| -10.588|   1|     0.0289|       0.919|         0.00261|    0.21| 0.0692| 88.422|           3.0|1970-01-01 07:59:...|\n",
      "|      13|4so0Wek9Ig1p6CRCH...|     White Christmas|        56|   177480.0|       0|BingCrosbyKenDarb...|ZjFtWeHPXNFeKSUeS...|  1942-01-01|       0.317| 0.158|  9| -16.485|   1|     0.0381|       0.673|           0.353|   0.338|  0.247|130.503|           3.0|1970-01-01 07:59:...|\n",
      "|      14|2W889aLIKxULEefrl...|Someone to Watch ...|        54|   198000.0|       0|        FrankSinatra|   MxqyypSjfkZZLQVxS|        1943|       0.204| 0.151|  2| -17.842|   1|     0.0418|       0.947|         9.15E-6|   0.321|  0.134| 91.783|           3.0|1970-01-01 07:59:...|\n",
      "|      15|4Pnzw1nLOpDNV6MKI...|Nancy (With the L...|        55|   199000.0|       0|        FrankSinatra|   MxqyypSjfkZZLQVxS|        1944|       0.295|0.0826|  1| -19.569|   1|     0.0367|       0.984|         3.58E-4|   0.156|  0.169|  128.6|           3.0|1970-01-01 07:59:...|\n",
      "|      16|7GLmfKOe5BfOXk733...|Saturday Night (I...|        54|   163000.0|       0|        FrankSinatra|   MxqyypSjfkZZLQVxS|        1944|       0.561| 0.335|  9| -11.093|   0|     0.0499|        0.84|         1.52E-6|   0.788|   0.59|126.974|           4.0|1970-01-01 07:59:...|\n",
      "|      17|6kD1SNGPkfX9LwaGd...|Put Your Dreams A...|        53|   186173.0|       0|        FrankSinatra|   MxqyypSjfkZZLQVxS|        1944|       0.197|0.0546|  1| -22.411|   1|     0.0346|        0.95|           0.276|   0.152|    0.1|  90.15|           5.0|1970-01-01 07:59:...|\n",
      "|      18|0qB213IfGN0JXXm9a...|Again (with The M...|        61|   167907.0|       0| DorisDayTheMellomen|ESGpjaLvUKklENalT...|        1945|       0.495|0.0209|  3| -21.329|   1|     0.0348|       0.981|         1.13E-6|  0.0753|  0.145| 62.588|           4.0|1970-01-01 07:59:...|\n",
      "|      19|2PcbVKT28p9mOlWBD...|I Can't Quit You ...|        51|   399173.0|       0|         WillieDixon|  vWPpMkcqZbuZLdXjKY|        1947|       0.469| 0.236|  7| -16.981|   1|     0.0364|       0.407|          0.0434|   0.215|  0.415| 82.232|           4.0|1970-01-01 07:59:...|\n",
      "+--------+--------------------+--------------------+----------+-----------+--------+--------------------+--------------------+------------+------------+------+---+--------+----+-----------+------------+----------------+--------+-------+-------+--------------+--------------------+\n",
      "only showing top 20 rows\n",
      "\n"
     ]
    }
   ],
   "source": [
    "# 测试是否将采集的数据存储到表中\n",
    "result = spark.sql(\"SELECT * FROM testedTable1\")\n",
    "print(result.count())\n",
    "result.show()"
   ],
   "metadata": {
    "collapsed": false,
    "pycharm": {
     "name": "#%%\n"
    }
   }
  },
  {
   "cell_type": "code",
   "execution_count": 13,
   "outputs": [
    {
     "data": {
      "text/plain": "DataFrame[name: string, popularity: int, artists: string, danceability: double, energy: double, key: int, loudness: double, mode: int, speechiness: double, acousticness: double, instrumentalness: double, liveness: double, valence: double, tempo: double]"
     },
     "execution_count": 13,
     "metadata": {},
     "output_type": "execute_result"
    }
   ],
   "source": [
    "df = spark.sql(\"SELECT * FROM testedTable1\")\n",
    "df = df.sort(df.release_date.desc())\n",
    "# 从采集的数据集中删除不需要的列\n",
    "df = df.drop('order_id', 'id', 'explicit', 'release_date',\n",
    "             'id_artists', 'time_signature', 'duration_ms', 'timestamp')\n",
    "df"
   ],
   "metadata": {
    "collapsed": false,
    "pycharm": {
     "name": "#%%\n"
    }
   }
  },
  {
   "cell_type": "code",
   "execution_count": 14,
   "outputs": [],
   "source": [
    "from spotifyRec.song_data_processing import SongDataProcessor\n",
    "add_df = SongDataProcessor().get_random_song()\n",
    "df_sp = spark.createDataFrame(add_df)\n",
    "# 将我们喜欢的音乐加入到这个数据集中  由于两者列名顺序不同，需要使用unionByName(类型按照为df原先的类型)\n",
    "union_df = df.unionByName(df_sp)"
   ],
   "metadata": {
    "collapsed": false,
    "pycharm": {
     "name": "#%%\n"
    }
   }
  },
  {
   "cell_type": "code",
   "execution_count": 16,
   "outputs": [
    {
     "name": "stdout",
     "output_type": "stream",
     "text": [
      "16\n"
     ]
    }
   ],
   "source": [
    "from spotifyRec.song_data_processing import SongDataProcessor\n",
    "\n",
    "assembled_data = SongDataProcessor().feature_vectorise(union_df)\n",
    "output_df = SongDataProcessor().kmeans_cluster(assembled_data)\n",
    "data_df = SongDataProcessor().rec_prior_preparation(output_df)"
   ],
   "metadata": {
    "collapsed": false,
    "pycharm": {
     "name": "#%%\n"
    }
   }
  },
  {
   "cell_type": "code",
   "execution_count": 17,
   "outputs": [
    {
     "name": "stdout",
     "output_type": "stream",
     "text": [
      "Starlight (Taylor's Version) 2\n"
     ]
    },
    {
     "data": {
      "text/plain": "                                                 name  popularity  \\\n80                                     Cheek to Cheek          51   \n46                                          Mona Lisa          56   \n78                                 In the Mood - Live          52   \n65  Whatever Will Be Will Be (Que Sera Sera) (with...          62   \n55                                Singin' In The Rain          53   \n76                                    White Christmas          56   \n19                   I Saw The Light - Single Version          54   \n77                     Where Did You Sleep Last Night          53   \n20                                          Manhattan          51   \n53                         Autumn Leaves - Remastered          52   \n\n                                              artists  danceability  energy  \\\n80                                        FredAstaire         0.506   0.180   \n46                                        NatKingCole         0.241   0.237   \n78                                        GlennMiller         0.463   0.654   \n65                     DorisDayFrankDeVolHisOrchestra         0.416   0.341   \n55                                          GeneKelly         0.354   0.241   \n76  BingCrosbyKenDarbySingersJohnScottTrotterHisOr...         0.317   0.158   \n19                                       HankWilliams         0.349   0.265   \n77                                          LeadBelly         0.570   0.241   \n20                                     EllaFitzgerald         0.430   0.278   \n53                                        NatKingCole         0.211   0.348   \n\n    key  loudness  mode  speechiness  acousticness  instrumentalness  \\\n80    0   -12.184     1       0.0443         0.908          0.000002   \n46    1   -12.201     1       0.0371         0.952          0.000000   \n78    8    -9.720     1       0.0659         0.824          0.917000   \n65    9   -10.749     1       0.0391         0.864          0.000000   \n55    5   -13.811     1       0.0334         0.889          0.000274   \n76    9   -16.485     1       0.0381         0.673          0.353000   \n19    7   -11.381     1       0.0324         0.950          0.000118   \n77    4   -12.138     1       0.0473         0.948          0.022400   \n20   10   -11.064     1       0.0357         0.867          0.000000   \n53    2   -10.120     0       0.0326         0.939          0.000520   \n\n    liveness  valence    tempo  \n80    0.0652   0.6650  161.510  \n46    0.1130   0.3030  174.578  \n78    0.3720   0.5920  175.204  \n65    0.7240   0.7760  177.229  \n55    0.1650   0.4080  135.646  \n76    0.3380   0.2470  130.503  \n19    0.1650   0.4800  204.656  \n77    0.1110   0.5430  115.352  \n20    0.0892   0.4150  113.579  \n53    0.3840   0.0981   86.868  ",
      "text/html": "<div>\n<style scoped>\n    .dataframe tbody tr th:only-of-type {\n        vertical-align: middle;\n    }\n\n    .dataframe tbody tr th {\n        vertical-align: top;\n    }\n\n    .dataframe thead th {\n        text-align: right;\n    }\n</style>\n<table border=\"1\" class=\"dataframe\">\n  <thead>\n    <tr style=\"text-align: right;\">\n      <th></th>\n      <th>name</th>\n      <th>popularity</th>\n      <th>artists</th>\n      <th>danceability</th>\n      <th>energy</th>\n      <th>key</th>\n      <th>loudness</th>\n      <th>mode</th>\n      <th>speechiness</th>\n      <th>acousticness</th>\n      <th>instrumentalness</th>\n      <th>liveness</th>\n      <th>valence</th>\n      <th>tempo</th>\n    </tr>\n  </thead>\n  <tbody>\n    <tr>\n      <th>80</th>\n      <td>Cheek to Cheek</td>\n      <td>51</td>\n      <td>FredAstaire</td>\n      <td>0.506</td>\n      <td>0.180</td>\n      <td>0</td>\n      <td>-12.184</td>\n      <td>1</td>\n      <td>0.0443</td>\n      <td>0.908</td>\n      <td>0.000002</td>\n      <td>0.0652</td>\n      <td>0.6650</td>\n      <td>161.510</td>\n    </tr>\n    <tr>\n      <th>46</th>\n      <td>Mona Lisa</td>\n      <td>56</td>\n      <td>NatKingCole</td>\n      <td>0.241</td>\n      <td>0.237</td>\n      <td>1</td>\n      <td>-12.201</td>\n      <td>1</td>\n      <td>0.0371</td>\n      <td>0.952</td>\n      <td>0.000000</td>\n      <td>0.1130</td>\n      <td>0.3030</td>\n      <td>174.578</td>\n    </tr>\n    <tr>\n      <th>78</th>\n      <td>In the Mood - Live</td>\n      <td>52</td>\n      <td>GlennMiller</td>\n      <td>0.463</td>\n      <td>0.654</td>\n      <td>8</td>\n      <td>-9.720</td>\n      <td>1</td>\n      <td>0.0659</td>\n      <td>0.824</td>\n      <td>0.917000</td>\n      <td>0.3720</td>\n      <td>0.5920</td>\n      <td>175.204</td>\n    </tr>\n    <tr>\n      <th>65</th>\n      <td>Whatever Will Be Will Be (Que Sera Sera) (with...</td>\n      <td>62</td>\n      <td>DorisDayFrankDeVolHisOrchestra</td>\n      <td>0.416</td>\n      <td>0.341</td>\n      <td>9</td>\n      <td>-10.749</td>\n      <td>1</td>\n      <td>0.0391</td>\n      <td>0.864</td>\n      <td>0.000000</td>\n      <td>0.7240</td>\n      <td>0.7760</td>\n      <td>177.229</td>\n    </tr>\n    <tr>\n      <th>55</th>\n      <td>Singin' In The Rain</td>\n      <td>53</td>\n      <td>GeneKelly</td>\n      <td>0.354</td>\n      <td>0.241</td>\n      <td>5</td>\n      <td>-13.811</td>\n      <td>1</td>\n      <td>0.0334</td>\n      <td>0.889</td>\n      <td>0.000274</td>\n      <td>0.1650</td>\n      <td>0.4080</td>\n      <td>135.646</td>\n    </tr>\n    <tr>\n      <th>76</th>\n      <td>White Christmas</td>\n      <td>56</td>\n      <td>BingCrosbyKenDarbySingersJohnScottTrotterHisOr...</td>\n      <td>0.317</td>\n      <td>0.158</td>\n      <td>9</td>\n      <td>-16.485</td>\n      <td>1</td>\n      <td>0.0381</td>\n      <td>0.673</td>\n      <td>0.353000</td>\n      <td>0.3380</td>\n      <td>0.2470</td>\n      <td>130.503</td>\n    </tr>\n    <tr>\n      <th>19</th>\n      <td>I Saw The Light - Single Version</td>\n      <td>54</td>\n      <td>HankWilliams</td>\n      <td>0.349</td>\n      <td>0.265</td>\n      <td>7</td>\n      <td>-11.381</td>\n      <td>1</td>\n      <td>0.0324</td>\n      <td>0.950</td>\n      <td>0.000118</td>\n      <td>0.1650</td>\n      <td>0.4800</td>\n      <td>204.656</td>\n    </tr>\n    <tr>\n      <th>77</th>\n      <td>Where Did You Sleep Last Night</td>\n      <td>53</td>\n      <td>LeadBelly</td>\n      <td>0.570</td>\n      <td>0.241</td>\n      <td>4</td>\n      <td>-12.138</td>\n      <td>1</td>\n      <td>0.0473</td>\n      <td>0.948</td>\n      <td>0.022400</td>\n      <td>0.1110</td>\n      <td>0.5430</td>\n      <td>115.352</td>\n    </tr>\n    <tr>\n      <th>20</th>\n      <td>Manhattan</td>\n      <td>51</td>\n      <td>EllaFitzgerald</td>\n      <td>0.430</td>\n      <td>0.278</td>\n      <td>10</td>\n      <td>-11.064</td>\n      <td>1</td>\n      <td>0.0357</td>\n      <td>0.867</td>\n      <td>0.000000</td>\n      <td>0.0892</td>\n      <td>0.4150</td>\n      <td>113.579</td>\n    </tr>\n    <tr>\n      <th>53</th>\n      <td>Autumn Leaves - Remastered</td>\n      <td>52</td>\n      <td>NatKingCole</td>\n      <td>0.211</td>\n      <td>0.348</td>\n      <td>2</td>\n      <td>-10.120</td>\n      <td>0</td>\n      <td>0.0326</td>\n      <td>0.939</td>\n      <td>0.000520</td>\n      <td>0.3840</td>\n      <td>0.0981</td>\n      <td>86.868</td>\n    </tr>\n  </tbody>\n</table>\n</div>"
     },
     "execution_count": 17,
     "metadata": {},
     "output_type": "execute_result"
    }
   ],
   "source": [
    "from spotifyRec.recommender import SpotifyRecommender\n",
    "import pandas as pd\n",
    "\n",
    "recommend_num = 10\n",
    "liked_song_name = add_df.iloc[-1]['name'] # 获取用户收藏音乐的名称\n",
    "value_cate = data_df.iloc[-1]['prediction'] # 用户收藏音乐对应的类别（k-means预测的）\n",
    "print(liked_song_name, value_cate)\n",
    "\n",
    "filtered_data = data_df[data_df['prediction'] == 1]\n",
    "recommender = SpotifyRecommender(filtered_data)\n",
    "rec_song = recommender.spotify_recommendations(recommend_num)\n",
    "rec_song"
   ],
   "metadata": {
    "collapsed": false,
    "pycharm": {
     "name": "#%%\n"
    }
   }
  },
  {
   "cell_type": "code",
   "execution_count": null,
   "outputs": [],
   "source": [],
   "metadata": {
    "collapsed": false,
    "pycharm": {
     "name": "#%%\n"
    }
   }
  }
 ],
 "metadata": {
  "kernelspec": {
   "name": "ml",
   "language": "python",
   "display_name": "ml"
  },
  "language_info": {
   "codemirror_mode": {
    "name": "ipython",
    "version": 2
   },
   "file_extension": ".py",
   "mimetype": "text/x-python",
   "name": "python",
   "nbconvert_exporter": "python",
   "pygments_lexer": "ipython2",
   "version": "2.7.6"
  }
 },
 "nbformat": 4,
 "nbformat_minor": 0
}