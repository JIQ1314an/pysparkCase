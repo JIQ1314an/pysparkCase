{
 "cells": [
  {
   "cell_type": "markdown",
   "metadata": {
    "collapsed": true,
    "pycharm": {
     "name": "#%% md\n"
    }
   },
   "source": [
    "### 1. Spark消费Kafka中实时采集的音乐数据"
   ]
  },
  {
   "cell_type": "code",
   "execution_count": 281,
   "outputs": [],
   "source": [
    "import numpy as np\n",
    "from pyspark.sql import SparkSession\n",
    "from pyspark.sql.functions import *\n",
    "\n",
    "kafka_topic_name = \"songTopic\"\n",
    "kafka_bootstrap_servers = 'node120:9092'\n",
    "spark = SparkSession \\\n",
    "        .builder \\\n",
    "        .appName(\"streaming\") \\\n",
    "        .master(\"local[4]\") \\\n",
    "        .getOrCreate()\n",
    "#设置日志级别\n",
    "spark.sparkContext.setLogLevel(\"ERROR\")"
   ],
   "metadata": {
    "collapsed": false,
    "pycharm": {
     "name": "#%%\n"
    }
   }
  },
  {
   "cell_type": "code",
   "execution_count": 282,
   "outputs": [],
   "source": [
    "#加载Kafka中的数据\n",
    "songs_df = spark \\\n",
    "    .readStream \\\n",
    "    .format(\"kafka\") \\\n",
    "    .option(\"kafka.bootstrap.servers\", kafka_bootstrap_servers) \\\n",
    "    .option(\"subscribe\", kafka_topic_name) \\\n",
    "    .option(\"startingOffsets\", \"latest\") \\\n",
    "    .load()"
   ],
   "metadata": {
    "collapsed": false,
    "pycharm": {
     "name": "#%%\n"
    }
   }
  },
  {
   "cell_type": "code",
   "execution_count": 283,
   "outputs": [],
   "source": [
    "songs_df1 = songs_df.selectExpr(\"CAST(value AS STRING)\", \"timestamp\")\n",
    "\n",
    "songs_schema_string = \"order_id INT,id STRING, name STRING,popularity INT, \" \\\n",
    "                      \"duration_ms DOUBLE, explicit INT, \" \\\n",
    "                      + \"artists STRING, id_artists STRING, release_date STRING, \" \\\n",
    "                      + \"danceability DOUBLE,\" \\\n",
    "                      + \"energy DOUBLE, key INT, loudness DOUBLE, \" \\\n",
    "                      + \"mode INT,\" \\\n",
    "                      + \"speechiness DOUBLE,\" \\\n",
    "                      + \"acousticness DOUBLE, instrumentalness DOUBLE, liveness DOUBLE, \" \\\n",
    "                      + \"valence DOUBLE, tempo DOUBLE, time_signature DOUBLE\"\n",
    "\n",
    "songs_df2 = songs_df1 \\\n",
    "    .select(from_csv(col(\"value\"), songs_schema_string) \\\n",
    "     .alias(\"song\"), \"timestamp\")\n",
    "\n",
    "songs_df3 = songs_df2.select(\"song.*\", \"timestamp\")\n",
    "songs_df3.createOrReplaceTempView(\"song_find\")"
   ],
   "metadata": {
    "collapsed": false,
    "pycharm": {
     "name": "#%%\n"
    }
   }
  },
  {
   "cell_type": "code",
   "execution_count": 284,
   "outputs": [],
   "source": [
    "#获取音乐数据\n",
    "song_find_text = spark.sql(\"SELECT * FROM song_find\")"
   ],
   "metadata": {
    "collapsed": false,
    "pycharm": {
     "name": "#%%\n"
    }
   }
  },
  {
   "cell_type": "code",
   "execution_count": 285,
   "outputs": [
    {
     "ename": "IllegalArgumentException",
     "evalue": "Cannot start query with name testedTable1 as a query with that name is already active in this SparkSession",
     "output_type": "error",
     "traceback": [
      "\u001B[1;31m---------------------------------------------------------------------------\u001B[0m",
      "\u001B[1;31mIllegalArgumentException\u001B[0m                  Traceback (most recent call last)",
      "\u001B[1;32m<ipython-input-285-0d74211e1519>\u001B[0m in \u001B[0;36m<module>\u001B[1;34m\u001B[0m\n\u001B[0;32m      6\u001B[0m         \u001B[1;33m.\u001B[0m\u001B[0moption\u001B[0m\u001B[1;33m(\u001B[0m\u001B[1;34m\"truncate\"\u001B[0m\u001B[1;33m,\u001B[0m \u001B[1;34m\"false\"\u001B[0m\u001B[1;33m)\u001B[0m\u001B[0;31m \u001B[0m\u001B[0;31m\\\u001B[0m\u001B[1;33m\u001B[0m\u001B[1;33m\u001B[0m\u001B[0m\n\u001B[0;32m      7\u001B[0m         \u001B[1;33m.\u001B[0m\u001B[0mformat\u001B[0m\u001B[1;33m(\u001B[0m\u001B[1;34m\"memory\"\u001B[0m\u001B[1;33m)\u001B[0m\u001B[0;31m \u001B[0m\u001B[0;31m\\\u001B[0m\u001B[1;33m\u001B[0m\u001B[1;33m\u001B[0m\u001B[0m\n\u001B[1;32m----> 8\u001B[1;33m         \u001B[1;33m.\u001B[0m\u001B[0mqueryName\u001B[0m\u001B[1;33m(\u001B[0m\u001B[1;34m\"testedTable1\"\u001B[0m\u001B[1;33m)\u001B[0m\u001B[0;31m \u001B[0m\u001B[0;31m\\\u001B[0m\u001B[1;33m\u001B[0m\u001B[1;33m\u001B[0m\u001B[0m\n\u001B[0m\u001B[0;32m      9\u001B[0m         \u001B[1;33m.\u001B[0m\u001B[0mstart\u001B[0m\u001B[1;33m(\u001B[0m\u001B[1;33m)\u001B[0m\u001B[1;33m\u001B[0m\u001B[1;33m\u001B[0m\u001B[0m\n\u001B[0;32m     10\u001B[0m \u001B[0msongs_agg_write_stream\u001B[0m\u001B[1;33m.\u001B[0m\u001B[0mawaitTermination\u001B[0m\u001B[1;33m(\u001B[0m\u001B[1;36m1\u001B[0m\u001B[1;33m)\u001B[0m\u001B[1;33m\u001B[0m\u001B[1;33m\u001B[0m\u001B[0m\n",
      "\u001B[1;32mD:\\Documents\\anaconda3\\envs\\ml\\lib\\site-packages\\pyspark\\sql\\streaming.py\u001B[0m in \u001B[0;36mstart\u001B[1;34m(self, path, format, outputMode, partitionBy, queryName, **options)\u001B[0m\n\u001B[0;32m   1200\u001B[0m             \u001B[0mself\u001B[0m\u001B[1;33m.\u001B[0m\u001B[0mqueryName\u001B[0m\u001B[1;33m(\u001B[0m\u001B[0mqueryName\u001B[0m\u001B[1;33m)\u001B[0m\u001B[1;33m\u001B[0m\u001B[1;33m\u001B[0m\u001B[0m\n\u001B[0;32m   1201\u001B[0m         \u001B[1;32mif\u001B[0m \u001B[0mpath\u001B[0m \u001B[1;32mis\u001B[0m \u001B[1;32mNone\u001B[0m\u001B[1;33m:\u001B[0m\u001B[1;33m\u001B[0m\u001B[1;33m\u001B[0m\u001B[0m\n\u001B[1;32m-> 1202\u001B[1;33m             \u001B[1;32mreturn\u001B[0m \u001B[0mself\u001B[0m\u001B[1;33m.\u001B[0m\u001B[0m_sq\u001B[0m\u001B[1;33m(\u001B[0m\u001B[0mself\u001B[0m\u001B[1;33m.\u001B[0m\u001B[0m_jwrite\u001B[0m\u001B[1;33m.\u001B[0m\u001B[0mstart\u001B[0m\u001B[1;33m(\u001B[0m\u001B[1;33m)\u001B[0m\u001B[1;33m)\u001B[0m\u001B[1;33m\u001B[0m\u001B[1;33m\u001B[0m\u001B[0m\n\u001B[0m\u001B[0;32m   1203\u001B[0m         \u001B[1;32melse\u001B[0m\u001B[1;33m:\u001B[0m\u001B[1;33m\u001B[0m\u001B[1;33m\u001B[0m\u001B[0m\n\u001B[0;32m   1204\u001B[0m             \u001B[1;32mreturn\u001B[0m \u001B[0mself\u001B[0m\u001B[1;33m.\u001B[0m\u001B[0m_sq\u001B[0m\u001B[1;33m(\u001B[0m\u001B[0mself\u001B[0m\u001B[1;33m.\u001B[0m\u001B[0m_jwrite\u001B[0m\u001B[1;33m.\u001B[0m\u001B[0mstart\u001B[0m\u001B[1;33m(\u001B[0m\u001B[0mpath\u001B[0m\u001B[1;33m)\u001B[0m\u001B[1;33m)\u001B[0m\u001B[1;33m\u001B[0m\u001B[1;33m\u001B[0m\u001B[0m\n",
      "\u001B[1;32mD:\\Documents\\anaconda3\\envs\\ml\\lib\\site-packages\\py4j\\java_gateway.py\u001B[0m in \u001B[0;36m__call__\u001B[1;34m(self, *args)\u001B[0m\n\u001B[0;32m   1320\u001B[0m         \u001B[0manswer\u001B[0m \u001B[1;33m=\u001B[0m \u001B[0mself\u001B[0m\u001B[1;33m.\u001B[0m\u001B[0mgateway_client\u001B[0m\u001B[1;33m.\u001B[0m\u001B[0msend_command\u001B[0m\u001B[1;33m(\u001B[0m\u001B[0mcommand\u001B[0m\u001B[1;33m)\u001B[0m\u001B[1;33m\u001B[0m\u001B[1;33m\u001B[0m\u001B[0m\n\u001B[0;32m   1321\u001B[0m         return_value = get_return_value(\n\u001B[1;32m-> 1322\u001B[1;33m             answer, self.gateway_client, self.target_id, self.name)\n\u001B[0m\u001B[0;32m   1323\u001B[0m \u001B[1;33m\u001B[0m\u001B[0m\n\u001B[0;32m   1324\u001B[0m         \u001B[1;32mfor\u001B[0m \u001B[0mtemp_arg\u001B[0m \u001B[1;32min\u001B[0m \u001B[0mtemp_args\u001B[0m\u001B[1;33m:\u001B[0m\u001B[1;33m\u001B[0m\u001B[1;33m\u001B[0m\u001B[0m\n",
      "\u001B[1;32mD:\\Documents\\anaconda3\\envs\\ml\\lib\\site-packages\\pyspark\\sql\\utils.py\u001B[0m in \u001B[0;36mdeco\u001B[1;34m(*a, **kw)\u001B[0m\n\u001B[0;32m    115\u001B[0m                 \u001B[1;31m# Hide where the exception came from that shows a non-Pythonic\u001B[0m\u001B[1;33m\u001B[0m\u001B[1;33m\u001B[0m\u001B[1;33m\u001B[0m\u001B[0m\n\u001B[0;32m    116\u001B[0m                 \u001B[1;31m# JVM exception message.\u001B[0m\u001B[1;33m\u001B[0m\u001B[1;33m\u001B[0m\u001B[1;33m\u001B[0m\u001B[0m\n\u001B[1;32m--> 117\u001B[1;33m                 \u001B[1;32mraise\u001B[0m \u001B[0mconverted\u001B[0m \u001B[1;32mfrom\u001B[0m \u001B[1;32mNone\u001B[0m\u001B[1;33m\u001B[0m\u001B[1;33m\u001B[0m\u001B[0m\n\u001B[0m\u001B[0;32m    118\u001B[0m             \u001B[1;32melse\u001B[0m\u001B[1;33m:\u001B[0m\u001B[1;33m\u001B[0m\u001B[1;33m\u001B[0m\u001B[0m\n\u001B[0;32m    119\u001B[0m                 \u001B[1;32mraise\u001B[0m\u001B[1;33m\u001B[0m\u001B[1;33m\u001B[0m\u001B[0m\n",
      "\u001B[1;31mIllegalArgumentException\u001B[0m: Cannot start query with name testedTable1 as a query with that name is already active in this SparkSession"
     ]
    }
   ],
   "source": [
    "#输出到新的表中【testedTable5】\n",
    "songs_agg_write_stream = song_find_text \\\n",
    "        .writeStream \\\n",
    "        .trigger(processingTime='5 seconds') \\\n",
    "        .outputMode(\"append\") \\\n",
    "        .option(\"truncate\", \"false\") \\\n",
    "        .format(\"memory\") \\\n",
    "        .queryName(\"testedTable1\") \\\n",
    "        .start()\n",
    "songs_agg_write_stream.awaitTermination(1)"
   ],
   "metadata": {
    "collapsed": false,
    "pycharm": {
     "name": "#%%\n"
    }
   }
  },
  {
   "cell_type": "code",
   "execution_count": null,
   "outputs": [],
   "source": [
    "# 测试是否将采集的数据存储到表中\n",
    "result = spark.sql(\"SELECT * FROM testedTable1\")\n",
    "result.show()"
   ],
   "metadata": {
    "collapsed": false,
    "pycharm": {
     "name": "#%%\n"
    }
   }
  },
  {
   "cell_type": "markdown",
   "source": [
    "### 2. 数据预处理\n",
    "#### 2.1 消费数据并把喜欢的歌曲加入采集的数据集中"
   ],
   "metadata": {
    "collapsed": false,
    "pycharm": {
     "name": "#%% md\n"
    }
   }
  },
  {
   "cell_type": "code",
   "execution_count": 286,
   "outputs": [
    {
     "ename": "SpotifyOauthError",
     "evalue": "error: invalid_grant, error_description: Refresh token revoked",
     "output_type": "error",
     "traceback": [
      "\u001B[1;31m---------------------------------------------------------------------------\u001B[0m",
      "\u001B[1;31mHTTPError\u001B[0m                                 Traceback (most recent call last)",
      "\u001B[1;32mD:\\Documents\\anaconda3\\envs\\ml\\lib\\site-packages\\spotipy\\oauth2.py\u001B[0m in \u001B[0;36mrefresh_access_token\u001B[1;34m(self, refresh_token)\u001B[0m\n\u001B[0;32m    587\u001B[0m             )\n\u001B[1;32m--> 588\u001B[1;33m             \u001B[0mresponse\u001B[0m\u001B[1;33m.\u001B[0m\u001B[0mraise_for_status\u001B[0m\u001B[1;33m(\u001B[0m\u001B[1;33m)\u001B[0m\u001B[1;33m\u001B[0m\u001B[1;33m\u001B[0m\u001B[0m\n\u001B[0m\u001B[0;32m    589\u001B[0m             \u001B[0mtoken_info\u001B[0m \u001B[1;33m=\u001B[0m \u001B[0mresponse\u001B[0m\u001B[1;33m.\u001B[0m\u001B[0mjson\u001B[0m\u001B[1;33m(\u001B[0m\u001B[1;33m)\u001B[0m\u001B[1;33m\u001B[0m\u001B[1;33m\u001B[0m\u001B[0m\n",
      "\u001B[1;32mD:\\Documents\\anaconda3\\envs\\ml\\lib\\site-packages\\requests\\models.py\u001B[0m in \u001B[0;36mraise_for_status\u001B[1;34m(self)\u001B[0m\n\u001B[0;32m    959\u001B[0m         \u001B[1;32mif\u001B[0m \u001B[0mhttp_error_msg\u001B[0m\u001B[1;33m:\u001B[0m\u001B[1;33m\u001B[0m\u001B[1;33m\u001B[0m\u001B[0m\n\u001B[1;32m--> 960\u001B[1;33m             \u001B[1;32mraise\u001B[0m \u001B[0mHTTPError\u001B[0m\u001B[1;33m(\u001B[0m\u001B[0mhttp_error_msg\u001B[0m\u001B[1;33m,\u001B[0m \u001B[0mresponse\u001B[0m\u001B[1;33m=\u001B[0m\u001B[0mself\u001B[0m\u001B[1;33m)\u001B[0m\u001B[1;33m\u001B[0m\u001B[1;33m\u001B[0m\u001B[0m\n\u001B[0m\u001B[0;32m    961\u001B[0m \u001B[1;33m\u001B[0m\u001B[0m\n",
      "\u001B[1;31mHTTPError\u001B[0m: 400 Client Error: Bad Request for url: https://accounts.spotify.com/api/token",
      "\nDuring handling of the above exception, another exception occurred:\n",
      "\u001B[1;31mSpotifyOauthError\u001B[0m                         Traceback (most recent call last)",
      "\u001B[1;32m<ipython-input-286-009913f44158>\u001B[0m in \u001B[0;36m<module>\u001B[1;34m\u001B[0m\n\u001B[0;32m      2\u001B[0m \u001B[1;32mimport\u001B[0m \u001B[0mspotify_api\u001B[0m\u001B[1;33m\u001B[0m\u001B[1;33m\u001B[0m\u001B[0m\n\u001B[0;32m      3\u001B[0m \u001B[1;31m# get song data\u001B[0m\u001B[1;33m\u001B[0m\u001B[1;33m\u001B[0m\u001B[1;33m\u001B[0m\u001B[0m\n\u001B[1;32m----> 4\u001B[1;33m \u001B[0msong_data\u001B[0m \u001B[1;33m=\u001B[0m \u001B[0mspotify_api\u001B[0m\u001B[1;33m.\u001B[0m\u001B[0mget_song_data\u001B[0m\u001B[1;33m(\u001B[0m\u001B[1;33m)\u001B[0m\u001B[1;33m\u001B[0m\u001B[1;33m\u001B[0m\u001B[0m\n\u001B[0m\u001B[0;32m      5\u001B[0m \u001B[0msong_data\u001B[0m \u001B[1;33m=\u001B[0m \u001B[0msong_data\u001B[0m\u001B[1;33m.\u001B[0m\u001B[0mdrop\u001B[0m\u001B[1;33m(\u001B[0m\u001B[1;33m[\u001B[0m\u001B[1;34m'id'\u001B[0m\u001B[1;33m,\u001B[0m \u001B[1;34m'added_at'\u001B[0m\u001B[1;33m,\u001B[0m \u001B[1;34m'time_signature'\u001B[0m\u001B[1;33m,\u001B[0m\u001B[1;34m'duration_s'\u001B[0m\u001B[1;33m]\u001B[0m\u001B[1;33m,\u001B[0m \u001B[0maxis\u001B[0m\u001B[1;33m=\u001B[0m\u001B[1;34m'columns'\u001B[0m\u001B[1;33m)\u001B[0m\u001B[1;33m\u001B[0m\u001B[1;33m\u001B[0m\u001B[0m\n",
      "\u001B[1;32mD:\\Documents\\Project\\PythonProject\\pyspark\\spotify\\spotify_api.py\u001B[0m in \u001B[0;36mget_song_data\u001B[1;34m()\u001B[0m\n\u001B[0;32m     16\u001B[0m     \u001B[0msp_api\u001B[0m \u001B[1;33m=\u001B[0m \u001B[0mSpotifyApi\u001B[0m\u001B[1;33m(\u001B[0m\u001B[0mCLIENT_ID\u001B[0m\u001B[1;33m,\u001B[0m \u001B[0mCLIENT_SECRET\u001B[0m\u001B[1;33m,\u001B[0m \u001B[0mREDIRECT_URI\u001B[0m\u001B[1;33m,\u001B[0m \u001B[0mSCOPE\u001B[0m\u001B[1;33m)\u001B[0m\u001B[1;33m\u001B[0m\u001B[1;33m\u001B[0m\u001B[0m\n\u001B[0;32m     17\u001B[0m     \u001B[1;31m# 根据操作对象获取当前用户所收藏的曲目列表【最多查询50首】\u001B[0m\u001B[1;33m\u001B[0m\u001B[1;33m\u001B[0m\u001B[1;33m\u001B[0m\u001B[0m\n\u001B[1;32m---> 18\u001B[1;33m     \u001B[0msong_data\u001B[0m \u001B[1;33m=\u001B[0m \u001B[0msp_api\u001B[0m\u001B[1;33m.\u001B[0m\u001B[0mget_track_df\u001B[0m\u001B[1;33m(\u001B[0m\u001B[0mmax_query_num\u001B[0m\u001B[1;33m=\u001B[0m\u001B[1;36m50\u001B[0m\u001B[1;33m)\u001B[0m\u001B[1;33m\u001B[0m\u001B[1;33m\u001B[0m\u001B[0m\n\u001B[0m\u001B[0;32m     19\u001B[0m \u001B[1;33m\u001B[0m\u001B[0m\n\u001B[0;32m     20\u001B[0m     \u001B[1;32mreturn\u001B[0m \u001B[0msong_data\u001B[0m\u001B[1;33m\u001B[0m\u001B[1;33m\u001B[0m\u001B[0m\n",
      "\u001B[1;32mD:\\Documents\\Project\\PythonProject\\pyspark\\spotify\\spotify_api.py\u001B[0m in \u001B[0;36mget_track_df\u001B[1;34m(self, max_query_num)\u001B[0m\n\u001B[0;32m     75\u001B[0m         \u001B[0mspotipy_obj\u001B[0m \u001B[1;33m=\u001B[0m \u001B[0mself\u001B[0m\u001B[1;33m.\u001B[0m\u001B[0mconnect_to_spotify\u001B[0m\u001B[1;33m(\u001B[0m\u001B[1;33m)\u001B[0m\u001B[1;33m\u001B[0m\u001B[1;33m\u001B[0m\u001B[0m\n\u001B[0;32m     76\u001B[0m         \u001B[1;31m# 根据操作对象获取当前用户所收藏的曲目列表【limit：最多查询 max_query_num 首】\u001B[0m\u001B[1;33m\u001B[0m\u001B[1;33m\u001B[0m\u001B[1;33m\u001B[0m\u001B[0m\n\u001B[1;32m---> 77\u001B[1;33m         \u001B[0msaved_tracks_resp\u001B[0m \u001B[1;33m=\u001B[0m \u001B[0mspotipy_obj\u001B[0m\u001B[1;33m.\u001B[0m\u001B[0mcurrent_user_saved_tracks\u001B[0m\u001B[1;33m(\u001B[0m\u001B[0mlimit\u001B[0m\u001B[1;33m=\u001B[0m\u001B[0mmax_query_num\u001B[0m\u001B[1;33m)\u001B[0m\u001B[1;33m\u001B[0m\u001B[1;33m\u001B[0m\u001B[0m\n\u001B[0m\u001B[0;32m     78\u001B[0m \u001B[1;33m\u001B[0m\u001B[0m\n\u001B[0;32m     79\u001B[0m         \u001B[1;31m# 输出用户当前收藏的音乐数（小于等于max_query_num）\u001B[0m\u001B[1;33m\u001B[0m\u001B[1;33m\u001B[0m\u001B[1;33m\u001B[0m\u001B[0m\n",
      "\u001B[1;32mD:\\Documents\\anaconda3\\envs\\ml\\lib\\site-packages\\spotipy\\client.py\u001B[0m in \u001B[0;36mcurrent_user_saved_tracks\u001B[1;34m(self, limit, offset, market)\u001B[0m\n\u001B[0;32m   1230\u001B[0m \u001B[1;33m\u001B[0m\u001B[0m\n\u001B[0;32m   1231\u001B[0m         \"\"\"\n\u001B[1;32m-> 1232\u001B[1;33m         \u001B[1;32mreturn\u001B[0m \u001B[0mself\u001B[0m\u001B[1;33m.\u001B[0m\u001B[0m_get\u001B[0m\u001B[1;33m(\u001B[0m\u001B[1;34m\"me/tracks\"\u001B[0m\u001B[1;33m,\u001B[0m \u001B[0mlimit\u001B[0m\u001B[1;33m=\u001B[0m\u001B[0mlimit\u001B[0m\u001B[1;33m,\u001B[0m \u001B[0moffset\u001B[0m\u001B[1;33m=\u001B[0m\u001B[0moffset\u001B[0m\u001B[1;33m,\u001B[0m \u001B[0mmarket\u001B[0m\u001B[1;33m=\u001B[0m\u001B[0mmarket\u001B[0m\u001B[1;33m)\u001B[0m\u001B[1;33m\u001B[0m\u001B[1;33m\u001B[0m\u001B[0m\n\u001B[0m\u001B[0;32m   1233\u001B[0m \u001B[1;33m\u001B[0m\u001B[0m\n\u001B[0;32m   1234\u001B[0m     \u001B[1;32mdef\u001B[0m \u001B[0mcurrent_user_saved_tracks_add\u001B[0m\u001B[1;33m(\u001B[0m\u001B[0mself\u001B[0m\u001B[1;33m,\u001B[0m \u001B[0mtracks\u001B[0m\u001B[1;33m=\u001B[0m\u001B[1;32mNone\u001B[0m\u001B[1;33m)\u001B[0m\u001B[1;33m:\u001B[0m\u001B[1;33m\u001B[0m\u001B[1;33m\u001B[0m\u001B[0m\n",
      "\u001B[1;32mD:\\Documents\\anaconda3\\envs\\ml\\lib\\site-packages\\spotipy\\client.py\u001B[0m in \u001B[0;36m_get\u001B[1;34m(self, url, args, payload, **kwargs)\u001B[0m\n\u001B[0;32m    295\u001B[0m             \u001B[0mkwargs\u001B[0m\u001B[1;33m.\u001B[0m\u001B[0mupdate\u001B[0m\u001B[1;33m(\u001B[0m\u001B[0margs\u001B[0m\u001B[1;33m)\u001B[0m\u001B[1;33m\u001B[0m\u001B[1;33m\u001B[0m\u001B[0m\n\u001B[0;32m    296\u001B[0m \u001B[1;33m\u001B[0m\u001B[0m\n\u001B[1;32m--> 297\u001B[1;33m         \u001B[1;32mreturn\u001B[0m \u001B[0mself\u001B[0m\u001B[1;33m.\u001B[0m\u001B[0m_internal_call\u001B[0m\u001B[1;33m(\u001B[0m\u001B[1;34m\"GET\"\u001B[0m\u001B[1;33m,\u001B[0m \u001B[0murl\u001B[0m\u001B[1;33m,\u001B[0m \u001B[0mpayload\u001B[0m\u001B[1;33m,\u001B[0m \u001B[0mkwargs\u001B[0m\u001B[1;33m)\u001B[0m\u001B[1;33m\u001B[0m\u001B[1;33m\u001B[0m\u001B[0m\n\u001B[0m\u001B[0;32m    298\u001B[0m \u001B[1;33m\u001B[0m\u001B[0m\n\u001B[0;32m    299\u001B[0m     \u001B[1;32mdef\u001B[0m \u001B[0m_post\u001B[0m\u001B[1;33m(\u001B[0m\u001B[0mself\u001B[0m\u001B[1;33m,\u001B[0m \u001B[0murl\u001B[0m\u001B[1;33m,\u001B[0m \u001B[0margs\u001B[0m\u001B[1;33m=\u001B[0m\u001B[1;32mNone\u001B[0m\u001B[1;33m,\u001B[0m \u001B[0mpayload\u001B[0m\u001B[1;33m=\u001B[0m\u001B[1;32mNone\u001B[0m\u001B[1;33m,\u001B[0m \u001B[1;33m**\u001B[0m\u001B[0mkwargs\u001B[0m\u001B[1;33m)\u001B[0m\u001B[1;33m:\u001B[0m\u001B[1;33m\u001B[0m\u001B[1;33m\u001B[0m\u001B[0m\n",
      "\u001B[1;32mD:\\Documents\\anaconda3\\envs\\ml\\lib\\site-packages\\spotipy\\client.py\u001B[0m in \u001B[0;36m_internal_call\u001B[1;34m(self, method, url, payload, params)\u001B[0m\n\u001B[0;32m    219\u001B[0m         \u001B[1;32mif\u001B[0m \u001B[1;32mnot\u001B[0m \u001B[0murl\u001B[0m\u001B[1;33m.\u001B[0m\u001B[0mstartswith\u001B[0m\u001B[1;33m(\u001B[0m\u001B[1;34m\"http\"\u001B[0m\u001B[1;33m)\u001B[0m\u001B[1;33m:\u001B[0m\u001B[1;33m\u001B[0m\u001B[1;33m\u001B[0m\u001B[0m\n\u001B[0;32m    220\u001B[0m             \u001B[0murl\u001B[0m \u001B[1;33m=\u001B[0m \u001B[0mself\u001B[0m\u001B[1;33m.\u001B[0m\u001B[0mprefix\u001B[0m \u001B[1;33m+\u001B[0m \u001B[0murl\u001B[0m\u001B[1;33m\u001B[0m\u001B[1;33m\u001B[0m\u001B[0m\n\u001B[1;32m--> 221\u001B[1;33m         \u001B[0mheaders\u001B[0m \u001B[1;33m=\u001B[0m \u001B[0mself\u001B[0m\u001B[1;33m.\u001B[0m\u001B[0m_auth_headers\u001B[0m\u001B[1;33m(\u001B[0m\u001B[1;33m)\u001B[0m\u001B[1;33m\u001B[0m\u001B[1;33m\u001B[0m\u001B[0m\n\u001B[0m\u001B[0;32m    222\u001B[0m \u001B[1;33m\u001B[0m\u001B[0m\n\u001B[0;32m    223\u001B[0m         \u001B[1;32mif\u001B[0m \u001B[1;34m\"content_type\"\u001B[0m \u001B[1;32min\u001B[0m \u001B[0margs\u001B[0m\u001B[1;33m[\u001B[0m\u001B[1;34m\"params\"\u001B[0m\u001B[1;33m]\u001B[0m\u001B[1;33m:\u001B[0m\u001B[1;33m\u001B[0m\u001B[1;33m\u001B[0m\u001B[0m\n",
      "\u001B[1;32mD:\\Documents\\anaconda3\\envs\\ml\\lib\\site-packages\\spotipy\\client.py\u001B[0m in \u001B[0;36m_auth_headers\u001B[1;34m(self)\u001B[0m\n\u001B[0;32m    210\u001B[0m             \u001B[1;32mreturn\u001B[0m \u001B[1;33m{\u001B[0m\u001B[1;33m}\u001B[0m\u001B[1;33m\u001B[0m\u001B[1;33m\u001B[0m\u001B[0m\n\u001B[0;32m    211\u001B[0m         \u001B[1;32mtry\u001B[0m\u001B[1;33m:\u001B[0m\u001B[1;33m\u001B[0m\u001B[1;33m\u001B[0m\u001B[0m\n\u001B[1;32m--> 212\u001B[1;33m             \u001B[0mtoken\u001B[0m \u001B[1;33m=\u001B[0m \u001B[0mself\u001B[0m\u001B[1;33m.\u001B[0m\u001B[0mauth_manager\u001B[0m\u001B[1;33m.\u001B[0m\u001B[0mget_access_token\u001B[0m\u001B[1;33m(\u001B[0m\u001B[0mas_dict\u001B[0m\u001B[1;33m=\u001B[0m\u001B[1;32mFalse\u001B[0m\u001B[1;33m)\u001B[0m\u001B[1;33m\u001B[0m\u001B[1;33m\u001B[0m\u001B[0m\n\u001B[0m\u001B[0;32m    213\u001B[0m         \u001B[1;32mexcept\u001B[0m \u001B[0mTypeError\u001B[0m\u001B[1;33m:\u001B[0m\u001B[1;33m\u001B[0m\u001B[1;33m\u001B[0m\u001B[0m\n\u001B[0;32m    214\u001B[0m             \u001B[0mtoken\u001B[0m \u001B[1;33m=\u001B[0m \u001B[0mself\u001B[0m\u001B[1;33m.\u001B[0m\u001B[0mauth_manager\u001B[0m\u001B[1;33m.\u001B[0m\u001B[0mget_access_token\u001B[0m\u001B[1;33m(\u001B[0m\u001B[1;33m)\u001B[0m\u001B[1;33m\u001B[0m\u001B[1;33m\u001B[0m\u001B[0m\n",
      "\u001B[1;32mD:\\Documents\\anaconda3\\envs\\ml\\lib\\site-packages\\spotipy\\oauth2.py\u001B[0m in \u001B[0;36mget_access_token\u001B[1;34m(self, code, as_dict, check_cache)\u001B[0m\n\u001B[0;32m    523\u001B[0m             )\n\u001B[0;32m    524\u001B[0m         \u001B[1;32mif\u001B[0m \u001B[0mcheck_cache\u001B[0m\u001B[1;33m:\u001B[0m\u001B[1;33m\u001B[0m\u001B[1;33m\u001B[0m\u001B[0m\n\u001B[1;32m--> 525\u001B[1;33m             \u001B[0mtoken_info\u001B[0m \u001B[1;33m=\u001B[0m \u001B[0mself\u001B[0m\u001B[1;33m.\u001B[0m\u001B[0mvalidate_token\u001B[0m\u001B[1;33m(\u001B[0m\u001B[0mself\u001B[0m\u001B[1;33m.\u001B[0m\u001B[0mcache_handler\u001B[0m\u001B[1;33m.\u001B[0m\u001B[0mget_cached_token\u001B[0m\u001B[1;33m(\u001B[0m\u001B[1;33m)\u001B[0m\u001B[1;33m)\u001B[0m\u001B[1;33m\u001B[0m\u001B[1;33m\u001B[0m\u001B[0m\n\u001B[0m\u001B[0;32m    526\u001B[0m             \u001B[1;32mif\u001B[0m \u001B[0mtoken_info\u001B[0m \u001B[1;32mis\u001B[0m \u001B[1;32mnot\u001B[0m \u001B[1;32mNone\u001B[0m\u001B[1;33m:\u001B[0m\u001B[1;33m\u001B[0m\u001B[1;33m\u001B[0m\u001B[0m\n\u001B[0;32m    527\u001B[0m                 \u001B[1;32mif\u001B[0m \u001B[0mself\u001B[0m\u001B[1;33m.\u001B[0m\u001B[0mis_token_expired\u001B[0m\u001B[1;33m(\u001B[0m\u001B[0mtoken_info\u001B[0m\u001B[1;33m)\u001B[0m\u001B[1;33m:\u001B[0m\u001B[1;33m\u001B[0m\u001B[1;33m\u001B[0m\u001B[0m\n",
      "\u001B[1;32mD:\\Documents\\anaconda3\\envs\\ml\\lib\\site-packages\\spotipy\\oauth2.py\u001B[0m in \u001B[0;36mvalidate_token\u001B[1;34m(self, token_info)\u001B[0m\n\u001B[0;32m    379\u001B[0m         \u001B[1;32mif\u001B[0m \u001B[0mself\u001B[0m\u001B[1;33m.\u001B[0m\u001B[0mis_token_expired\u001B[0m\u001B[1;33m(\u001B[0m\u001B[0mtoken_info\u001B[0m\u001B[1;33m)\u001B[0m\u001B[1;33m:\u001B[0m\u001B[1;33m\u001B[0m\u001B[1;33m\u001B[0m\u001B[0m\n\u001B[0;32m    380\u001B[0m             token_info = self.refresh_access_token(\n\u001B[1;32m--> 381\u001B[1;33m                 \u001B[0mtoken_info\u001B[0m\u001B[1;33m[\u001B[0m\u001B[1;34m\"refresh_token\"\u001B[0m\u001B[1;33m]\u001B[0m\u001B[1;33m\u001B[0m\u001B[1;33m\u001B[0m\u001B[0m\n\u001B[0m\u001B[0;32m    382\u001B[0m             )\n\u001B[0;32m    383\u001B[0m \u001B[1;33m\u001B[0m\u001B[0m\n",
      "\u001B[1;32mD:\\Documents\\anaconda3\\envs\\ml\\lib\\site-packages\\spotipy\\oauth2.py\u001B[0m in \u001B[0;36mrefresh_access_token\u001B[1;34m(self, refresh_token)\u001B[0m\n\u001B[0;32m    594\u001B[0m             \u001B[1;32mreturn\u001B[0m \u001B[0mtoken_info\u001B[0m\u001B[1;33m\u001B[0m\u001B[1;33m\u001B[0m\u001B[0m\n\u001B[0;32m    595\u001B[0m         \u001B[1;32mexcept\u001B[0m \u001B[0mrequests\u001B[0m\u001B[1;33m.\u001B[0m\u001B[0mexceptions\u001B[0m\u001B[1;33m.\u001B[0m\u001B[0mHTTPError\u001B[0m \u001B[1;32mas\u001B[0m \u001B[0mhttp_error\u001B[0m\u001B[1;33m:\u001B[0m\u001B[1;33m\u001B[0m\u001B[1;33m\u001B[0m\u001B[0m\n\u001B[1;32m--> 596\u001B[1;33m             \u001B[0mself\u001B[0m\u001B[1;33m.\u001B[0m\u001B[0m_handle_oauth_error\u001B[0m\u001B[1;33m(\u001B[0m\u001B[0mhttp_error\u001B[0m\u001B[1;33m)\u001B[0m\u001B[1;33m\u001B[0m\u001B[1;33m\u001B[0m\u001B[0m\n\u001B[0m\u001B[0;32m    597\u001B[0m \u001B[1;33m\u001B[0m\u001B[0m\n\u001B[0;32m    598\u001B[0m     \u001B[1;32mdef\u001B[0m \u001B[0m_add_custom_values_to_token_info\u001B[0m\u001B[1;33m(\u001B[0m\u001B[0mself\u001B[0m\u001B[1;33m,\u001B[0m \u001B[0mtoken_info\u001B[0m\u001B[1;33m)\u001B[0m\u001B[1;33m:\u001B[0m\u001B[1;33m\u001B[0m\u001B[1;33m\u001B[0m\u001B[0m\n",
      "\u001B[1;32mD:\\Documents\\anaconda3\\envs\\ml\\lib\\site-packages\\spotipy\\oauth2.py\u001B[0m in \u001B[0;36m_handle_oauth_error\u001B[1;34m(self, http_error)\u001B[0m\n\u001B[0;32m    149\u001B[0m             ),\n\u001B[0;32m    150\u001B[0m             \u001B[0merror\u001B[0m\u001B[1;33m=\u001B[0m\u001B[0merror\u001B[0m\u001B[1;33m,\u001B[0m\u001B[1;33m\u001B[0m\u001B[1;33m\u001B[0m\u001B[0m\n\u001B[1;32m--> 151\u001B[1;33m             \u001B[0merror_description\u001B[0m\u001B[1;33m=\u001B[0m\u001B[0merror_description\u001B[0m\u001B[1;33m\u001B[0m\u001B[1;33m\u001B[0m\u001B[0m\n\u001B[0m\u001B[0;32m    152\u001B[0m         )\n\u001B[0;32m    153\u001B[0m \u001B[1;33m\u001B[0m\u001B[0m\n",
      "\u001B[1;31mSpotifyOauthError\u001B[0m: error: invalid_grant, error_description: Refresh token revoked"
     ]
    }
   ],
   "source": [
    "from spotifyRec import spotify_api\n",
    "import random\n",
    "# get song data\n",
    "song_data = spotify_api.get_song_data()\n",
    "song_data = song_data.drop(['id', 'added_at', 'time_signature','duration_s'], axis='columns')"
   ],
   "metadata": {
    "collapsed": false,
    "pycharm": {
     "name": "#%%\n"
    }
   }
  },
  {
   "cell_type": "code",
   "execution_count": null,
   "outputs": [],
   "source": [
    "# 从我们的 Spotify 喜欢的歌曲播放列表中检索一首随机歌曲\n",
    "rand_n = random.randint(0,len(song_data)-1)\n",
    "# get DataFrame object\n",
    "add_df = song_data.iloc[rand_n: rand_n+1, :]\n",
    "print(add_df.columns)\n",
    "add_df"
   ],
   "metadata": {
    "collapsed": false,
    "pycharm": {
     "name": "#%%\n"
    }
   }
  },
  {
   "cell_type": "code",
   "execution_count": null,
   "outputs": [],
   "source": [
    "df = spark.sql(\"SELECT * FROM testedTable1\")\n",
    "df = df.sort(df.release_date.desc())\n",
    "# 从采集的数据集中删除不需要的列\n",
    "df = df.drop('order_id', 'id', 'explicit', 'release_date',\n",
    "                 'id_artists','time_signature','duration_ms', 'timestamp')\n",
    "df"
   ],
   "metadata": {
    "collapsed": false,
    "pycharm": {
     "name": "#%%\n"
    }
   }
  },
  {
   "cell_type": "code",
   "execution_count": null,
   "outputs": [],
   "source": [
    "df_sp = spark.createDataFrame(add_df)\n",
    "df_sp"
   ],
   "metadata": {
    "collapsed": false,
    "pycharm": {
     "name": "#%%\n"
    }
   }
  },
  {
   "cell_type": "markdown",
   "source": [
    "知识点：\n",
    "* union: 两个df合并，但是不按列名进行合并，而是位置,列名以前表为准(a.union(b) 列名顺序以a为准)\n",
    "* unionAll:同union方法\n",
    "* unionByName:合并时按照列名进行合并，而不是位置"
   ],
   "metadata": {
    "collapsed": false,
    "pycharm": {
     "name": "#%% md\n"
    }
   }
  },
  {
   "cell_type": "code",
   "execution_count": 287,
   "outputs": [
    {
     "ename": "AnalysisException",
     "evalue": "Cannot resolve column name \"artistsIndex\" among (name, artists, popularity, energy, danceability, speechiness, tempo, valence, liveness, key, acousticness, loudness, mode, instrumentalness)",
     "output_type": "error",
     "traceback": [
      "\u001B[1;31m---------------------------------------------------------------------------\u001B[0m",
      "\u001B[1;31mAnalysisException\u001B[0m                         Traceback (most recent call last)",
      "\u001B[1;32m<ipython-input-287-47a7f56df376>\u001B[0m in \u001B[0;36m<module>\u001B[1;34m\u001B[0m\n\u001B[0;32m      1\u001B[0m \u001B[1;31m# 将我们喜欢的音乐加入到这个数据集中  由于两者列名顺序不同，需要使用unionByName(类型按照为df原先的类型)\u001B[0m\u001B[1;33m\u001B[0m\u001B[1;33m\u001B[0m\u001B[1;33m\u001B[0m\u001B[0m\n\u001B[1;32m----> 2\u001B[1;33m \u001B[0munion_df\u001B[0m \u001B[1;33m=\u001B[0m \u001B[0mdf\u001B[0m\u001B[1;33m.\u001B[0m\u001B[0munionByName\u001B[0m\u001B[1;33m(\u001B[0m\u001B[0mdf_sp\u001B[0m\u001B[1;33m)\u001B[0m\u001B[1;33m\u001B[0m\u001B[1;33m\u001B[0m\u001B[0m\n\u001B[0m\u001B[0;32m      3\u001B[0m \u001B[0munion_df\u001B[0m\u001B[1;33m\u001B[0m\u001B[1;33m\u001B[0m\u001B[0m\n",
      "\u001B[1;32mD:\\Documents\\anaconda3\\envs\\ml\\lib\\site-packages\\pyspark\\sql\\dataframe.py\u001B[0m in \u001B[0;36munionByName\u001B[1;34m(self, other, allowMissingColumns)\u001B[0m\n\u001B[0;32m   1899\u001B[0m            \u001B[0mmissing\u001B[0m \u001B[0mcolumns\u001B[0m\u001B[1;33m.\u001B[0m\u001B[1;33m\u001B[0m\u001B[1;33m\u001B[0m\u001B[0m\n\u001B[0;32m   1900\u001B[0m         \"\"\"\n\u001B[1;32m-> 1901\u001B[1;33m         \u001B[1;32mreturn\u001B[0m \u001B[0mDataFrame\u001B[0m\u001B[1;33m(\u001B[0m\u001B[0mself\u001B[0m\u001B[1;33m.\u001B[0m\u001B[0m_jdf\u001B[0m\u001B[1;33m.\u001B[0m\u001B[0munionByName\u001B[0m\u001B[1;33m(\u001B[0m\u001B[0mother\u001B[0m\u001B[1;33m.\u001B[0m\u001B[0m_jdf\u001B[0m\u001B[1;33m,\u001B[0m \u001B[0mallowMissingColumns\u001B[0m\u001B[1;33m)\u001B[0m\u001B[1;33m,\u001B[0m \u001B[0mself\u001B[0m\u001B[1;33m.\u001B[0m\u001B[0msql_ctx\u001B[0m\u001B[1;33m)\u001B[0m\u001B[1;33m\u001B[0m\u001B[1;33m\u001B[0m\u001B[0m\n\u001B[0m\u001B[0;32m   1902\u001B[0m \u001B[1;33m\u001B[0m\u001B[0m\n\u001B[0;32m   1903\u001B[0m     \u001B[1;33m@\u001B[0m\u001B[0msince\u001B[0m\u001B[1;33m(\u001B[0m\u001B[1;36m1.3\u001B[0m\u001B[1;33m)\u001B[0m\u001B[1;33m\u001B[0m\u001B[1;33m\u001B[0m\u001B[0m\n",
      "\u001B[1;32mD:\\Documents\\anaconda3\\envs\\ml\\lib\\site-packages\\py4j\\java_gateway.py\u001B[0m in \u001B[0;36m__call__\u001B[1;34m(self, *args)\u001B[0m\n\u001B[0;32m   1320\u001B[0m         \u001B[0manswer\u001B[0m \u001B[1;33m=\u001B[0m \u001B[0mself\u001B[0m\u001B[1;33m.\u001B[0m\u001B[0mgateway_client\u001B[0m\u001B[1;33m.\u001B[0m\u001B[0msend_command\u001B[0m\u001B[1;33m(\u001B[0m\u001B[0mcommand\u001B[0m\u001B[1;33m)\u001B[0m\u001B[1;33m\u001B[0m\u001B[1;33m\u001B[0m\u001B[0m\n\u001B[0;32m   1321\u001B[0m         return_value = get_return_value(\n\u001B[1;32m-> 1322\u001B[1;33m             answer, self.gateway_client, self.target_id, self.name)\n\u001B[0m\u001B[0;32m   1323\u001B[0m \u001B[1;33m\u001B[0m\u001B[0m\n\u001B[0;32m   1324\u001B[0m         \u001B[1;32mfor\u001B[0m \u001B[0mtemp_arg\u001B[0m \u001B[1;32min\u001B[0m \u001B[0mtemp_args\u001B[0m\u001B[1;33m:\u001B[0m\u001B[1;33m\u001B[0m\u001B[1;33m\u001B[0m\u001B[0m\n",
      "\u001B[1;32mD:\\Documents\\anaconda3\\envs\\ml\\lib\\site-packages\\pyspark\\sql\\utils.py\u001B[0m in \u001B[0;36mdeco\u001B[1;34m(*a, **kw)\u001B[0m\n\u001B[0;32m    115\u001B[0m                 \u001B[1;31m# Hide where the exception came from that shows a non-Pythonic\u001B[0m\u001B[1;33m\u001B[0m\u001B[1;33m\u001B[0m\u001B[1;33m\u001B[0m\u001B[0m\n\u001B[0;32m    116\u001B[0m                 \u001B[1;31m# JVM exception message.\u001B[0m\u001B[1;33m\u001B[0m\u001B[1;33m\u001B[0m\u001B[1;33m\u001B[0m\u001B[0m\n\u001B[1;32m--> 117\u001B[1;33m                 \u001B[1;32mraise\u001B[0m \u001B[0mconverted\u001B[0m \u001B[1;32mfrom\u001B[0m \u001B[1;32mNone\u001B[0m\u001B[1;33m\u001B[0m\u001B[1;33m\u001B[0m\u001B[0m\n\u001B[0m\u001B[0;32m    118\u001B[0m             \u001B[1;32melse\u001B[0m\u001B[1;33m:\u001B[0m\u001B[1;33m\u001B[0m\u001B[1;33m\u001B[0m\u001B[0m\n\u001B[0;32m    119\u001B[0m                 \u001B[1;32mraise\u001B[0m\u001B[1;33m\u001B[0m\u001B[1;33m\u001B[0m\u001B[0m\n",
      "\u001B[1;31mAnalysisException\u001B[0m: Cannot resolve column name \"artistsIndex\" among (name, artists, popularity, energy, danceability, speechiness, tempo, valence, liveness, key, acousticness, loudness, mode, instrumentalness)"
     ]
    }
   ],
   "source": [
    "# 将我们喜欢的音乐加入到这个数据集中  由于两者列名顺序不同，需要使用unionByName(类型按照为df原先的类型)\n",
    "union_df = df.unionByName(df_sp)\n",
    "union_df"
   ],
   "metadata": {
    "collapsed": false,
    "pycharm": {
     "name": "#%%\n"
    }
   }
  },
  {
   "cell_type": "code",
   "execution_count": null,
   "outputs": [],
   "source": [
    "# 测试效果 ，正常显示popularity（因为df和df_sp第二个类名不同）\n",
    "union_df.filter('''name = \"Starlight (Taylor's Version)\"''').select(\"name\", \"popularity\").show()"
   ],
   "metadata": {
    "collapsed": false,
    "pycharm": {
     "name": "#%%\n"
    }
   }
  },
  {
   "cell_type": "markdown",
   "source": [
    "#### 2.2 特征向量化"
   ],
   "metadata": {
    "collapsed": false,
    "pycharm": {
     "name": "#%% md\n"
    }
   }
  },
  {
   "cell_type": "code",
   "execution_count": 288,
   "outputs": [
    {
     "name": "stdout",
     "output_type": "stream",
     "text": [
      "root\n",
      " |-- name: string (nullable = true)\n",
      " |-- popularity: long (nullable = true)\n",
      " |-- artists: string (nullable = true)\n",
      " |-- danceability: double (nullable = true)\n",
      " |-- energy: double (nullable = true)\n",
      " |-- key: long (nullable = true)\n",
      " |-- loudness: double (nullable = true)\n",
      " |-- mode: long (nullable = true)\n",
      " |-- speechiness: double (nullable = true)\n",
      " |-- acousticness: double (nullable = true)\n",
      " |-- instrumentalness: double (nullable = true)\n",
      " |-- liveness: double (nullable = true)\n",
      " |-- valence: double (nullable = true)\n",
      " |-- tempo: double (nullable = true)\n",
      "\n"
     ]
    }
   ],
   "source": [
    "union_df.printSchema()"
   ],
   "metadata": {
    "collapsed": false,
    "pycharm": {
     "name": "#%%\n"
    }
   }
  },
  {
   "cell_type": "code",
   "execution_count": 289,
   "outputs": [
    {
     "name": "stdout",
     "output_type": "stream",
     "text": [
      "+--------------------+----------+------------+------------+------+---+--------+----+-----------+------------+----------------+--------+-------+------+------------+\n",
      "|                name|popularity|     artists|danceability|energy|key|loudness|mode|speechiness|acousticness|instrumentalness|liveness|valence| tempo|artistsIndex|\n",
      "+--------------------+----------+------------+------------+------+---+--------+----+-----------+------------+----------------+--------+-------+------+------------+\n",
      "|I've Got You Unde...|        68|FrankSinatra|       0.585| 0.247|  1| -12.612|   1|       0.04|       0.452|         8.85E-6|   0.107|  0.591|127.15|         1.0|\n",
      "+--------------------+----------+------------+------------+------+---+--------+----+-----------+------------+----------------+--------+-------+------+------------+\n",
      "only showing top 1 row\n",
      "\n"
     ]
    }
   ],
   "source": [
    "from pyspark.ml.feature import StringIndexer\n",
    "\n",
    "indexer = StringIndexer(inputCol = 'artists' , outputCol = 'artistsIndex')\n",
    "model = indexer.fit(union_df)\n",
    "idexed = model.transform(union_df)\n",
    "idexed.show(1)"
   ],
   "metadata": {
    "collapsed": false,
    "pycharm": {
     "name": "#%%\n"
    }
   }
  },
  {
   "cell_type": "code",
   "execution_count": 290,
   "outputs": [
    {
     "data": {
      "text/plain": "['popularity',\n 'danceability',\n 'energy',\n 'key',\n 'loudness',\n 'mode',\n 'speechiness',\n 'acousticness',\n 'instrumentalness',\n 'liveness',\n 'valence',\n 'tempo',\n 'artistsIndex']"
     },
     "execution_count": 290,
     "metadata": {},
     "output_type": "execute_result"
    }
   ],
   "source": [
    "# features \"name\" and \" artists\" not add\n",
    "input_cols = idexed.columns[1:]\n",
    "input_cols.remove(\"artists\")\n",
    "input_cols"
   ],
   "metadata": {
    "collapsed": false,
    "pycharm": {
     "name": "#%%\n"
    }
   }
  },
  {
   "cell_type": "code",
   "execution_count": 291,
   "outputs": [
    {
     "data": {
      "text/plain": "DataFrame[name: string, popularity: bigint, artists: string, danceability: double, energy: double, key: bigint, loudness: double, mode: bigint, speechiness: double, acousticness: double, instrumentalness: double, liveness: double, valence: double, tempo: double, artistsIndex: double, features: vector]"
     },
     "execution_count": 291,
     "metadata": {},
     "output_type": "execute_result"
    }
   ],
   "source": [
    "from pyspark.ml.feature import VectorAssembler\n",
    "# VectorAssembler是将给定列列表组合成单个向量列的转换器。为了训练逻辑回归和决策树等ML模型，将原始特征和不同特征转换器生成的特征组合成一个特征向量是很有用的。VectorAssembler接受以下输入列类型:所有数值类型、布尔类型和向量类型。在每一行中，输入列的值将按照指定的顺序连接到一个向量中。\n",
    "assembler=VectorAssembler(inputCols=input_cols, outputCol='features')\n",
    "# 模型训练\n",
    "assembled_data=assembler.setHandleInvalid(\"skip\").transform(idexed)\n",
    "assembled_data"
   ],
   "metadata": {
    "collapsed": false,
    "pycharm": {
     "name": "#%%\n"
    }
   }
  },
  {
   "cell_type": "code",
   "execution_count": 292,
   "outputs": [
    {
     "data": {
      "text/plain": "Row(name=\"I've Got You Under My Skin - Remastered 1998\", popularity=68, artists='FrankSinatra', danceability=0.585, energy=0.247, key=1, loudness=-12.612, mode=1, speechiness=0.04, acousticness=0.452, instrumentalness=8.85e-06, liveness=0.107, valence=0.591, tempo=127.15, artistsIndex=1.0, features=DenseVector([68.0, 0.585, 0.247, 1.0, -12.612, 1.0, 0.04, 0.452, 0.0, 0.107, 0.591, 127.15, 1.0]))"
     },
     "execution_count": 292,
     "metadata": {},
     "output_type": "execute_result"
    }
   ],
   "source": [
    "assembled_data.head()"
   ],
   "metadata": {
    "collapsed": false,
    "pycharm": {
     "name": "#%%\n"
    }
   }
  },
  {
   "cell_type": "markdown",
   "source": [
    "#### 2.3 数据标准化"
   ],
   "metadata": {
    "collapsed": false,
    "pycharm": {
     "name": "#%% md\n"
    }
   }
  },
  {
   "cell_type": "code",
   "execution_count": 293,
   "outputs": [
    {
     "data": {
      "text/plain": "Row(name=\"I've Got You Under My Skin - Remastered 1998\", popularity=68, artists='FrankSinatra', danceability=0.585, energy=0.247, key=1, loudness=-12.612, mode=1, speechiness=0.04, acousticness=0.452, instrumentalness=8.85e-06, liveness=0.107, valence=0.591, tempo=127.15, artistsIndex=1.0, features=DenseVector([68.0, 0.585, 0.247, 1.0, -12.612, 1.0, 0.04, 0.452, 0.0, 0.107, 0.591, 127.15, 1.0]), standardized=DenseVector([12.5339, 3.7642, 1.1948, 0.2554, -2.0109, 2.0456, 0.5834, 1.8475, 0.0, 1.7815, 2.4613, 3.9792, 0.1361]))"
     },
     "execution_count": 293,
     "metadata": {},
     "output_type": "execute_result"
    }
   ],
   "source": [
    "from pyspark.ml.feature import StandardScaler\n",
    "scale = StandardScaler(inputCol='features',outputCol='standardized')\n",
    "data_scale = scale.fit(assembled_data)\n",
    "df = data_scale.transform(assembled_data)\n",
    "df.head()"
   ],
   "metadata": {
    "collapsed": false,
    "pycharm": {
     "name": "#%%\n"
    }
   }
  },
  {
   "cell_type": "markdown",
   "source": [
    "#### 2.4 KMeans聚类\n",
    "\n",
    "* 轮廓系数（Silhouette Coefficient），是聚类效果好坏的一种评价方式。最早由 Peter J. Rousseeuw 在 1986 提出。它结合内聚度和分离度两种因素。可以用来在相同原始数据的基础上用来评价不同算法、或者算法不同运行方式对聚类结果所产生的影响。\n",
    "* 平方欧几里得（squaredEuclidean）"
   ],
   "metadata": {
    "collapsed": false,
    "pycharm": {
     "name": "#%% md\n"
    }
   }
  },
  {
   "cell_type": "code",
   "execution_count": 294,
   "outputs": [
    {
     "data": {
      "text/plain": "DataFrame[name: string, popularity: bigint, artists: string, danceability: double, energy: double, key: bigint, loudness: double, mode: bigint, speechiness: double, acousticness: double, instrumentalness: double, liveness: double, valence: double, tempo: double, artistsIndex: double, features: vector, standardized: vector, prediction: int]"
     },
     "execution_count": 294,
     "metadata": {},
     "output_type": "execute_result"
    }
   ],
   "source": [
    "from pyspark.ml.clustering import KMeans\n",
    "from pyspark.ml.evaluation import ClusteringEvaluator\n",
    "\n",
    "evaluator = ClusteringEvaluator(predictionCol='prediction', featuresCol='standardized',metricName='silhouette', distanceMeasure='squaredEuclidean')\n",
    "\n",
    "KMeans_algo = KMeans(featuresCol='standardized', k=3)\n",
    "KMeans_fit = KMeans_algo.fit(df)\n",
    "output_df = KMeans_fit.transform(df)\n",
    "output_df"
   ],
   "metadata": {
    "collapsed": false,
    "pycharm": {
     "name": "#%%\n"
    }
   }
  },
  {
   "cell_type": "markdown",
   "source": [
    "#### 2.5 推荐系统代码前的数据准备"
   ],
   "metadata": {
    "collapsed": false,
    "pycharm": {
     "name": "#%% md\n"
    }
   }
  },
  {
   "cell_type": "code",
   "execution_count": 295,
   "outputs": [
    {
     "name": "stdout",
     "output_type": "stream",
     "text": [
      "16\n"
     ]
    }
   ],
   "source": [
    "# 抛弃那个feature vector\n",
    "columns_to_drop  = [\"features\", \"standardized\"]\n",
    "# spark sql DataFrame\n",
    "data_sdf = output_df.drop(*columns_to_drop)\n",
    "\n",
    "print(len(data_sdf.columns))\n",
    "# python DataFrame\n",
    "data_df = data_sdf.toPandas()\n",
    "data_df.drop_duplicates(inplace=True)"
   ],
   "metadata": {
    "collapsed": false,
    "pycharm": {
     "name": "#%%\n"
    }
   }
  },
  {
   "cell_type": "code",
   "execution_count": 330,
   "outputs": [
    {
     "name": "stdout",
     "output_type": "stream",
     "text": [
      "Starlight (Taylor's Version) 2\n",
      "*****\n"
     ]
    },
    {
     "data": {
      "text/plain": "                                                 name  popularity  \\\n28                                Singin' In The Rain          53   \n27                                     Claire de lune          62   \n4                                  My Funny Valentine          64   \n9                               I'm Glad There Is You          61   \n7                            I'm In The Mood For Love          65   \n3           I Fall In Love Too Easily - Vocal Version          66   \n8                                      Cry Me A River          63   \n30                                    'Round Midnight          58   \n17                                      Unforgettable          68   \n15  In The Wee Small Hours Of The Morning - Remast...          60   \n\n                           artists  danceability   energy  key  loudness  \\\n28                       GeneKelly         0.354  0.24100    5   -13.811   \n27  ClaudeDebussyAlexisWeissenberg         0.365  0.01000    1   -25.268   \n4                        ChetBaker         0.438  0.00756    0   -26.440   \n9                      JulieLondon         0.492  0.06710   10   -15.671   \n7                      JulieLondon         0.580  0.05450    9   -14.594   \n3                        ChetBaker         0.532  0.06570    0   -19.136   \n8                      JulieLondon         0.496  0.06880    4   -14.927   \n30                  TheloniousMonk         0.542  0.32000    8    -9.975   \n17                     NatKingCole         0.349  0.18200    5   -13.507   \n15                    FrankSinatra         0.290  0.08740    0   -16.119   \n\n    mode  speechiness  acousticness  instrumentalness  liveness  valence  \\\n28     1       0.0334         0.889          0.000274    0.1650   0.4080   \n27     1       0.0519         0.995          0.924000    0.0584   0.0364   \n4      0       0.0382         0.941          0.006430    0.1090   0.2770   \n9      0       0.0399         0.958          0.000968    0.1090   0.1650   \n7      0       0.0473         0.963          0.000265    0.0967   0.1770   \n3      0       0.0406         0.940          0.004880    0.0946   0.2920   \n8      0       0.0545         0.964          0.002290    0.1120   0.1610   \n30     1       0.0387         0.907          0.649000    0.0609   0.2060   \n17     1       0.0310         0.920          0.015200    0.1430   0.1780   \n15     1       0.0346         0.856          0.000957    0.1090   0.0734   \n\n      tempo  \n28  135.646  \n27  135.048  \n4   133.320  \n9   124.908  \n7   123.341  \n3   128.607  \n8   119.898  \n30  116.648  \n17  136.094  \n15  114.997  ",
      "text/html": "<div>\n<style scoped>\n    .dataframe tbody tr th:only-of-type {\n        vertical-align: middle;\n    }\n\n    .dataframe tbody tr th {\n        vertical-align: top;\n    }\n\n    .dataframe thead th {\n        text-align: right;\n    }\n</style>\n<table border=\"1\" class=\"dataframe\">\n  <thead>\n    <tr style=\"text-align: right;\">\n      <th></th>\n      <th>name</th>\n      <th>popularity</th>\n      <th>artists</th>\n      <th>danceability</th>\n      <th>energy</th>\n      <th>key</th>\n      <th>loudness</th>\n      <th>mode</th>\n      <th>speechiness</th>\n      <th>acousticness</th>\n      <th>instrumentalness</th>\n      <th>liveness</th>\n      <th>valence</th>\n      <th>tempo</th>\n    </tr>\n  </thead>\n  <tbody>\n    <tr>\n      <th>28</th>\n      <td>Singin' In The Rain</td>\n      <td>53</td>\n      <td>GeneKelly</td>\n      <td>0.354</td>\n      <td>0.24100</td>\n      <td>5</td>\n      <td>-13.811</td>\n      <td>1</td>\n      <td>0.0334</td>\n      <td>0.889</td>\n      <td>0.000274</td>\n      <td>0.1650</td>\n      <td>0.4080</td>\n      <td>135.646</td>\n    </tr>\n    <tr>\n      <th>27</th>\n      <td>Claire de lune</td>\n      <td>62</td>\n      <td>ClaudeDebussyAlexisWeissenberg</td>\n      <td>0.365</td>\n      <td>0.01000</td>\n      <td>1</td>\n      <td>-25.268</td>\n      <td>1</td>\n      <td>0.0519</td>\n      <td>0.995</td>\n      <td>0.924000</td>\n      <td>0.0584</td>\n      <td>0.0364</td>\n      <td>135.048</td>\n    </tr>\n    <tr>\n      <th>4</th>\n      <td>My Funny Valentine</td>\n      <td>64</td>\n      <td>ChetBaker</td>\n      <td>0.438</td>\n      <td>0.00756</td>\n      <td>0</td>\n      <td>-26.440</td>\n      <td>0</td>\n      <td>0.0382</td>\n      <td>0.941</td>\n      <td>0.006430</td>\n      <td>0.1090</td>\n      <td>0.2770</td>\n      <td>133.320</td>\n    </tr>\n    <tr>\n      <th>9</th>\n      <td>I'm Glad There Is You</td>\n      <td>61</td>\n      <td>JulieLondon</td>\n      <td>0.492</td>\n      <td>0.06710</td>\n      <td>10</td>\n      <td>-15.671</td>\n      <td>0</td>\n      <td>0.0399</td>\n      <td>0.958</td>\n      <td>0.000968</td>\n      <td>0.1090</td>\n      <td>0.1650</td>\n      <td>124.908</td>\n    </tr>\n    <tr>\n      <th>7</th>\n      <td>I'm In The Mood For Love</td>\n      <td>65</td>\n      <td>JulieLondon</td>\n      <td>0.580</td>\n      <td>0.05450</td>\n      <td>9</td>\n      <td>-14.594</td>\n      <td>0</td>\n      <td>0.0473</td>\n      <td>0.963</td>\n      <td>0.000265</td>\n      <td>0.0967</td>\n      <td>0.1770</td>\n      <td>123.341</td>\n    </tr>\n    <tr>\n      <th>3</th>\n      <td>I Fall In Love Too Easily - Vocal Version</td>\n      <td>66</td>\n      <td>ChetBaker</td>\n      <td>0.532</td>\n      <td>0.06570</td>\n      <td>0</td>\n      <td>-19.136</td>\n      <td>0</td>\n      <td>0.0406</td>\n      <td>0.940</td>\n      <td>0.004880</td>\n      <td>0.0946</td>\n      <td>0.2920</td>\n      <td>128.607</td>\n    </tr>\n    <tr>\n      <th>8</th>\n      <td>Cry Me A River</td>\n      <td>63</td>\n      <td>JulieLondon</td>\n      <td>0.496</td>\n      <td>0.06880</td>\n      <td>4</td>\n      <td>-14.927</td>\n      <td>0</td>\n      <td>0.0545</td>\n      <td>0.964</td>\n      <td>0.002290</td>\n      <td>0.1120</td>\n      <td>0.1610</td>\n      <td>119.898</td>\n    </tr>\n    <tr>\n      <th>30</th>\n      <td>'Round Midnight</td>\n      <td>58</td>\n      <td>TheloniousMonk</td>\n      <td>0.542</td>\n      <td>0.32000</td>\n      <td>8</td>\n      <td>-9.975</td>\n      <td>1</td>\n      <td>0.0387</td>\n      <td>0.907</td>\n      <td>0.649000</td>\n      <td>0.0609</td>\n      <td>0.2060</td>\n      <td>116.648</td>\n    </tr>\n    <tr>\n      <th>17</th>\n      <td>Unforgettable</td>\n      <td>68</td>\n      <td>NatKingCole</td>\n      <td>0.349</td>\n      <td>0.18200</td>\n      <td>5</td>\n      <td>-13.507</td>\n      <td>1</td>\n      <td>0.0310</td>\n      <td>0.920</td>\n      <td>0.015200</td>\n      <td>0.1430</td>\n      <td>0.1780</td>\n      <td>136.094</td>\n    </tr>\n    <tr>\n      <th>15</th>\n      <td>In The Wee Small Hours Of The Morning - Remast...</td>\n      <td>60</td>\n      <td>FrankSinatra</td>\n      <td>0.290</td>\n      <td>0.08740</td>\n      <td>0</td>\n      <td>-16.119</td>\n      <td>1</td>\n      <td>0.0346</td>\n      <td>0.856</td>\n      <td>0.000957</td>\n      <td>0.1090</td>\n      <td>0.0734</td>\n      <td>114.997</td>\n    </tr>\n  </tbody>\n</table>\n</div>"
     },
     "execution_count": 330,
     "metadata": {},
     "output_type": "execute_result"
    }
   ],
   "source": [
    "from spotifyRec.recommender import SpotifyRecommender\n",
    "import pandas as pd\n",
    "\n",
    "recommend_num = 10\n",
    "liked_song_name = add_df.iloc[-1]['name'] # 获取用户收藏音乐的名称\n",
    "value_cate = data_df.iloc[-1]['prediction'] # 用户收藏音乐对应的类别（k-means预测的）\n",
    "print(liked_song_name, value_cate)\n",
    "\n",
    "filtered_data = data_df[data_df['prediction'] == 1]\n",
    "recommender = SpotifyRecommender(filtered_data)\n",
    "rec_song = recommender.spotify_recommendations(recommend_num)\n",
    "rec_song"
   ],
   "metadata": {
    "collapsed": false,
    "pycharm": {
     "name": "#%%\n"
    }
   }
  },
  {
   "cell_type": "markdown",
   "source": [
    "* 推荐代码测试"
   ],
   "metadata": {
    "collapsed": false,
    "pycharm": {
     "name": "#%% md\n"
    }
   }
  },
  {
   "cell_type": "code",
   "execution_count": 297,
   "outputs": [
    {
     "data": {
      "text/plain": "                                                 name  popularity  \\\n3           I Fall In Love Too Easily - Vocal Version          66   \n4                                  My Funny Valentine          64   \n7                            I'm In The Mood For Love          65   \n8                                      Cry Me A River          63   \n9                               I'm Glad There Is You          61   \n10                                       Black Coffee          56   \n12                                     Let's Get Lost          55   \n13                                    Time After Time          52   \n15  In The Wee Small Hours Of The Morning - Remast...          60   \n17                                      Unforgettable          68   \n18                                   Over The Rainbow          60   \n19                                          Mona Lisa          56   \n20                    My Funny Valentine - Remastered          54   \n21                                            Pretend          51   \n26                         Autumn Leaves - Remastered          52   \n27                                     Claire de lune          62   \n28                                Singin' In The Rain          53   \n30                                    'Round Midnight          58   \n31                                          Poinciana          51   \n32                           Someone To Watch Over Me          57   \n33                            I've Got A Crush On You          56   \n35                   I'm Confessin' (That I Love You)          54   \n36                                   Gymnopédie No. 3          53   \n\n                           artists  danceability   energy  key  loudness  \\\n3                        ChetBaker         0.532  0.06570    0   -19.136   \n4                        ChetBaker         0.438  0.00756    0   -26.440   \n7                      JulieLondon         0.580  0.05450    9   -14.594   \n8                      JulieLondon         0.496  0.06880    4   -14.927   \n9                      JulieLondon         0.492  0.06710   10   -15.671   \n10                    SarahVaughan         0.380  0.15500    1   -11.977   \n12                       ChetBaker         0.521  0.37000    0    -9.345   \n13                 MargaretWhiting         0.236  0.17300    6   -13.844   \n15                    FrankSinatra         0.290  0.08740    0   -16.119   \n17                     NatKingCole         0.349  0.18200    5   -13.507   \n18                     JudyGarland         0.204  0.16100    8   -15.191   \n19                     NatKingCole         0.241  0.23700    1   -12.201   \n20                    FrankSinatra         0.257  0.12500   11   -14.267   \n21                     NatKingCole         0.388  0.27500   10   -11.248   \n26                     NatKingCole         0.211  0.34800    2   -10.120   \n27  ClaudeDebussyAlexisWeissenberg         0.365  0.01000    1   -25.268   \n28                       GeneKelly         0.354  0.24100    5   -13.811   \n30                  TheloniousMonk         0.542  0.32000    8    -9.975   \n31                      AhmadJamal         0.553  0.09020    2   -21.491   \n32                  EllaFitzgerald         0.354  0.08510    7   -13.738   \n33                  EllaFitzgerald         0.455  0.10600    2   -14.086   \n35                        DorisDay         0.317  0.01860    3   -23.650   \n36      ErikSatiePhilippeEntremont         0.508  0.00766    9   -37.783   \n\n    mode  speechiness  acousticness  instrumentalness  liveness  valence  \\\n3      0       0.0406         0.940          0.004880    0.0946   0.2920   \n4      0       0.0382         0.941          0.006430    0.1090   0.2770   \n7      0       0.0473         0.963          0.000265    0.0967   0.1770   \n8      0       0.0545         0.964          0.002290    0.1120   0.1610   \n9      0       0.0399         0.958          0.000968    0.1090   0.1650   \n10     1       0.0311         0.973          0.000017    0.0977   0.1270   \n12     1       0.0300         0.840          0.000807    0.1080   0.5500   \n13     1       0.0319         0.928          0.000623    0.2390   0.2790   \n15     1       0.0346         0.856          0.000957    0.1090   0.0734   \n17     1       0.0310         0.920          0.015200    0.1430   0.1780   \n18     1       0.0336         0.972          0.000090    0.1210   0.3160   \n19     1       0.0371         0.952          0.000000    0.1130   0.3030   \n20     0       0.0332         0.891          0.000000    0.1080   0.2450   \n21     1       0.0294         0.932          0.000000    0.1010   0.3110   \n26     0       0.0326         0.939          0.000520    0.3840   0.0981   \n27     1       0.0519         0.995          0.924000    0.0584   0.0364   \n28     1       0.0334         0.889          0.000274    0.1650   0.4080   \n30     1       0.0387         0.907          0.649000    0.0609   0.2060   \n31     1       0.0430         0.984          0.910000    0.1000   0.2890   \n32     1       0.0345         0.990          0.000004    0.1230   0.1970   \n33     1       0.0422         0.986          0.000000    0.1220   0.2580   \n35     0       0.0363         0.956          0.000002    0.1200   0.1170   \n36     0       0.0975         0.991          0.873000    0.0732   0.5880   \n\n      tempo  artistsIndex  prediction  \n3   128.607           2.0           1  \n4   133.320           2.0           1  \n7   123.341           3.0           1  \n8   119.898           3.0           1  \n9   124.908           3.0           1  \n10   94.230          18.0           1  \n12   78.120           2.0           1  \n13   82.342          17.0           1  \n15  114.997           1.0           1  \n17  136.094           0.0           1  \n18   82.009          16.0           1  \n19  174.578           0.0           1  \n20   84.930           1.0           1  \n21   83.029           0.0           1  \n26   86.868           0.0           1  \n27  135.048           9.0           1  \n28  135.646          13.0           1  \n30  116.648          23.0           1  \n31   89.369           7.0           1  \n32   97.684           5.0           1  \n33   66.807           5.0           1  \n35   78.325          11.0           1  \n36  130.918          12.0           1  ",
      "text/html": "<div>\n<style scoped>\n    .dataframe tbody tr th:only-of-type {\n        vertical-align: middle;\n    }\n\n    .dataframe tbody tr th {\n        vertical-align: top;\n    }\n\n    .dataframe thead th {\n        text-align: right;\n    }\n</style>\n<table border=\"1\" class=\"dataframe\">\n  <thead>\n    <tr style=\"text-align: right;\">\n      <th></th>\n      <th>name</th>\n      <th>popularity</th>\n      <th>artists</th>\n      <th>danceability</th>\n      <th>energy</th>\n      <th>key</th>\n      <th>loudness</th>\n      <th>mode</th>\n      <th>speechiness</th>\n      <th>acousticness</th>\n      <th>instrumentalness</th>\n      <th>liveness</th>\n      <th>valence</th>\n      <th>tempo</th>\n      <th>artistsIndex</th>\n      <th>prediction</th>\n    </tr>\n  </thead>\n  <tbody>\n    <tr>\n      <th>3</th>\n      <td>I Fall In Love Too Easily - Vocal Version</td>\n      <td>66</td>\n      <td>ChetBaker</td>\n      <td>0.532</td>\n      <td>0.06570</td>\n      <td>0</td>\n      <td>-19.136</td>\n      <td>0</td>\n      <td>0.0406</td>\n      <td>0.940</td>\n      <td>0.004880</td>\n      <td>0.0946</td>\n      <td>0.2920</td>\n      <td>128.607</td>\n      <td>2.0</td>\n      <td>1</td>\n    </tr>\n    <tr>\n      <th>4</th>\n      <td>My Funny Valentine</td>\n      <td>64</td>\n      <td>ChetBaker</td>\n      <td>0.438</td>\n      <td>0.00756</td>\n      <td>0</td>\n      <td>-26.440</td>\n      <td>0</td>\n      <td>0.0382</td>\n      <td>0.941</td>\n      <td>0.006430</td>\n      <td>0.1090</td>\n      <td>0.2770</td>\n      <td>133.320</td>\n      <td>2.0</td>\n      <td>1</td>\n    </tr>\n    <tr>\n      <th>7</th>\n      <td>I'm In The Mood For Love</td>\n      <td>65</td>\n      <td>JulieLondon</td>\n      <td>0.580</td>\n      <td>0.05450</td>\n      <td>9</td>\n      <td>-14.594</td>\n      <td>0</td>\n      <td>0.0473</td>\n      <td>0.963</td>\n      <td>0.000265</td>\n      <td>0.0967</td>\n      <td>0.1770</td>\n      <td>123.341</td>\n      <td>3.0</td>\n      <td>1</td>\n    </tr>\n    <tr>\n      <th>8</th>\n      <td>Cry Me A River</td>\n      <td>63</td>\n      <td>JulieLondon</td>\n      <td>0.496</td>\n      <td>0.06880</td>\n      <td>4</td>\n      <td>-14.927</td>\n      <td>0</td>\n      <td>0.0545</td>\n      <td>0.964</td>\n      <td>0.002290</td>\n      <td>0.1120</td>\n      <td>0.1610</td>\n      <td>119.898</td>\n      <td>3.0</td>\n      <td>1</td>\n    </tr>\n    <tr>\n      <th>9</th>\n      <td>I'm Glad There Is You</td>\n      <td>61</td>\n      <td>JulieLondon</td>\n      <td>0.492</td>\n      <td>0.06710</td>\n      <td>10</td>\n      <td>-15.671</td>\n      <td>0</td>\n      <td>0.0399</td>\n      <td>0.958</td>\n      <td>0.000968</td>\n      <td>0.1090</td>\n      <td>0.1650</td>\n      <td>124.908</td>\n      <td>3.0</td>\n      <td>1</td>\n    </tr>\n    <tr>\n      <th>10</th>\n      <td>Black Coffee</td>\n      <td>56</td>\n      <td>SarahVaughan</td>\n      <td>0.380</td>\n      <td>0.15500</td>\n      <td>1</td>\n      <td>-11.977</td>\n      <td>1</td>\n      <td>0.0311</td>\n      <td>0.973</td>\n      <td>0.000017</td>\n      <td>0.0977</td>\n      <td>0.1270</td>\n      <td>94.230</td>\n      <td>18.0</td>\n      <td>1</td>\n    </tr>\n    <tr>\n      <th>12</th>\n      <td>Let's Get Lost</td>\n      <td>55</td>\n      <td>ChetBaker</td>\n      <td>0.521</td>\n      <td>0.37000</td>\n      <td>0</td>\n      <td>-9.345</td>\n      <td>1</td>\n      <td>0.0300</td>\n      <td>0.840</td>\n      <td>0.000807</td>\n      <td>0.1080</td>\n      <td>0.5500</td>\n      <td>78.120</td>\n      <td>2.0</td>\n      <td>1</td>\n    </tr>\n    <tr>\n      <th>13</th>\n      <td>Time After Time</td>\n      <td>52</td>\n      <td>MargaretWhiting</td>\n      <td>0.236</td>\n      <td>0.17300</td>\n      <td>6</td>\n      <td>-13.844</td>\n      <td>1</td>\n      <td>0.0319</td>\n      <td>0.928</td>\n      <td>0.000623</td>\n      <td>0.2390</td>\n      <td>0.2790</td>\n      <td>82.342</td>\n      <td>17.0</td>\n      <td>1</td>\n    </tr>\n    <tr>\n      <th>15</th>\n      <td>In The Wee Small Hours Of The Morning - Remast...</td>\n      <td>60</td>\n      <td>FrankSinatra</td>\n      <td>0.290</td>\n      <td>0.08740</td>\n      <td>0</td>\n      <td>-16.119</td>\n      <td>1</td>\n      <td>0.0346</td>\n      <td>0.856</td>\n      <td>0.000957</td>\n      <td>0.1090</td>\n      <td>0.0734</td>\n      <td>114.997</td>\n      <td>1.0</td>\n      <td>1</td>\n    </tr>\n    <tr>\n      <th>17</th>\n      <td>Unforgettable</td>\n      <td>68</td>\n      <td>NatKingCole</td>\n      <td>0.349</td>\n      <td>0.18200</td>\n      <td>5</td>\n      <td>-13.507</td>\n      <td>1</td>\n      <td>0.0310</td>\n      <td>0.920</td>\n      <td>0.015200</td>\n      <td>0.1430</td>\n      <td>0.1780</td>\n      <td>136.094</td>\n      <td>0.0</td>\n      <td>1</td>\n    </tr>\n    <tr>\n      <th>18</th>\n      <td>Over The Rainbow</td>\n      <td>60</td>\n      <td>JudyGarland</td>\n      <td>0.204</td>\n      <td>0.16100</td>\n      <td>8</td>\n      <td>-15.191</td>\n      <td>1</td>\n      <td>0.0336</td>\n      <td>0.972</td>\n      <td>0.000090</td>\n      <td>0.1210</td>\n      <td>0.3160</td>\n      <td>82.009</td>\n      <td>16.0</td>\n      <td>1</td>\n    </tr>\n    <tr>\n      <th>19</th>\n      <td>Mona Lisa</td>\n      <td>56</td>\n      <td>NatKingCole</td>\n      <td>0.241</td>\n      <td>0.23700</td>\n      <td>1</td>\n      <td>-12.201</td>\n      <td>1</td>\n      <td>0.0371</td>\n      <td>0.952</td>\n      <td>0.000000</td>\n      <td>0.1130</td>\n      <td>0.3030</td>\n      <td>174.578</td>\n      <td>0.0</td>\n      <td>1</td>\n    </tr>\n    <tr>\n      <th>20</th>\n      <td>My Funny Valentine - Remastered</td>\n      <td>54</td>\n      <td>FrankSinatra</td>\n      <td>0.257</td>\n      <td>0.12500</td>\n      <td>11</td>\n      <td>-14.267</td>\n      <td>0</td>\n      <td>0.0332</td>\n      <td>0.891</td>\n      <td>0.000000</td>\n      <td>0.1080</td>\n      <td>0.2450</td>\n      <td>84.930</td>\n      <td>1.0</td>\n      <td>1</td>\n    </tr>\n    <tr>\n      <th>21</th>\n      <td>Pretend</td>\n      <td>51</td>\n      <td>NatKingCole</td>\n      <td>0.388</td>\n      <td>0.27500</td>\n      <td>10</td>\n      <td>-11.248</td>\n      <td>1</td>\n      <td>0.0294</td>\n      <td>0.932</td>\n      <td>0.000000</td>\n      <td>0.1010</td>\n      <td>0.3110</td>\n      <td>83.029</td>\n      <td>0.0</td>\n      <td>1</td>\n    </tr>\n    <tr>\n      <th>26</th>\n      <td>Autumn Leaves - Remastered</td>\n      <td>52</td>\n      <td>NatKingCole</td>\n      <td>0.211</td>\n      <td>0.34800</td>\n      <td>2</td>\n      <td>-10.120</td>\n      <td>0</td>\n      <td>0.0326</td>\n      <td>0.939</td>\n      <td>0.000520</td>\n      <td>0.3840</td>\n      <td>0.0981</td>\n      <td>86.868</td>\n      <td>0.0</td>\n      <td>1</td>\n    </tr>\n    <tr>\n      <th>27</th>\n      <td>Claire de lune</td>\n      <td>62</td>\n      <td>ClaudeDebussyAlexisWeissenberg</td>\n      <td>0.365</td>\n      <td>0.01000</td>\n      <td>1</td>\n      <td>-25.268</td>\n      <td>1</td>\n      <td>0.0519</td>\n      <td>0.995</td>\n      <td>0.924000</td>\n      <td>0.0584</td>\n      <td>0.0364</td>\n      <td>135.048</td>\n      <td>9.0</td>\n      <td>1</td>\n    </tr>\n    <tr>\n      <th>28</th>\n      <td>Singin' In The Rain</td>\n      <td>53</td>\n      <td>GeneKelly</td>\n      <td>0.354</td>\n      <td>0.24100</td>\n      <td>5</td>\n      <td>-13.811</td>\n      <td>1</td>\n      <td>0.0334</td>\n      <td>0.889</td>\n      <td>0.000274</td>\n      <td>0.1650</td>\n      <td>0.4080</td>\n      <td>135.646</td>\n      <td>13.0</td>\n      <td>1</td>\n    </tr>\n    <tr>\n      <th>30</th>\n      <td>'Round Midnight</td>\n      <td>58</td>\n      <td>TheloniousMonk</td>\n      <td>0.542</td>\n      <td>0.32000</td>\n      <td>8</td>\n      <td>-9.975</td>\n      <td>1</td>\n      <td>0.0387</td>\n      <td>0.907</td>\n      <td>0.649000</td>\n      <td>0.0609</td>\n      <td>0.2060</td>\n      <td>116.648</td>\n      <td>23.0</td>\n      <td>1</td>\n    </tr>\n    <tr>\n      <th>31</th>\n      <td>Poinciana</td>\n      <td>51</td>\n      <td>AhmadJamal</td>\n      <td>0.553</td>\n      <td>0.09020</td>\n      <td>2</td>\n      <td>-21.491</td>\n      <td>1</td>\n      <td>0.0430</td>\n      <td>0.984</td>\n      <td>0.910000</td>\n      <td>0.1000</td>\n      <td>0.2890</td>\n      <td>89.369</td>\n      <td>7.0</td>\n      <td>1</td>\n    </tr>\n    <tr>\n      <th>32</th>\n      <td>Someone To Watch Over Me</td>\n      <td>57</td>\n      <td>EllaFitzgerald</td>\n      <td>0.354</td>\n      <td>0.08510</td>\n      <td>7</td>\n      <td>-13.738</td>\n      <td>1</td>\n      <td>0.0345</td>\n      <td>0.990</td>\n      <td>0.000004</td>\n      <td>0.1230</td>\n      <td>0.1970</td>\n      <td>97.684</td>\n      <td>5.0</td>\n      <td>1</td>\n    </tr>\n    <tr>\n      <th>33</th>\n      <td>I've Got A Crush On You</td>\n      <td>56</td>\n      <td>EllaFitzgerald</td>\n      <td>0.455</td>\n      <td>0.10600</td>\n      <td>2</td>\n      <td>-14.086</td>\n      <td>1</td>\n      <td>0.0422</td>\n      <td>0.986</td>\n      <td>0.000000</td>\n      <td>0.1220</td>\n      <td>0.2580</td>\n      <td>66.807</td>\n      <td>5.0</td>\n      <td>1</td>\n    </tr>\n    <tr>\n      <th>35</th>\n      <td>I'm Confessin' (That I Love You)</td>\n      <td>54</td>\n      <td>DorisDay</td>\n      <td>0.317</td>\n      <td>0.01860</td>\n      <td>3</td>\n      <td>-23.650</td>\n      <td>0</td>\n      <td>0.0363</td>\n      <td>0.956</td>\n      <td>0.000002</td>\n      <td>0.1200</td>\n      <td>0.1170</td>\n      <td>78.325</td>\n      <td>11.0</td>\n      <td>1</td>\n    </tr>\n    <tr>\n      <th>36</th>\n      <td>Gymnopédie No. 3</td>\n      <td>53</td>\n      <td>ErikSatiePhilippeEntremont</td>\n      <td>0.508</td>\n      <td>0.00766</td>\n      <td>9</td>\n      <td>-37.783</td>\n      <td>0</td>\n      <td>0.0975</td>\n      <td>0.991</td>\n      <td>0.873000</td>\n      <td>0.0732</td>\n      <td>0.5880</td>\n      <td>130.918</td>\n      <td>12.0</td>\n      <td>1</td>\n    </tr>\n  </tbody>\n</table>\n</div>"
     },
     "execution_count": 297,
     "metadata": {},
     "output_type": "execute_result"
    }
   ],
   "source": [
    "filtered_data = data_df[data_df['prediction'] == 1]\n",
    "filtered_data"
   ],
   "metadata": {
    "collapsed": false,
    "pycharm": {
     "name": "#%%\n"
    }
   }
  },
  {
   "cell_type": "code",
   "execution_count": 310,
   "outputs": [
    {
     "data": {
      "text/plain": "                                                 name  popularity  \\\n3           I Fall In Love Too Easily - Vocal Version          66   \n4                                  My Funny Valentine          64   \n7                            I'm In The Mood For Love          65   \n8                                      Cry Me A River          63   \n9                               I'm Glad There Is You          61   \n10                                       Black Coffee          56   \n12                                     Let's Get Lost          55   \n13                                    Time After Time          52   \n15  In The Wee Small Hours Of The Morning - Remast...          60   \n17                                      Unforgettable          68   \n18                                   Over The Rainbow          60   \n19                                          Mona Lisa          56   \n20                    My Funny Valentine - Remastered          54   \n21                                            Pretend          51   \n26                         Autumn Leaves - Remastered          52   \n27                                     Claire de lune          62   \n28                                Singin' In The Rain          53   \n30                                    'Round Midnight          58   \n31                                          Poinciana          51   \n32                           Someone To Watch Over Me          57   \n33                            I've Got A Crush On You          56   \n35                   I'm Confessin' (That I Love You)          54   \n\n                           artists  danceability   energy  key  loudness  \\\n3                        ChetBaker         0.532  0.06570    0   -19.136   \n4                        ChetBaker         0.438  0.00756    0   -26.440   \n7                      JulieLondon         0.580  0.05450    9   -14.594   \n8                      JulieLondon         0.496  0.06880    4   -14.927   \n9                      JulieLondon         0.492  0.06710   10   -15.671   \n10                    SarahVaughan         0.380  0.15500    1   -11.977   \n12                       ChetBaker         0.521  0.37000    0    -9.345   \n13                 MargaretWhiting         0.236  0.17300    6   -13.844   \n15                    FrankSinatra         0.290  0.08740    0   -16.119   \n17                     NatKingCole         0.349  0.18200    5   -13.507   \n18                     JudyGarland         0.204  0.16100    8   -15.191   \n19                     NatKingCole         0.241  0.23700    1   -12.201   \n20                    FrankSinatra         0.257  0.12500   11   -14.267   \n21                     NatKingCole         0.388  0.27500   10   -11.248   \n26                     NatKingCole         0.211  0.34800    2   -10.120   \n27  ClaudeDebussyAlexisWeissenberg         0.365  0.01000    1   -25.268   \n28                       GeneKelly         0.354  0.24100    5   -13.811   \n30                  TheloniousMonk         0.542  0.32000    8    -9.975   \n31                      AhmadJamal         0.553  0.09020    2   -21.491   \n32                  EllaFitzgerald         0.354  0.08510    7   -13.738   \n33                  EllaFitzgerald         0.455  0.10600    2   -14.086   \n35                        DorisDay         0.317  0.01860    3   -23.650   \n\n    mode  speechiness  acousticness  instrumentalness  liveness  valence  \\\n3      0       0.0406         0.940          0.004880    0.0946   0.2920   \n4      0       0.0382         0.941          0.006430    0.1090   0.2770   \n7      0       0.0473         0.963          0.000265    0.0967   0.1770   \n8      0       0.0545         0.964          0.002290    0.1120   0.1610   \n9      0       0.0399         0.958          0.000968    0.1090   0.1650   \n10     1       0.0311         0.973          0.000017    0.0977   0.1270   \n12     1       0.0300         0.840          0.000807    0.1080   0.5500   \n13     1       0.0319         0.928          0.000623    0.2390   0.2790   \n15     1       0.0346         0.856          0.000957    0.1090   0.0734   \n17     1       0.0310         0.920          0.015200    0.1430   0.1780   \n18     1       0.0336         0.972          0.000090    0.1210   0.3160   \n19     1       0.0371         0.952          0.000000    0.1130   0.3030   \n20     0       0.0332         0.891          0.000000    0.1080   0.2450   \n21     1       0.0294         0.932          0.000000    0.1010   0.3110   \n26     0       0.0326         0.939          0.000520    0.3840   0.0981   \n27     1       0.0519         0.995          0.924000    0.0584   0.0364   \n28     1       0.0334         0.889          0.000274    0.1650   0.4080   \n30     1       0.0387         0.907          0.649000    0.0609   0.2060   \n31     1       0.0430         0.984          0.910000    0.1000   0.2890   \n32     1       0.0345         0.990          0.000004    0.1230   0.1970   \n33     1       0.0422         0.986          0.000000    0.1220   0.2580   \n35     0       0.0363         0.956          0.000002    0.1200   0.1170   \n\n      tempo  \n3   128.607  \n4   133.320  \n7   123.341  \n8   119.898  \n9   124.908  \n10   94.230  \n12   78.120  \n13   82.342  \n15  114.997  \n17  136.094  \n18   82.009  \n19  174.578  \n20   84.930  \n21   83.029  \n26   86.868  \n27  135.048  \n28  135.646  \n30  116.648  \n31   89.369  \n32   97.684  \n33   66.807  \n35   78.325  ",
      "text/html": "<div>\n<style scoped>\n    .dataframe tbody tr th:only-of-type {\n        vertical-align: middle;\n    }\n\n    .dataframe tbody tr th {\n        vertical-align: top;\n    }\n\n    .dataframe thead th {\n        text-align: right;\n    }\n</style>\n<table border=\"1\" class=\"dataframe\">\n  <thead>\n    <tr style=\"text-align: right;\">\n      <th></th>\n      <th>name</th>\n      <th>popularity</th>\n      <th>artists</th>\n      <th>danceability</th>\n      <th>energy</th>\n      <th>key</th>\n      <th>loudness</th>\n      <th>mode</th>\n      <th>speechiness</th>\n      <th>acousticness</th>\n      <th>instrumentalness</th>\n      <th>liveness</th>\n      <th>valence</th>\n      <th>tempo</th>\n    </tr>\n  </thead>\n  <tbody>\n    <tr>\n      <th>3</th>\n      <td>I Fall In Love Too Easily - Vocal Version</td>\n      <td>66</td>\n      <td>ChetBaker</td>\n      <td>0.532</td>\n      <td>0.06570</td>\n      <td>0</td>\n      <td>-19.136</td>\n      <td>0</td>\n      <td>0.0406</td>\n      <td>0.940</td>\n      <td>0.004880</td>\n      <td>0.0946</td>\n      <td>0.2920</td>\n      <td>128.607</td>\n    </tr>\n    <tr>\n      <th>4</th>\n      <td>My Funny Valentine</td>\n      <td>64</td>\n      <td>ChetBaker</td>\n      <td>0.438</td>\n      <td>0.00756</td>\n      <td>0</td>\n      <td>-26.440</td>\n      <td>0</td>\n      <td>0.0382</td>\n      <td>0.941</td>\n      <td>0.006430</td>\n      <td>0.1090</td>\n      <td>0.2770</td>\n      <td>133.320</td>\n    </tr>\n    <tr>\n      <th>7</th>\n      <td>I'm In The Mood For Love</td>\n      <td>65</td>\n      <td>JulieLondon</td>\n      <td>0.580</td>\n      <td>0.05450</td>\n      <td>9</td>\n      <td>-14.594</td>\n      <td>0</td>\n      <td>0.0473</td>\n      <td>0.963</td>\n      <td>0.000265</td>\n      <td>0.0967</td>\n      <td>0.1770</td>\n      <td>123.341</td>\n    </tr>\n    <tr>\n      <th>8</th>\n      <td>Cry Me A River</td>\n      <td>63</td>\n      <td>JulieLondon</td>\n      <td>0.496</td>\n      <td>0.06880</td>\n      <td>4</td>\n      <td>-14.927</td>\n      <td>0</td>\n      <td>0.0545</td>\n      <td>0.964</td>\n      <td>0.002290</td>\n      <td>0.1120</td>\n      <td>0.1610</td>\n      <td>119.898</td>\n    </tr>\n    <tr>\n      <th>9</th>\n      <td>I'm Glad There Is You</td>\n      <td>61</td>\n      <td>JulieLondon</td>\n      <td>0.492</td>\n      <td>0.06710</td>\n      <td>10</td>\n      <td>-15.671</td>\n      <td>0</td>\n      <td>0.0399</td>\n      <td>0.958</td>\n      <td>0.000968</td>\n      <td>0.1090</td>\n      <td>0.1650</td>\n      <td>124.908</td>\n    </tr>\n    <tr>\n      <th>10</th>\n      <td>Black Coffee</td>\n      <td>56</td>\n      <td>SarahVaughan</td>\n      <td>0.380</td>\n      <td>0.15500</td>\n      <td>1</td>\n      <td>-11.977</td>\n      <td>1</td>\n      <td>0.0311</td>\n      <td>0.973</td>\n      <td>0.000017</td>\n      <td>0.0977</td>\n      <td>0.1270</td>\n      <td>94.230</td>\n    </tr>\n    <tr>\n      <th>12</th>\n      <td>Let's Get Lost</td>\n      <td>55</td>\n      <td>ChetBaker</td>\n      <td>0.521</td>\n      <td>0.37000</td>\n      <td>0</td>\n      <td>-9.345</td>\n      <td>1</td>\n      <td>0.0300</td>\n      <td>0.840</td>\n      <td>0.000807</td>\n      <td>0.1080</td>\n      <td>0.5500</td>\n      <td>78.120</td>\n    </tr>\n    <tr>\n      <th>13</th>\n      <td>Time After Time</td>\n      <td>52</td>\n      <td>MargaretWhiting</td>\n      <td>0.236</td>\n      <td>0.17300</td>\n      <td>6</td>\n      <td>-13.844</td>\n      <td>1</td>\n      <td>0.0319</td>\n      <td>0.928</td>\n      <td>0.000623</td>\n      <td>0.2390</td>\n      <td>0.2790</td>\n      <td>82.342</td>\n    </tr>\n    <tr>\n      <th>15</th>\n      <td>In The Wee Small Hours Of The Morning - Remast...</td>\n      <td>60</td>\n      <td>FrankSinatra</td>\n      <td>0.290</td>\n      <td>0.08740</td>\n      <td>0</td>\n      <td>-16.119</td>\n      <td>1</td>\n      <td>0.0346</td>\n      <td>0.856</td>\n      <td>0.000957</td>\n      <td>0.1090</td>\n      <td>0.0734</td>\n      <td>114.997</td>\n    </tr>\n    <tr>\n      <th>17</th>\n      <td>Unforgettable</td>\n      <td>68</td>\n      <td>NatKingCole</td>\n      <td>0.349</td>\n      <td>0.18200</td>\n      <td>5</td>\n      <td>-13.507</td>\n      <td>1</td>\n      <td>0.0310</td>\n      <td>0.920</td>\n      <td>0.015200</td>\n      <td>0.1430</td>\n      <td>0.1780</td>\n      <td>136.094</td>\n    </tr>\n    <tr>\n      <th>18</th>\n      <td>Over The Rainbow</td>\n      <td>60</td>\n      <td>JudyGarland</td>\n      <td>0.204</td>\n      <td>0.16100</td>\n      <td>8</td>\n      <td>-15.191</td>\n      <td>1</td>\n      <td>0.0336</td>\n      <td>0.972</td>\n      <td>0.000090</td>\n      <td>0.1210</td>\n      <td>0.3160</td>\n      <td>82.009</td>\n    </tr>\n    <tr>\n      <th>19</th>\n      <td>Mona Lisa</td>\n      <td>56</td>\n      <td>NatKingCole</td>\n      <td>0.241</td>\n      <td>0.23700</td>\n      <td>1</td>\n      <td>-12.201</td>\n      <td>1</td>\n      <td>0.0371</td>\n      <td>0.952</td>\n      <td>0.000000</td>\n      <td>0.1130</td>\n      <td>0.3030</td>\n      <td>174.578</td>\n    </tr>\n    <tr>\n      <th>20</th>\n      <td>My Funny Valentine - Remastered</td>\n      <td>54</td>\n      <td>FrankSinatra</td>\n      <td>0.257</td>\n      <td>0.12500</td>\n      <td>11</td>\n      <td>-14.267</td>\n      <td>0</td>\n      <td>0.0332</td>\n      <td>0.891</td>\n      <td>0.000000</td>\n      <td>0.1080</td>\n      <td>0.2450</td>\n      <td>84.930</td>\n    </tr>\n    <tr>\n      <th>21</th>\n      <td>Pretend</td>\n      <td>51</td>\n      <td>NatKingCole</td>\n      <td>0.388</td>\n      <td>0.27500</td>\n      <td>10</td>\n      <td>-11.248</td>\n      <td>1</td>\n      <td>0.0294</td>\n      <td>0.932</td>\n      <td>0.000000</td>\n      <td>0.1010</td>\n      <td>0.3110</td>\n      <td>83.029</td>\n    </tr>\n    <tr>\n      <th>26</th>\n      <td>Autumn Leaves - Remastered</td>\n      <td>52</td>\n      <td>NatKingCole</td>\n      <td>0.211</td>\n      <td>0.34800</td>\n      <td>2</td>\n      <td>-10.120</td>\n      <td>0</td>\n      <td>0.0326</td>\n      <td>0.939</td>\n      <td>0.000520</td>\n      <td>0.3840</td>\n      <td>0.0981</td>\n      <td>86.868</td>\n    </tr>\n    <tr>\n      <th>27</th>\n      <td>Claire de lune</td>\n      <td>62</td>\n      <td>ClaudeDebussyAlexisWeissenberg</td>\n      <td>0.365</td>\n      <td>0.01000</td>\n      <td>1</td>\n      <td>-25.268</td>\n      <td>1</td>\n      <td>0.0519</td>\n      <td>0.995</td>\n      <td>0.924000</td>\n      <td>0.0584</td>\n      <td>0.0364</td>\n      <td>135.048</td>\n    </tr>\n    <tr>\n      <th>28</th>\n      <td>Singin' In The Rain</td>\n      <td>53</td>\n      <td>GeneKelly</td>\n      <td>0.354</td>\n      <td>0.24100</td>\n      <td>5</td>\n      <td>-13.811</td>\n      <td>1</td>\n      <td>0.0334</td>\n      <td>0.889</td>\n      <td>0.000274</td>\n      <td>0.1650</td>\n      <td>0.4080</td>\n      <td>135.646</td>\n    </tr>\n    <tr>\n      <th>30</th>\n      <td>'Round Midnight</td>\n      <td>58</td>\n      <td>TheloniousMonk</td>\n      <td>0.542</td>\n      <td>0.32000</td>\n      <td>8</td>\n      <td>-9.975</td>\n      <td>1</td>\n      <td>0.0387</td>\n      <td>0.907</td>\n      <td>0.649000</td>\n      <td>0.0609</td>\n      <td>0.2060</td>\n      <td>116.648</td>\n    </tr>\n    <tr>\n      <th>31</th>\n      <td>Poinciana</td>\n      <td>51</td>\n      <td>AhmadJamal</td>\n      <td>0.553</td>\n      <td>0.09020</td>\n      <td>2</td>\n      <td>-21.491</td>\n      <td>1</td>\n      <td>0.0430</td>\n      <td>0.984</td>\n      <td>0.910000</td>\n      <td>0.1000</td>\n      <td>0.2890</td>\n      <td>89.369</td>\n    </tr>\n    <tr>\n      <th>32</th>\n      <td>Someone To Watch Over Me</td>\n      <td>57</td>\n      <td>EllaFitzgerald</td>\n      <td>0.354</td>\n      <td>0.08510</td>\n      <td>7</td>\n      <td>-13.738</td>\n      <td>1</td>\n      <td>0.0345</td>\n      <td>0.990</td>\n      <td>0.000004</td>\n      <td>0.1230</td>\n      <td>0.1970</td>\n      <td>97.684</td>\n    </tr>\n    <tr>\n      <th>33</th>\n      <td>I've Got A Crush On You</td>\n      <td>56</td>\n      <td>EllaFitzgerald</td>\n      <td>0.455</td>\n      <td>0.10600</td>\n      <td>2</td>\n      <td>-14.086</td>\n      <td>1</td>\n      <td>0.0422</td>\n      <td>0.986</td>\n      <td>0.000000</td>\n      <td>0.1220</td>\n      <td>0.2580</td>\n      <td>66.807</td>\n    </tr>\n    <tr>\n      <th>35</th>\n      <td>I'm Confessin' (That I Love You)</td>\n      <td>54</td>\n      <td>DorisDay</td>\n      <td>0.317</td>\n      <td>0.01860</td>\n      <td>3</td>\n      <td>-23.650</td>\n      <td>0</td>\n      <td>0.0363</td>\n      <td>0.956</td>\n      <td>0.000002</td>\n      <td>0.1200</td>\n      <td>0.1170</td>\n      <td>78.325</td>\n    </tr>\n  </tbody>\n</table>\n</div>"
     },
     "execution_count": 310,
     "metadata": {},
     "output_type": "execute_result"
    }
   ],
   "source": [
    "filtered_data.iloc[:-1, :-2]"
   ],
   "metadata": {
    "collapsed": false,
    "pycharm": {
     "name": "#%%\n"
    }
   }
  },
  {
   "cell_type": "code",
   "execution_count": 298,
   "outputs": [
    {
     "data": {
      "text/plain": "    popularity  danceability   energy  key  loudness  mode  speechiness  \\\n3           66         0.532  0.06570    0   -19.136     0       0.0406   \n4           64         0.438  0.00756    0   -26.440     0       0.0382   \n7           65         0.580  0.05450    9   -14.594     0       0.0473   \n8           63         0.496  0.06880    4   -14.927     0       0.0545   \n9           61         0.492  0.06710   10   -15.671     0       0.0399   \n10          56         0.380  0.15500    1   -11.977     1       0.0311   \n12          55         0.521  0.37000    0    -9.345     1       0.0300   \n13          52         0.236  0.17300    6   -13.844     1       0.0319   \n15          60         0.290  0.08740    0   -16.119     1       0.0346   \n17          68         0.349  0.18200    5   -13.507     1       0.0310   \n18          60         0.204  0.16100    8   -15.191     1       0.0336   \n19          56         0.241  0.23700    1   -12.201     1       0.0371   \n20          54         0.257  0.12500   11   -14.267     0       0.0332   \n21          51         0.388  0.27500   10   -11.248     1       0.0294   \n26          52         0.211  0.34800    2   -10.120     0       0.0326   \n27          62         0.365  0.01000    1   -25.268     1       0.0519   \n28          53         0.354  0.24100    5   -13.811     1       0.0334   \n30          58         0.542  0.32000    8    -9.975     1       0.0387   \n31          51         0.553  0.09020    2   -21.491     1       0.0430   \n32          57         0.354  0.08510    7   -13.738     1       0.0345   \n33          56         0.455  0.10600    2   -14.086     1       0.0422   \n35          54         0.317  0.01860    3   -23.650     0       0.0363   \n36          53         0.508  0.00766    9   -37.783     0       0.0975   \n\n    acousticness  instrumentalness  liveness  valence    tempo  artistsIndex  \n3          0.940          0.004880    0.0946   0.2920  128.607           2.0  \n4          0.941          0.006430    0.1090   0.2770  133.320           2.0  \n7          0.963          0.000265    0.0967   0.1770  123.341           3.0  \n8          0.964          0.002290    0.1120   0.1610  119.898           3.0  \n9          0.958          0.000968    0.1090   0.1650  124.908           3.0  \n10         0.973          0.000017    0.0977   0.1270   94.230          18.0  \n12         0.840          0.000807    0.1080   0.5500   78.120           2.0  \n13         0.928          0.000623    0.2390   0.2790   82.342          17.0  \n15         0.856          0.000957    0.1090   0.0734  114.997           1.0  \n17         0.920          0.015200    0.1430   0.1780  136.094           0.0  \n18         0.972          0.000090    0.1210   0.3160   82.009          16.0  \n19         0.952          0.000000    0.1130   0.3030  174.578           0.0  \n20         0.891          0.000000    0.1080   0.2450   84.930           1.0  \n21         0.932          0.000000    0.1010   0.3110   83.029           0.0  \n26         0.939          0.000520    0.3840   0.0981   86.868           0.0  \n27         0.995          0.924000    0.0584   0.0364  135.048           9.0  \n28         0.889          0.000274    0.1650   0.4080  135.646          13.0  \n30         0.907          0.649000    0.0609   0.2060  116.648          23.0  \n31         0.984          0.910000    0.1000   0.2890   89.369           7.0  \n32         0.990          0.000004    0.1230   0.1970   97.684           5.0  \n33         0.986          0.000000    0.1220   0.2580   66.807           5.0  \n35         0.956          0.000002    0.1200   0.1170   78.325          11.0  \n36         0.991          0.873000    0.0732   0.5880  130.918          12.0  ",
      "text/html": "<div>\n<style scoped>\n    .dataframe tbody tr th:only-of-type {\n        vertical-align: middle;\n    }\n\n    .dataframe tbody tr th {\n        vertical-align: top;\n    }\n\n    .dataframe thead th {\n        text-align: right;\n    }\n</style>\n<table border=\"1\" class=\"dataframe\">\n  <thead>\n    <tr style=\"text-align: right;\">\n      <th></th>\n      <th>popularity</th>\n      <th>danceability</th>\n      <th>energy</th>\n      <th>key</th>\n      <th>loudness</th>\n      <th>mode</th>\n      <th>speechiness</th>\n      <th>acousticness</th>\n      <th>instrumentalness</th>\n      <th>liveness</th>\n      <th>valence</th>\n      <th>tempo</th>\n      <th>artistsIndex</th>\n    </tr>\n  </thead>\n  <tbody>\n    <tr>\n      <th>3</th>\n      <td>66</td>\n      <td>0.532</td>\n      <td>0.06570</td>\n      <td>0</td>\n      <td>-19.136</td>\n      <td>0</td>\n      <td>0.0406</td>\n      <td>0.940</td>\n      <td>0.004880</td>\n      <td>0.0946</td>\n      <td>0.2920</td>\n      <td>128.607</td>\n      <td>2.0</td>\n    </tr>\n    <tr>\n      <th>4</th>\n      <td>64</td>\n      <td>0.438</td>\n      <td>0.00756</td>\n      <td>0</td>\n      <td>-26.440</td>\n      <td>0</td>\n      <td>0.0382</td>\n      <td>0.941</td>\n      <td>0.006430</td>\n      <td>0.1090</td>\n      <td>0.2770</td>\n      <td>133.320</td>\n      <td>2.0</td>\n    </tr>\n    <tr>\n      <th>7</th>\n      <td>65</td>\n      <td>0.580</td>\n      <td>0.05450</td>\n      <td>9</td>\n      <td>-14.594</td>\n      <td>0</td>\n      <td>0.0473</td>\n      <td>0.963</td>\n      <td>0.000265</td>\n      <td>0.0967</td>\n      <td>0.1770</td>\n      <td>123.341</td>\n      <td>3.0</td>\n    </tr>\n    <tr>\n      <th>8</th>\n      <td>63</td>\n      <td>0.496</td>\n      <td>0.06880</td>\n      <td>4</td>\n      <td>-14.927</td>\n      <td>0</td>\n      <td>0.0545</td>\n      <td>0.964</td>\n      <td>0.002290</td>\n      <td>0.1120</td>\n      <td>0.1610</td>\n      <td>119.898</td>\n      <td>3.0</td>\n    </tr>\n    <tr>\n      <th>9</th>\n      <td>61</td>\n      <td>0.492</td>\n      <td>0.06710</td>\n      <td>10</td>\n      <td>-15.671</td>\n      <td>0</td>\n      <td>0.0399</td>\n      <td>0.958</td>\n      <td>0.000968</td>\n      <td>0.1090</td>\n      <td>0.1650</td>\n      <td>124.908</td>\n      <td>3.0</td>\n    </tr>\n    <tr>\n      <th>10</th>\n      <td>56</td>\n      <td>0.380</td>\n      <td>0.15500</td>\n      <td>1</td>\n      <td>-11.977</td>\n      <td>1</td>\n      <td>0.0311</td>\n      <td>0.973</td>\n      <td>0.000017</td>\n      <td>0.0977</td>\n      <td>0.1270</td>\n      <td>94.230</td>\n      <td>18.0</td>\n    </tr>\n    <tr>\n      <th>12</th>\n      <td>55</td>\n      <td>0.521</td>\n      <td>0.37000</td>\n      <td>0</td>\n      <td>-9.345</td>\n      <td>1</td>\n      <td>0.0300</td>\n      <td>0.840</td>\n      <td>0.000807</td>\n      <td>0.1080</td>\n      <td>0.5500</td>\n      <td>78.120</td>\n      <td>2.0</td>\n    </tr>\n    <tr>\n      <th>13</th>\n      <td>52</td>\n      <td>0.236</td>\n      <td>0.17300</td>\n      <td>6</td>\n      <td>-13.844</td>\n      <td>1</td>\n      <td>0.0319</td>\n      <td>0.928</td>\n      <td>0.000623</td>\n      <td>0.2390</td>\n      <td>0.2790</td>\n      <td>82.342</td>\n      <td>17.0</td>\n    </tr>\n    <tr>\n      <th>15</th>\n      <td>60</td>\n      <td>0.290</td>\n      <td>0.08740</td>\n      <td>0</td>\n      <td>-16.119</td>\n      <td>1</td>\n      <td>0.0346</td>\n      <td>0.856</td>\n      <td>0.000957</td>\n      <td>0.1090</td>\n      <td>0.0734</td>\n      <td>114.997</td>\n      <td>1.0</td>\n    </tr>\n    <tr>\n      <th>17</th>\n      <td>68</td>\n      <td>0.349</td>\n      <td>0.18200</td>\n      <td>5</td>\n      <td>-13.507</td>\n      <td>1</td>\n      <td>0.0310</td>\n      <td>0.920</td>\n      <td>0.015200</td>\n      <td>0.1430</td>\n      <td>0.1780</td>\n      <td>136.094</td>\n      <td>0.0</td>\n    </tr>\n    <tr>\n      <th>18</th>\n      <td>60</td>\n      <td>0.204</td>\n      <td>0.16100</td>\n      <td>8</td>\n      <td>-15.191</td>\n      <td>1</td>\n      <td>0.0336</td>\n      <td>0.972</td>\n      <td>0.000090</td>\n      <td>0.1210</td>\n      <td>0.3160</td>\n      <td>82.009</td>\n      <td>16.0</td>\n    </tr>\n    <tr>\n      <th>19</th>\n      <td>56</td>\n      <td>0.241</td>\n      <td>0.23700</td>\n      <td>1</td>\n      <td>-12.201</td>\n      <td>1</td>\n      <td>0.0371</td>\n      <td>0.952</td>\n      <td>0.000000</td>\n      <td>0.1130</td>\n      <td>0.3030</td>\n      <td>174.578</td>\n      <td>0.0</td>\n    </tr>\n    <tr>\n      <th>20</th>\n      <td>54</td>\n      <td>0.257</td>\n      <td>0.12500</td>\n      <td>11</td>\n      <td>-14.267</td>\n      <td>0</td>\n      <td>0.0332</td>\n      <td>0.891</td>\n      <td>0.000000</td>\n      <td>0.1080</td>\n      <td>0.2450</td>\n      <td>84.930</td>\n      <td>1.0</td>\n    </tr>\n    <tr>\n      <th>21</th>\n      <td>51</td>\n      <td>0.388</td>\n      <td>0.27500</td>\n      <td>10</td>\n      <td>-11.248</td>\n      <td>1</td>\n      <td>0.0294</td>\n      <td>0.932</td>\n      <td>0.000000</td>\n      <td>0.1010</td>\n      <td>0.3110</td>\n      <td>83.029</td>\n      <td>0.0</td>\n    </tr>\n    <tr>\n      <th>26</th>\n      <td>52</td>\n      <td>0.211</td>\n      <td>0.34800</td>\n      <td>2</td>\n      <td>-10.120</td>\n      <td>0</td>\n      <td>0.0326</td>\n      <td>0.939</td>\n      <td>0.000520</td>\n      <td>0.3840</td>\n      <td>0.0981</td>\n      <td>86.868</td>\n      <td>0.0</td>\n    </tr>\n    <tr>\n      <th>27</th>\n      <td>62</td>\n      <td>0.365</td>\n      <td>0.01000</td>\n      <td>1</td>\n      <td>-25.268</td>\n      <td>1</td>\n      <td>0.0519</td>\n      <td>0.995</td>\n      <td>0.924000</td>\n      <td>0.0584</td>\n      <td>0.0364</td>\n      <td>135.048</td>\n      <td>9.0</td>\n    </tr>\n    <tr>\n      <th>28</th>\n      <td>53</td>\n      <td>0.354</td>\n      <td>0.24100</td>\n      <td>5</td>\n      <td>-13.811</td>\n      <td>1</td>\n      <td>0.0334</td>\n      <td>0.889</td>\n      <td>0.000274</td>\n      <td>0.1650</td>\n      <td>0.4080</td>\n      <td>135.646</td>\n      <td>13.0</td>\n    </tr>\n    <tr>\n      <th>30</th>\n      <td>58</td>\n      <td>0.542</td>\n      <td>0.32000</td>\n      <td>8</td>\n      <td>-9.975</td>\n      <td>1</td>\n      <td>0.0387</td>\n      <td>0.907</td>\n      <td>0.649000</td>\n      <td>0.0609</td>\n      <td>0.2060</td>\n      <td>116.648</td>\n      <td>23.0</td>\n    </tr>\n    <tr>\n      <th>31</th>\n      <td>51</td>\n      <td>0.553</td>\n      <td>0.09020</td>\n      <td>2</td>\n      <td>-21.491</td>\n      <td>1</td>\n      <td>0.0430</td>\n      <td>0.984</td>\n      <td>0.910000</td>\n      <td>0.1000</td>\n      <td>0.2890</td>\n      <td>89.369</td>\n      <td>7.0</td>\n    </tr>\n    <tr>\n      <th>32</th>\n      <td>57</td>\n      <td>0.354</td>\n      <td>0.08510</td>\n      <td>7</td>\n      <td>-13.738</td>\n      <td>1</td>\n      <td>0.0345</td>\n      <td>0.990</td>\n      <td>0.000004</td>\n      <td>0.1230</td>\n      <td>0.1970</td>\n      <td>97.684</td>\n      <td>5.0</td>\n    </tr>\n    <tr>\n      <th>33</th>\n      <td>56</td>\n      <td>0.455</td>\n      <td>0.10600</td>\n      <td>2</td>\n      <td>-14.086</td>\n      <td>1</td>\n      <td>0.0422</td>\n      <td>0.986</td>\n      <td>0.000000</td>\n      <td>0.1220</td>\n      <td>0.2580</td>\n      <td>66.807</td>\n      <td>5.0</td>\n    </tr>\n    <tr>\n      <th>35</th>\n      <td>54</td>\n      <td>0.317</td>\n      <td>0.01860</td>\n      <td>3</td>\n      <td>-23.650</td>\n      <td>0</td>\n      <td>0.0363</td>\n      <td>0.956</td>\n      <td>0.000002</td>\n      <td>0.1200</td>\n      <td>0.1170</td>\n      <td>78.325</td>\n      <td>11.0</td>\n    </tr>\n    <tr>\n      <th>36</th>\n      <td>53</td>\n      <td>0.508</td>\n      <td>0.00766</td>\n      <td>9</td>\n      <td>-37.783</td>\n      <td>0</td>\n      <td>0.0975</td>\n      <td>0.991</td>\n      <td>0.873000</td>\n      <td>0.0732</td>\n      <td>0.5880</td>\n      <td>130.918</td>\n      <td>12.0</td>\n    </tr>\n  </tbody>\n</table>\n</div>"
     },
     "execution_count": 298,
     "metadata": {},
     "output_type": "execute_result"
    }
   ],
   "source": [
    "num_features = filtered_data.drop(columns = ['name', 'artists', 'prediction'])\n",
    "num_features"
   ],
   "metadata": {
    "collapsed": false,
    "pycharm": {
     "name": "#%%\n"
    }
   }
  },
  {
   "cell_type": "code",
   "execution_count": 299,
   "outputs": [
    {
     "data": {
      "text/plain": "    popularity  danceability   energy  key  loudness  mode  speechiness  \\\n3           66         0.532  0.06570    0   -19.136     0       0.0406   \n4           64         0.438  0.00756    0   -26.440     0       0.0382   \n7           65         0.580  0.05450    9   -14.594     0       0.0473   \n8           63         0.496  0.06880    4   -14.927     0       0.0545   \n9           61         0.492  0.06710   10   -15.671     0       0.0399   \n10          56         0.380  0.15500    1   -11.977     1       0.0311   \n12          55         0.521  0.37000    0    -9.345     1       0.0300   \n13          52         0.236  0.17300    6   -13.844     1       0.0319   \n15          60         0.290  0.08740    0   -16.119     1       0.0346   \n17          68         0.349  0.18200    5   -13.507     1       0.0310   \n18          60         0.204  0.16100    8   -15.191     1       0.0336   \n19          56         0.241  0.23700    1   -12.201     1       0.0371   \n20          54         0.257  0.12500   11   -14.267     0       0.0332   \n21          51         0.388  0.27500   10   -11.248     1       0.0294   \n26          52         0.211  0.34800    2   -10.120     0       0.0326   \n27          62         0.365  0.01000    1   -25.268     1       0.0519   \n28          53         0.354  0.24100    5   -13.811     1       0.0334   \n30          58         0.542  0.32000    8    -9.975     1       0.0387   \n31          51         0.553  0.09020    2   -21.491     1       0.0430   \n32          57         0.354  0.08510    7   -13.738     1       0.0345   \n33          56         0.455  0.10600    2   -14.086     1       0.0422   \n35          54         0.317  0.01860    3   -23.650     0       0.0363   \n\n    acousticness  instrumentalness  liveness  valence    tempo  artistsIndex  \n3          0.940          0.004880    0.0946   0.2920  128.607           2.0  \n4          0.941          0.006430    0.1090   0.2770  133.320           2.0  \n7          0.963          0.000265    0.0967   0.1770  123.341           3.0  \n8          0.964          0.002290    0.1120   0.1610  119.898           3.0  \n9          0.958          0.000968    0.1090   0.1650  124.908           3.0  \n10         0.973          0.000017    0.0977   0.1270   94.230          18.0  \n12         0.840          0.000807    0.1080   0.5500   78.120           2.0  \n13         0.928          0.000623    0.2390   0.2790   82.342          17.0  \n15         0.856          0.000957    0.1090   0.0734  114.997           1.0  \n17         0.920          0.015200    0.1430   0.1780  136.094           0.0  \n18         0.972          0.000090    0.1210   0.3160   82.009          16.0  \n19         0.952          0.000000    0.1130   0.3030  174.578           0.0  \n20         0.891          0.000000    0.1080   0.2450   84.930           1.0  \n21         0.932          0.000000    0.1010   0.3110   83.029           0.0  \n26         0.939          0.000520    0.3840   0.0981   86.868           0.0  \n27         0.995          0.924000    0.0584   0.0364  135.048           9.0  \n28         0.889          0.000274    0.1650   0.4080  135.646          13.0  \n30         0.907          0.649000    0.0609   0.2060  116.648          23.0  \n31         0.984          0.910000    0.1000   0.2890   89.369           7.0  \n32         0.990          0.000004    0.1230   0.1970   97.684           5.0  \n33         0.986          0.000000    0.1220   0.2580   66.807           5.0  \n35         0.956          0.000002    0.1200   0.1170   78.325          11.0  ",
      "text/html": "<div>\n<style scoped>\n    .dataframe tbody tr th:only-of-type {\n        vertical-align: middle;\n    }\n\n    .dataframe tbody tr th {\n        vertical-align: top;\n    }\n\n    .dataframe thead th {\n        text-align: right;\n    }\n</style>\n<table border=\"1\" class=\"dataframe\">\n  <thead>\n    <tr style=\"text-align: right;\">\n      <th></th>\n      <th>popularity</th>\n      <th>danceability</th>\n      <th>energy</th>\n      <th>key</th>\n      <th>loudness</th>\n      <th>mode</th>\n      <th>speechiness</th>\n      <th>acousticness</th>\n      <th>instrumentalness</th>\n      <th>liveness</th>\n      <th>valence</th>\n      <th>tempo</th>\n      <th>artistsIndex</th>\n    </tr>\n  </thead>\n  <tbody>\n    <tr>\n      <th>3</th>\n      <td>66</td>\n      <td>0.532</td>\n      <td>0.06570</td>\n      <td>0</td>\n      <td>-19.136</td>\n      <td>0</td>\n      <td>0.0406</td>\n      <td>0.940</td>\n      <td>0.004880</td>\n      <td>0.0946</td>\n      <td>0.2920</td>\n      <td>128.607</td>\n      <td>2.0</td>\n    </tr>\n    <tr>\n      <th>4</th>\n      <td>64</td>\n      <td>0.438</td>\n      <td>0.00756</td>\n      <td>0</td>\n      <td>-26.440</td>\n      <td>0</td>\n      <td>0.0382</td>\n      <td>0.941</td>\n      <td>0.006430</td>\n      <td>0.1090</td>\n      <td>0.2770</td>\n      <td>133.320</td>\n      <td>2.0</td>\n    </tr>\n    <tr>\n      <th>7</th>\n      <td>65</td>\n      <td>0.580</td>\n      <td>0.05450</td>\n      <td>9</td>\n      <td>-14.594</td>\n      <td>0</td>\n      <td>0.0473</td>\n      <td>0.963</td>\n      <td>0.000265</td>\n      <td>0.0967</td>\n      <td>0.1770</td>\n      <td>123.341</td>\n      <td>3.0</td>\n    </tr>\n    <tr>\n      <th>8</th>\n      <td>63</td>\n      <td>0.496</td>\n      <td>0.06880</td>\n      <td>4</td>\n      <td>-14.927</td>\n      <td>0</td>\n      <td>0.0545</td>\n      <td>0.964</td>\n      <td>0.002290</td>\n      <td>0.1120</td>\n      <td>0.1610</td>\n      <td>119.898</td>\n      <td>3.0</td>\n    </tr>\n    <tr>\n      <th>9</th>\n      <td>61</td>\n      <td>0.492</td>\n      <td>0.06710</td>\n      <td>10</td>\n      <td>-15.671</td>\n      <td>0</td>\n      <td>0.0399</td>\n      <td>0.958</td>\n      <td>0.000968</td>\n      <td>0.1090</td>\n      <td>0.1650</td>\n      <td>124.908</td>\n      <td>3.0</td>\n    </tr>\n    <tr>\n      <th>10</th>\n      <td>56</td>\n      <td>0.380</td>\n      <td>0.15500</td>\n      <td>1</td>\n      <td>-11.977</td>\n      <td>1</td>\n      <td>0.0311</td>\n      <td>0.973</td>\n      <td>0.000017</td>\n      <td>0.0977</td>\n      <td>0.1270</td>\n      <td>94.230</td>\n      <td>18.0</td>\n    </tr>\n    <tr>\n      <th>12</th>\n      <td>55</td>\n      <td>0.521</td>\n      <td>0.37000</td>\n      <td>0</td>\n      <td>-9.345</td>\n      <td>1</td>\n      <td>0.0300</td>\n      <td>0.840</td>\n      <td>0.000807</td>\n      <td>0.1080</td>\n      <td>0.5500</td>\n      <td>78.120</td>\n      <td>2.0</td>\n    </tr>\n    <tr>\n      <th>13</th>\n      <td>52</td>\n      <td>0.236</td>\n      <td>0.17300</td>\n      <td>6</td>\n      <td>-13.844</td>\n      <td>1</td>\n      <td>0.0319</td>\n      <td>0.928</td>\n      <td>0.000623</td>\n      <td>0.2390</td>\n      <td>0.2790</td>\n      <td>82.342</td>\n      <td>17.0</td>\n    </tr>\n    <tr>\n      <th>15</th>\n      <td>60</td>\n      <td>0.290</td>\n      <td>0.08740</td>\n      <td>0</td>\n      <td>-16.119</td>\n      <td>1</td>\n      <td>0.0346</td>\n      <td>0.856</td>\n      <td>0.000957</td>\n      <td>0.1090</td>\n      <td>0.0734</td>\n      <td>114.997</td>\n      <td>1.0</td>\n    </tr>\n    <tr>\n      <th>17</th>\n      <td>68</td>\n      <td>0.349</td>\n      <td>0.18200</td>\n      <td>5</td>\n      <td>-13.507</td>\n      <td>1</td>\n      <td>0.0310</td>\n      <td>0.920</td>\n      <td>0.015200</td>\n      <td>0.1430</td>\n      <td>0.1780</td>\n      <td>136.094</td>\n      <td>0.0</td>\n    </tr>\n    <tr>\n      <th>18</th>\n      <td>60</td>\n      <td>0.204</td>\n      <td>0.16100</td>\n      <td>8</td>\n      <td>-15.191</td>\n      <td>1</td>\n      <td>0.0336</td>\n      <td>0.972</td>\n      <td>0.000090</td>\n      <td>0.1210</td>\n      <td>0.3160</td>\n      <td>82.009</td>\n      <td>16.0</td>\n    </tr>\n    <tr>\n      <th>19</th>\n      <td>56</td>\n      <td>0.241</td>\n      <td>0.23700</td>\n      <td>1</td>\n      <td>-12.201</td>\n      <td>1</td>\n      <td>0.0371</td>\n      <td>0.952</td>\n      <td>0.000000</td>\n      <td>0.1130</td>\n      <td>0.3030</td>\n      <td>174.578</td>\n      <td>0.0</td>\n    </tr>\n    <tr>\n      <th>20</th>\n      <td>54</td>\n      <td>0.257</td>\n      <td>0.12500</td>\n      <td>11</td>\n      <td>-14.267</td>\n      <td>0</td>\n      <td>0.0332</td>\n      <td>0.891</td>\n      <td>0.000000</td>\n      <td>0.1080</td>\n      <td>0.2450</td>\n      <td>84.930</td>\n      <td>1.0</td>\n    </tr>\n    <tr>\n      <th>21</th>\n      <td>51</td>\n      <td>0.388</td>\n      <td>0.27500</td>\n      <td>10</td>\n      <td>-11.248</td>\n      <td>1</td>\n      <td>0.0294</td>\n      <td>0.932</td>\n      <td>0.000000</td>\n      <td>0.1010</td>\n      <td>0.3110</td>\n      <td>83.029</td>\n      <td>0.0</td>\n    </tr>\n    <tr>\n      <th>26</th>\n      <td>52</td>\n      <td>0.211</td>\n      <td>0.34800</td>\n      <td>2</td>\n      <td>-10.120</td>\n      <td>0</td>\n      <td>0.0326</td>\n      <td>0.939</td>\n      <td>0.000520</td>\n      <td>0.3840</td>\n      <td>0.0981</td>\n      <td>86.868</td>\n      <td>0.0</td>\n    </tr>\n    <tr>\n      <th>27</th>\n      <td>62</td>\n      <td>0.365</td>\n      <td>0.01000</td>\n      <td>1</td>\n      <td>-25.268</td>\n      <td>1</td>\n      <td>0.0519</td>\n      <td>0.995</td>\n      <td>0.924000</td>\n      <td>0.0584</td>\n      <td>0.0364</td>\n      <td>135.048</td>\n      <td>9.0</td>\n    </tr>\n    <tr>\n      <th>28</th>\n      <td>53</td>\n      <td>0.354</td>\n      <td>0.24100</td>\n      <td>5</td>\n      <td>-13.811</td>\n      <td>1</td>\n      <td>0.0334</td>\n      <td>0.889</td>\n      <td>0.000274</td>\n      <td>0.1650</td>\n      <td>0.4080</td>\n      <td>135.646</td>\n      <td>13.0</td>\n    </tr>\n    <tr>\n      <th>30</th>\n      <td>58</td>\n      <td>0.542</td>\n      <td>0.32000</td>\n      <td>8</td>\n      <td>-9.975</td>\n      <td>1</td>\n      <td>0.0387</td>\n      <td>0.907</td>\n      <td>0.649000</td>\n      <td>0.0609</td>\n      <td>0.2060</td>\n      <td>116.648</td>\n      <td>23.0</td>\n    </tr>\n    <tr>\n      <th>31</th>\n      <td>51</td>\n      <td>0.553</td>\n      <td>0.09020</td>\n      <td>2</td>\n      <td>-21.491</td>\n      <td>1</td>\n      <td>0.0430</td>\n      <td>0.984</td>\n      <td>0.910000</td>\n      <td>0.1000</td>\n      <td>0.2890</td>\n      <td>89.369</td>\n      <td>7.0</td>\n    </tr>\n    <tr>\n      <th>32</th>\n      <td>57</td>\n      <td>0.354</td>\n      <td>0.08510</td>\n      <td>7</td>\n      <td>-13.738</td>\n      <td>1</td>\n      <td>0.0345</td>\n      <td>0.990</td>\n      <td>0.000004</td>\n      <td>0.1230</td>\n      <td>0.1970</td>\n      <td>97.684</td>\n      <td>5.0</td>\n    </tr>\n    <tr>\n      <th>33</th>\n      <td>56</td>\n      <td>0.455</td>\n      <td>0.10600</td>\n      <td>2</td>\n      <td>-14.086</td>\n      <td>1</td>\n      <td>0.0422</td>\n      <td>0.986</td>\n      <td>0.000000</td>\n      <td>0.1220</td>\n      <td>0.2580</td>\n      <td>66.807</td>\n      <td>5.0</td>\n    </tr>\n    <tr>\n      <th>35</th>\n      <td>54</td>\n      <td>0.317</td>\n      <td>0.01860</td>\n      <td>3</td>\n      <td>-23.650</td>\n      <td>0</td>\n      <td>0.0363</td>\n      <td>0.956</td>\n      <td>0.000002</td>\n      <td>0.1200</td>\n      <td>0.1170</td>\n      <td>78.325</td>\n      <td>11.0</td>\n    </tr>\n  </tbody>\n</table>\n</div>"
     },
     "execution_count": 299,
     "metadata": {},
     "output_type": "execute_result"
    }
   ],
   "source": [
    "may_recommend_songs = num_features.iloc[:-1, :]\n",
    "may_recommend_songs"
   ],
   "metadata": {
    "collapsed": false,
    "pycharm": {
     "name": "#%%\n"
    }
   }
  },
  {
   "cell_type": "code",
   "execution_count": 300,
   "outputs": [
    {
     "data": {
      "text/plain": "popularity           53.00000\ndanceability          0.50800\nenergy                0.00766\nkey                   9.00000\nloudness            -37.78300\nmode                  0.00000\nspeechiness           0.09750\nacousticness          0.99100\ninstrumentalness      0.87300\nliveness              0.07320\nvalence               0.58800\ntempo               130.91800\nartistsIndex         12.00000\nName: 36, dtype: float64"
     },
     "execution_count": 300,
     "metadata": {},
     "output_type": "execute_result"
    }
   ],
   "source": [
    "song =  num_features.iloc[-1, :]\n",
    "song"
   ],
   "metadata": {
    "collapsed": false,
    "pycharm": {
     "name": "#%%\n"
    }
   }
  },
  {
   "cell_type": "code",
   "execution_count": 301,
   "outputs": [
    {
     "data": {
      "text/plain": "    popularity  danceability   energy  key  loudness  mode  speechiness  \\\n3         13.0         0.024  0.05804 -9.0    18.647   0.0      -0.0569   \n4         11.0        -0.070 -0.00010 -9.0    11.343   0.0      -0.0593   \n7         12.0         0.072  0.04684  0.0    23.189   0.0      -0.0502   \n8         10.0        -0.012  0.06114 -5.0    22.856   0.0      -0.0430   \n9          8.0        -0.016  0.05944  1.0    22.112   0.0      -0.0576   \n10         3.0        -0.128  0.14734 -8.0    25.806   1.0      -0.0664   \n12         2.0         0.013  0.36234 -9.0    28.438   1.0      -0.0675   \n13        -1.0        -0.272  0.16534 -3.0    23.939   1.0      -0.0656   \n15         7.0        -0.218  0.07974 -9.0    21.664   1.0      -0.0629   \n17        15.0        -0.159  0.17434 -4.0    24.276   1.0      -0.0665   \n18         7.0        -0.304  0.15334 -1.0    22.592   1.0      -0.0639   \n19         3.0        -0.267  0.22934 -8.0    25.582   1.0      -0.0604   \n20         1.0        -0.251  0.11734  2.0    23.516   0.0      -0.0643   \n21        -2.0        -0.120  0.26734  1.0    26.535   1.0      -0.0681   \n26        -1.0        -0.297  0.34034 -7.0    27.663   0.0      -0.0649   \n27         9.0        -0.143  0.00234 -8.0    12.515   1.0      -0.0456   \n28         0.0        -0.154  0.23334 -4.0    23.972   1.0      -0.0641   \n30         5.0         0.034  0.31234 -1.0    27.808   1.0      -0.0588   \n31        -2.0         0.045  0.08254 -7.0    16.292   1.0      -0.0545   \n32         4.0        -0.154  0.07744 -2.0    24.045   1.0      -0.0630   \n33         3.0        -0.053  0.09834 -7.0    23.697   1.0      -0.0553   \n35         1.0        -0.191  0.01094 -6.0    14.133   0.0      -0.0612   \n\n    acousticness  instrumentalness  liveness  valence   tempo  artistsIndex  \n3         -0.051         -0.868120    0.0214  -0.2960  -2.311         -10.0  \n4         -0.050         -0.866570    0.0358  -0.3110   2.402         -10.0  \n7         -0.028         -0.872735    0.0235  -0.4110  -7.577          -9.0  \n8         -0.027         -0.870710    0.0388  -0.4270 -11.020          -9.0  \n9         -0.033         -0.872032    0.0358  -0.4230  -6.010          -9.0  \n10        -0.018         -0.872983    0.0245  -0.4610 -36.688           6.0  \n12        -0.151         -0.872193    0.0348  -0.0380 -52.798         -10.0  \n13        -0.063         -0.872377    0.1658  -0.3090 -48.576           5.0  \n15        -0.135         -0.872043    0.0358  -0.5146 -15.921         -11.0  \n17        -0.071         -0.857800    0.0698  -0.4100   5.176         -12.0  \n18        -0.019         -0.872910    0.0478  -0.2720 -48.909           4.0  \n19        -0.039         -0.873000    0.0398  -0.2850  43.660         -12.0  \n20        -0.100         -0.873000    0.0348  -0.3430 -45.988         -11.0  \n21        -0.059         -0.873000    0.0278  -0.2770 -47.889         -12.0  \n26        -0.052         -0.872480    0.3108  -0.4899 -44.050         -12.0  \n27         0.004          0.051000   -0.0148  -0.5516   4.130          -3.0  \n28        -0.102         -0.872726    0.0918  -0.1800   4.728           1.0  \n30        -0.084         -0.224000   -0.0123  -0.3820 -14.270          11.0  \n31        -0.007          0.037000    0.0268  -0.2990 -41.549          -5.0  \n32        -0.001         -0.872996    0.0498  -0.3910 -33.234          -7.0  \n33        -0.005         -0.873000    0.0488  -0.3300 -64.111          -7.0  \n35        -0.035         -0.872998    0.0468  -0.4710 -52.593          -1.0  ",
      "text/html": "<div>\n<style scoped>\n    .dataframe tbody tr th:only-of-type {\n        vertical-align: middle;\n    }\n\n    .dataframe tbody tr th {\n        vertical-align: top;\n    }\n\n    .dataframe thead th {\n        text-align: right;\n    }\n</style>\n<table border=\"1\" class=\"dataframe\">\n  <thead>\n    <tr style=\"text-align: right;\">\n      <th></th>\n      <th>popularity</th>\n      <th>danceability</th>\n      <th>energy</th>\n      <th>key</th>\n      <th>loudness</th>\n      <th>mode</th>\n      <th>speechiness</th>\n      <th>acousticness</th>\n      <th>instrumentalness</th>\n      <th>liveness</th>\n      <th>valence</th>\n      <th>tempo</th>\n      <th>artistsIndex</th>\n    </tr>\n  </thead>\n  <tbody>\n    <tr>\n      <th>3</th>\n      <td>13.0</td>\n      <td>0.024</td>\n      <td>0.05804</td>\n      <td>-9.0</td>\n      <td>18.647</td>\n      <td>0.0</td>\n      <td>-0.0569</td>\n      <td>-0.051</td>\n      <td>-0.868120</td>\n      <td>0.0214</td>\n      <td>-0.2960</td>\n      <td>-2.311</td>\n      <td>-10.0</td>\n    </tr>\n    <tr>\n      <th>4</th>\n      <td>11.0</td>\n      <td>-0.070</td>\n      <td>-0.00010</td>\n      <td>-9.0</td>\n      <td>11.343</td>\n      <td>0.0</td>\n      <td>-0.0593</td>\n      <td>-0.050</td>\n      <td>-0.866570</td>\n      <td>0.0358</td>\n      <td>-0.3110</td>\n      <td>2.402</td>\n      <td>-10.0</td>\n    </tr>\n    <tr>\n      <th>7</th>\n      <td>12.0</td>\n      <td>0.072</td>\n      <td>0.04684</td>\n      <td>0.0</td>\n      <td>23.189</td>\n      <td>0.0</td>\n      <td>-0.0502</td>\n      <td>-0.028</td>\n      <td>-0.872735</td>\n      <td>0.0235</td>\n      <td>-0.4110</td>\n      <td>-7.577</td>\n      <td>-9.0</td>\n    </tr>\n    <tr>\n      <th>8</th>\n      <td>10.0</td>\n      <td>-0.012</td>\n      <td>0.06114</td>\n      <td>-5.0</td>\n      <td>22.856</td>\n      <td>0.0</td>\n      <td>-0.0430</td>\n      <td>-0.027</td>\n      <td>-0.870710</td>\n      <td>0.0388</td>\n      <td>-0.4270</td>\n      <td>-11.020</td>\n      <td>-9.0</td>\n    </tr>\n    <tr>\n      <th>9</th>\n      <td>8.0</td>\n      <td>-0.016</td>\n      <td>0.05944</td>\n      <td>1.0</td>\n      <td>22.112</td>\n      <td>0.0</td>\n      <td>-0.0576</td>\n      <td>-0.033</td>\n      <td>-0.872032</td>\n      <td>0.0358</td>\n      <td>-0.4230</td>\n      <td>-6.010</td>\n      <td>-9.0</td>\n    </tr>\n    <tr>\n      <th>10</th>\n      <td>3.0</td>\n      <td>-0.128</td>\n      <td>0.14734</td>\n      <td>-8.0</td>\n      <td>25.806</td>\n      <td>1.0</td>\n      <td>-0.0664</td>\n      <td>-0.018</td>\n      <td>-0.872983</td>\n      <td>0.0245</td>\n      <td>-0.4610</td>\n      <td>-36.688</td>\n      <td>6.0</td>\n    </tr>\n    <tr>\n      <th>12</th>\n      <td>2.0</td>\n      <td>0.013</td>\n      <td>0.36234</td>\n      <td>-9.0</td>\n      <td>28.438</td>\n      <td>1.0</td>\n      <td>-0.0675</td>\n      <td>-0.151</td>\n      <td>-0.872193</td>\n      <td>0.0348</td>\n      <td>-0.0380</td>\n      <td>-52.798</td>\n      <td>-10.0</td>\n    </tr>\n    <tr>\n      <th>13</th>\n      <td>-1.0</td>\n      <td>-0.272</td>\n      <td>0.16534</td>\n      <td>-3.0</td>\n      <td>23.939</td>\n      <td>1.0</td>\n      <td>-0.0656</td>\n      <td>-0.063</td>\n      <td>-0.872377</td>\n      <td>0.1658</td>\n      <td>-0.3090</td>\n      <td>-48.576</td>\n      <td>5.0</td>\n    </tr>\n    <tr>\n      <th>15</th>\n      <td>7.0</td>\n      <td>-0.218</td>\n      <td>0.07974</td>\n      <td>-9.0</td>\n      <td>21.664</td>\n      <td>1.0</td>\n      <td>-0.0629</td>\n      <td>-0.135</td>\n      <td>-0.872043</td>\n      <td>0.0358</td>\n      <td>-0.5146</td>\n      <td>-15.921</td>\n      <td>-11.0</td>\n    </tr>\n    <tr>\n      <th>17</th>\n      <td>15.0</td>\n      <td>-0.159</td>\n      <td>0.17434</td>\n      <td>-4.0</td>\n      <td>24.276</td>\n      <td>1.0</td>\n      <td>-0.0665</td>\n      <td>-0.071</td>\n      <td>-0.857800</td>\n      <td>0.0698</td>\n      <td>-0.4100</td>\n      <td>5.176</td>\n      <td>-12.0</td>\n    </tr>\n    <tr>\n      <th>18</th>\n      <td>7.0</td>\n      <td>-0.304</td>\n      <td>0.15334</td>\n      <td>-1.0</td>\n      <td>22.592</td>\n      <td>1.0</td>\n      <td>-0.0639</td>\n      <td>-0.019</td>\n      <td>-0.872910</td>\n      <td>0.0478</td>\n      <td>-0.2720</td>\n      <td>-48.909</td>\n      <td>4.0</td>\n    </tr>\n    <tr>\n      <th>19</th>\n      <td>3.0</td>\n      <td>-0.267</td>\n      <td>0.22934</td>\n      <td>-8.0</td>\n      <td>25.582</td>\n      <td>1.0</td>\n      <td>-0.0604</td>\n      <td>-0.039</td>\n      <td>-0.873000</td>\n      <td>0.0398</td>\n      <td>-0.2850</td>\n      <td>43.660</td>\n      <td>-12.0</td>\n    </tr>\n    <tr>\n      <th>20</th>\n      <td>1.0</td>\n      <td>-0.251</td>\n      <td>0.11734</td>\n      <td>2.0</td>\n      <td>23.516</td>\n      <td>0.0</td>\n      <td>-0.0643</td>\n      <td>-0.100</td>\n      <td>-0.873000</td>\n      <td>0.0348</td>\n      <td>-0.3430</td>\n      <td>-45.988</td>\n      <td>-11.0</td>\n    </tr>\n    <tr>\n      <th>21</th>\n      <td>-2.0</td>\n      <td>-0.120</td>\n      <td>0.26734</td>\n      <td>1.0</td>\n      <td>26.535</td>\n      <td>1.0</td>\n      <td>-0.0681</td>\n      <td>-0.059</td>\n      <td>-0.873000</td>\n      <td>0.0278</td>\n      <td>-0.2770</td>\n      <td>-47.889</td>\n      <td>-12.0</td>\n    </tr>\n    <tr>\n      <th>26</th>\n      <td>-1.0</td>\n      <td>-0.297</td>\n      <td>0.34034</td>\n      <td>-7.0</td>\n      <td>27.663</td>\n      <td>0.0</td>\n      <td>-0.0649</td>\n      <td>-0.052</td>\n      <td>-0.872480</td>\n      <td>0.3108</td>\n      <td>-0.4899</td>\n      <td>-44.050</td>\n      <td>-12.0</td>\n    </tr>\n    <tr>\n      <th>27</th>\n      <td>9.0</td>\n      <td>-0.143</td>\n      <td>0.00234</td>\n      <td>-8.0</td>\n      <td>12.515</td>\n      <td>1.0</td>\n      <td>-0.0456</td>\n      <td>0.004</td>\n      <td>0.051000</td>\n      <td>-0.0148</td>\n      <td>-0.5516</td>\n      <td>4.130</td>\n      <td>-3.0</td>\n    </tr>\n    <tr>\n      <th>28</th>\n      <td>0.0</td>\n      <td>-0.154</td>\n      <td>0.23334</td>\n      <td>-4.0</td>\n      <td>23.972</td>\n      <td>1.0</td>\n      <td>-0.0641</td>\n      <td>-0.102</td>\n      <td>-0.872726</td>\n      <td>0.0918</td>\n      <td>-0.1800</td>\n      <td>4.728</td>\n      <td>1.0</td>\n    </tr>\n    <tr>\n      <th>30</th>\n      <td>5.0</td>\n      <td>0.034</td>\n      <td>0.31234</td>\n      <td>-1.0</td>\n      <td>27.808</td>\n      <td>1.0</td>\n      <td>-0.0588</td>\n      <td>-0.084</td>\n      <td>-0.224000</td>\n      <td>-0.0123</td>\n      <td>-0.3820</td>\n      <td>-14.270</td>\n      <td>11.0</td>\n    </tr>\n    <tr>\n      <th>31</th>\n      <td>-2.0</td>\n      <td>0.045</td>\n      <td>0.08254</td>\n      <td>-7.0</td>\n      <td>16.292</td>\n      <td>1.0</td>\n      <td>-0.0545</td>\n      <td>-0.007</td>\n      <td>0.037000</td>\n      <td>0.0268</td>\n      <td>-0.2990</td>\n      <td>-41.549</td>\n      <td>-5.0</td>\n    </tr>\n    <tr>\n      <th>32</th>\n      <td>4.0</td>\n      <td>-0.154</td>\n      <td>0.07744</td>\n      <td>-2.0</td>\n      <td>24.045</td>\n      <td>1.0</td>\n      <td>-0.0630</td>\n      <td>-0.001</td>\n      <td>-0.872996</td>\n      <td>0.0498</td>\n      <td>-0.3910</td>\n      <td>-33.234</td>\n      <td>-7.0</td>\n    </tr>\n    <tr>\n      <th>33</th>\n      <td>3.0</td>\n      <td>-0.053</td>\n      <td>0.09834</td>\n      <td>-7.0</td>\n      <td>23.697</td>\n      <td>1.0</td>\n      <td>-0.0553</td>\n      <td>-0.005</td>\n      <td>-0.873000</td>\n      <td>0.0488</td>\n      <td>-0.3300</td>\n      <td>-64.111</td>\n      <td>-7.0</td>\n    </tr>\n    <tr>\n      <th>35</th>\n      <td>1.0</td>\n      <td>-0.191</td>\n      <td>0.01094</td>\n      <td>-6.0</td>\n      <td>14.133</td>\n      <td>0.0</td>\n      <td>-0.0612</td>\n      <td>-0.035</td>\n      <td>-0.872998</td>\n      <td>0.0468</td>\n      <td>-0.4710</td>\n      <td>-52.593</td>\n      <td>-1.0</td>\n    </tr>\n  </tbody>\n</table>\n</div>"
     },
     "execution_count": 301,
     "metadata": {},
     "output_type": "execute_result"
    }
   ],
   "source": [
    "may_recommend_songs - song"
   ],
   "metadata": {
    "collapsed": false,
    "pycharm": {
     "name": "#%%\n"
    }
   }
  },
  {
   "cell_type": "code",
   "execution_count": 302,
   "outputs": [
    {
     "data": {
      "text/plain": "3      54.333460\n4      45.137770\n7      53.270275\n8      59.355650\n9      47.618872\n10     82.212223\n12    104.774833\n13     84.428117\n15     67.503083\n17     63.260440\n18     86.233950\n19     95.035540\n20     85.287440\n21     92.116240\n26     94.140420\n27     38.457340\n28     36.397966\n30     61.185440\n31     73.392840\n32     72.888236\n33    107.271440\n35     76.414938\nName: distance, dtype: float64"
     },
     "execution_count": 302,
     "metadata": {},
     "output_type": "execute_result"
    }
   ],
   "source": [
    "distance_vector = np.sum(np.abs(may_recommend_songs - song), axis=1).rename(\"distance\")\n",
    "distance_vector"
   ],
   "metadata": {
    "collapsed": false,
    "pycharm": {
     "name": "#%%\n"
    }
   }
  },
  {
   "cell_type": "code",
   "execution_count": 303,
   "outputs": [
    {
     "data": {
      "text/plain": "                                                 name  popularity  \\\n3           I Fall In Love Too Easily - Vocal Version          66   \n4                                  My Funny Valentine          64   \n7                            I'm In The Mood For Love          65   \n8                                      Cry Me A River          63   \n9                               I'm Glad There Is You          61   \n10                                       Black Coffee          56   \n12                                     Let's Get Lost          55   \n13                                    Time After Time          52   \n15  In The Wee Small Hours Of The Morning - Remast...          60   \n17                                      Unforgettable          68   \n18                                   Over The Rainbow          60   \n19                                          Mona Lisa          56   \n20                    My Funny Valentine - Remastered          54   \n21                                            Pretend          51   \n26                         Autumn Leaves - Remastered          52   \n27                                     Claire de lune          62   \n28                                Singin' In The Rain          53   \n30                                    'Round Midnight          58   \n31                                          Poinciana          51   \n32                           Someone To Watch Over Me          57   \n33                            I've Got A Crush On You          56   \n35                   I'm Confessin' (That I Love You)          54   \n36                                   Gymnopédie No. 3          53   \n\n                           artists  danceability   energy  key  loudness  \\\n3                        ChetBaker         0.532  0.06570    0   -19.136   \n4                        ChetBaker         0.438  0.00756    0   -26.440   \n7                      JulieLondon         0.580  0.05450    9   -14.594   \n8                      JulieLondon         0.496  0.06880    4   -14.927   \n9                      JulieLondon         0.492  0.06710   10   -15.671   \n10                    SarahVaughan         0.380  0.15500    1   -11.977   \n12                       ChetBaker         0.521  0.37000    0    -9.345   \n13                 MargaretWhiting         0.236  0.17300    6   -13.844   \n15                    FrankSinatra         0.290  0.08740    0   -16.119   \n17                     NatKingCole         0.349  0.18200    5   -13.507   \n18                     JudyGarland         0.204  0.16100    8   -15.191   \n19                     NatKingCole         0.241  0.23700    1   -12.201   \n20                    FrankSinatra         0.257  0.12500   11   -14.267   \n21                     NatKingCole         0.388  0.27500   10   -11.248   \n26                     NatKingCole         0.211  0.34800    2   -10.120   \n27  ClaudeDebussyAlexisWeissenberg         0.365  0.01000    1   -25.268   \n28                       GeneKelly         0.354  0.24100    5   -13.811   \n30                  TheloniousMonk         0.542  0.32000    8    -9.975   \n31                      AhmadJamal         0.553  0.09020    2   -21.491   \n32                  EllaFitzgerald         0.354  0.08510    7   -13.738   \n33                  EllaFitzgerald         0.455  0.10600    2   -14.086   \n35                        DorisDay         0.317  0.01860    3   -23.650   \n36      ErikSatiePhilippeEntremont         0.508  0.00766    9   -37.783   \n\n    mode  speechiness  acousticness  instrumentalness  liveness  valence  \\\n3      0       0.0406         0.940          0.004880    0.0946   0.2920   \n4      0       0.0382         0.941          0.006430    0.1090   0.2770   \n7      0       0.0473         0.963          0.000265    0.0967   0.1770   \n8      0       0.0545         0.964          0.002290    0.1120   0.1610   \n9      0       0.0399         0.958          0.000968    0.1090   0.1650   \n10     1       0.0311         0.973          0.000017    0.0977   0.1270   \n12     1       0.0300         0.840          0.000807    0.1080   0.5500   \n13     1       0.0319         0.928          0.000623    0.2390   0.2790   \n15     1       0.0346         0.856          0.000957    0.1090   0.0734   \n17     1       0.0310         0.920          0.015200    0.1430   0.1780   \n18     1       0.0336         0.972          0.000090    0.1210   0.3160   \n19     1       0.0371         0.952          0.000000    0.1130   0.3030   \n20     0       0.0332         0.891          0.000000    0.1080   0.2450   \n21     1       0.0294         0.932          0.000000    0.1010   0.3110   \n26     0       0.0326         0.939          0.000520    0.3840   0.0981   \n27     1       0.0519         0.995          0.924000    0.0584   0.0364   \n28     1       0.0334         0.889          0.000274    0.1650   0.4080   \n30     1       0.0387         0.907          0.649000    0.0609   0.2060   \n31     1       0.0430         0.984          0.910000    0.1000   0.2890   \n32     1       0.0345         0.990          0.000004    0.1230   0.1970   \n33     1       0.0422         0.986          0.000000    0.1220   0.2580   \n35     0       0.0363         0.956          0.000002    0.1200   0.1170   \n36     0       0.0975         0.991          0.873000    0.0732   0.5880   \n\n      tempo  artistsIndex  prediction    distance  \n3   128.607           2.0           1   54.333460  \n4   133.320           2.0           1   45.137770  \n7   123.341           3.0           1   53.270275  \n8   119.898           3.0           1   59.355650  \n9   124.908           3.0           1   47.618872  \n10   94.230          18.0           1   82.212223  \n12   78.120           2.0           1  104.774833  \n13   82.342          17.0           1   84.428117  \n15  114.997           1.0           1   67.503083  \n17  136.094           0.0           1   63.260440  \n18   82.009          16.0           1   86.233950  \n19  174.578           0.0           1   95.035540  \n20   84.930           1.0           1   85.287440  \n21   83.029           0.0           1   92.116240  \n26   86.868           0.0           1   94.140420  \n27  135.048           9.0           1   38.457340  \n28  135.646          13.0           1   36.397966  \n30  116.648          23.0           1   61.185440  \n31   89.369           7.0           1   73.392840  \n32   97.684           5.0           1   72.888236  \n33   66.807           5.0           1  107.271440  \n35   78.325          11.0           1   76.414938  \n36  130.918          12.0           1         NaN  ",
      "text/html": "<div>\n<style scoped>\n    .dataframe tbody tr th:only-of-type {\n        vertical-align: middle;\n    }\n\n    .dataframe tbody tr th {\n        vertical-align: top;\n    }\n\n    .dataframe thead th {\n        text-align: right;\n    }\n</style>\n<table border=\"1\" class=\"dataframe\">\n  <thead>\n    <tr style=\"text-align: right;\">\n      <th></th>\n      <th>name</th>\n      <th>popularity</th>\n      <th>artists</th>\n      <th>danceability</th>\n      <th>energy</th>\n      <th>key</th>\n      <th>loudness</th>\n      <th>mode</th>\n      <th>speechiness</th>\n      <th>acousticness</th>\n      <th>instrumentalness</th>\n      <th>liveness</th>\n      <th>valence</th>\n      <th>tempo</th>\n      <th>artistsIndex</th>\n      <th>prediction</th>\n      <th>distance</th>\n    </tr>\n  </thead>\n  <tbody>\n    <tr>\n      <th>3</th>\n      <td>I Fall In Love Too Easily - Vocal Version</td>\n      <td>66</td>\n      <td>ChetBaker</td>\n      <td>0.532</td>\n      <td>0.06570</td>\n      <td>0</td>\n      <td>-19.136</td>\n      <td>0</td>\n      <td>0.0406</td>\n      <td>0.940</td>\n      <td>0.004880</td>\n      <td>0.0946</td>\n      <td>0.2920</td>\n      <td>128.607</td>\n      <td>2.0</td>\n      <td>1</td>\n      <td>54.333460</td>\n    </tr>\n    <tr>\n      <th>4</th>\n      <td>My Funny Valentine</td>\n      <td>64</td>\n      <td>ChetBaker</td>\n      <td>0.438</td>\n      <td>0.00756</td>\n      <td>0</td>\n      <td>-26.440</td>\n      <td>0</td>\n      <td>0.0382</td>\n      <td>0.941</td>\n      <td>0.006430</td>\n      <td>0.1090</td>\n      <td>0.2770</td>\n      <td>133.320</td>\n      <td>2.0</td>\n      <td>1</td>\n      <td>45.137770</td>\n    </tr>\n    <tr>\n      <th>7</th>\n      <td>I'm In The Mood For Love</td>\n      <td>65</td>\n      <td>JulieLondon</td>\n      <td>0.580</td>\n      <td>0.05450</td>\n      <td>9</td>\n      <td>-14.594</td>\n      <td>0</td>\n      <td>0.0473</td>\n      <td>0.963</td>\n      <td>0.000265</td>\n      <td>0.0967</td>\n      <td>0.1770</td>\n      <td>123.341</td>\n      <td>3.0</td>\n      <td>1</td>\n      <td>53.270275</td>\n    </tr>\n    <tr>\n      <th>8</th>\n      <td>Cry Me A River</td>\n      <td>63</td>\n      <td>JulieLondon</td>\n      <td>0.496</td>\n      <td>0.06880</td>\n      <td>4</td>\n      <td>-14.927</td>\n      <td>0</td>\n      <td>0.0545</td>\n      <td>0.964</td>\n      <td>0.002290</td>\n      <td>0.1120</td>\n      <td>0.1610</td>\n      <td>119.898</td>\n      <td>3.0</td>\n      <td>1</td>\n      <td>59.355650</td>\n    </tr>\n    <tr>\n      <th>9</th>\n      <td>I'm Glad There Is You</td>\n      <td>61</td>\n      <td>JulieLondon</td>\n      <td>0.492</td>\n      <td>0.06710</td>\n      <td>10</td>\n      <td>-15.671</td>\n      <td>0</td>\n      <td>0.0399</td>\n      <td>0.958</td>\n      <td>0.000968</td>\n      <td>0.1090</td>\n      <td>0.1650</td>\n      <td>124.908</td>\n      <td>3.0</td>\n      <td>1</td>\n      <td>47.618872</td>\n    </tr>\n    <tr>\n      <th>10</th>\n      <td>Black Coffee</td>\n      <td>56</td>\n      <td>SarahVaughan</td>\n      <td>0.380</td>\n      <td>0.15500</td>\n      <td>1</td>\n      <td>-11.977</td>\n      <td>1</td>\n      <td>0.0311</td>\n      <td>0.973</td>\n      <td>0.000017</td>\n      <td>0.0977</td>\n      <td>0.1270</td>\n      <td>94.230</td>\n      <td>18.0</td>\n      <td>1</td>\n      <td>82.212223</td>\n    </tr>\n    <tr>\n      <th>12</th>\n      <td>Let's Get Lost</td>\n      <td>55</td>\n      <td>ChetBaker</td>\n      <td>0.521</td>\n      <td>0.37000</td>\n      <td>0</td>\n      <td>-9.345</td>\n      <td>1</td>\n      <td>0.0300</td>\n      <td>0.840</td>\n      <td>0.000807</td>\n      <td>0.1080</td>\n      <td>0.5500</td>\n      <td>78.120</td>\n      <td>2.0</td>\n      <td>1</td>\n      <td>104.774833</td>\n    </tr>\n    <tr>\n      <th>13</th>\n      <td>Time After Time</td>\n      <td>52</td>\n      <td>MargaretWhiting</td>\n      <td>0.236</td>\n      <td>0.17300</td>\n      <td>6</td>\n      <td>-13.844</td>\n      <td>1</td>\n      <td>0.0319</td>\n      <td>0.928</td>\n      <td>0.000623</td>\n      <td>0.2390</td>\n      <td>0.2790</td>\n      <td>82.342</td>\n      <td>17.0</td>\n      <td>1</td>\n      <td>84.428117</td>\n    </tr>\n    <tr>\n      <th>15</th>\n      <td>In The Wee Small Hours Of The Morning - Remast...</td>\n      <td>60</td>\n      <td>FrankSinatra</td>\n      <td>0.290</td>\n      <td>0.08740</td>\n      <td>0</td>\n      <td>-16.119</td>\n      <td>1</td>\n      <td>0.0346</td>\n      <td>0.856</td>\n      <td>0.000957</td>\n      <td>0.1090</td>\n      <td>0.0734</td>\n      <td>114.997</td>\n      <td>1.0</td>\n      <td>1</td>\n      <td>67.503083</td>\n    </tr>\n    <tr>\n      <th>17</th>\n      <td>Unforgettable</td>\n      <td>68</td>\n      <td>NatKingCole</td>\n      <td>0.349</td>\n      <td>0.18200</td>\n      <td>5</td>\n      <td>-13.507</td>\n      <td>1</td>\n      <td>0.0310</td>\n      <td>0.920</td>\n      <td>0.015200</td>\n      <td>0.1430</td>\n      <td>0.1780</td>\n      <td>136.094</td>\n      <td>0.0</td>\n      <td>1</td>\n      <td>63.260440</td>\n    </tr>\n    <tr>\n      <th>18</th>\n      <td>Over The Rainbow</td>\n      <td>60</td>\n      <td>JudyGarland</td>\n      <td>0.204</td>\n      <td>0.16100</td>\n      <td>8</td>\n      <td>-15.191</td>\n      <td>1</td>\n      <td>0.0336</td>\n      <td>0.972</td>\n      <td>0.000090</td>\n      <td>0.1210</td>\n      <td>0.3160</td>\n      <td>82.009</td>\n      <td>16.0</td>\n      <td>1</td>\n      <td>86.233950</td>\n    </tr>\n    <tr>\n      <th>19</th>\n      <td>Mona Lisa</td>\n      <td>56</td>\n      <td>NatKingCole</td>\n      <td>0.241</td>\n      <td>0.23700</td>\n      <td>1</td>\n      <td>-12.201</td>\n      <td>1</td>\n      <td>0.0371</td>\n      <td>0.952</td>\n      <td>0.000000</td>\n      <td>0.1130</td>\n      <td>0.3030</td>\n      <td>174.578</td>\n      <td>0.0</td>\n      <td>1</td>\n      <td>95.035540</td>\n    </tr>\n    <tr>\n      <th>20</th>\n      <td>My Funny Valentine - Remastered</td>\n      <td>54</td>\n      <td>FrankSinatra</td>\n      <td>0.257</td>\n      <td>0.12500</td>\n      <td>11</td>\n      <td>-14.267</td>\n      <td>0</td>\n      <td>0.0332</td>\n      <td>0.891</td>\n      <td>0.000000</td>\n      <td>0.1080</td>\n      <td>0.2450</td>\n      <td>84.930</td>\n      <td>1.0</td>\n      <td>1</td>\n      <td>85.287440</td>\n    </tr>\n    <tr>\n      <th>21</th>\n      <td>Pretend</td>\n      <td>51</td>\n      <td>NatKingCole</td>\n      <td>0.388</td>\n      <td>0.27500</td>\n      <td>10</td>\n      <td>-11.248</td>\n      <td>1</td>\n      <td>0.0294</td>\n      <td>0.932</td>\n      <td>0.000000</td>\n      <td>0.1010</td>\n      <td>0.3110</td>\n      <td>83.029</td>\n      <td>0.0</td>\n      <td>1</td>\n      <td>92.116240</td>\n    </tr>\n    <tr>\n      <th>26</th>\n      <td>Autumn Leaves - Remastered</td>\n      <td>52</td>\n      <td>NatKingCole</td>\n      <td>0.211</td>\n      <td>0.34800</td>\n      <td>2</td>\n      <td>-10.120</td>\n      <td>0</td>\n      <td>0.0326</td>\n      <td>0.939</td>\n      <td>0.000520</td>\n      <td>0.3840</td>\n      <td>0.0981</td>\n      <td>86.868</td>\n      <td>0.0</td>\n      <td>1</td>\n      <td>94.140420</td>\n    </tr>\n    <tr>\n      <th>27</th>\n      <td>Claire de lune</td>\n      <td>62</td>\n      <td>ClaudeDebussyAlexisWeissenberg</td>\n      <td>0.365</td>\n      <td>0.01000</td>\n      <td>1</td>\n      <td>-25.268</td>\n      <td>1</td>\n      <td>0.0519</td>\n      <td>0.995</td>\n      <td>0.924000</td>\n      <td>0.0584</td>\n      <td>0.0364</td>\n      <td>135.048</td>\n      <td>9.0</td>\n      <td>1</td>\n      <td>38.457340</td>\n    </tr>\n    <tr>\n      <th>28</th>\n      <td>Singin' In The Rain</td>\n      <td>53</td>\n      <td>GeneKelly</td>\n      <td>0.354</td>\n      <td>0.24100</td>\n      <td>5</td>\n      <td>-13.811</td>\n      <td>1</td>\n      <td>0.0334</td>\n      <td>0.889</td>\n      <td>0.000274</td>\n      <td>0.1650</td>\n      <td>0.4080</td>\n      <td>135.646</td>\n      <td>13.0</td>\n      <td>1</td>\n      <td>36.397966</td>\n    </tr>\n    <tr>\n      <th>30</th>\n      <td>'Round Midnight</td>\n      <td>58</td>\n      <td>TheloniousMonk</td>\n      <td>0.542</td>\n      <td>0.32000</td>\n      <td>8</td>\n      <td>-9.975</td>\n      <td>1</td>\n      <td>0.0387</td>\n      <td>0.907</td>\n      <td>0.649000</td>\n      <td>0.0609</td>\n      <td>0.2060</td>\n      <td>116.648</td>\n      <td>23.0</td>\n      <td>1</td>\n      <td>61.185440</td>\n    </tr>\n    <tr>\n      <th>31</th>\n      <td>Poinciana</td>\n      <td>51</td>\n      <td>AhmadJamal</td>\n      <td>0.553</td>\n      <td>0.09020</td>\n      <td>2</td>\n      <td>-21.491</td>\n      <td>1</td>\n      <td>0.0430</td>\n      <td>0.984</td>\n      <td>0.910000</td>\n      <td>0.1000</td>\n      <td>0.2890</td>\n      <td>89.369</td>\n      <td>7.0</td>\n      <td>1</td>\n      <td>73.392840</td>\n    </tr>\n    <tr>\n      <th>32</th>\n      <td>Someone To Watch Over Me</td>\n      <td>57</td>\n      <td>EllaFitzgerald</td>\n      <td>0.354</td>\n      <td>0.08510</td>\n      <td>7</td>\n      <td>-13.738</td>\n      <td>1</td>\n      <td>0.0345</td>\n      <td>0.990</td>\n      <td>0.000004</td>\n      <td>0.1230</td>\n      <td>0.1970</td>\n      <td>97.684</td>\n      <td>5.0</td>\n      <td>1</td>\n      <td>72.888236</td>\n    </tr>\n    <tr>\n      <th>33</th>\n      <td>I've Got A Crush On You</td>\n      <td>56</td>\n      <td>EllaFitzgerald</td>\n      <td>0.455</td>\n      <td>0.10600</td>\n      <td>2</td>\n      <td>-14.086</td>\n      <td>1</td>\n      <td>0.0422</td>\n      <td>0.986</td>\n      <td>0.000000</td>\n      <td>0.1220</td>\n      <td>0.2580</td>\n      <td>66.807</td>\n      <td>5.0</td>\n      <td>1</td>\n      <td>107.271440</td>\n    </tr>\n    <tr>\n      <th>35</th>\n      <td>I'm Confessin' (That I Love You)</td>\n      <td>54</td>\n      <td>DorisDay</td>\n      <td>0.317</td>\n      <td>0.01860</td>\n      <td>3</td>\n      <td>-23.650</td>\n      <td>0</td>\n      <td>0.0363</td>\n      <td>0.956</td>\n      <td>0.000002</td>\n      <td>0.1200</td>\n      <td>0.1170</td>\n      <td>78.325</td>\n      <td>11.0</td>\n      <td>1</td>\n      <td>76.414938</td>\n    </tr>\n    <tr>\n      <th>36</th>\n      <td>Gymnopédie No. 3</td>\n      <td>53</td>\n      <td>ErikSatiePhilippeEntremont</td>\n      <td>0.508</td>\n      <td>0.00766</td>\n      <td>9</td>\n      <td>-37.783</td>\n      <td>0</td>\n      <td>0.0975</td>\n      <td>0.991</td>\n      <td>0.873000</td>\n      <td>0.0732</td>\n      <td>0.5880</td>\n      <td>130.918</td>\n      <td>12.0</td>\n      <td>1</td>\n      <td>NaN</td>\n    </tr>\n  </tbody>\n</table>\n</div>"
     },
     "execution_count": 303,
     "metadata": {},
     "output_type": "execute_result"
    }
   ],
   "source": [
    "temp_result = pd.concat([filtered_data, distance_vector], axis=1)\n",
    "temp_result"
   ],
   "metadata": {
    "collapsed": false,
    "pycharm": {
     "name": "#%%\n"
    }
   }
  },
  {
   "cell_type": "code",
   "execution_count": 306,
   "outputs": [
    {
     "data": {
      "text/plain": "                                                 name  popularity  \\\n28                                Singin' In The Rain          53   \n27                                     Claire de lune          62   \n4                                  My Funny Valentine          64   \n9                               I'm Glad There Is You          61   \n7                            I'm In The Mood For Love          65   \n3           I Fall In Love Too Easily - Vocal Version          66   \n8                                      Cry Me A River          63   \n30                                    'Round Midnight          58   \n17                                      Unforgettable          68   \n15  In The Wee Small Hours Of The Morning - Remast...          60   \n32                           Someone To Watch Over Me          57   \n31                                          Poinciana          51   \n35                   I'm Confessin' (That I Love You)          54   \n10                                       Black Coffee          56   \n13                                    Time After Time          52   \n20                    My Funny Valentine - Remastered          54   \n18                                   Over The Rainbow          60   \n21                                            Pretend          51   \n26                         Autumn Leaves - Remastered          52   \n19                                          Mona Lisa          56   \n12                                     Let's Get Lost          55   \n33                            I've Got A Crush On You          56   \n36                                   Gymnopédie No. 3          53   \n\n                           artists  danceability   energy  key  loudness  \\\n28                       GeneKelly         0.354  0.24100    5   -13.811   \n27  ClaudeDebussyAlexisWeissenberg         0.365  0.01000    1   -25.268   \n4                        ChetBaker         0.438  0.00756    0   -26.440   \n9                      JulieLondon         0.492  0.06710   10   -15.671   \n7                      JulieLondon         0.580  0.05450    9   -14.594   \n3                        ChetBaker         0.532  0.06570    0   -19.136   \n8                      JulieLondon         0.496  0.06880    4   -14.927   \n30                  TheloniousMonk         0.542  0.32000    8    -9.975   \n17                     NatKingCole         0.349  0.18200    5   -13.507   \n15                    FrankSinatra         0.290  0.08740    0   -16.119   \n32                  EllaFitzgerald         0.354  0.08510    7   -13.738   \n31                      AhmadJamal         0.553  0.09020    2   -21.491   \n35                        DorisDay         0.317  0.01860    3   -23.650   \n10                    SarahVaughan         0.380  0.15500    1   -11.977   \n13                 MargaretWhiting         0.236  0.17300    6   -13.844   \n20                    FrankSinatra         0.257  0.12500   11   -14.267   \n18                     JudyGarland         0.204  0.16100    8   -15.191   \n21                     NatKingCole         0.388  0.27500   10   -11.248   \n26                     NatKingCole         0.211  0.34800    2   -10.120   \n19                     NatKingCole         0.241  0.23700    1   -12.201   \n12                       ChetBaker         0.521  0.37000    0    -9.345   \n33                  EllaFitzgerald         0.455  0.10600    2   -14.086   \n36      ErikSatiePhilippeEntremont         0.508  0.00766    9   -37.783   \n\n    mode  speechiness  acousticness  instrumentalness  liveness  valence  \\\n28     1       0.0334         0.889          0.000274    0.1650   0.4080   \n27     1       0.0519         0.995          0.924000    0.0584   0.0364   \n4      0       0.0382         0.941          0.006430    0.1090   0.2770   \n9      0       0.0399         0.958          0.000968    0.1090   0.1650   \n7      0       0.0473         0.963          0.000265    0.0967   0.1770   \n3      0       0.0406         0.940          0.004880    0.0946   0.2920   \n8      0       0.0545         0.964          0.002290    0.1120   0.1610   \n30     1       0.0387         0.907          0.649000    0.0609   0.2060   \n17     1       0.0310         0.920          0.015200    0.1430   0.1780   \n15     1       0.0346         0.856          0.000957    0.1090   0.0734   \n32     1       0.0345         0.990          0.000004    0.1230   0.1970   \n31     1       0.0430         0.984          0.910000    0.1000   0.2890   \n35     0       0.0363         0.956          0.000002    0.1200   0.1170   \n10     1       0.0311         0.973          0.000017    0.0977   0.1270   \n13     1       0.0319         0.928          0.000623    0.2390   0.2790   \n20     0       0.0332         0.891          0.000000    0.1080   0.2450   \n18     1       0.0336         0.972          0.000090    0.1210   0.3160   \n21     1       0.0294         0.932          0.000000    0.1010   0.3110   \n26     0       0.0326         0.939          0.000520    0.3840   0.0981   \n19     1       0.0371         0.952          0.000000    0.1130   0.3030   \n12     1       0.0300         0.840          0.000807    0.1080   0.5500   \n33     1       0.0422         0.986          0.000000    0.1220   0.2580   \n36     0       0.0975         0.991          0.873000    0.0732   0.5880   \n\n      tempo  artistsIndex  prediction    distance  \n28  135.646          13.0           1   36.397966  \n27  135.048           9.0           1   38.457340  \n4   133.320           2.0           1   45.137770  \n9   124.908           3.0           1   47.618872  \n7   123.341           3.0           1   53.270275  \n3   128.607           2.0           1   54.333460  \n8   119.898           3.0           1   59.355650  \n30  116.648          23.0           1   61.185440  \n17  136.094           0.0           1   63.260440  \n15  114.997           1.0           1   67.503083  \n32   97.684           5.0           1   72.888236  \n31   89.369           7.0           1   73.392840  \n35   78.325          11.0           1   76.414938  \n10   94.230          18.0           1   82.212223  \n13   82.342          17.0           1   84.428117  \n20   84.930           1.0           1   85.287440  \n18   82.009          16.0           1   86.233950  \n21   83.029           0.0           1   92.116240  \n26   86.868           0.0           1   94.140420  \n19  174.578           0.0           1   95.035540  \n12   78.120           2.0           1  104.774833  \n33   66.807           5.0           1  107.271440  \n36  130.918          12.0           1         NaN  ",
      "text/html": "<div>\n<style scoped>\n    .dataframe tbody tr th:only-of-type {\n        vertical-align: middle;\n    }\n\n    .dataframe tbody tr th {\n        vertical-align: top;\n    }\n\n    .dataframe thead th {\n        text-align: right;\n    }\n</style>\n<table border=\"1\" class=\"dataframe\">\n  <thead>\n    <tr style=\"text-align: right;\">\n      <th></th>\n      <th>name</th>\n      <th>popularity</th>\n      <th>artists</th>\n      <th>danceability</th>\n      <th>energy</th>\n      <th>key</th>\n      <th>loudness</th>\n      <th>mode</th>\n      <th>speechiness</th>\n      <th>acousticness</th>\n      <th>instrumentalness</th>\n      <th>liveness</th>\n      <th>valence</th>\n      <th>tempo</th>\n      <th>artistsIndex</th>\n      <th>prediction</th>\n      <th>distance</th>\n    </tr>\n  </thead>\n  <tbody>\n    <tr>\n      <th>28</th>\n      <td>Singin' In The Rain</td>\n      <td>53</td>\n      <td>GeneKelly</td>\n      <td>0.354</td>\n      <td>0.24100</td>\n      <td>5</td>\n      <td>-13.811</td>\n      <td>1</td>\n      <td>0.0334</td>\n      <td>0.889</td>\n      <td>0.000274</td>\n      <td>0.1650</td>\n      <td>0.4080</td>\n      <td>135.646</td>\n      <td>13.0</td>\n      <td>1</td>\n      <td>36.397966</td>\n    </tr>\n    <tr>\n      <th>27</th>\n      <td>Claire de lune</td>\n      <td>62</td>\n      <td>ClaudeDebussyAlexisWeissenberg</td>\n      <td>0.365</td>\n      <td>0.01000</td>\n      <td>1</td>\n      <td>-25.268</td>\n      <td>1</td>\n      <td>0.0519</td>\n      <td>0.995</td>\n      <td>0.924000</td>\n      <td>0.0584</td>\n      <td>0.0364</td>\n      <td>135.048</td>\n      <td>9.0</td>\n      <td>1</td>\n      <td>38.457340</td>\n    </tr>\n    <tr>\n      <th>4</th>\n      <td>My Funny Valentine</td>\n      <td>64</td>\n      <td>ChetBaker</td>\n      <td>0.438</td>\n      <td>0.00756</td>\n      <td>0</td>\n      <td>-26.440</td>\n      <td>0</td>\n      <td>0.0382</td>\n      <td>0.941</td>\n      <td>0.006430</td>\n      <td>0.1090</td>\n      <td>0.2770</td>\n      <td>133.320</td>\n      <td>2.0</td>\n      <td>1</td>\n      <td>45.137770</td>\n    </tr>\n    <tr>\n      <th>9</th>\n      <td>I'm Glad There Is You</td>\n      <td>61</td>\n      <td>JulieLondon</td>\n      <td>0.492</td>\n      <td>0.06710</td>\n      <td>10</td>\n      <td>-15.671</td>\n      <td>0</td>\n      <td>0.0399</td>\n      <td>0.958</td>\n      <td>0.000968</td>\n      <td>0.1090</td>\n      <td>0.1650</td>\n      <td>124.908</td>\n      <td>3.0</td>\n      <td>1</td>\n      <td>47.618872</td>\n    </tr>\n    <tr>\n      <th>7</th>\n      <td>I'm In The Mood For Love</td>\n      <td>65</td>\n      <td>JulieLondon</td>\n      <td>0.580</td>\n      <td>0.05450</td>\n      <td>9</td>\n      <td>-14.594</td>\n      <td>0</td>\n      <td>0.0473</td>\n      <td>0.963</td>\n      <td>0.000265</td>\n      <td>0.0967</td>\n      <td>0.1770</td>\n      <td>123.341</td>\n      <td>3.0</td>\n      <td>1</td>\n      <td>53.270275</td>\n    </tr>\n    <tr>\n      <th>3</th>\n      <td>I Fall In Love Too Easily - Vocal Version</td>\n      <td>66</td>\n      <td>ChetBaker</td>\n      <td>0.532</td>\n      <td>0.06570</td>\n      <td>0</td>\n      <td>-19.136</td>\n      <td>0</td>\n      <td>0.0406</td>\n      <td>0.940</td>\n      <td>0.004880</td>\n      <td>0.0946</td>\n      <td>0.2920</td>\n      <td>128.607</td>\n      <td>2.0</td>\n      <td>1</td>\n      <td>54.333460</td>\n    </tr>\n    <tr>\n      <th>8</th>\n      <td>Cry Me A River</td>\n      <td>63</td>\n      <td>JulieLondon</td>\n      <td>0.496</td>\n      <td>0.06880</td>\n      <td>4</td>\n      <td>-14.927</td>\n      <td>0</td>\n      <td>0.0545</td>\n      <td>0.964</td>\n      <td>0.002290</td>\n      <td>0.1120</td>\n      <td>0.1610</td>\n      <td>119.898</td>\n      <td>3.0</td>\n      <td>1</td>\n      <td>59.355650</td>\n    </tr>\n    <tr>\n      <th>30</th>\n      <td>'Round Midnight</td>\n      <td>58</td>\n      <td>TheloniousMonk</td>\n      <td>0.542</td>\n      <td>0.32000</td>\n      <td>8</td>\n      <td>-9.975</td>\n      <td>1</td>\n      <td>0.0387</td>\n      <td>0.907</td>\n      <td>0.649000</td>\n      <td>0.0609</td>\n      <td>0.2060</td>\n      <td>116.648</td>\n      <td>23.0</td>\n      <td>1</td>\n      <td>61.185440</td>\n    </tr>\n    <tr>\n      <th>17</th>\n      <td>Unforgettable</td>\n      <td>68</td>\n      <td>NatKingCole</td>\n      <td>0.349</td>\n      <td>0.18200</td>\n      <td>5</td>\n      <td>-13.507</td>\n      <td>1</td>\n      <td>0.0310</td>\n      <td>0.920</td>\n      <td>0.015200</td>\n      <td>0.1430</td>\n      <td>0.1780</td>\n      <td>136.094</td>\n      <td>0.0</td>\n      <td>1</td>\n      <td>63.260440</td>\n    </tr>\n    <tr>\n      <th>15</th>\n      <td>In The Wee Small Hours Of The Morning - Remast...</td>\n      <td>60</td>\n      <td>FrankSinatra</td>\n      <td>0.290</td>\n      <td>0.08740</td>\n      <td>0</td>\n      <td>-16.119</td>\n      <td>1</td>\n      <td>0.0346</td>\n      <td>0.856</td>\n      <td>0.000957</td>\n      <td>0.1090</td>\n      <td>0.0734</td>\n      <td>114.997</td>\n      <td>1.0</td>\n      <td>1</td>\n      <td>67.503083</td>\n    </tr>\n    <tr>\n      <th>32</th>\n      <td>Someone To Watch Over Me</td>\n      <td>57</td>\n      <td>EllaFitzgerald</td>\n      <td>0.354</td>\n      <td>0.08510</td>\n      <td>7</td>\n      <td>-13.738</td>\n      <td>1</td>\n      <td>0.0345</td>\n      <td>0.990</td>\n      <td>0.000004</td>\n      <td>0.1230</td>\n      <td>0.1970</td>\n      <td>97.684</td>\n      <td>5.0</td>\n      <td>1</td>\n      <td>72.888236</td>\n    </tr>\n    <tr>\n      <th>31</th>\n      <td>Poinciana</td>\n      <td>51</td>\n      <td>AhmadJamal</td>\n      <td>0.553</td>\n      <td>0.09020</td>\n      <td>2</td>\n      <td>-21.491</td>\n      <td>1</td>\n      <td>0.0430</td>\n      <td>0.984</td>\n      <td>0.910000</td>\n      <td>0.1000</td>\n      <td>0.2890</td>\n      <td>89.369</td>\n      <td>7.0</td>\n      <td>1</td>\n      <td>73.392840</td>\n    </tr>\n    <tr>\n      <th>35</th>\n      <td>I'm Confessin' (That I Love You)</td>\n      <td>54</td>\n      <td>DorisDay</td>\n      <td>0.317</td>\n      <td>0.01860</td>\n      <td>3</td>\n      <td>-23.650</td>\n      <td>0</td>\n      <td>0.0363</td>\n      <td>0.956</td>\n      <td>0.000002</td>\n      <td>0.1200</td>\n      <td>0.1170</td>\n      <td>78.325</td>\n      <td>11.0</td>\n      <td>1</td>\n      <td>76.414938</td>\n    </tr>\n    <tr>\n      <th>10</th>\n      <td>Black Coffee</td>\n      <td>56</td>\n      <td>SarahVaughan</td>\n      <td>0.380</td>\n      <td>0.15500</td>\n      <td>1</td>\n      <td>-11.977</td>\n      <td>1</td>\n      <td>0.0311</td>\n      <td>0.973</td>\n      <td>0.000017</td>\n      <td>0.0977</td>\n      <td>0.1270</td>\n      <td>94.230</td>\n      <td>18.0</td>\n      <td>1</td>\n      <td>82.212223</td>\n    </tr>\n    <tr>\n      <th>13</th>\n      <td>Time After Time</td>\n      <td>52</td>\n      <td>MargaretWhiting</td>\n      <td>0.236</td>\n      <td>0.17300</td>\n      <td>6</td>\n      <td>-13.844</td>\n      <td>1</td>\n      <td>0.0319</td>\n      <td>0.928</td>\n      <td>0.000623</td>\n      <td>0.2390</td>\n      <td>0.2790</td>\n      <td>82.342</td>\n      <td>17.0</td>\n      <td>1</td>\n      <td>84.428117</td>\n    </tr>\n    <tr>\n      <th>20</th>\n      <td>My Funny Valentine - Remastered</td>\n      <td>54</td>\n      <td>FrankSinatra</td>\n      <td>0.257</td>\n      <td>0.12500</td>\n      <td>11</td>\n      <td>-14.267</td>\n      <td>0</td>\n      <td>0.0332</td>\n      <td>0.891</td>\n      <td>0.000000</td>\n      <td>0.1080</td>\n      <td>0.2450</td>\n      <td>84.930</td>\n      <td>1.0</td>\n      <td>1</td>\n      <td>85.287440</td>\n    </tr>\n    <tr>\n      <th>18</th>\n      <td>Over The Rainbow</td>\n      <td>60</td>\n      <td>JudyGarland</td>\n      <td>0.204</td>\n      <td>0.16100</td>\n      <td>8</td>\n      <td>-15.191</td>\n      <td>1</td>\n      <td>0.0336</td>\n      <td>0.972</td>\n      <td>0.000090</td>\n      <td>0.1210</td>\n      <td>0.3160</td>\n      <td>82.009</td>\n      <td>16.0</td>\n      <td>1</td>\n      <td>86.233950</td>\n    </tr>\n    <tr>\n      <th>21</th>\n      <td>Pretend</td>\n      <td>51</td>\n      <td>NatKingCole</td>\n      <td>0.388</td>\n      <td>0.27500</td>\n      <td>10</td>\n      <td>-11.248</td>\n      <td>1</td>\n      <td>0.0294</td>\n      <td>0.932</td>\n      <td>0.000000</td>\n      <td>0.1010</td>\n      <td>0.3110</td>\n      <td>83.029</td>\n      <td>0.0</td>\n      <td>1</td>\n      <td>92.116240</td>\n    </tr>\n    <tr>\n      <th>26</th>\n      <td>Autumn Leaves - Remastered</td>\n      <td>52</td>\n      <td>NatKingCole</td>\n      <td>0.211</td>\n      <td>0.34800</td>\n      <td>2</td>\n      <td>-10.120</td>\n      <td>0</td>\n      <td>0.0326</td>\n      <td>0.939</td>\n      <td>0.000520</td>\n      <td>0.3840</td>\n      <td>0.0981</td>\n      <td>86.868</td>\n      <td>0.0</td>\n      <td>1</td>\n      <td>94.140420</td>\n    </tr>\n    <tr>\n      <th>19</th>\n      <td>Mona Lisa</td>\n      <td>56</td>\n      <td>NatKingCole</td>\n      <td>0.241</td>\n      <td>0.23700</td>\n      <td>1</td>\n      <td>-12.201</td>\n      <td>1</td>\n      <td>0.0371</td>\n      <td>0.952</td>\n      <td>0.000000</td>\n      <td>0.1130</td>\n      <td>0.3030</td>\n      <td>174.578</td>\n      <td>0.0</td>\n      <td>1</td>\n      <td>95.035540</td>\n    </tr>\n    <tr>\n      <th>12</th>\n      <td>Let's Get Lost</td>\n      <td>55</td>\n      <td>ChetBaker</td>\n      <td>0.521</td>\n      <td>0.37000</td>\n      <td>0</td>\n      <td>-9.345</td>\n      <td>1</td>\n      <td>0.0300</td>\n      <td>0.840</td>\n      <td>0.000807</td>\n      <td>0.1080</td>\n      <td>0.5500</td>\n      <td>78.120</td>\n      <td>2.0</td>\n      <td>1</td>\n      <td>104.774833</td>\n    </tr>\n    <tr>\n      <th>33</th>\n      <td>I've Got A Crush On You</td>\n      <td>56</td>\n      <td>EllaFitzgerald</td>\n      <td>0.455</td>\n      <td>0.10600</td>\n      <td>2</td>\n      <td>-14.086</td>\n      <td>1</td>\n      <td>0.0422</td>\n      <td>0.986</td>\n      <td>0.000000</td>\n      <td>0.1220</td>\n      <td>0.2580</td>\n      <td>66.807</td>\n      <td>5.0</td>\n      <td>1</td>\n      <td>107.271440</td>\n    </tr>\n    <tr>\n      <th>36</th>\n      <td>Gymnopédie No. 3</td>\n      <td>53</td>\n      <td>ErikSatiePhilippeEntremont</td>\n      <td>0.508</td>\n      <td>0.00766</td>\n      <td>9</td>\n      <td>-37.783</td>\n      <td>0</td>\n      <td>0.0975</td>\n      <td>0.991</td>\n      <td>0.873000</td>\n      <td>0.0732</td>\n      <td>0.5880</td>\n      <td>130.918</td>\n      <td>12.0</td>\n      <td>1</td>\n      <td>NaN</td>\n    </tr>\n  </tbody>\n</table>\n</div>"
     },
     "execution_count": 306,
     "metadata": {},
     "output_type": "execute_result"
    }
   ],
   "source": [
    "result_data = temp_result.sort_values('distance')\n",
    "result_data"
   ],
   "metadata": {
    "collapsed": false,
    "pycharm": {
     "name": "#%%\n"
    }
   }
  },
  {
   "cell_type": "code",
   "execution_count": 307,
   "outputs": [
    {
     "data": {
      "text/plain": "                                                 name  popularity  \\\n28                                Singin' In The Rain          53   \n27                                     Claire de lune          62   \n4                                  My Funny Valentine          64   \n9                               I'm Glad There Is You          61   \n7                            I'm In The Mood For Love          65   \n3           I Fall In Love Too Easily - Vocal Version          66   \n8                                      Cry Me A River          63   \n30                                    'Round Midnight          58   \n17                                      Unforgettable          68   \n15  In The Wee Small Hours Of The Morning - Remast...          60   \n\n                           artists  danceability   energy  key  loudness  \\\n28                       GeneKelly         0.354  0.24100    5   -13.811   \n27  ClaudeDebussyAlexisWeissenberg         0.365  0.01000    1   -25.268   \n4                        ChetBaker         0.438  0.00756    0   -26.440   \n9                      JulieLondon         0.492  0.06710   10   -15.671   \n7                      JulieLondon         0.580  0.05450    9   -14.594   \n3                        ChetBaker         0.532  0.06570    0   -19.136   \n8                      JulieLondon         0.496  0.06880    4   -14.927   \n30                  TheloniousMonk         0.542  0.32000    8    -9.975   \n17                     NatKingCole         0.349  0.18200    5   -13.507   \n15                    FrankSinatra         0.290  0.08740    0   -16.119   \n\n    mode  speechiness  acousticness  instrumentalness  liveness  valence  \\\n28     1       0.0334         0.889          0.000274    0.1650   0.4080   \n27     1       0.0519         0.995          0.924000    0.0584   0.0364   \n4      0       0.0382         0.941          0.006430    0.1090   0.2770   \n9      0       0.0399         0.958          0.000968    0.1090   0.1650   \n7      0       0.0473         0.963          0.000265    0.0967   0.1770   \n3      0       0.0406         0.940          0.004880    0.0946   0.2920   \n8      0       0.0545         0.964          0.002290    0.1120   0.1610   \n30     1       0.0387         0.907          0.649000    0.0609   0.2060   \n17     1       0.0310         0.920          0.015200    0.1430   0.1780   \n15     1       0.0346         0.856          0.000957    0.1090   0.0734   \n\n      tempo  artistsIndex  prediction   distance  \n28  135.646          13.0           1  36.397966  \n27  135.048           9.0           1  38.457340  \n4   133.320           2.0           1  45.137770  \n9   124.908           3.0           1  47.618872  \n7   123.341           3.0           1  53.270275  \n3   128.607           2.0           1  54.333460  \n8   119.898           3.0           1  59.355650  \n30  116.648          23.0           1  61.185440  \n17  136.094           0.0           1  63.260440  \n15  114.997           1.0           1  67.503083  ",
      "text/html": "<div>\n<style scoped>\n    .dataframe tbody tr th:only-of-type {\n        vertical-align: middle;\n    }\n\n    .dataframe tbody tr th {\n        vertical-align: top;\n    }\n\n    .dataframe thead th {\n        text-align: right;\n    }\n</style>\n<table border=\"1\" class=\"dataframe\">\n  <thead>\n    <tr style=\"text-align: right;\">\n      <th></th>\n      <th>name</th>\n      <th>popularity</th>\n      <th>artists</th>\n      <th>danceability</th>\n      <th>energy</th>\n      <th>key</th>\n      <th>loudness</th>\n      <th>mode</th>\n      <th>speechiness</th>\n      <th>acousticness</th>\n      <th>instrumentalness</th>\n      <th>liveness</th>\n      <th>valence</th>\n      <th>tempo</th>\n      <th>artistsIndex</th>\n      <th>prediction</th>\n      <th>distance</th>\n    </tr>\n  </thead>\n  <tbody>\n    <tr>\n      <th>28</th>\n      <td>Singin' In The Rain</td>\n      <td>53</td>\n      <td>GeneKelly</td>\n      <td>0.354</td>\n      <td>0.24100</td>\n      <td>5</td>\n      <td>-13.811</td>\n      <td>1</td>\n      <td>0.0334</td>\n      <td>0.889</td>\n      <td>0.000274</td>\n      <td>0.1650</td>\n      <td>0.4080</td>\n      <td>135.646</td>\n      <td>13.0</td>\n      <td>1</td>\n      <td>36.397966</td>\n    </tr>\n    <tr>\n      <th>27</th>\n      <td>Claire de lune</td>\n      <td>62</td>\n      <td>ClaudeDebussyAlexisWeissenberg</td>\n      <td>0.365</td>\n      <td>0.01000</td>\n      <td>1</td>\n      <td>-25.268</td>\n      <td>1</td>\n      <td>0.0519</td>\n      <td>0.995</td>\n      <td>0.924000</td>\n      <td>0.0584</td>\n      <td>0.0364</td>\n      <td>135.048</td>\n      <td>9.0</td>\n      <td>1</td>\n      <td>38.457340</td>\n    </tr>\n    <tr>\n      <th>4</th>\n      <td>My Funny Valentine</td>\n      <td>64</td>\n      <td>ChetBaker</td>\n      <td>0.438</td>\n      <td>0.00756</td>\n      <td>0</td>\n      <td>-26.440</td>\n      <td>0</td>\n      <td>0.0382</td>\n      <td>0.941</td>\n      <td>0.006430</td>\n      <td>0.1090</td>\n      <td>0.2770</td>\n      <td>133.320</td>\n      <td>2.0</td>\n      <td>1</td>\n      <td>45.137770</td>\n    </tr>\n    <tr>\n      <th>9</th>\n      <td>I'm Glad There Is You</td>\n      <td>61</td>\n      <td>JulieLondon</td>\n      <td>0.492</td>\n      <td>0.06710</td>\n      <td>10</td>\n      <td>-15.671</td>\n      <td>0</td>\n      <td>0.0399</td>\n      <td>0.958</td>\n      <td>0.000968</td>\n      <td>0.1090</td>\n      <td>0.1650</td>\n      <td>124.908</td>\n      <td>3.0</td>\n      <td>1</td>\n      <td>47.618872</td>\n    </tr>\n    <tr>\n      <th>7</th>\n      <td>I'm In The Mood For Love</td>\n      <td>65</td>\n      <td>JulieLondon</td>\n      <td>0.580</td>\n      <td>0.05450</td>\n      <td>9</td>\n      <td>-14.594</td>\n      <td>0</td>\n      <td>0.0473</td>\n      <td>0.963</td>\n      <td>0.000265</td>\n      <td>0.0967</td>\n      <td>0.1770</td>\n      <td>123.341</td>\n      <td>3.0</td>\n      <td>1</td>\n      <td>53.270275</td>\n    </tr>\n    <tr>\n      <th>3</th>\n      <td>I Fall In Love Too Easily - Vocal Version</td>\n      <td>66</td>\n      <td>ChetBaker</td>\n      <td>0.532</td>\n      <td>0.06570</td>\n      <td>0</td>\n      <td>-19.136</td>\n      <td>0</td>\n      <td>0.0406</td>\n      <td>0.940</td>\n      <td>0.004880</td>\n      <td>0.0946</td>\n      <td>0.2920</td>\n      <td>128.607</td>\n      <td>2.0</td>\n      <td>1</td>\n      <td>54.333460</td>\n    </tr>\n    <tr>\n      <th>8</th>\n      <td>Cry Me A River</td>\n      <td>63</td>\n      <td>JulieLondon</td>\n      <td>0.496</td>\n      <td>0.06880</td>\n      <td>4</td>\n      <td>-14.927</td>\n      <td>0</td>\n      <td>0.0545</td>\n      <td>0.964</td>\n      <td>0.002290</td>\n      <td>0.1120</td>\n      <td>0.1610</td>\n      <td>119.898</td>\n      <td>3.0</td>\n      <td>1</td>\n      <td>59.355650</td>\n    </tr>\n    <tr>\n      <th>30</th>\n      <td>'Round Midnight</td>\n      <td>58</td>\n      <td>TheloniousMonk</td>\n      <td>0.542</td>\n      <td>0.32000</td>\n      <td>8</td>\n      <td>-9.975</td>\n      <td>1</td>\n      <td>0.0387</td>\n      <td>0.907</td>\n      <td>0.649000</td>\n      <td>0.0609</td>\n      <td>0.2060</td>\n      <td>116.648</td>\n      <td>23.0</td>\n      <td>1</td>\n      <td>61.185440</td>\n    </tr>\n    <tr>\n      <th>17</th>\n      <td>Unforgettable</td>\n      <td>68</td>\n      <td>NatKingCole</td>\n      <td>0.349</td>\n      <td>0.18200</td>\n      <td>5</td>\n      <td>-13.507</td>\n      <td>1</td>\n      <td>0.0310</td>\n      <td>0.920</td>\n      <td>0.015200</td>\n      <td>0.1430</td>\n      <td>0.1780</td>\n      <td>136.094</td>\n      <td>0.0</td>\n      <td>1</td>\n      <td>63.260440</td>\n    </tr>\n    <tr>\n      <th>15</th>\n      <td>In The Wee Small Hours Of The Morning - Remast...</td>\n      <td>60</td>\n      <td>FrankSinatra</td>\n      <td>0.290</td>\n      <td>0.08740</td>\n      <td>0</td>\n      <td>-16.119</td>\n      <td>1</td>\n      <td>0.0346</td>\n      <td>0.856</td>\n      <td>0.000957</td>\n      <td>0.1090</td>\n      <td>0.0734</td>\n      <td>114.997</td>\n      <td>1.0</td>\n      <td>1</td>\n      <td>67.503083</td>\n    </tr>\n  </tbody>\n</table>\n</div>"
     },
     "execution_count": 307,
     "metadata": {},
     "output_type": "execute_result"
    }
   ],
   "source": [
    "result_data[:10]"
   ],
   "metadata": {
    "collapsed": false,
    "pycharm": {
     "name": "#%%\n"
    }
   }
  },
  {
   "cell_type": "code",
   "execution_count": 309,
   "outputs": [
    {
     "data": {
      "text/plain": "                                                 name  popularity  \\\n28                                Singin' In The Rain          53   \n27                                     Claire de lune          62   \n4                                  My Funny Valentine          64   \n9                               I'm Glad There Is You          61   \n7                            I'm In The Mood For Love          65   \n3           I Fall In Love Too Easily - Vocal Version          66   \n8                                      Cry Me A River          63   \n30                                    'Round Midnight          58   \n17                                      Unforgettable          68   \n15  In The Wee Small Hours Of The Morning - Remast...          60   \n\n                           artists  danceability   energy  key  loudness  \\\n28                       GeneKelly         0.354  0.24100    5   -13.811   \n27  ClaudeDebussyAlexisWeissenberg         0.365  0.01000    1   -25.268   \n4                        ChetBaker         0.438  0.00756    0   -26.440   \n9                      JulieLondon         0.492  0.06710   10   -15.671   \n7                      JulieLondon         0.580  0.05450    9   -14.594   \n3                        ChetBaker         0.532  0.06570    0   -19.136   \n8                      JulieLondon         0.496  0.06880    4   -14.927   \n30                  TheloniousMonk         0.542  0.32000    8    -9.975   \n17                     NatKingCole         0.349  0.18200    5   -13.507   \n15                    FrankSinatra         0.290  0.08740    0   -16.119   \n\n    mode  speechiness  acousticness  instrumentalness  liveness  valence  \\\n28     1       0.0334         0.889          0.000274    0.1650   0.4080   \n27     1       0.0519         0.995          0.924000    0.0584   0.0364   \n4      0       0.0382         0.941          0.006430    0.1090   0.2770   \n9      0       0.0399         0.958          0.000968    0.1090   0.1650   \n7      0       0.0473         0.963          0.000265    0.0967   0.1770   \n3      0       0.0406         0.940          0.004880    0.0946   0.2920   \n8      0       0.0545         0.964          0.002290    0.1120   0.1610   \n30     1       0.0387         0.907          0.649000    0.0609   0.2060   \n17     1       0.0310         0.920          0.015200    0.1430   0.1780   \n15     1       0.0346         0.856          0.000957    0.1090   0.0734   \n\n      tempo  \n28  135.646  \n27  135.048  \n4   133.320  \n9   124.908  \n7   123.341  \n3   128.607  \n8   119.898  \n30  116.648  \n17  136.094  \n15  114.997  ",
      "text/html": "<div>\n<style scoped>\n    .dataframe tbody tr th:only-of-type {\n        vertical-align: middle;\n    }\n\n    .dataframe tbody tr th {\n        vertical-align: top;\n    }\n\n    .dataframe thead th {\n        text-align: right;\n    }\n</style>\n<table border=\"1\" class=\"dataframe\">\n  <thead>\n    <tr style=\"text-align: right;\">\n      <th></th>\n      <th>name</th>\n      <th>popularity</th>\n      <th>artists</th>\n      <th>danceability</th>\n      <th>energy</th>\n      <th>key</th>\n      <th>loudness</th>\n      <th>mode</th>\n      <th>speechiness</th>\n      <th>acousticness</th>\n      <th>instrumentalness</th>\n      <th>liveness</th>\n      <th>valence</th>\n      <th>tempo</th>\n    </tr>\n  </thead>\n  <tbody>\n    <tr>\n      <th>28</th>\n      <td>Singin' In The Rain</td>\n      <td>53</td>\n      <td>GeneKelly</td>\n      <td>0.354</td>\n      <td>0.24100</td>\n      <td>5</td>\n      <td>-13.811</td>\n      <td>1</td>\n      <td>0.0334</td>\n      <td>0.889</td>\n      <td>0.000274</td>\n      <td>0.1650</td>\n      <td>0.4080</td>\n      <td>135.646</td>\n    </tr>\n    <tr>\n      <th>27</th>\n      <td>Claire de lune</td>\n      <td>62</td>\n      <td>ClaudeDebussyAlexisWeissenberg</td>\n      <td>0.365</td>\n      <td>0.01000</td>\n      <td>1</td>\n      <td>-25.268</td>\n      <td>1</td>\n      <td>0.0519</td>\n      <td>0.995</td>\n      <td>0.924000</td>\n      <td>0.0584</td>\n      <td>0.0364</td>\n      <td>135.048</td>\n    </tr>\n    <tr>\n      <th>4</th>\n      <td>My Funny Valentine</td>\n      <td>64</td>\n      <td>ChetBaker</td>\n      <td>0.438</td>\n      <td>0.00756</td>\n      <td>0</td>\n      <td>-26.440</td>\n      <td>0</td>\n      <td>0.0382</td>\n      <td>0.941</td>\n      <td>0.006430</td>\n      <td>0.1090</td>\n      <td>0.2770</td>\n      <td>133.320</td>\n    </tr>\n    <tr>\n      <th>9</th>\n      <td>I'm Glad There Is You</td>\n      <td>61</td>\n      <td>JulieLondon</td>\n      <td>0.492</td>\n      <td>0.06710</td>\n      <td>10</td>\n      <td>-15.671</td>\n      <td>0</td>\n      <td>0.0399</td>\n      <td>0.958</td>\n      <td>0.000968</td>\n      <td>0.1090</td>\n      <td>0.1650</td>\n      <td>124.908</td>\n    </tr>\n    <tr>\n      <th>7</th>\n      <td>I'm In The Mood For Love</td>\n      <td>65</td>\n      <td>JulieLondon</td>\n      <td>0.580</td>\n      <td>0.05450</td>\n      <td>9</td>\n      <td>-14.594</td>\n      <td>0</td>\n      <td>0.0473</td>\n      <td>0.963</td>\n      <td>0.000265</td>\n      <td>0.0967</td>\n      <td>0.1770</td>\n      <td>123.341</td>\n    </tr>\n    <tr>\n      <th>3</th>\n      <td>I Fall In Love Too Easily - Vocal Version</td>\n      <td>66</td>\n      <td>ChetBaker</td>\n      <td>0.532</td>\n      <td>0.06570</td>\n      <td>0</td>\n      <td>-19.136</td>\n      <td>0</td>\n      <td>0.0406</td>\n      <td>0.940</td>\n      <td>0.004880</td>\n      <td>0.0946</td>\n      <td>0.2920</td>\n      <td>128.607</td>\n    </tr>\n    <tr>\n      <th>8</th>\n      <td>Cry Me A River</td>\n      <td>63</td>\n      <td>JulieLondon</td>\n      <td>0.496</td>\n      <td>0.06880</td>\n      <td>4</td>\n      <td>-14.927</td>\n      <td>0</td>\n      <td>0.0545</td>\n      <td>0.964</td>\n      <td>0.002290</td>\n      <td>0.1120</td>\n      <td>0.1610</td>\n      <td>119.898</td>\n    </tr>\n    <tr>\n      <th>30</th>\n      <td>'Round Midnight</td>\n      <td>58</td>\n      <td>TheloniousMonk</td>\n      <td>0.542</td>\n      <td>0.32000</td>\n      <td>8</td>\n      <td>-9.975</td>\n      <td>1</td>\n      <td>0.0387</td>\n      <td>0.907</td>\n      <td>0.649000</td>\n      <td>0.0609</td>\n      <td>0.2060</td>\n      <td>116.648</td>\n    </tr>\n    <tr>\n      <th>17</th>\n      <td>Unforgettable</td>\n      <td>68</td>\n      <td>NatKingCole</td>\n      <td>0.349</td>\n      <td>0.18200</td>\n      <td>5</td>\n      <td>-13.507</td>\n      <td>1</td>\n      <td>0.0310</td>\n      <td>0.920</td>\n      <td>0.015200</td>\n      <td>0.1430</td>\n      <td>0.1780</td>\n      <td>136.094</td>\n    </tr>\n    <tr>\n      <th>15</th>\n      <td>In The Wee Small Hours Of The Morning - Remast...</td>\n      <td>60</td>\n      <td>FrankSinatra</td>\n      <td>0.290</td>\n      <td>0.08740</td>\n      <td>0</td>\n      <td>-16.119</td>\n      <td>1</td>\n      <td>0.0346</td>\n      <td>0.856</td>\n      <td>0.000957</td>\n      <td>0.1090</td>\n      <td>0.0734</td>\n      <td>114.997</td>\n    </tr>\n  </tbody>\n</table>\n</div>"
     },
     "execution_count": 309,
     "metadata": {},
     "output_type": "execute_result"
    }
   ],
   "source": [
    "result_data.iloc[:10, :-3]"
   ],
   "metadata": {
    "collapsed": false,
    "pycharm": {
     "name": "#%%\n"
    }
   }
  },
  {
   "cell_type": "code",
   "execution_count": null,
   "outputs": [],
   "source": [],
   "metadata": {
    "collapsed": false,
    "pycharm": {
     "name": "#%%\n"
    }
   }
  }
 ],
 "metadata": {
  "kernelspec": {
   "name": "ml",
   "language": "python",
   "display_name": "ml"
  },
  "language_info": {
   "codemirror_mode": {
    "name": "ipython",
    "version": 2
   },
   "file_extension": ".py",
   "mimetype": "text/x-python",
   "name": "python",
   "nbconvert_exporter": "python",
   "pygments_lexer": "ipython2",
   "version": "2.7.6"
  }
 },
 "nbformat": 4,
 "nbformat_minor": 0
}