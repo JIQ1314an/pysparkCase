{
 "cells": [
  {
   "cell_type": "code",
   "execution_count": 1,
   "metadata": {
    "collapsed": true
   },
   "outputs": [],
   "source": [
    "import sys\n",
    "\n",
    "import spotipy\n",
    "from spotipy.oauth2 import SpotifyOAuth\n",
    "\n",
    "\n",
    "class SpotifyApi:\n",
    "    def __init__(self, client_id, client_secret, redirect_uri, scope):\n",
    "        self.client_id = client_id\n",
    "        self.client_secret = client_secret\n",
    "        self.redirect_uri = redirect_uri\n",
    "        self.scope = scope\n",
    "\n",
    "    def connect_to_spotify(self):\n",
    "        token = SpotifyOAuth(client_id=self.client_id,\n",
    "                             client_secret=self.client_secret,\n",
    "                             redirect_uri=self.redirect_uri,\n",
    "                             scope=self.scope)\n",
    "        # print(token)\n",
    "        if not token:\n",
    "            sys.exit('Authorization failed')\n",
    "        sp = spotipy.Spotify(auth_manager=token)\n",
    "        return sp"
   ]
  },
  {
   "cell_type": "code",
   "execution_count": 2,
   "outputs": [
    {
     "name": "stdout",
     "output_type": "stream",
     "text": [
      "共获取 3 首音乐\n"
     ]
    }
   ],
   "source": [
    "if __name__ == \"__main__\":\n",
    "\n",
    "    # 设置spotipy应用接口参数   me\n",
    "    CLIENT_ID = \"85abc35b96044909a7f9271e944604c7\"\n",
    "    CLIENT_SECRET = \"87da784091c94768997ba35ae54c995f\"\n",
    "    REDIRECT_URI = \"https://cn.bing.com/\"\n",
    "    SCOPE = \"user-library-read\"\n",
    "\n",
    "    # 获取token信息\n",
    "    # token = spotipy.util.prompt_for_user_token(username, scope)\n",
    "    spotipy_obj = SpotifyApi(CLIENT_ID, CLIENT_SECRET, REDIRECT_URI, SCOPE).connect_to_spotify()\n",
    "    # 根据操作对象获取当前用户所收藏的曲目列表【limit：最多查询50首】\n",
    "    saved_tracks_resp = spotipy_obj.current_user_saved_tracks(limit=50)\n",
    "\n",
    "    number_of_tracks = saved_tracks_resp[\"total\"]\n",
    "    print(\"共获取 %d 首音乐\" % number_of_tracks)"
   ],
   "metadata": {
    "collapsed": false,
    "pycharm": {
     "name": "#%%\n"
    }
   }
  },
  {
   "cell_type": "code",
   "execution_count": 3,
   "outputs": [
    {
     "name": "stdout",
     "output_type": "stream",
     "text": [
      "0 Harry Styles  –  As It Was\n",
      "1 Lizzo  –  About Damn Time\n",
      "2 Jack Harlow  –  First Class\n"
     ]
    }
   ],
   "source": [
    "for idx, item in enumerate(saved_tracks_resp['items']):\n",
    "        track = item['track']\n",
    "        print(idx, track['artists'][0]['name'], \" – \", track['name'])"
   ],
   "metadata": {
    "collapsed": false,
    "pycharm": {
     "name": "#%%\n"
    }
   }
  },
  {
   "cell_type": "code",
   "execution_count": 6,
   "outputs": [
    {
     "data": {
      "text/plain": "{'added_at': '2022-05-21T14:54:35Z',\n 'track': {'album': {'album_type': 'single',\n   'artists': [{'external_urls': {'spotify': 'https://open.spotify.com/artist/6KImCVD70vtIoJWnq6nGn3'},\n     'href': 'https://api.spotify.com/v1/artists/6KImCVD70vtIoJWnq6nGn3',\n     'id': '6KImCVD70vtIoJWnq6nGn3',\n     'name': 'Harry Styles',\n     'type': 'artist',\n     'uri': 'spotify:artist:6KImCVD70vtIoJWnq6nGn3'}],\n   'available_markets': ['AD',\n    'AE',\n    'AG',\n    'AL',\n    'AM',\n    'AO',\n    'AR',\n    'AT',\n    'AU',\n    'AZ',\n    'BA',\n    'BB',\n    'BD',\n    'BE',\n    'BF',\n    'BG',\n    'BH',\n    'BI',\n    'BJ',\n    'BN',\n    'BO',\n    'BR',\n    'BS',\n    'BT',\n    'BW',\n    'BY',\n    'BZ',\n    'CA',\n    'CD',\n    'CG',\n    'CH',\n    'CI',\n    'CL',\n    'CM',\n    'CO',\n    'CR',\n    'CV',\n    'CW',\n    'CY',\n    'CZ',\n    'DE',\n    'DJ',\n    'DK',\n    'DM',\n    'DO',\n    'DZ',\n    'EC',\n    'EE',\n    'EG',\n    'ES',\n    'FI',\n    'FJ',\n    'FM',\n    'FR',\n    'GA',\n    'GB',\n    'GD',\n    'GE',\n    'GH',\n    'GM',\n    'GN',\n    'GQ',\n    'GR',\n    'GT',\n    'GW',\n    'GY',\n    'HK',\n    'HN',\n    'HR',\n    'HT',\n    'HU',\n    'ID',\n    'IE',\n    'IL',\n    'IN',\n    'IQ',\n    'IS',\n    'IT',\n    'JM',\n    'JO',\n    'JP',\n    'KE',\n    'KG',\n    'KH',\n    'KI',\n    'KM',\n    'KN',\n    'KR',\n    'KW',\n    'KZ',\n    'LA',\n    'LB',\n    'LC',\n    'LI',\n    'LK',\n    'LR',\n    'LS',\n    'LT',\n    'LU',\n    'LV',\n    'LY',\n    'MA',\n    'MC',\n    'MD',\n    'ME',\n    'MG',\n    'MH',\n    'MK',\n    'ML',\n    'MN',\n    'MO',\n    'MR',\n    'MT',\n    'MU',\n    'MV',\n    'MW',\n    'MX',\n    'MY',\n    'MZ',\n    'NA',\n    'NE',\n    'NG',\n    'NI',\n    'NL',\n    'NO',\n    'NP',\n    'NR',\n    'NZ',\n    'OM',\n    'PA',\n    'PE',\n    'PG',\n    'PH',\n    'PK',\n    'PL',\n    'PS',\n    'PT',\n    'PW',\n    'PY',\n    'QA',\n    'RO',\n    'RS',\n    'RW',\n    'SA',\n    'SB',\n    'SC',\n    'SE',\n    'SG',\n    'SI',\n    'SK',\n    'SL',\n    'SM',\n    'SN',\n    'SR',\n    'ST',\n    'SV',\n    'SZ',\n    'TD',\n    'TG',\n    'TH',\n    'TJ',\n    'TL',\n    'TN',\n    'TO',\n    'TR',\n    'TT',\n    'TV',\n    'TW',\n    'TZ',\n    'UA',\n    'UG',\n    'US',\n    'UY',\n    'UZ',\n    'VC',\n    'VE',\n    'VN',\n    'VU',\n    'WS',\n    'XK',\n    'ZA',\n    'ZM',\n    'ZW'],\n   'external_urls': {'spotify': 'https://open.spotify.com/album/2pqdSWeJVsXAhHFuVLzuA8'},\n   'href': 'https://api.spotify.com/v1/albums/2pqdSWeJVsXAhHFuVLzuA8',\n   'id': '2pqdSWeJVsXAhHFuVLzuA8',\n   'images': [{'height': 640,\n     'url': 'https://i.scdn.co/image/ab67616d0000b273b46f74097655d7f353caab14',\n     'width': 640},\n    {'height': 300,\n     'url': 'https://i.scdn.co/image/ab67616d00001e02b46f74097655d7f353caab14',\n     'width': 300},\n    {'height': 64,\n     'url': 'https://i.scdn.co/image/ab67616d00004851b46f74097655d7f353caab14',\n     'width': 64}],\n   'name': 'As It Was',\n   'release_date': '2022-03-31',\n   'release_date_precision': 'day',\n   'total_tracks': 1,\n   'type': 'album',\n   'uri': 'spotify:album:2pqdSWeJVsXAhHFuVLzuA8'},\n  'artists': [{'external_urls': {'spotify': 'https://open.spotify.com/artist/6KImCVD70vtIoJWnq6nGn3'},\n    'href': 'https://api.spotify.com/v1/artists/6KImCVD70vtIoJWnq6nGn3',\n    'id': '6KImCVD70vtIoJWnq6nGn3',\n    'name': 'Harry Styles',\n    'type': 'artist',\n    'uri': 'spotify:artist:6KImCVD70vtIoJWnq6nGn3'}],\n  'available_markets': ['AD',\n   'AE',\n   'AG',\n   'AL',\n   'AM',\n   'AO',\n   'AR',\n   'AT',\n   'AU',\n   'AZ',\n   'BA',\n   'BB',\n   'BD',\n   'BE',\n   'BF',\n   'BG',\n   'BH',\n   'BI',\n   'BJ',\n   'BN',\n   'BO',\n   'BR',\n   'BS',\n   'BT',\n   'BW',\n   'BY',\n   'BZ',\n   'CA',\n   'CD',\n   'CG',\n   'CH',\n   'CI',\n   'CL',\n   'CM',\n   'CO',\n   'CR',\n   'CV',\n   'CW',\n   'CY',\n   'CZ',\n   'DE',\n   'DJ',\n   'DK',\n   'DM',\n   'DO',\n   'DZ',\n   'EC',\n   'EE',\n   'EG',\n   'ES',\n   'FI',\n   'FJ',\n   'FM',\n   'FR',\n   'GA',\n   'GB',\n   'GD',\n   'GE',\n   'GH',\n   'GM',\n   'GN',\n   'GQ',\n   'GR',\n   'GT',\n   'GW',\n   'GY',\n   'HK',\n   'HN',\n   'HR',\n   'HT',\n   'HU',\n   'ID',\n   'IE',\n   'IL',\n   'IN',\n   'IQ',\n   'IS',\n   'IT',\n   'JM',\n   'JO',\n   'JP',\n   'KE',\n   'KG',\n   'KH',\n   'KI',\n   'KM',\n   'KN',\n   'KR',\n   'KW',\n   'KZ',\n   'LA',\n   'LB',\n   'LC',\n   'LI',\n   'LK',\n   'LR',\n   'LS',\n   'LT',\n   'LU',\n   'LV',\n   'LY',\n   'MA',\n   'MC',\n   'MD',\n   'ME',\n   'MG',\n   'MH',\n   'MK',\n   'ML',\n   'MN',\n   'MO',\n   'MR',\n   'MT',\n   'MU',\n   'MV',\n   'MW',\n   'MX',\n   'MY',\n   'MZ',\n   'NA',\n   'NE',\n   'NG',\n   'NI',\n   'NL',\n   'NO',\n   'NP',\n   'NR',\n   'NZ',\n   'OM',\n   'PA',\n   'PE',\n   'PG',\n   'PH',\n   'PK',\n   'PL',\n   'PS',\n   'PT',\n   'PW',\n   'PY',\n   'QA',\n   'RO',\n   'RS',\n   'RW',\n   'SA',\n   'SB',\n   'SC',\n   'SE',\n   'SG',\n   'SI',\n   'SK',\n   'SL',\n   'SM',\n   'SN',\n   'SR',\n   'ST',\n   'SV',\n   'SZ',\n   'TD',\n   'TG',\n   'TH',\n   'TJ',\n   'TL',\n   'TN',\n   'TO',\n   'TR',\n   'TT',\n   'TV',\n   'TW',\n   'TZ',\n   'UA',\n   'UG',\n   'US',\n   'UY',\n   'UZ',\n   'VC',\n   'VE',\n   'VN',\n   'VU',\n   'WS',\n   'XK',\n   'ZA',\n   'ZM',\n   'ZW'],\n  'disc_number': 1,\n  'duration_ms': 167303,\n  'explicit': False,\n  'external_ids': {'isrc': 'USSM12200612'},\n  'external_urls': {'spotify': 'https://open.spotify.com/track/4LRPiXqCikLlN15c3yImP7'},\n  'href': 'https://api.spotify.com/v1/tracks/4LRPiXqCikLlN15c3yImP7',\n  'id': '4LRPiXqCikLlN15c3yImP7',\n  'is_local': False,\n  'name': 'As It Was',\n  'popularity': 100,\n  'preview_url': 'https://p.scdn.co/mp3-preview/c871f7a3b36ad708640a833fbf7a0b9e84c5b688?cid=85abc35b96044909a7f9271e944604c7',\n  'track_number': 1,\n  'type': 'track',\n  'uri': 'spotify:track:4LRPiXqCikLlN15c3yImP7'}}"
     },
     "execution_count": 6,
     "metadata": {},
     "output_type": "execute_result"
    }
   ],
   "source": [
    "saved_tracks_resp['items'][0]"
   ],
   "metadata": {
    "collapsed": false,
    "pycharm": {
     "name": "#%%\n"
    }
   }
  },
  {
   "cell_type": "code",
   "execution_count": 7,
   "outputs": [],
   "source": [
    "# 只保存有用的字段数据\n",
    "def save_only_some_fields(track_response):\n",
    "    return {\n",
    "        'id': str(track_response['track']['id']),\n",
    "        'name': str(track_response['track']['name']),\n",
    "        'artists': [artist['name'] for artist in track_response['track']['artists']],\n",
    "        'duration_ms': track_response['track']['duration_ms'],\n",
    "        'popularity': track_response['track']['popularity'],\n",
    "        'added_at': track_response['added_at']\n",
    "    }\n",
    "\n",
    "\n",
    "tracks = [save_only_some_fields(track) for track in saved_tracks_resp['items']]"
   ],
   "metadata": {
    "collapsed": false,
    "pycharm": {
     "name": "#%%\n"
    }
   }
  },
  {
   "cell_type": "code",
   "execution_count": 8,
   "outputs": [
    {
     "data": {
      "text/plain": "[{'id': '4LRPiXqCikLlN15c3yImP7',\n  'name': 'As It Was',\n  'artists': ['Harry Styles'],\n  'duration_ms': 167303,\n  'popularity': 100,\n  'added_at': '2022-05-21T14:54:35Z'},\n {'id': '1PckUlxKqWQs3RlWXVBLw3',\n  'name': 'About Damn Time',\n  'artists': ['Lizzo'],\n  'duration_ms': 191822,\n  'popularity': 90,\n  'added_at': '2022-05-21T14:54:34Z'},\n {'id': '1rDQ4oMwGJI7B4tovsBOxc',\n  'name': 'First Class',\n  'artists': ['Jack Harlow'],\n  'duration_ms': 173947,\n  'popularity': 94,\n  'added_at': '2022-05-21T14:54:33Z'}]"
     },
     "execution_count": 8,
     "metadata": {},
     "output_type": "execute_result"
    }
   ],
   "source": [
    "tracks"
   ],
   "metadata": {
    "collapsed": false,
    "pycharm": {
     "name": "#%%\n"
    }
   }
  },
  {
   "cell_type": "code",
   "execution_count": 10,
   "outputs": [
    {
     "data": {
      "text/plain": "dict_keys(['href', 'items', 'limit', 'next', 'offset', 'previous', 'total'])"
     },
     "execution_count": 10,
     "metadata": {},
     "output_type": "execute_result"
    }
   ],
   "source": [
    "saved_tracks_resp.keys()"
   ],
   "metadata": {
    "collapsed": false,
    "pycharm": {
     "name": "#%%\n"
    }
   }
  },
  {
   "cell_type": "code",
   "execution_count": 11,
   "outputs": [],
   "source": [
    "saved_tracks_resp['next']"
   ],
   "metadata": {
    "collapsed": false,
    "pycharm": {
     "name": "#%%\n"
    }
   }
  },
  {
   "cell_type": "code",
   "execution_count": 12,
   "outputs": [],
   "source": [
    "import pandas as pd\n",
    "\n",
    "while saved_tracks_resp['next']:\n",
    "    saved_tracks_resp = spotipy_obj.next(saved_tracks_resp)\n",
    "    tracks.extend([save_only_some_fields(track) for track in saved_tracks_resp['items']])"
   ],
   "metadata": {
    "collapsed": false,
    "pycharm": {
     "name": "#%%\n"
    }
   }
  },
  {
   "cell_type": "code",
   "execution_count": 13,
   "outputs": [],
   "source": [
    "tracks_df = pd.DataFrame(tracks)\n",
    "pd.set_option('display.max_rows', len(tracks))"
   ],
   "metadata": {
    "collapsed": false,
    "pycharm": {
     "name": "#%%\n"
    }
   }
  },
  {
   "cell_type": "code",
   "execution_count": 14,
   "outputs": [
    {
     "data": {
      "text/plain": "                       id             name         artists  duration_ms  \\\n0  4LRPiXqCikLlN15c3yImP7        As It Was  [Harry Styles]       167303   \n1  1PckUlxKqWQs3RlWXVBLw3  About Damn Time         [Lizzo]       191822   \n2  1rDQ4oMwGJI7B4tovsBOxc      First Class   [Jack Harlow]       173947   \n\n   popularity              added_at  \n0         100  2022-05-21T14:54:35Z  \n1          90  2022-05-21T14:54:34Z  \n2          94  2022-05-21T14:54:33Z  ",
      "text/html": "<div>\n<style scoped>\n    .dataframe tbody tr th:only-of-type {\n        vertical-align: middle;\n    }\n\n    .dataframe tbody tr th {\n        vertical-align: top;\n    }\n\n    .dataframe thead th {\n        text-align: right;\n    }\n</style>\n<table border=\"1\" class=\"dataframe\">\n  <thead>\n    <tr style=\"text-align: right;\">\n      <th></th>\n      <th>id</th>\n      <th>name</th>\n      <th>artists</th>\n      <th>duration_ms</th>\n      <th>popularity</th>\n      <th>added_at</th>\n    </tr>\n  </thead>\n  <tbody>\n    <tr>\n      <th>0</th>\n      <td>4LRPiXqCikLlN15c3yImP7</td>\n      <td>As It Was</td>\n      <td>[Harry Styles]</td>\n      <td>167303</td>\n      <td>100</td>\n      <td>2022-05-21T14:54:35Z</td>\n    </tr>\n    <tr>\n      <th>1</th>\n      <td>1PckUlxKqWQs3RlWXVBLw3</td>\n      <td>About Damn Time</td>\n      <td>[Lizzo]</td>\n      <td>191822</td>\n      <td>90</td>\n      <td>2022-05-21T14:54:34Z</td>\n    </tr>\n    <tr>\n      <th>2</th>\n      <td>1rDQ4oMwGJI7B4tovsBOxc</td>\n      <td>First Class</td>\n      <td>[Jack Harlow]</td>\n      <td>173947</td>\n      <td>94</td>\n      <td>2022-05-21T14:54:33Z</td>\n    </tr>\n  </tbody>\n</table>\n</div>"
     },
     "execution_count": 14,
     "metadata": {},
     "output_type": "execute_result"
    }
   ],
   "source": [
    "tracks_df"
   ],
   "metadata": {
    "collapsed": false,
    "pycharm": {
     "name": "#%%\n"
    }
   }
  },
  {
   "cell_type": "code",
   "execution_count": 15,
   "outputs": [],
   "source": [
    "tracks_df['artists'] = tracks_df['artists'].apply(lambda artists: artists[0])\n",
    "tracks_df['duration_ms'] = tracks_df['duration_ms'].apply(lambda duration: duration / 1000)\n",
    "\n",
    "tracks_df = tracks_df.rename(columns={'duration_ms': 'duration_s'})"
   ],
   "metadata": {
    "collapsed": false,
    "pycharm": {
     "name": "#%%\n"
    }
   }
  },
  {
   "cell_type": "code",
   "execution_count": 16,
   "outputs": [
    {
     "data": {
      "text/plain": "                       id             name       artists  duration_s  \\\n0  4LRPiXqCikLlN15c3yImP7        As It Was  Harry Styles     167.303   \n1  1PckUlxKqWQs3RlWXVBLw3  About Damn Time         Lizzo     191.822   \n2  1rDQ4oMwGJI7B4tovsBOxc      First Class   Jack Harlow     173.947   \n\n   popularity              added_at  \n0         100  2022-05-21T14:54:35Z  \n1          90  2022-05-21T14:54:34Z  \n2          94  2022-05-21T14:54:33Z  ",
      "text/html": "<div>\n<style scoped>\n    .dataframe tbody tr th:only-of-type {\n        vertical-align: middle;\n    }\n\n    .dataframe tbody tr th {\n        vertical-align: top;\n    }\n\n    .dataframe thead th {\n        text-align: right;\n    }\n</style>\n<table border=\"1\" class=\"dataframe\">\n  <thead>\n    <tr style=\"text-align: right;\">\n      <th></th>\n      <th>id</th>\n      <th>name</th>\n      <th>artists</th>\n      <th>duration_s</th>\n      <th>popularity</th>\n      <th>added_at</th>\n    </tr>\n  </thead>\n  <tbody>\n    <tr>\n      <th>0</th>\n      <td>4LRPiXqCikLlN15c3yImP7</td>\n      <td>As It Was</td>\n      <td>Harry Styles</td>\n      <td>167.303</td>\n      <td>100</td>\n      <td>2022-05-21T14:54:35Z</td>\n    </tr>\n    <tr>\n      <th>1</th>\n      <td>1PckUlxKqWQs3RlWXVBLw3</td>\n      <td>About Damn Time</td>\n      <td>Lizzo</td>\n      <td>191.822</td>\n      <td>90</td>\n      <td>2022-05-21T14:54:34Z</td>\n    </tr>\n    <tr>\n      <th>2</th>\n      <td>1rDQ4oMwGJI7B4tovsBOxc</td>\n      <td>First Class</td>\n      <td>Jack Harlow</td>\n      <td>173.947</td>\n      <td>94</td>\n      <td>2022-05-21T14:54:33Z</td>\n    </tr>\n  </tbody>\n</table>\n</div>"
     },
     "execution_count": 16,
     "metadata": {},
     "output_type": "execute_result"
    }
   ],
   "source": [
    "tracks_df"
   ],
   "metadata": {
    "collapsed": false,
    "pycharm": {
     "name": "#%%\n"
    }
   }
  },
  {
   "cell_type": "code",
   "execution_count": 20,
   "outputs": [
    {
     "name": "stdout",
     "output_type": "stream",
     "text": [
      "4LRPiXqCikLlN15c3yImP7\n",
      "1PckUlxKqWQs3RlWXVBLw3\n",
      "1rDQ4oMwGJI7B4tovsBOxc\n"
     ]
    }
   ],
   "source": [
    "audio_features = {}\n",
    "\n",
    "for idd in tracks_df['id']:\n",
    "    audio_features[idd] = spotipy_obj.audio_features(idd)[0]"
   ],
   "metadata": {
    "collapsed": false,
    "pycharm": {
     "name": "#%%\n"
    }
   }
  },
  {
   "cell_type": "code",
   "execution_count": 26,
   "outputs": [
    {
     "data": {
      "text/plain": "{'danceability': 0.52,\n 'energy': 0.731,\n 'key': 6,\n 'loudness': -5.338,\n 'mode': 0,\n 'speechiness': 0.0557,\n 'acousticness': 0.342,\n 'instrumentalness': 0.00101,\n 'liveness': 0.311,\n 'valence': 0.662,\n 'tempo': 173.93,\n 'type': 'audio_features',\n 'id': '4LRPiXqCikLlN15c3yImP7',\n 'uri': 'spotify:track:4LRPiXqCikLlN15c3yImP7',\n 'track_href': 'https://api.spotify.com/v1/tracks/4LRPiXqCikLlN15c3yImP7',\n 'analysis_url': 'https://api.spotify.com/v1/audio-analysis/4LRPiXqCikLlN15c3yImP7',\n 'duration_ms': 167303,\n 'time_signature': 4}"
     },
     "execution_count": 26,
     "metadata": {},
     "output_type": "execute_result"
    }
   ],
   "source": [
    "audio_features['4LRPiXqCikLlN15c3yImP7']"
   ],
   "metadata": {
    "collapsed": false,
    "pycharm": {
     "name": "#%%\n"
    }
   }
  },
  {
   "cell_type": "code",
   "execution_count": 23,
   "outputs": [
    {
     "data": {
      "text/plain": "                       id             name       artists  duration_s  \\\n0  4LRPiXqCikLlN15c3yImP7        As It Was  Harry Styles     167.303   \n1  1PckUlxKqWQs3RlWXVBLw3  About Damn Time         Lizzo     191.822   \n2  1rDQ4oMwGJI7B4tovsBOxc      First Class   Jack Harlow     173.947   \n\n   popularity              added_at  \n0         100  2022-05-21T14:54:35Z  \n1          90  2022-05-21T14:54:34Z  \n2          94  2022-05-21T14:54:33Z  ",
      "text/html": "<div>\n<style scoped>\n    .dataframe tbody tr th:only-of-type {\n        vertical-align: middle;\n    }\n\n    .dataframe tbody tr th {\n        vertical-align: top;\n    }\n\n    .dataframe thead th {\n        text-align: right;\n    }\n</style>\n<table border=\"1\" class=\"dataframe\">\n  <thead>\n    <tr style=\"text-align: right;\">\n      <th></th>\n      <th>id</th>\n      <th>name</th>\n      <th>artists</th>\n      <th>duration_s</th>\n      <th>popularity</th>\n      <th>added_at</th>\n    </tr>\n  </thead>\n  <tbody>\n    <tr>\n      <th>0</th>\n      <td>4LRPiXqCikLlN15c3yImP7</td>\n      <td>As It Was</td>\n      <td>Harry Styles</td>\n      <td>167.303</td>\n      <td>100</td>\n      <td>2022-05-21T14:54:35Z</td>\n    </tr>\n    <tr>\n      <th>1</th>\n      <td>1PckUlxKqWQs3RlWXVBLw3</td>\n      <td>About Damn Time</td>\n      <td>Lizzo</td>\n      <td>191.822</td>\n      <td>90</td>\n      <td>2022-05-21T14:54:34Z</td>\n    </tr>\n    <tr>\n      <th>2</th>\n      <td>1rDQ4oMwGJI7B4tovsBOxc</td>\n      <td>First Class</td>\n      <td>Jack Harlow</td>\n      <td>173.947</td>\n      <td>94</td>\n      <td>2022-05-21T14:54:33Z</td>\n    </tr>\n  </tbody>\n</table>\n</div>"
     },
     "execution_count": 23,
     "metadata": {},
     "output_type": "execute_result"
    }
   ],
   "source": [
    "tracks_df"
   ],
   "metadata": {
    "collapsed": false,
    "pycharm": {
     "name": "#%%\n"
    }
   }
  },
  {
   "cell_type": "code",
   "execution_count": 43,
   "outputs": [
    {
     "data": {
      "text/plain": "['valence',\n 'speechiness',\n 'energy',\n 'loudness',\n 'acousticness',\n 'tempo',\n 'liveness',\n 'danceability',\n 'time_signature',\n 'instrumentalness',\n 'key',\n 'mode']"
     },
     "execution_count": 43,
     "metadata": {},
     "output_type": "execute_result"
    }
   ],
   "source": [
    "# 根据需求更改 unneeded_features\n",
    "unneeded_features = {\"type\", \"id\", \"uri\", \"track_href\", \"analysis_url\", \"duration_ms\"}\n",
    "all_features = set(audio_features[set(audio_features.keys()).pop()].keys())\n",
    "reserved_features = list(all_features.difference(unneeded_features))\n",
    "reserved_features"
   ],
   "metadata": {
    "collapsed": false,
    "pycharm": {
     "name": "#%%\n"
    }
   }
  },
  {
   "cell_type": "code",
   "execution_count": 44,
   "outputs": [],
   "source": [
    "for  feature in reserved_features:\n",
    "    tracks_df[feature] = tracks_df['id'].apply(lambda idd: audio_features[idd][feature])"
   ],
   "metadata": {
    "collapsed": false,
    "pycharm": {
     "name": "#%%\n"
    }
   }
  },
  {
   "cell_type": "code",
   "execution_count": 45,
   "outputs": [
    {
     "data": {
      "text/plain": "                       id             name       artists  duration_s  \\\n0  4LRPiXqCikLlN15c3yImP7        As It Was  Harry Styles     167.303   \n1  1PckUlxKqWQs3RlWXVBLw3  About Damn Time         Lizzo     191.822   \n2  1rDQ4oMwGJI7B4tovsBOxc      First Class   Jack Harlow     173.947   \n\n   popularity              added_at  valence  speechiness  energy  loudness  \\\n0         100  2022-05-21T14:54:35Z    0.662       0.0557   0.731    -5.338   \n1          90  2022-05-21T14:54:34Z    0.722       0.0656   0.743    -6.305   \n2          94  2022-05-21T14:54:33Z    0.324       0.1020   0.563    -6.135   \n\n   acousticness    tempo  liveness  danceability  time_signature  \\\n0        0.3420  173.930     0.311         0.520               4   \n1        0.0995  108.966     0.335         0.836               4   \n2        0.0254  106.998     0.113         0.905               4   \n\n   instrumentalness  key  mode  \n0           0.00101    6     0  \n1           0.00000   10     0  \n2           0.00001    8     1  ",
      "text/html": "<div>\n<style scoped>\n    .dataframe tbody tr th:only-of-type {\n        vertical-align: middle;\n    }\n\n    .dataframe tbody tr th {\n        vertical-align: top;\n    }\n\n    .dataframe thead th {\n        text-align: right;\n    }\n</style>\n<table border=\"1\" class=\"dataframe\">\n  <thead>\n    <tr style=\"text-align: right;\">\n      <th></th>\n      <th>id</th>\n      <th>name</th>\n      <th>artists</th>\n      <th>duration_s</th>\n      <th>popularity</th>\n      <th>added_at</th>\n      <th>valence</th>\n      <th>speechiness</th>\n      <th>energy</th>\n      <th>loudness</th>\n      <th>acousticness</th>\n      <th>tempo</th>\n      <th>liveness</th>\n      <th>danceability</th>\n      <th>time_signature</th>\n      <th>instrumentalness</th>\n      <th>key</th>\n      <th>mode</th>\n    </tr>\n  </thead>\n  <tbody>\n    <tr>\n      <th>0</th>\n      <td>4LRPiXqCikLlN15c3yImP7</td>\n      <td>As It Was</td>\n      <td>Harry Styles</td>\n      <td>167.303</td>\n      <td>100</td>\n      <td>2022-05-21T14:54:35Z</td>\n      <td>0.662</td>\n      <td>0.0557</td>\n      <td>0.731</td>\n      <td>-5.338</td>\n      <td>0.3420</td>\n      <td>173.930</td>\n      <td>0.311</td>\n      <td>0.520</td>\n      <td>4</td>\n      <td>0.00101</td>\n      <td>6</td>\n      <td>0</td>\n    </tr>\n    <tr>\n      <th>1</th>\n      <td>1PckUlxKqWQs3RlWXVBLw3</td>\n      <td>About Damn Time</td>\n      <td>Lizzo</td>\n      <td>191.822</td>\n      <td>90</td>\n      <td>2022-05-21T14:54:34Z</td>\n      <td>0.722</td>\n      <td>0.0656</td>\n      <td>0.743</td>\n      <td>-6.305</td>\n      <td>0.0995</td>\n      <td>108.966</td>\n      <td>0.335</td>\n      <td>0.836</td>\n      <td>4</td>\n      <td>0.00000</td>\n      <td>10</td>\n      <td>0</td>\n    </tr>\n    <tr>\n      <th>2</th>\n      <td>1rDQ4oMwGJI7B4tovsBOxc</td>\n      <td>First Class</td>\n      <td>Jack Harlow</td>\n      <td>173.947</td>\n      <td>94</td>\n      <td>2022-05-21T14:54:33Z</td>\n      <td>0.324</td>\n      <td>0.1020</td>\n      <td>0.563</td>\n      <td>-6.135</td>\n      <td>0.0254</td>\n      <td>106.998</td>\n      <td>0.113</td>\n      <td>0.905</td>\n      <td>4</td>\n      <td>0.00001</td>\n      <td>8</td>\n      <td>1</td>\n    </tr>\n  </tbody>\n</table>\n</div>"
     },
     "execution_count": 45,
     "metadata": {},
     "output_type": "execute_result"
    }
   ],
   "source": [
    "tracks_df"
   ],
   "metadata": {
    "collapsed": false,
    "pycharm": {
     "name": "#%%\n"
    }
   }
  },
  {
   "cell_type": "markdown",
   "source": [
    "### 完整API Class"
   ],
   "metadata": {
    "collapsed": false,
    "pycharm": {
     "name": "#%% md\n"
    }
   }
  },
  {
   "cell_type": "code",
   "execution_count": 47,
   "outputs": [],
   "source": [
    "import sys\n",
    "\n",
    "import pandas as pd\n",
    "import spotipy\n",
    "from spotipy.oauth2 import SpotifyOAuth\n",
    "\n",
    "\n",
    "class SpotifyApi:\n",
    "    def __init__(self, client_id, client_secret, redirect_uri, scope):\n",
    "        self.client_id = client_id\n",
    "        self.client_secret = client_secret\n",
    "        self.redirect_uri = redirect_uri\n",
    "        self.scope = scope\n",
    "\n",
    "    def connect_to_spotify(self):\n",
    "        token = SpotifyOAuth(client_id=self.client_id,\n",
    "                             client_secret=self.client_secret,\n",
    "                             redirect_uri=self.redirect_uri,\n",
    "                             scope=self.scope)\n",
    "        # print(token)\n",
    "        if not token:\n",
    "            sys.exit('Authorization failed')\n",
    "        sp = spotipy.Spotify(auth_manager=token)\n",
    "        return sp\n",
    "\n",
    "    # 只保存有用的字段数据\n",
    "    def _save_only_some_fields(self, track_response):\n",
    "        return {\n",
    "            'id': str(track_response['track']['id']),\n",
    "            'name': str(track_response['track']['name']),\n",
    "            'artists': [artist['name'] for artist in track_response['track']['artists']],\n",
    "            'duration_ms': track_response['track']['duration_ms'],\n",
    "            'popularity': track_response['track']['popularity'],\n",
    "            'added_at': track_response['added_at']\n",
    "        }\n",
    "\n",
    "    def _add_other_features(self, spotipy_obj, tracks_df):\n",
    "        # generate features  dict\n",
    "        audio_features = {}\n",
    "        for idd in tracks_df['id']:\n",
    "            audio_features[idd] = spotipy_obj.audio_features(idd)[0]\n",
    "\n",
    "        # 根据需求更改 unneeded_features\n",
    "        unneeded_features = {\"type\", \"id\", \"uri\", \"track_href\", \"analysis_url\", \"duration_ms\"}\n",
    "        all_features = set(audio_features[set(audio_features.keys()).pop()].keys())\n",
    "        reserved_features = list(all_features.difference(unneeded_features))\n",
    "        # print(reserved_features)\n",
    "\n",
    "        for feature in reserved_features:\n",
    "            tracks_df[feature] = tracks_df['id'].apply(lambda idd: audio_features[idd][feature])\n",
    "\n",
    "        return tracks_df\n",
    "\n",
    "    def get_track_df(self, max_query_num):\n",
    "        \"\"\"\n",
    "        :param max_query_num: Get the max number of the current user's favorite track list.\n",
    "        :return: DataFrame : User's favorite songs and corresponding features\n",
    "        \"\"\"\n",
    "        # 连接到spotify并获得操作对象\n",
    "        spotipy_obj = self.connect_to_spotify()\n",
    "        # 根据操作对象获取当前用户所收藏的曲目列表【limit：最多查询 max_query_num 首】\n",
    "        saved_tracks_resp = spotipy_obj.current_user_saved_tracks(limit=max_query_num)\n",
    "\n",
    "        # 输出用户当前收藏的音乐数（小于等于max_query_num）\n",
    "        # number_of_tracks = saved_tracks_resp[\"total\"]\n",
    "        # print(\"共获取 %d 首音乐\" % number_of_tracks)\n",
    "\n",
    "        tracks = [self._save_only_some_fields(track) for track in saved_tracks_resp['items']]\n",
    "\n",
    "        # 可选项\n",
    "        while saved_tracks_resp['next']:\n",
    "            saved_tracks_resp = spotipy_obj.next(saved_tracks_resp)\n",
    "            tracks.extend([self._save_only_some_fields(track) for track in saved_tracks_resp['items']])\n",
    "\n",
    "        # 转换为DataFrame\n",
    "        tracks_df = pd.DataFrame(tracks)\n",
    "        # 转换列的数据\n",
    "        tracks_df['artists'] = tracks_df['artists'].apply(lambda artists: artists[0])\n",
    "        tracks_df['duration_ms'] = tracks_df['duration_ms'].apply(lambda duration: duration / 1000)\n",
    "        tracks_df = tracks_df.rename(columns={'duration_ms': 'duration_s'})\n",
    "\n",
    "        return self._add_other_features(spotipy_obj, tracks_df)"
   ],
   "metadata": {
    "collapsed": false,
    "pycharm": {
     "name": "#%%\n"
    }
   }
  },
  {
   "cell_type": "code",
   "execution_count": 48,
   "outputs": [
    {
     "data": {
      "text/plain": "                       id             name       artists  duration_s  \\\n0  4LRPiXqCikLlN15c3yImP7        As It Was  Harry Styles     167.303   \n1  1PckUlxKqWQs3RlWXVBLw3  About Damn Time         Lizzo     191.822   \n2  1rDQ4oMwGJI7B4tovsBOxc      First Class   Jack Harlow     173.947   \n\n   popularity              added_at  valence  speechiness  energy  loudness  \\\n0         100  2022-05-21T14:54:35Z    0.662       0.0557   0.731    -5.338   \n1          90  2022-05-21T14:54:34Z    0.722       0.0656   0.743    -6.305   \n2          94  2022-05-21T14:54:33Z    0.324       0.1020   0.563    -6.135   \n\n   acousticness    tempo  liveness  danceability  time_signature  \\\n0        0.3420  173.930     0.311         0.520               4   \n1        0.0995  108.966     0.335         0.836               4   \n2        0.0254  106.998     0.113         0.905               4   \n\n   instrumentalness  key  mode  \n0           0.00101    6     0  \n1           0.00000   10     0  \n2           0.00001    8     1  ",
      "text/html": "<div>\n<style scoped>\n    .dataframe tbody tr th:only-of-type {\n        vertical-align: middle;\n    }\n\n    .dataframe tbody tr th {\n        vertical-align: top;\n    }\n\n    .dataframe thead th {\n        text-align: right;\n    }\n</style>\n<table border=\"1\" class=\"dataframe\">\n  <thead>\n    <tr style=\"text-align: right;\">\n      <th></th>\n      <th>id</th>\n      <th>name</th>\n      <th>artists</th>\n      <th>duration_s</th>\n      <th>popularity</th>\n      <th>added_at</th>\n      <th>valence</th>\n      <th>speechiness</th>\n      <th>energy</th>\n      <th>loudness</th>\n      <th>acousticness</th>\n      <th>tempo</th>\n      <th>liveness</th>\n      <th>danceability</th>\n      <th>time_signature</th>\n      <th>instrumentalness</th>\n      <th>key</th>\n      <th>mode</th>\n    </tr>\n  </thead>\n  <tbody>\n    <tr>\n      <th>0</th>\n      <td>4LRPiXqCikLlN15c3yImP7</td>\n      <td>As It Was</td>\n      <td>Harry Styles</td>\n      <td>167.303</td>\n      <td>100</td>\n      <td>2022-05-21T14:54:35Z</td>\n      <td>0.662</td>\n      <td>0.0557</td>\n      <td>0.731</td>\n      <td>-5.338</td>\n      <td>0.3420</td>\n      <td>173.930</td>\n      <td>0.311</td>\n      <td>0.520</td>\n      <td>4</td>\n      <td>0.00101</td>\n      <td>6</td>\n      <td>0</td>\n    </tr>\n    <tr>\n      <th>1</th>\n      <td>1PckUlxKqWQs3RlWXVBLw3</td>\n      <td>About Damn Time</td>\n      <td>Lizzo</td>\n      <td>191.822</td>\n      <td>90</td>\n      <td>2022-05-21T14:54:34Z</td>\n      <td>0.722</td>\n      <td>0.0656</td>\n      <td>0.743</td>\n      <td>-6.305</td>\n      <td>0.0995</td>\n      <td>108.966</td>\n      <td>0.335</td>\n      <td>0.836</td>\n      <td>4</td>\n      <td>0.00000</td>\n      <td>10</td>\n      <td>0</td>\n    </tr>\n    <tr>\n      <th>2</th>\n      <td>1rDQ4oMwGJI7B4tovsBOxc</td>\n      <td>First Class</td>\n      <td>Jack Harlow</td>\n      <td>173.947</td>\n      <td>94</td>\n      <td>2022-05-21T14:54:33Z</td>\n      <td>0.324</td>\n      <td>0.1020</td>\n      <td>0.563</td>\n      <td>-6.135</td>\n      <td>0.0254</td>\n      <td>106.998</td>\n      <td>0.113</td>\n      <td>0.905</td>\n      <td>4</td>\n      <td>0.00001</td>\n      <td>8</td>\n      <td>1</td>\n    </tr>\n  </tbody>\n</table>\n</div>"
     },
     "execution_count": 48,
     "metadata": {},
     "output_type": "execute_result"
    }
   ],
   "source": [
    "# 设置spotipy应用接口参数   me\n",
    "CLIENT_ID = \"85abc35b96044909a7f9271e944604c7\"\n",
    "CLIENT_SECRET = \"87da784091c94768997ba35ae54c995f\"\n",
    "REDIRECT_URI = \"https://cn.bing.com/\"\n",
    "SCOPE = \"user-library-read\"\n",
    "\n",
    "# 获取SpotifyApi对象\n",
    "sp_api = SpotifyApi(CLIENT_ID, CLIENT_SECRET, REDIRECT_URI, SCOPE)\n",
    "# 根据操作对象获取当前用户所收藏的曲目列表【最多查询50首】\n",
    "song_data = sp_api.get_track_df(max_query_num=50)\n",
    "song_data"
   ],
   "metadata": {
    "collapsed": false,
    "pycharm": {
     "name": "#%%\n"
    }
   }
  },
  {
   "cell_type": "code",
   "execution_count": null,
   "outputs": [],
   "source": [],
   "metadata": {
    "collapsed": false,
    "pycharm": {
     "name": "#%%\n"
    }
   }
  }
 ],
 "metadata": {
  "kernelspec": {
   "name": "ml",
   "language": "python",
   "display_name": "ml"
  },
  "language_info": {
   "codemirror_mode": {
    "name": "ipython",
    "version": 2
   },
   "file_extension": ".py",
   "mimetype": "text/x-python",
   "name": "python",
   "nbconvert_exporter": "python",
   "pygments_lexer": "ipython2",
   "version": "2.7.6"
  }
 },
 "nbformat": 4,
 "nbformat_minor": 0
}